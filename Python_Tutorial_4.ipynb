{
  "nbformat": 4,
  "nbformat_minor": 0,
  "metadata": {
    "colab": {
      "name": "Python_Tutorial_4.ipynb",
      "version": "0.3.2",
      "provenance": [],
      "collapsed_sections": []
    },
    "kernelspec": {
      "name": "python3",
      "display_name": "Python 3"
    }
  },
  "cells": [
    {
      "cell_type": "markdown",
      "metadata": {
        "id": "lTJFDKLwgYpZ",
        "colab_type": "text"
      },
      "source": [
        "### Tutorial 4 (Date 16 Sep, 2019)\n",
        "\n",
        "Today's Attendance: https://forms.gle/96oV9dG7RGc7ug6R9\n",
        "\n",
        "Today's Notebook link: https://bit.ly/2mi0KW7\n",
        "\n",
        "Topics\n",
        "- Google NGram Viewer\n",
        "- Constituency Parsers\n",
        "- Dependency Parsers\n",
        "- Tree Searching\n",
        "\n",
        "References: A lot of the content in today's notebook is taken from Jurafsky and Martin's book, Chapter 12: \n",
        "\n",
        "https://web.stanford.edu/~jurafsky/slp3/12.pdf\n",
        "\n",
        "\n",
        "\n"
      ]
    },
    {
      "cell_type": "markdown",
      "metadata": {
        "id": "mdv4lgBOgnvO",
        "colab_type": "text"
      },
      "source": [
        "# 1. Google N-gram Viewer"
      ]
    },
    {
      "cell_type": "markdown",
      "metadata": {
        "id": "aMkdU0EMm1fv",
        "colab_type": "text"
      },
      "source": [
        "https://books.google.com/ngrams/"
      ]
    },
    {
      "cell_type": "markdown",
      "metadata": {
        "id": "DVv-6qGnm6ty",
        "colab_type": "text"
      },
      "source": [
        "Lets you see the relative frequencies of different n-grams in some particular corpus for a specified range of time."
      ]
    },
    {
      "cell_type": "markdown",
      "metadata": {
        "id": "JnBYDyLsnEWP",
        "colab_type": "text"
      },
      "source": [
        "It has some advanced features as well:\n",
        "- **Wildcard search** : Replace any word with a * and it will substitute it with the top ten replacements by freq\n",
        "- **Inflection search** : Concatenate \"_INF\" to any word to show its different inflections\n",
        "- **Case-insenstive search** : Use the check-box\n",
        "\n",
        "Mixing different inflections for a single ngram is not allowed:\n",
        "\n",
        "(for eg: book_INF * hotel), \n",
        "\n",
        "but you can use it for a different grams \n",
        "\n",
        "(for eg: book_INF a hotel, book * a hotel)\n",
        "\n",
        "For more details, check this page: https://books.google.com/ngrams/info"
      ]
    },
    {
      "cell_type": "markdown",
      "metadata": {
        "id": "s5s85-bHnSzx",
        "colab_type": "text"
      },
      "source": [
        "# 2. Constituency Parsers"
      ]
    },
    {
      "cell_type": "markdown",
      "metadata": {
        "id": "GX078byz3VJt",
        "colab_type": "text"
      },
      "source": [
        "Jurafsky and Martin's book defines syntactic parsing as:\n",
        "\n",
        "\"Syntactic parsing is the task of recognizing a sentence and assigning a syntactic\n",
        "structure to it.\"\""
      ]
    },
    {
      "cell_type": "markdown",
      "metadata": {
        "id": "EiHH0Wj14Q0R",
        "colab_type": "text"
      },
      "source": [
        "An example of a constituency tree is as follows:\n",
        "\n",
        "Consider the sentence:\n",
        "\n",
        "John sees Bill."
      ]
    },
    {
      "cell_type": "markdown",
      "metadata": {
        "id": "6BxDz3My742Z",
        "colab_type": "text"
      },
      "source": [
        "Some online demos for syntactic parsing: \n",
        "\n",
        " - Enju: http://www.nactem.ac.uk/enju/demo.html\n",
        " - AllenNLP: https://demo.allennlp.org/constituency-parsing/"
      ]
    },
    {
      "cell_type": "code",
      "metadata": {
        "id": "Ead8v5M74jIJ",
        "colab_type": "code",
        "colab": {}
      },
      "source": [
        "## Consituency Tree for \"John see Bill\"\n",
        "string= '''\n",
        "            Sentence (S)\n",
        "                 |\n",
        "   +-------------+------------+\n",
        "   |                          |\n",
        " Noun (N)                Verb Phrase (VP)\n",
        "   |                          |\n",
        " John                 +-------+--------+\n",
        "                      |                |\n",
        "                    Verb (V)         Noun (N)\n",
        "                      |                |\n",
        "                    sees              Bill\n",
        "\n",
        "\n",
        "'''"
      ],
      "execution_count": 0,
      "outputs": []
    },
    {
      "cell_type": "code",
      "metadata": {
        "id": "-zbnRXJJ5KwZ",
        "colab_type": "code",
        "colab": {
          "base_uri": "https://localhost:8080/",
          "height": 272
        },
        "outputId": "6d129cfd-b2ef-4cf4-d499-a558743f5423"
      },
      "source": [
        "print(string)"
      ],
      "execution_count": 9,
      "outputs": [
        {
          "output_type": "stream",
          "text": [
            "\n",
            "            Sentence (S)\n",
            "                 |\n",
            "   +-------------+------------+\n",
            "   |                          |\n",
            " Noun (N)                Verb Phrase (VP)\n",
            "   |                          |\n",
            " John                 +-------+--------+\n",
            "                      |                |\n",
            "                    Verb (V)         Noun (N)\n",
            "                      |                |\n",
            "                    sees              Bill\n",
            "\n",
            "\n",
            "\n"
          ],
          "name": "stdout"
        }
      ]
    },
    {
      "cell_type": "markdown",
      "metadata": {
        "id": "pvXI0eza6dG8",
        "colab_type": "text"
      },
      "source": [
        "These parses are defined based on some phrase structure grammar such as:\n",
        "\n",
        "S -> NP VP\n",
        "\n",
        "NP -> N\n",
        "\n",
        "VP -> V N\n",
        "\n",
        "N -> John\n",
        "\n",
        "V -> sees\n",
        "\n",
        "N -> Bill\n",
        "  "
      ]
    },
    {
      "cell_type": "markdown",
      "metadata": {
        "id": "iRf5Mb6D5LJt",
        "colab_type": "text"
      },
      "source": [
        "#### Constituency trees have some direct useful applications\n",
        "- grammar checking (a sentence that cannot be parsed may have grammatical errors). \n",
        "\n"
      ]
    },
    {
      "cell_type": "markdown",
      "metadata": {
        "id": "M1aBtlui6UNB",
        "colab_type": "text"
      },
      "source": [
        "\n",
        "- intermediate representation for semantic analysis, which is then useful in applications such as Question Answering (QA), Information Extraction (IE) etc.\n",
        "\n"
      ]
    },
    {
      "cell_type": "markdown",
      "metadata": {
        "id": "ZVV2XIFp8agI",
        "colab_type": "text"
      },
      "source": [
        "**Grammar checking example**: \n",
        "\n",
        "\"sees John Bill\" may not give any parse that has a sentence structure. \n",
        "\n",
        "Let's try this here: https://demo.allennlp.org/constituency-parsing/\n",
        " \n",
        "**QA example**\n",
        "\n",
        "Consider the example provided in Jurafsky and Martin's book Chapter 12:\n",
        "\n",
        "\"What books were written by British women authors before 1800?\"\n",
        "\n",
        "To answer this question, we need to know that the subject of this sentence is \"what books\" and \"british women authors\" is a by-adjunct, so that the answer is extracted as a list of books and not a list of British women authors. \n",
        "\n"
      ]
    },
    {
      "cell_type": "markdown",
      "metadata": {
        "id": "JnPgnHlI8gk-",
        "colab_type": "text"
      },
      "source": [
        "### Ambiguity Issue in Parsing"
      ]
    },
    {
      "cell_type": "markdown",
      "metadata": {
        "id": "63QYVJLM_8xb",
        "colab_type": "text"
      },
      "source": [
        "There could be multiple valid syntactic parses which result to different interpretation in meaning.\n"
      ]
    },
    {
      "cell_type": "code",
      "metadata": {
        "id": "PR7kY9JQCfKf",
        "colab_type": "code",
        "colab": {
          "base_uri": "https://localhost:8080/",
          "height": 173
        },
        "outputId": "4a140551-f833-43a3-8913-049a0c575882"
      },
      "source": [
        "import nltk\n",
        "!pip install svgling ## A package for drawing linguistic-style const tree into SVG\n",
        "import svgling"
      ],
      "execution_count": 8,
      "outputs": [
        {
          "output_type": "stream",
          "text": [
            "Collecting svgling\n",
            "  Downloading https://files.pythonhosted.org/packages/19/d2/fe75c4143627391d055420cc25f3e278123b4df0cbaee61da72332cc38b0/svgling-0.3.0-py3-none-any.whl\n",
            "Collecting svgwrite (from svgling)\n",
            "\u001b[?25l  Downloading https://files.pythonhosted.org/packages/4f/2e/f36cfec1da6162055b884e6366074cff18475a9538559ceae0c0bc58e186/svgwrite-1.3.1-py2.py3-none-any.whl (67kB)\n",
            "\u001b[K     |████████████████████████████████| 71kB 4.3MB/s \n",
            "\u001b[?25hRequirement already satisfied: pyparsing>=2.0.1 in /usr/local/lib/python3.6/dist-packages (from svgwrite->svgling) (2.4.2)\n",
            "Installing collected packages: svgwrite, svgling\n",
            "Successfully installed svgling-0.3.0 svgwrite-1.3.1\n"
          ],
          "name": "stdout"
        }
      ]
    },
    {
      "cell_type": "markdown",
      "metadata": {
        "id": "VBCi8yNxGX2e",
        "colab_type": "text"
      },
      "source": [
        "Let's define a simple grammar for parsing an example sentence.\n",
        "\n",
        "\n",
        "Example taken from : https://www.nltk.org/book/ch08.html#ex-elephant"
      ]
    },
    {
      "cell_type": "code",
      "metadata": {
        "id": "Tj-wBBbCCn4F",
        "colab_type": "code",
        "colab": {}
      },
      "source": [
        "groucho_grammar = nltk.CFG.fromstring(\"\"\"\n",
        "... S -> NP VP\n",
        "... PP -> P NP\n",
        "... NP -> Det N | Det N PP | 'I'\n",
        "... VP -> V NP | VP PP\n",
        "... Det -> 'an' | 'my'\n",
        "... N -> 'elephant' | 'pajamas'\n",
        "... V -> 'shot'\n",
        "... P -> 'in'\n",
        "... \"\"\")\n",
        "\n"
      ],
      "execution_count": 0,
      "outputs": []
    },
    {
      "cell_type": "code",
      "metadata": {
        "id": "rzShNHjjBs-F",
        "colab_type": "code",
        "colab": {
          "base_uri": "https://localhost:8080/",
          "height": 34
        },
        "outputId": "b5acb450-ba62-451b-9f4c-add6db8964a7"
      },
      "source": [
        "sent = ['I', 'shot', 'an', 'elephant', 'in', 'my', 'pajamas']\n",
        "parser = nltk.ChartParser(groucho_grammar)\n",
        "\n",
        "trees = [tree for tree in parser.parse(sent)]\n",
        "print(\"Number of valid trees as per the current grammar: {}\".format(len(trees)))"
      ],
      "execution_count": 29,
      "outputs": [
        {
          "output_type": "stream",
          "text": [
            "Number of valid trees as per the current grammar: 2\n"
          ],
          "name": "stdout"
        }
      ]
    },
    {
      "cell_type": "code",
      "metadata": {
        "id": "0r_u68YLCeW-",
        "colab_type": "code",
        "colab": {
          "base_uri": "https://localhost:8080/",
          "height": 302
        },
        "outputId": "e74892c9-0179-4484-f60b-3af33bd69df7"
      },
      "source": [
        "print(\"Tree 1\")\n",
        "svgling.draw_tree(trees[0])"
      ],
      "execution_count": 35,
      "outputs": [
        {
          "output_type": "stream",
          "text": [
            "Tree 1\n"
          ],
          "name": "stdout"
        },
        {
          "output_type": "execute_result",
          "data": {
            "text/plain": [
              "TreeLayout(Tree('S', [Tree('NP', ['I']), Tree('VP', [Tree('VP', [Tree('V', ['shot']), Tree('NP', [Tree('Det', ['an']), Tree('N', ['elephant'])])]), Tree('PP', [Tree('P', ['in']), Tree('NP', [Tree('Det', ['my']), Tree('N', ['pajamas'])])])])]))"
            ],
            "image/svg+xml": "<svg baseProfile=\"full\" height=\"264px\" preserveAspectRatio=\"xMidYMid meet\" style=\"font-family: times, serif; font-weight:normal; font-style: normal; font-size: 16px;\" version=\"1.1\" viewBox=\"0,0,344.0,264.0\" width=\"344px\" xmlns=\"http://www.w3.org/2000/svg\" xmlns:ev=\"http://www.w3.org/2001/xml-events\" xmlns:xlink=\"http://www.w3.org/1999/xlink\"><defs /><svg width=\"100%\" x=\"0\" y=\"0em\"><defs /><text text-anchor=\"middle\" x=\"50%\" y=\"1em\">S</text></svg><svg width=\"9.30233%\" x=\"0%\" y=\"3em\"><defs /><svg width=\"100%\" x=\"0\" y=\"0em\"><defs /><text text-anchor=\"middle\" x=\"50%\" y=\"1em\">NP</text></svg><svg width=\"100%\" x=\"0%\" y=\"3em\"><defs /><svg width=\"100%\" x=\"0\" y=\"0em\"><defs /><text text-anchor=\"middle\" x=\"50%\" y=\"1em\">I</text></svg></svg><line stroke=\"black\" x1=\"50%\" x2=\"50%\" y1=\"1.2em\" y2=\"3em\" /></svg><line stroke=\"black\" x1=\"50%\" x2=\"4.65116%\" y1=\"1.2em\" y2=\"3em\" /><svg width=\"90.6977%\" x=\"9.30233%\" y=\"3em\"><defs /><svg width=\"100%\" x=\"0\" y=\"0em\"><defs /><text text-anchor=\"middle\" x=\"50%\" y=\"1em\">VP</text></svg><svg width=\"53.8462%\" x=\"0%\" y=\"3em\"><defs /><svg width=\"100%\" x=\"0\" y=\"0em\"><defs /><text text-anchor=\"middle\" x=\"50%\" y=\"1em\">VP</text></svg><svg width=\"28.5714%\" x=\"0%\" y=\"3em\"><defs /><svg width=\"100%\" x=\"0\" y=\"0em\"><defs /><text text-anchor=\"middle\" x=\"50%\" y=\"1em\">V</text></svg><svg width=\"100%\" x=\"0%\" y=\"3em\"><defs /><svg width=\"100%\" x=\"0\" y=\"0em\"><defs /><text text-anchor=\"middle\" x=\"50%\" y=\"1em\">shot</text></svg></svg><line stroke=\"black\" x1=\"50%\" x2=\"50%\" y1=\"1.2em\" y2=\"3em\" /></svg><line stroke=\"black\" x1=\"50%\" x2=\"14.2857%\" y1=\"1.2em\" y2=\"3em\" /><svg width=\"71.4286%\" x=\"28.5714%\" y=\"3em\"><defs /><svg width=\"100%\" x=\"0\" y=\"0em\"><defs /><text text-anchor=\"middle\" x=\"50%\" y=\"1em\">NP</text></svg><svg width=\"33.3333%\" x=\"0%\" y=\"3em\"><defs /><svg width=\"100%\" x=\"0\" y=\"0em\"><defs /><text text-anchor=\"middle\" x=\"50%\" y=\"1em\">Det</text></svg><svg width=\"100%\" x=\"0%\" y=\"3em\"><defs /><svg width=\"100%\" x=\"0\" y=\"0em\"><defs /><text text-anchor=\"middle\" x=\"50%\" y=\"1em\">an</text></svg></svg><line stroke=\"black\" x1=\"50%\" x2=\"50%\" y1=\"1.2em\" y2=\"3em\" /></svg><line stroke=\"black\" x1=\"50%\" x2=\"16.6667%\" y1=\"1.2em\" y2=\"3em\" /><svg width=\"66.6667%\" x=\"33.3333%\" y=\"3em\"><defs /><svg width=\"100%\" x=\"0\" y=\"0em\"><defs /><text text-anchor=\"middle\" x=\"50%\" y=\"1em\">N</text></svg><svg width=\"100%\" x=\"0%\" y=\"3em\"><defs /><svg width=\"100%\" x=\"0\" y=\"0em\"><defs /><text text-anchor=\"middle\" x=\"50%\" y=\"1em\">elephant</text></svg></svg><line stroke=\"black\" x1=\"50%\" x2=\"50%\" y1=\"1.2em\" y2=\"3em\" /></svg><line stroke=\"black\" x1=\"50%\" x2=\"66.6667%\" y1=\"1.2em\" y2=\"3em\" /></svg><line stroke=\"black\" x1=\"50%\" x2=\"64.2857%\" y1=\"1.2em\" y2=\"3em\" /></svg><line stroke=\"black\" x1=\"50%\" x2=\"26.9231%\" y1=\"1.2em\" y2=\"3em\" /><svg width=\"46.1538%\" x=\"53.8462%\" y=\"3em\"><defs /><svg width=\"100%\" x=\"0\" y=\"0em\"><defs /><text text-anchor=\"middle\" x=\"50%\" y=\"1em\">PP</text></svg><svg width=\"22.2222%\" x=\"0%\" y=\"3em\"><defs /><svg width=\"100%\" x=\"0\" y=\"0em\"><defs /><text text-anchor=\"middle\" x=\"50%\" y=\"1em\">P</text></svg><svg width=\"100%\" x=\"0%\" y=\"3em\"><defs /><svg width=\"100%\" x=\"0\" y=\"0em\"><defs /><text text-anchor=\"middle\" x=\"50%\" y=\"1em\">in</text></svg></svg><line stroke=\"black\" x1=\"50%\" x2=\"50%\" y1=\"1.2em\" y2=\"3em\" /></svg><line stroke=\"black\" x1=\"50%\" x2=\"11.1111%\" y1=\"1.2em\" y2=\"3em\" /><svg width=\"77.7778%\" x=\"22.2222%\" y=\"3em\"><defs /><svg width=\"100%\" x=\"0\" y=\"0em\"><defs /><text text-anchor=\"middle\" x=\"50%\" y=\"1em\">NP</text></svg><svg width=\"35.7143%\" x=\"0%\" y=\"3em\"><defs /><svg width=\"100%\" x=\"0\" y=\"0em\"><defs /><text text-anchor=\"middle\" x=\"50%\" y=\"1em\">Det</text></svg><svg width=\"100%\" x=\"0%\" y=\"3em\"><defs /><svg width=\"100%\" x=\"0\" y=\"0em\"><defs /><text text-anchor=\"middle\" x=\"50%\" y=\"1em\">my</text></svg></svg><line stroke=\"black\" x1=\"50%\" x2=\"50%\" y1=\"1.2em\" y2=\"3em\" /></svg><line stroke=\"black\" x1=\"50%\" x2=\"17.8571%\" y1=\"1.2em\" y2=\"3em\" /><svg width=\"64.2857%\" x=\"35.7143%\" y=\"3em\"><defs /><svg width=\"100%\" x=\"0\" y=\"0em\"><defs /><text text-anchor=\"middle\" x=\"50%\" y=\"1em\">N</text></svg><svg width=\"100%\" x=\"0%\" y=\"3em\"><defs /><svg width=\"100%\" x=\"0\" y=\"0em\"><defs /><text text-anchor=\"middle\" x=\"50%\" y=\"1em\">pajamas</text></svg></svg><line stroke=\"black\" x1=\"50%\" x2=\"50%\" y1=\"1.2em\" y2=\"3em\" /></svg><line stroke=\"black\" x1=\"50%\" x2=\"67.8571%\" y1=\"1.2em\" y2=\"3em\" /></svg><line stroke=\"black\" x1=\"50%\" x2=\"61.1111%\" y1=\"1.2em\" y2=\"3em\" /></svg><line stroke=\"black\" x1=\"50%\" x2=\"76.9231%\" y1=\"1.2em\" y2=\"3em\" /></svg><line stroke=\"black\" x1=\"50%\" x2=\"54.6512%\" y1=\"1.2em\" y2=\"3em\" /></svg>"
          },
          "metadata": {
            "tags": []
          },
          "execution_count": 35
        }
      ]
    },
    {
      "cell_type": "code",
      "metadata": {
        "id": "YN2jB7sWCwyk",
        "colab_type": "code",
        "colab": {
          "base_uri": "https://localhost:8080/",
          "height": 350
        },
        "outputId": "8ea6abe9-a614-4e95-ad93-aaafdd25f1ad"
      },
      "source": [
        "print(\"Tree 2\")\n",
        "svgling.draw_tree(trees[1])"
      ],
      "execution_count": 34,
      "outputs": [
        {
          "output_type": "stream",
          "text": [
            "Tree 2\n"
          ],
          "name": "stdout"
        },
        {
          "output_type": "execute_result",
          "data": {
            "text/plain": [
              "TreeLayout(Tree('S', [Tree('NP', ['I']), Tree('VP', [Tree('V', ['shot']), Tree('NP', [Tree('Det', ['an']), Tree('N', ['elephant']), Tree('PP', [Tree('P', ['in']), Tree('NP', [Tree('Det', ['my']), Tree('N', ['pajamas'])])])])])]))"
            ],
            "image/svg+xml": "<svg baseProfile=\"full\" height=\"312px\" preserveAspectRatio=\"xMidYMid meet\" style=\"font-family: times, serif; font-weight:normal; font-style: normal; font-size: 16px;\" version=\"1.1\" viewBox=\"0,0,344.0,312.0\" width=\"344px\" xmlns=\"http://www.w3.org/2000/svg\" xmlns:ev=\"http://www.w3.org/2001/xml-events\" xmlns:xlink=\"http://www.w3.org/1999/xlink\"><defs /><svg width=\"100%\" x=\"0\" y=\"0em\"><defs /><text text-anchor=\"middle\" x=\"50%\" y=\"1em\">S</text></svg><svg width=\"9.30233%\" x=\"0%\" y=\"3em\"><defs /><svg width=\"100%\" x=\"0\" y=\"0em\"><defs /><text text-anchor=\"middle\" x=\"50%\" y=\"1em\">NP</text></svg><svg width=\"100%\" x=\"0%\" y=\"3em\"><defs /><svg width=\"100%\" x=\"0\" y=\"0em\"><defs /><text text-anchor=\"middle\" x=\"50%\" y=\"1em\">I</text></svg></svg><line stroke=\"black\" x1=\"50%\" x2=\"50%\" y1=\"1.2em\" y2=\"3em\" /></svg><line stroke=\"black\" x1=\"50%\" x2=\"4.65116%\" y1=\"1.2em\" y2=\"3em\" /><svg width=\"90.6977%\" x=\"9.30233%\" y=\"3em\"><defs /><svg width=\"100%\" x=\"0\" y=\"0em\"><defs /><text text-anchor=\"middle\" x=\"50%\" y=\"1em\">VP</text></svg><svg width=\"15.3846%\" x=\"0%\" y=\"3em\"><defs /><svg width=\"100%\" x=\"0\" y=\"0em\"><defs /><text text-anchor=\"middle\" x=\"50%\" y=\"1em\">V</text></svg><svg width=\"100%\" x=\"0%\" y=\"3em\"><defs /><svg width=\"100%\" x=\"0\" y=\"0em\"><defs /><text text-anchor=\"middle\" x=\"50%\" y=\"1em\">shot</text></svg></svg><line stroke=\"black\" x1=\"50%\" x2=\"50%\" y1=\"1.2em\" y2=\"3em\" /></svg><line stroke=\"black\" x1=\"50%\" x2=\"7.69231%\" y1=\"1.2em\" y2=\"3em\" /><svg width=\"84.6154%\" x=\"15.3846%\" y=\"3em\"><defs /><svg width=\"100%\" x=\"0\" y=\"0em\"><defs /><text text-anchor=\"middle\" x=\"50%\" y=\"1em\">NP</text></svg><svg width=\"15.1515%\" x=\"0%\" y=\"3em\"><defs /><svg width=\"100%\" x=\"0\" y=\"0em\"><defs /><text text-anchor=\"middle\" x=\"50%\" y=\"1em\">Det</text></svg><svg width=\"100%\" x=\"0%\" y=\"3em\"><defs /><svg width=\"100%\" x=\"0\" y=\"0em\"><defs /><text text-anchor=\"middle\" x=\"50%\" y=\"1em\">an</text></svg></svg><line stroke=\"black\" x1=\"50%\" x2=\"50%\" y1=\"1.2em\" y2=\"3em\" /></svg><line stroke=\"black\" x1=\"50%\" x2=\"7.57576%\" y1=\"1.2em\" y2=\"3em\" /><svg width=\"30.303%\" x=\"15.1515%\" y=\"3em\"><defs /><svg width=\"100%\" x=\"0\" y=\"0em\"><defs /><text text-anchor=\"middle\" x=\"50%\" y=\"1em\">N</text></svg><svg width=\"100%\" x=\"0%\" y=\"3em\"><defs /><svg width=\"100%\" x=\"0\" y=\"0em\"><defs /><text text-anchor=\"middle\" x=\"50%\" y=\"1em\">elephant</text></svg></svg><line stroke=\"black\" x1=\"50%\" x2=\"50%\" y1=\"1.2em\" y2=\"3em\" /></svg><line stroke=\"black\" x1=\"50%\" x2=\"30.303%\" y1=\"1.2em\" y2=\"3em\" /><svg width=\"54.5455%\" x=\"45.4545%\" y=\"3em\"><defs /><svg width=\"100%\" x=\"0\" y=\"0em\"><defs /><text text-anchor=\"middle\" x=\"50%\" y=\"1em\">PP</text></svg><svg width=\"22.2222%\" x=\"0%\" y=\"3em\"><defs /><svg width=\"100%\" x=\"0\" y=\"0em\"><defs /><text text-anchor=\"middle\" x=\"50%\" y=\"1em\">P</text></svg><svg width=\"100%\" x=\"0%\" y=\"3em\"><defs /><svg width=\"100%\" x=\"0\" y=\"0em\"><defs /><text text-anchor=\"middle\" x=\"50%\" y=\"1em\">in</text></svg></svg><line stroke=\"black\" x1=\"50%\" x2=\"50%\" y1=\"1.2em\" y2=\"3em\" /></svg><line stroke=\"black\" x1=\"50%\" x2=\"11.1111%\" y1=\"1.2em\" y2=\"3em\" /><svg width=\"77.7778%\" x=\"22.2222%\" y=\"3em\"><defs /><svg width=\"100%\" x=\"0\" y=\"0em\"><defs /><text text-anchor=\"middle\" x=\"50%\" y=\"1em\">NP</text></svg><svg width=\"35.7143%\" x=\"0%\" y=\"3em\"><defs /><svg width=\"100%\" x=\"0\" y=\"0em\"><defs /><text text-anchor=\"middle\" x=\"50%\" y=\"1em\">Det</text></svg><svg width=\"100%\" x=\"0%\" y=\"3em\"><defs /><svg width=\"100%\" x=\"0\" y=\"0em\"><defs /><text text-anchor=\"middle\" x=\"50%\" y=\"1em\">my</text></svg></svg><line stroke=\"black\" x1=\"50%\" x2=\"50%\" y1=\"1.2em\" y2=\"3em\" /></svg><line stroke=\"black\" x1=\"50%\" x2=\"17.8571%\" y1=\"1.2em\" y2=\"3em\" /><svg width=\"64.2857%\" x=\"35.7143%\" y=\"3em\"><defs /><svg width=\"100%\" x=\"0\" y=\"0em\"><defs /><text text-anchor=\"middle\" x=\"50%\" y=\"1em\">N</text></svg><svg width=\"100%\" x=\"0%\" y=\"3em\"><defs /><svg width=\"100%\" x=\"0\" y=\"0em\"><defs /><text text-anchor=\"middle\" x=\"50%\" y=\"1em\">pajamas</text></svg></svg><line stroke=\"black\" x1=\"50%\" x2=\"50%\" y1=\"1.2em\" y2=\"3em\" /></svg><line stroke=\"black\" x1=\"50%\" x2=\"67.8571%\" y1=\"1.2em\" y2=\"3em\" /></svg><line stroke=\"black\" x1=\"50%\" x2=\"61.1111%\" y1=\"1.2em\" y2=\"3em\" /></svg><line stroke=\"black\" x1=\"50%\" x2=\"72.7273%\" y1=\"1.2em\" y2=\"3em\" /></svg><line stroke=\"black\" x1=\"50%\" x2=\"57.6923%\" y1=\"1.2em\" y2=\"3em\" /></svg><line stroke=\"black\" x1=\"50%\" x2=\"54.6512%\" y1=\"1.2em\" y2=\"3em\" /></svg>"
          },
          "metadata": {
            "tags": []
          },
          "execution_count": 34
        }
      ]
    },
    {
      "cell_type": "markdown",
      "metadata": {
        "id": "N56qhLVIE0aR",
        "colab_type": "text"
      },
      "source": [
        "### Using Spacy for Constituency Parsing"
      ]
    },
    {
      "cell_type": "markdown",
      "metadata": {
        "id": "Nj90S8UI8rsG",
        "colab_type": "text"
      },
      "source": [
        "Berkley Neural Parser  (works with Spacy):\n",
        "\n",
        "https://github.com/nikitakit/self-attentive-parser"
      ]
    },
    {
      "cell_type": "code",
      "metadata": {
        "id": "3ROjnc6vxoZU",
        "colab_type": "code",
        "colab": {
          "base_uri": "https://localhost:8080/",
          "height": 581
        },
        "outputId": "a25259a0-7363-4f9c-cb6c-9de2778b548b"
      },
      "source": [
        "!pip install benepar[cpu]  "
      ],
      "execution_count": 1,
      "outputs": [
        {
          "output_type": "stream",
          "text": [
            "Collecting benepar[cpu]\n",
            "\u001b[?25l  Downloading https://files.pythonhosted.org/packages/a0/7b/6cd9c60e1613a5ad388b4f883fa2aeaddcd8a7ad0a8d5ed87e0d23f159d8/benepar-0.1.2.tar.gz (72kB)\n",
            "\u001b[K     |████████████████████████████████| 81kB 2.5MB/s \n",
            "\u001b[?25hRequirement already satisfied: cython in /usr/local/lib/python3.6/dist-packages (from benepar[cpu]) (0.29.13)\n",
            "Requirement already satisfied: numpy in /usr/local/lib/python3.6/dist-packages (from benepar[cpu]) (1.16.5)\n",
            "Requirement already satisfied: nltk>=3.2 in /usr/local/lib/python3.6/dist-packages (from benepar[cpu]) (3.2.5)\n",
            "Requirement already satisfied: tensorflow>=1.11.0 in /usr/local/lib/python3.6/dist-packages (from benepar[cpu]) (1.14.0)\n",
            "Requirement already satisfied: six in /usr/local/lib/python3.6/dist-packages (from nltk>=3.2->benepar[cpu]) (1.12.0)\n",
            "Requirement already satisfied: tensorboard<1.15.0,>=1.14.0 in /usr/local/lib/python3.6/dist-packages (from tensorflow>=1.11.0->benepar[cpu]) (1.14.0)\n",
            "Requirement already satisfied: tensorflow-estimator<1.15.0rc0,>=1.14.0rc0 in /usr/local/lib/python3.6/dist-packages (from tensorflow>=1.11.0->benepar[cpu]) (1.14.0)\n",
            "Requirement already satisfied: keras-applications>=1.0.6 in /usr/local/lib/python3.6/dist-packages (from tensorflow>=1.11.0->benepar[cpu]) (1.0.8)\n",
            "Requirement already satisfied: absl-py>=0.7.0 in /usr/local/lib/python3.6/dist-packages (from tensorflow>=1.11.0->benepar[cpu]) (0.8.0)\n",
            "Requirement already satisfied: gast>=0.2.0 in /usr/local/lib/python3.6/dist-packages (from tensorflow>=1.11.0->benepar[cpu]) (0.2.2)\n",
            "Requirement already satisfied: wrapt>=1.11.1 in /usr/local/lib/python3.6/dist-packages (from tensorflow>=1.11.0->benepar[cpu]) (1.11.2)\n",
            "Requirement already satisfied: protobuf>=3.6.1 in /usr/local/lib/python3.6/dist-packages (from tensorflow>=1.11.0->benepar[cpu]) (3.7.1)\n",
            "Requirement already satisfied: keras-preprocessing>=1.0.5 in /usr/local/lib/python3.6/dist-packages (from tensorflow>=1.11.0->benepar[cpu]) (1.1.0)\n",
            "Requirement already satisfied: grpcio>=1.8.6 in /usr/local/lib/python3.6/dist-packages (from tensorflow>=1.11.0->benepar[cpu]) (1.15.0)\n",
            "Requirement already satisfied: astor>=0.6.0 in /usr/local/lib/python3.6/dist-packages (from tensorflow>=1.11.0->benepar[cpu]) (0.8.0)\n",
            "Requirement already satisfied: termcolor>=1.1.0 in /usr/local/lib/python3.6/dist-packages (from tensorflow>=1.11.0->benepar[cpu]) (1.1.0)\n",
            "Requirement already satisfied: wheel>=0.26 in /usr/local/lib/python3.6/dist-packages (from tensorflow>=1.11.0->benepar[cpu]) (0.33.6)\n",
            "Requirement already satisfied: google-pasta>=0.1.6 in /usr/local/lib/python3.6/dist-packages (from tensorflow>=1.11.0->benepar[cpu]) (0.1.7)\n",
            "Requirement already satisfied: setuptools>=41.0.0 in /usr/local/lib/python3.6/dist-packages (from tensorboard<1.15.0,>=1.14.0->tensorflow>=1.11.0->benepar[cpu]) (41.2.0)\n",
            "Requirement already satisfied: werkzeug>=0.11.15 in /usr/local/lib/python3.6/dist-packages (from tensorboard<1.15.0,>=1.14.0->tensorflow>=1.11.0->benepar[cpu]) (0.15.6)\n",
            "Requirement already satisfied: markdown>=2.6.8 in /usr/local/lib/python3.6/dist-packages (from tensorboard<1.15.0,>=1.14.0->tensorflow>=1.11.0->benepar[cpu]) (3.1.1)\n",
            "Requirement already satisfied: h5py in /usr/local/lib/python3.6/dist-packages (from keras-applications>=1.0.6->tensorflow>=1.11.0->benepar[cpu]) (2.8.0)\n",
            "Building wheels for collected packages: benepar\n",
            "  Building wheel for benepar (setup.py) ... \u001b[?25l\u001b[?25hdone\n",
            "  Created wheel for benepar: filename=benepar-0.1.2-cp36-cp36m-linux_x86_64.whl size=106727 sha256=c18efdd0935554a41f826bb80ec07d7ffd6a08ba77aeb11b945caf4f87f1f5d7\n",
            "  Stored in directory: /root/.cache/pip/wheels/c6/f5/06/d88543b19a9b326007d7538298a139e994b1d2eecb003bf5af\n",
            "Successfully built benepar\n",
            "Installing collected packages: benepar\n",
            "Successfully installed benepar-0.1.2\n"
          ],
          "name": "stdout"
        }
      ]
    },
    {
      "cell_type": "code",
      "metadata": {
        "id": "_lXVm9km8hUw",
        "colab_type": "code",
        "colab": {
          "base_uri": "https://localhost:8080/",
          "height": 51
        },
        "outputId": "ff29420f-11a0-46ea-d71f-7688bde5087f"
      },
      "source": [
        "## Load language Model\n",
        "## List of models: https://github.com/nikitakit/self-attentive-parser#available-models\n",
        "\n",
        "import benepar\n",
        "benepar.download('benepar_en2')  "
      ],
      "execution_count": 2,
      "outputs": [
        {
          "output_type": "stream",
          "text": [
            "[nltk_data] Downloading package benepar_en2 to /root/nltk_data...\n"
          ],
          "name": "stdout"
        },
        {
          "output_type": "execute_result",
          "data": {
            "text/plain": [
              "True"
            ]
          },
          "metadata": {
            "tags": []
          },
          "execution_count": 2
        }
      ]
    },
    {
      "cell_type": "code",
      "metadata": {
        "id": "MzA7zHfV8_0X",
        "colab_type": "code",
        "colab": {}
      },
      "source": [
        "import spacy\n",
        "from benepar.spacy_plugin import BeneparComponent\n",
        "nlp = spacy.load('en')\n",
        "\n",
        "## Adding a component to spacy pipeline\n",
        "nlp.add_pipe(BeneparComponent(\"benepar_en2\"))\n"
      ],
      "execution_count": 0,
      "outputs": []
    },
    {
      "cell_type": "code",
      "metadata": {
        "id": "aNp-YXfVCDrW",
        "colab_type": "code",
        "colab": {
          "base_uri": "https://localhost:8080/",
          "height": 85
        },
        "outputId": "2138aaef-7863-4ee6-8bd3-e05043efed41"
      },
      "source": [
        "nlp.pipeline"
      ],
      "execution_count": 23,
      "outputs": [
        {
          "output_type": "execute_result",
          "data": {
            "text/plain": [
              "[('tagger', <spacy.pipeline.pipes.Tagger at 0x7fd9584a99e8>),\n",
              " ('parser', <spacy.pipeline.pipes.DependencyParser at 0x7fd9525557c8>),\n",
              " ('ner', <spacy.pipeline.pipes.EntityRecognizer at 0x7fd952555828>),\n",
              " ('benepar', <benepar.spacy_plugin.BeneparComponent at 0x7fd95aa28be0>)]"
            ]
          },
          "metadata": {
            "tags": []
          },
          "execution_count": 23
        }
      ]
    },
    {
      "cell_type": "code",
      "metadata": {
        "id": "2wYNI2wd9PQJ",
        "colab_type": "code",
        "colab": {}
      },
      "source": [
        "doc = nlp(u\"I shot an elephant in my pajamas.\")\n",
        "sent = list(doc.sents)[0]"
      ],
      "execution_count": 0,
      "outputs": []
    },
    {
      "cell_type": "code",
      "metadata": {
        "id": "wybDpGQg9fJu",
        "colab_type": "code",
        "colab": {
          "base_uri": "https://localhost:8080/",
          "height": 34
        },
        "outputId": "0c46ead8-9ccf-4d2b-c707-a1b654387e2d"
      },
      "source": [
        "## String format for the constituency tree\n",
        "sent._.parse_string"
      ],
      "execution_count": 12,
      "outputs": [
        {
          "output_type": "execute_result",
          "data": {
            "text/plain": [
              "'(S (NP (PRP I)) (VP (VBD shot) (NP (DT an) (NN elephant)) (PP (IN in) (NP (PRP$ my) (NNS pajamas)))) (. .))'"
            ]
          },
          "metadata": {
            "tags": []
          },
          "execution_count": 12
        }
      ]
    },
    {
      "cell_type": "markdown",
      "metadata": {
        "id": "PTBMVM4k-Xil",
        "colab_type": "text"
      },
      "source": [
        "#### Convert bracketed string notation to Tree using nltk"
      ]
    },
    {
      "cell_type": "code",
      "metadata": {
        "id": "QVo-NRPu-c3G",
        "colab_type": "code",
        "colab": {
          "base_uri": "https://localhost:8080/",
          "height": 34
        },
        "outputId": "1e290f11-1066-414b-8fb6-7235b9cb8f23"
      },
      "source": [
        "from nltk.tree import Tree\n",
        "\n",
        "tree = Tree.fromstring(sent._.parse_string)\n",
        "type(tree)"
      ],
      "execution_count": 15,
      "outputs": [
        {
          "output_type": "execute_result",
          "data": {
            "text/plain": [
              "nltk.tree.Tree"
            ]
          },
          "metadata": {
            "tags": []
          },
          "execution_count": 15
        }
      ]
    },
    {
      "cell_type": "markdown",
      "metadata": {
        "id": "u9mn0QdM-0vQ",
        "colab_type": "text"
      },
      "source": [
        "#### Draw the tree using svgling"
      ]
    },
    {
      "cell_type": "code",
      "metadata": {
        "id": "lvunj1S79mA9",
        "colab_type": "code",
        "colab": {
          "base_uri": "https://localhost:8080/",
          "height": 285
        },
        "outputId": "20ed98d0-3fc6-48ba-e527-e99985b3ac70"
      },
      "source": [
        "svgling.draw_tree(tree)"
      ],
      "execution_count": 16,
      "outputs": [
        {
          "output_type": "execute_result",
          "data": {
            "text/plain": [
              "TreeLayout(Tree('S', [Tree('NP', [Tree('PRP', ['I'])]), Tree('VP', [Tree('VBD', ['shot']), Tree('NP', [Tree('DT', ['an']), Tree('NN', ['elephant'])]), Tree('PP', [Tree('IN', ['in']), Tree('NP', [Tree('PRP$', ['my']), Tree('NNS', ['pajamas'])])])]), Tree('.', ['.'])]))"
            ],
            "image/svg+xml": "<svg baseProfile=\"full\" height=\"264px\" preserveAspectRatio=\"xMidYMid meet\" style=\"font-family: times, serif; font-weight:normal; font-style: normal; font-size: 16px;\" version=\"1.1\" viewBox=\"0,0,376.0,264.0\" width=\"376px\" xmlns=\"http://www.w3.org/2000/svg\" xmlns:ev=\"http://www.w3.org/2001/xml-events\" xmlns:xlink=\"http://www.w3.org/1999/xlink\"><defs /><svg width=\"100%\" x=\"0\" y=\"0em\"><defs /><text text-anchor=\"middle\" x=\"50%\" y=\"1em\">S</text></svg><svg width=\"10.6383%\" x=\"0%\" y=\"3em\"><defs /><svg width=\"100%\" x=\"0\" y=\"0em\"><defs /><text text-anchor=\"middle\" x=\"50%\" y=\"1em\">NP</text></svg><svg width=\"100%\" x=\"0%\" y=\"3em\"><defs /><svg width=\"100%\" x=\"0\" y=\"0em\"><defs /><text text-anchor=\"middle\" x=\"50%\" y=\"1em\">PRP</text></svg><svg width=\"100%\" x=\"0%\" y=\"3em\"><defs /><svg width=\"100%\" x=\"0\" y=\"0em\"><defs /><text text-anchor=\"middle\" x=\"50%\" y=\"1em\">I</text></svg></svg><line stroke=\"black\" x1=\"50%\" x2=\"50%\" y1=\"1.2em\" y2=\"3em\" /></svg><line stroke=\"black\" x1=\"50%\" x2=\"50%\" y1=\"1.2em\" y2=\"3em\" /></svg><line stroke=\"black\" x1=\"50%\" x2=\"5.31915%\" y1=\"1.2em\" y2=\"3em\" /><svg width=\"82.9787%\" x=\"10.6383%\" y=\"3em\"><defs /><svg width=\"100%\" x=\"0\" y=\"0em\"><defs /><text text-anchor=\"middle\" x=\"50%\" y=\"1em\">VP</text></svg><svg width=\"15.3846%\" x=\"0%\" y=\"3em\"><defs /><svg width=\"100%\" x=\"0\" y=\"0em\"><defs /><text text-anchor=\"middle\" x=\"50%\" y=\"1em\">VBD</text></svg><svg width=\"100%\" x=\"0%\" y=\"3em\"><defs /><svg width=\"100%\" x=\"0\" y=\"0em\"><defs /><text text-anchor=\"middle\" x=\"50%\" y=\"1em\">shot</text></svg></svg><line stroke=\"black\" x1=\"50%\" x2=\"50%\" y1=\"1.2em\" y2=\"3em\" /></svg><line stroke=\"black\" x1=\"50%\" x2=\"7.69231%\" y1=\"1.2em\" y2=\"3em\" /><svg width=\"35.8974%\" x=\"15.3846%\" y=\"3em\"><defs /><svg width=\"100%\" x=\"0\" y=\"0em\"><defs /><text text-anchor=\"middle\" x=\"50%\" y=\"1em\">NP</text></svg><svg width=\"28.5714%\" x=\"0%\" y=\"3em\"><defs /><svg width=\"100%\" x=\"0\" y=\"0em\"><defs /><text text-anchor=\"middle\" x=\"50%\" y=\"1em\">DT</text></svg><svg width=\"100%\" x=\"0%\" y=\"3em\"><defs /><svg width=\"100%\" x=\"0\" y=\"0em\"><defs /><text text-anchor=\"middle\" x=\"50%\" y=\"1em\">an</text></svg></svg><line stroke=\"black\" x1=\"50%\" x2=\"50%\" y1=\"1.2em\" y2=\"3em\" /></svg><line stroke=\"black\" x1=\"50%\" x2=\"14.2857%\" y1=\"1.2em\" y2=\"3em\" /><svg width=\"71.4286%\" x=\"28.5714%\" y=\"3em\"><defs /><svg width=\"100%\" x=\"0\" y=\"0em\"><defs /><text text-anchor=\"middle\" x=\"50%\" y=\"1em\">NN</text></svg><svg width=\"100%\" x=\"0%\" y=\"3em\"><defs /><svg width=\"100%\" x=\"0\" y=\"0em\"><defs /><text text-anchor=\"middle\" x=\"50%\" y=\"1em\">elephant</text></svg></svg><line stroke=\"black\" x1=\"50%\" x2=\"50%\" y1=\"1.2em\" y2=\"3em\" /></svg><line stroke=\"black\" x1=\"50%\" x2=\"64.2857%\" y1=\"1.2em\" y2=\"3em\" /></svg><line stroke=\"black\" x1=\"50%\" x2=\"33.3333%\" y1=\"1.2em\" y2=\"3em\" /><svg width=\"48.7179%\" x=\"51.2821%\" y=\"3em\"><defs /><svg width=\"100%\" x=\"0\" y=\"0em\"><defs /><text text-anchor=\"middle\" x=\"50%\" y=\"1em\">PP</text></svg><svg width=\"21.0526%\" x=\"0%\" y=\"3em\"><defs /><svg width=\"100%\" x=\"0\" y=\"0em\"><defs /><text text-anchor=\"middle\" x=\"50%\" y=\"1em\">IN</text></svg><svg width=\"100%\" x=\"0%\" y=\"3em\"><defs /><svg width=\"100%\" x=\"0\" y=\"0em\"><defs /><text text-anchor=\"middle\" x=\"50%\" y=\"1em\">in</text></svg></svg><line stroke=\"black\" x1=\"50%\" x2=\"50%\" y1=\"1.2em\" y2=\"3em\" /></svg><line stroke=\"black\" x1=\"50%\" x2=\"10.5263%\" y1=\"1.2em\" y2=\"3em\" /><svg width=\"78.9474%\" x=\"21.0526%\" y=\"3em\"><defs /><svg width=\"100%\" x=\"0\" y=\"0em\"><defs /><text text-anchor=\"middle\" x=\"50%\" y=\"1em\">NP</text></svg><svg width=\"40%\" x=\"0%\" y=\"3em\"><defs /><svg width=\"100%\" x=\"0\" y=\"0em\"><defs /><text text-anchor=\"middle\" x=\"50%\" y=\"1em\">PRP$</text></svg><svg width=\"100%\" x=\"0%\" y=\"3em\"><defs /><svg width=\"100%\" x=\"0\" y=\"0em\"><defs /><text text-anchor=\"middle\" x=\"50%\" y=\"1em\">my</text></svg></svg><line stroke=\"black\" x1=\"50%\" x2=\"50%\" y1=\"1.2em\" y2=\"3em\" /></svg><line stroke=\"black\" x1=\"50%\" x2=\"20%\" y1=\"1.2em\" y2=\"3em\" /><svg width=\"60%\" x=\"40%\" y=\"3em\"><defs /><svg width=\"100%\" x=\"0\" y=\"0em\"><defs /><text text-anchor=\"middle\" x=\"50%\" y=\"1em\">NNS</text></svg><svg width=\"100%\" x=\"0%\" y=\"3em\"><defs /><svg width=\"100%\" x=\"0\" y=\"0em\"><defs /><text text-anchor=\"middle\" x=\"50%\" y=\"1em\">pajamas</text></svg></svg><line stroke=\"black\" x1=\"50%\" x2=\"50%\" y1=\"1.2em\" y2=\"3em\" /></svg><line stroke=\"black\" x1=\"50%\" x2=\"70%\" y1=\"1.2em\" y2=\"3em\" /></svg><line stroke=\"black\" x1=\"50%\" x2=\"60.5263%\" y1=\"1.2em\" y2=\"3em\" /></svg><line stroke=\"black\" x1=\"50%\" x2=\"75.641%\" y1=\"1.2em\" y2=\"3em\" /></svg><line stroke=\"black\" x1=\"50%\" x2=\"52.1277%\" y1=\"1.2em\" y2=\"3em\" /><svg width=\"6.38298%\" x=\"93.617%\" y=\"3em\"><defs /><svg width=\"100%\" x=\"0\" y=\"0em\"><defs /><text text-anchor=\"middle\" x=\"50%\" y=\"1em\">.</text></svg><svg width=\"100%\" x=\"0%\" y=\"3em\"><defs /><svg width=\"100%\" x=\"0\" y=\"0em\"><defs /><text text-anchor=\"middle\" x=\"50%\" y=\"1em\">.</text></svg></svg><line stroke=\"black\" x1=\"50%\" x2=\"50%\" y1=\"1.2em\" y2=\"3em\" /></svg><line stroke=\"black\" x1=\"50%\" x2=\"96.8085%\" y1=\"1.2em\" y2=\"3em\" /></svg>"
          },
          "metadata": {
            "tags": []
          },
          "execution_count": 16
        }
      ]
    },
    {
      "cell_type": "code",
      "metadata": {
        "id": "sItuB_t9-LDm",
        "colab_type": "code",
        "colab": {
          "base_uri": "https://localhost:8080/",
          "height": 34
        },
        "outputId": "5935673b-6ff2-4e72-c145-268078d57864"
      },
      "source": [
        "tree.leaves()"
      ],
      "execution_count": 18,
      "outputs": [
        {
          "output_type": "execute_result",
          "data": {
            "text/plain": [
              "['I', 'shot', 'an', 'elephant', 'in', 'my', 'pajamas', '.']"
            ]
          },
          "metadata": {
            "tags": []
          },
          "execution_count": 18
        }
      ]
    },
    {
      "cell_type": "code",
      "metadata": {
        "id": "GABi1HpL_b2B",
        "colab_type": "code",
        "colab": {
          "base_uri": "https://localhost:8080/",
          "height": 255
        },
        "outputId": "4dc89ca1-2feb-4e6b-9ad6-20721a65d1fd"
      },
      "source": [
        "tree.productions()"
      ],
      "execution_count": 20,
      "outputs": [
        {
          "output_type": "execute_result",
          "data": {
            "text/plain": [
              "[S -> NP VP .,\n",
              " NP -> PRP,\n",
              " PRP -> 'I',\n",
              " VP -> VBD NP PP,\n",
              " VBD -> 'shot',\n",
              " NP -> DT NN,\n",
              " DT -> 'an',\n",
              " NN -> 'elephant',\n",
              " PP -> IN NP,\n",
              " IN -> 'in',\n",
              " NP -> PRP$ NNS,\n",
              " PRP$ -> 'my',\n",
              " NNS -> 'pajamas',\n",
              " . -> '.']"
            ]
          },
          "metadata": {
            "tags": []
          },
          "execution_count": 20
        }
      ]
    },
    {
      "cell_type": "code",
      "metadata": {
        "id": "LdgfwEcY_ehD",
        "colab_type": "code",
        "colab": {
          "base_uri": "https://localhost:8080/",
          "height": 93
        },
        "outputId": "33173c7f-f8df-4b6d-bb24-bb1cde632db1"
      },
      "source": [
        "svgling.draw_tree(tree.flatten())"
      ],
      "execution_count": 22,
      "outputs": [
        {
          "output_type": "execute_result",
          "data": {
            "text/plain": [
              "TreeLayout(Tree('S', ['I', 'shot', 'an', 'elephant', 'in', 'my', 'pajamas', '.']))"
            ],
            "image/svg+xml": "<svg baseProfile=\"full\" height=\"72px\" preserveAspectRatio=\"xMidYMid meet\" style=\"font-family: times, serif; font-weight:normal; font-style: normal; font-size: 16px;\" version=\"1.1\" viewBox=\"0,0,344.0,72.0\" width=\"344px\" xmlns=\"http://www.w3.org/2000/svg\" xmlns:ev=\"http://www.w3.org/2001/xml-events\" xmlns:xlink=\"http://www.w3.org/1999/xlink\"><defs /><svg width=\"100%\" x=\"0\" y=\"0em\"><defs /><text text-anchor=\"middle\" x=\"50%\" y=\"1em\">S</text></svg><svg width=\"6.97674%\" x=\"0%\" y=\"3em\"><defs /><svg width=\"100%\" x=\"0\" y=\"0em\"><defs /><text text-anchor=\"middle\" x=\"50%\" y=\"1em\">I</text></svg></svg><line stroke=\"black\" x1=\"50%\" x2=\"3.48837%\" y1=\"1.2em\" y2=\"3em\" /><svg width=\"13.9535%\" x=\"6.97674%\" y=\"3em\"><defs /><svg width=\"100%\" x=\"0\" y=\"0em\"><defs /><text text-anchor=\"middle\" x=\"50%\" y=\"1em\">shot</text></svg></svg><line stroke=\"black\" x1=\"50%\" x2=\"13.9535%\" y1=\"1.2em\" y2=\"3em\" /><svg width=\"9.30233%\" x=\"20.9302%\" y=\"3em\"><defs /><svg width=\"100%\" x=\"0\" y=\"0em\"><defs /><text text-anchor=\"middle\" x=\"50%\" y=\"1em\">an</text></svg></svg><line stroke=\"black\" x1=\"50%\" x2=\"25.5814%\" y1=\"1.2em\" y2=\"3em\" /><svg width=\"23.2558%\" x=\"30.2326%\" y=\"3em\"><defs /><svg width=\"100%\" x=\"0\" y=\"0em\"><defs /><text text-anchor=\"middle\" x=\"50%\" y=\"1em\">elephant</text></svg></svg><line stroke=\"black\" x1=\"50%\" x2=\"41.8605%\" y1=\"1.2em\" y2=\"3em\" /><svg width=\"9.30233%\" x=\"53.4884%\" y=\"3em\"><defs /><svg width=\"100%\" x=\"0\" y=\"0em\"><defs /><text text-anchor=\"middle\" x=\"50%\" y=\"1em\">in</text></svg></svg><line stroke=\"black\" x1=\"50%\" x2=\"58.1395%\" y1=\"1.2em\" y2=\"3em\" /><svg width=\"9.30233%\" x=\"62.7907%\" y=\"3em\"><defs /><svg width=\"100%\" x=\"0\" y=\"0em\"><defs /><text text-anchor=\"middle\" x=\"50%\" y=\"1em\">my</text></svg></svg><line stroke=\"black\" x1=\"50%\" x2=\"67.4419%\" y1=\"1.2em\" y2=\"3em\" /><svg width=\"20.9302%\" x=\"72.093%\" y=\"3em\"><defs /><svg width=\"100%\" x=\"0\" y=\"0em\"><defs /><text text-anchor=\"middle\" x=\"50%\" y=\"1em\">pajamas</text></svg></svg><line stroke=\"black\" x1=\"50%\" x2=\"82.5581%\" y1=\"1.2em\" y2=\"3em\" /><svg width=\"6.97674%\" x=\"93.0233%\" y=\"3em\"><defs /><svg width=\"100%\" x=\"0\" y=\"0em\"><defs /><text text-anchor=\"middle\" x=\"50%\" y=\"1em\">.</text></svg></svg><line stroke=\"black\" x1=\"50%\" x2=\"96.5116%\" y1=\"1.2em\" y2=\"3em\" /></svg>"
          },
          "metadata": {
            "tags": []
          },
          "execution_count": 22
        }
      ]
    },
    {
      "cell_type": "markdown",
      "metadata": {
        "id": "gpgB3OfS_oOY",
        "colab_type": "text"
      },
      "source": [
        "# 3. Dependency Trees"
      ]
    },
    {
      "cell_type": "markdown",
      "metadata": {
        "id": "fhiEHzYjAEJc",
        "colab_type": "text"
      },
      "source": [
        "Another syntactic structure which does not rely on phrasal constituents and instead creates the structure only based on words (or lemmas). This structure has labelled edges which are binary relations defined between words."
      ]
    },
    {
      "cell_type": "markdown",
      "metadata": {
        "id": "6z7A0SBtyD7x",
        "colab_type": "text"
      },
      "source": [
        "Online demo from AllenNLP: https://demo.allennlp.org/dependency-parsing"
      ]
    },
    {
      "cell_type": "code",
      "metadata": {
        "id": "uxzp9-pYBdkn",
        "colab_type": "code",
        "colab": {}
      },
      "source": [
        "import spacy\n",
        "from benepar.spacy_plugin import BeneparComponent\n",
        "nlp = spacy.load('en')\n"
      ],
      "execution_count": 0,
      "outputs": []
    },
    {
      "cell_type": "markdown",
      "metadata": {
        "id": "iyThi_P0HNkv",
        "colab_type": "text"
      },
      "source": [
        "### Spacy's visualization Tool"
      ]
    },
    {
      "cell_type": "code",
      "metadata": {
        "id": "CqXErgv-Go9p",
        "colab_type": "code",
        "colab": {}
      },
      "source": [
        "## Import spacy visualization tool\n",
        "from spacy import displacy"
      ],
      "execution_count": 0,
      "outputs": []
    },
    {
      "cell_type": "code",
      "metadata": {
        "id": "9A94KWgYEupf",
        "colab_type": "code",
        "colab": {}
      },
      "source": [
        "doc1 = nlp(u\"The boy rode a bike.\")"
      ],
      "execution_count": 0,
      "outputs": []
    },
    {
      "cell_type": "code",
      "metadata": {
        "id": "jdYfMMeHFstx",
        "colab_type": "code",
        "colab": {
          "base_uri": "https://localhost:8080/",
          "height": 333
        },
        "outputId": "360ac035-17be-4260-87b2-e0c11bac32a3"
      },
      "source": [
        "displacy.render(doc1, style=\"dep\", jupyter=True, options={'compact':False})"
      ],
      "execution_count": 129,
      "outputs": [
        {
          "output_type": "display_data",
          "data": {
            "text/html": [
              "<svg xmlns=\"http://www.w3.org/2000/svg\" xmlns:xlink=\"http://www.w3.org/1999/xlink\" xml:lang=\"en\" id=\"78453aff90f14188af648c836dec9c7b-0\" class=\"displacy\" width=\"925\" height=\"312.0\" direction=\"ltr\" style=\"max-width: none; height: 312.0px; color: #000000; background: #ffffff; font-family: Arial; direction: ltr\">\n",
              "<text class=\"displacy-token\" fill=\"currentColor\" text-anchor=\"middle\" y=\"222.0\">\n",
              "    <tspan class=\"displacy-word\" fill=\"currentColor\" x=\"50\">The</tspan>\n",
              "    <tspan class=\"displacy-tag\" dy=\"2em\" fill=\"currentColor\" x=\"50\">DET</tspan>\n",
              "</text>\n",
              "\n",
              "<text class=\"displacy-token\" fill=\"currentColor\" text-anchor=\"middle\" y=\"222.0\">\n",
              "    <tspan class=\"displacy-word\" fill=\"currentColor\" x=\"225\">boy</tspan>\n",
              "    <tspan class=\"displacy-tag\" dy=\"2em\" fill=\"currentColor\" x=\"225\">NOUN</tspan>\n",
              "</text>\n",
              "\n",
              "<text class=\"displacy-token\" fill=\"currentColor\" text-anchor=\"middle\" y=\"222.0\">\n",
              "    <tspan class=\"displacy-word\" fill=\"currentColor\" x=\"400\">rode</tspan>\n",
              "    <tspan class=\"displacy-tag\" dy=\"2em\" fill=\"currentColor\" x=\"400\">VERB</tspan>\n",
              "</text>\n",
              "\n",
              "<text class=\"displacy-token\" fill=\"currentColor\" text-anchor=\"middle\" y=\"222.0\">\n",
              "    <tspan class=\"displacy-word\" fill=\"currentColor\" x=\"575\">a</tspan>\n",
              "    <tspan class=\"displacy-tag\" dy=\"2em\" fill=\"currentColor\" x=\"575\">DET</tspan>\n",
              "</text>\n",
              "\n",
              "<text class=\"displacy-token\" fill=\"currentColor\" text-anchor=\"middle\" y=\"222.0\">\n",
              "    <tspan class=\"displacy-word\" fill=\"currentColor\" x=\"750\">bike.</tspan>\n",
              "    <tspan class=\"displacy-tag\" dy=\"2em\" fill=\"currentColor\" x=\"750\">NOUN</tspan>\n",
              "</text>\n",
              "\n",
              "<g class=\"displacy-arrow\">\n",
              "    <path class=\"displacy-arc\" id=\"arrow-78453aff90f14188af648c836dec9c7b-0-0\" stroke-width=\"2px\" d=\"M70,177.0 C70,89.5 220.0,89.5 220.0,177.0\" fill=\"none\" stroke=\"currentColor\"/>\n",
              "    <text dy=\"1.25em\" style=\"font-size: 0.8em; letter-spacing: 1px\">\n",
              "        <textPath xlink:href=\"#arrow-78453aff90f14188af648c836dec9c7b-0-0\" class=\"displacy-label\" startOffset=\"50%\" side=\"left\" fill=\"currentColor\" text-anchor=\"middle\">det</textPath>\n",
              "    </text>\n",
              "    <path class=\"displacy-arrowhead\" d=\"M70,179.0 L62,167.0 78,167.0\" fill=\"currentColor\"/>\n",
              "</g>\n",
              "\n",
              "<g class=\"displacy-arrow\">\n",
              "    <path class=\"displacy-arc\" id=\"arrow-78453aff90f14188af648c836dec9c7b-0-1\" stroke-width=\"2px\" d=\"M245,177.0 C245,89.5 395.0,89.5 395.0,177.0\" fill=\"none\" stroke=\"currentColor\"/>\n",
              "    <text dy=\"1.25em\" style=\"font-size: 0.8em; letter-spacing: 1px\">\n",
              "        <textPath xlink:href=\"#arrow-78453aff90f14188af648c836dec9c7b-0-1\" class=\"displacy-label\" startOffset=\"50%\" side=\"left\" fill=\"currentColor\" text-anchor=\"middle\">nsubj</textPath>\n",
              "    </text>\n",
              "    <path class=\"displacy-arrowhead\" d=\"M245,179.0 L237,167.0 253,167.0\" fill=\"currentColor\"/>\n",
              "</g>\n",
              "\n",
              "<g class=\"displacy-arrow\">\n",
              "    <path class=\"displacy-arc\" id=\"arrow-78453aff90f14188af648c836dec9c7b-0-2\" stroke-width=\"2px\" d=\"M595,177.0 C595,89.5 745.0,89.5 745.0,177.0\" fill=\"none\" stroke=\"currentColor\"/>\n",
              "    <text dy=\"1.25em\" style=\"font-size: 0.8em; letter-spacing: 1px\">\n",
              "        <textPath xlink:href=\"#arrow-78453aff90f14188af648c836dec9c7b-0-2\" class=\"displacy-label\" startOffset=\"50%\" side=\"left\" fill=\"currentColor\" text-anchor=\"middle\">det</textPath>\n",
              "    </text>\n",
              "    <path class=\"displacy-arrowhead\" d=\"M595,179.0 L587,167.0 603,167.0\" fill=\"currentColor\"/>\n",
              "</g>\n",
              "\n",
              "<g class=\"displacy-arrow\">\n",
              "    <path class=\"displacy-arc\" id=\"arrow-78453aff90f14188af648c836dec9c7b-0-3\" stroke-width=\"2px\" d=\"M420,177.0 C420,2.0 750.0,2.0 750.0,177.0\" fill=\"none\" stroke=\"currentColor\"/>\n",
              "    <text dy=\"1.25em\" style=\"font-size: 0.8em; letter-spacing: 1px\">\n",
              "        <textPath xlink:href=\"#arrow-78453aff90f14188af648c836dec9c7b-0-3\" class=\"displacy-label\" startOffset=\"50%\" side=\"left\" fill=\"currentColor\" text-anchor=\"middle\">dobj</textPath>\n",
              "    </text>\n",
              "    <path class=\"displacy-arrowhead\" d=\"M750.0,179.0 L758.0,167.0 742.0,167.0\" fill=\"currentColor\"/>\n",
              "</g>\n",
              "</svg>"
            ],
            "text/plain": [
              "<IPython.core.display.HTML object>"
            ]
          },
          "metadata": {
            "tags": []
          }
        }
      ]
    },
    {
      "cell_type": "code",
      "metadata": {
        "id": "rtcQE8gtIO7s",
        "colab_type": "code",
        "colab": {
          "base_uri": "https://localhost:8080/",
          "height": 34
        },
        "outputId": "3996703f-f3ef-4c37-fbb9-19277c65979e"
      },
      "source": [
        "doc1"
      ],
      "execution_count": 130,
      "outputs": [
        {
          "output_type": "execute_result",
          "data": {
            "text/plain": [
              "The boy rode a bike."
            ]
          },
          "metadata": {
            "tags": []
          },
          "execution_count": 130
        }
      ]
    },
    {
      "cell_type": "markdown",
      "metadata": {
        "id": "r0_u2JoNIGso",
        "colab_type": "text"
      },
      "source": [
        "#### A small diversion - you can also visualize Named Entities in Spacy"
      ]
    },
    {
      "cell_type": "code",
      "metadata": {
        "id": "0Zl0y_fIK-lw",
        "colab_type": "code",
        "colab": {}
      },
      "source": [
        "en_str = '''\n",
        "This is an example string. Harry Potter is a name of an individual. Ron Weasley and Draco Malfoy are his school-mates.\n",
        "Voldemort is another individual who has an army of Death Eaters.\n",
        "He belongs to the Hogwart school. Nobody actually know if the school actually exists. But, nevertheless, people love the concept.\n",
        "Do you think the NER-System, Spacy, will capture all the named entities in this string correctly?\n",
        "'''\n",
        "\n",
        "doc2 = nlp(en_str)"
      ],
      "execution_count": 0,
      "outputs": []
    },
    {
      "cell_type": "code",
      "metadata": {
        "id": "lYymb7bsFu8i",
        "colab_type": "code",
        "colab": {
          "base_uri": "https://localhost:8080/",
          "height": 192
        },
        "outputId": "a011182e-0646-4fce-c089-ac5902865781"
      },
      "source": [
        "displacy.render(doc2, style=\"ent\", jupyter=True)"
      ],
      "execution_count": 37,
      "outputs": [
        {
          "output_type": "display_data",
          "data": {
            "text/html": [
              "<div class=\"entities\" style=\"line-height: 2.5; direction: ltr\"></br>This is an example string. \n",
              "<mark class=\"entity\" style=\"background: #aa9cfc; padding: 0.45em 0.6em; margin: 0 0.25em; line-height: 1; border-radius: 0.35em; box-decoration-break: clone; -webkit-box-decoration-break: clone\">\n",
              "    Harry Potter\n",
              "    <span style=\"font-size: 0.8em; font-weight: bold; line-height: 1; border-radius: 0.35em; text-transform: uppercase; vertical-align: middle; margin-left: 0.5rem\">PERSON</span>\n",
              "</mark>\n",
              " is a name of an individual. \n",
              "<mark class=\"entity\" style=\"background: #aa9cfc; padding: 0.45em 0.6em; margin: 0 0.25em; line-height: 1; border-radius: 0.35em; box-decoration-break: clone; -webkit-box-decoration-break: clone\">\n",
              "    Ron Weasley\n",
              "    <span style=\"font-size: 0.8em; font-weight: bold; line-height: 1; border-radius: 0.35em; text-transform: uppercase; vertical-align: middle; margin-left: 0.5rem\">PERSON</span>\n",
              "</mark>\n",
              " and \n",
              "<mark class=\"entity\" style=\"background: #aa9cfc; padding: 0.45em 0.6em; margin: 0 0.25em; line-height: 1; border-radius: 0.35em; box-decoration-break: clone; -webkit-box-decoration-break: clone\">\n",
              "    Draco Malfoy\n",
              "    <span style=\"font-size: 0.8em; font-weight: bold; line-height: 1; border-radius: 0.35em; text-transform: uppercase; vertical-align: middle; margin-left: 0.5rem\">PERSON</span>\n",
              "</mark>\n",
              " are his school-mates.</br>\n",
              "<mark class=\"entity\" style=\"background: #aa9cfc; padding: 0.45em 0.6em; margin: 0 0.25em; line-height: 1; border-radius: 0.35em; box-decoration-break: clone; -webkit-box-decoration-break: clone\">\n",
              "    Voldemort\n",
              "    <span style=\"font-size: 0.8em; font-weight: bold; line-height: 1; border-radius: 0.35em; text-transform: uppercase; vertical-align: middle; margin-left: 0.5rem\">PERSON</span>\n",
              "</mark>\n",
              " is another individual who has an army of \n",
              "<mark class=\"entity\" style=\"background: #7aecec; padding: 0.45em 0.6em; margin: 0 0.25em; line-height: 1; border-radius: 0.35em; box-decoration-break: clone; -webkit-box-decoration-break: clone\">\n",
              "    Death Eaters\n",
              "    <span style=\"font-size: 0.8em; font-weight: bold; line-height: 1; border-radius: 0.35em; text-transform: uppercase; vertical-align: middle; margin-left: 0.5rem\">ORG</span>\n",
              "</mark>\n",
              ".</br>He belongs to the \n",
              "<mark class=\"entity\" style=\"background: #7aecec; padding: 0.45em 0.6em; margin: 0 0.25em; line-height: 1; border-radius: 0.35em; box-decoration-break: clone; -webkit-box-decoration-break: clone\">\n",
              "    Hogwart\n",
              "    <span style=\"font-size: 0.8em; font-weight: bold; line-height: 1; border-radius: 0.35em; text-transform: uppercase; vertical-align: middle; margin-left: 0.5rem\">ORG</span>\n",
              "</mark>\n",
              " school. Nobody actually know if the school actually exists. But, nevertheless, people love the concept.</br>Do you think \n",
              "<mark class=\"entity\" style=\"background: #7aecec; padding: 0.45em 0.6em; margin: 0 0.25em; line-height: 1; border-radius: 0.35em; box-decoration-break: clone; -webkit-box-decoration-break: clone\">\n",
              "    the NER-System\n",
              "    <span style=\"font-size: 0.8em; font-weight: bold; line-height: 1; border-radius: 0.35em; text-transform: uppercase; vertical-align: middle; margin-left: 0.5rem\">ORG</span>\n",
              "</mark>\n",
              ", \n",
              "<mark class=\"entity\" style=\"background: #feca74; padding: 0.45em 0.6em; margin: 0 0.25em; line-height: 1; border-radius: 0.35em; box-decoration-break: clone; -webkit-box-decoration-break: clone\">\n",
              "    Spacy\n",
              "    <span style=\"font-size: 0.8em; font-weight: bold; line-height: 1; border-radius: 0.35em; text-transform: uppercase; vertical-align: middle; margin-left: 0.5rem\">GPE</span>\n",
              "</mark>\n",
              ", will capture all the named entities in this string correctly?\n",
              "</div>"
            ],
            "text/plain": [
              "<IPython.core.display.HTML object>"
            ]
          },
          "metadata": {
            "tags": []
          }
        }
      ]
    },
    {
      "cell_type": "code",
      "metadata": {
        "id": "gTIR-8a0Hc67",
        "colab_type": "code",
        "colab": {
          "base_uri": "https://localhost:8080/",
          "height": 153
        },
        "outputId": "f657fb5a-386d-4108-d4fe-16673f2e6d84"
      },
      "source": [
        "doc2.ents"
      ],
      "execution_count": 38,
      "outputs": [
        {
          "output_type": "execute_result",
          "data": {
            "text/plain": [
              "(Harry Potter,\n",
              " Ron Weasley,\n",
              " Draco Malfoy,\n",
              " Voldemort,\n",
              " Death Eaters,\n",
              " Hogwart,\n",
              " the NER-System,\n",
              " Spacy)"
            ]
          },
          "metadata": {
            "tags": []
          },
          "execution_count": 38
        }
      ]
    },
    {
      "cell_type": "markdown",
      "metadata": {
        "id": "inRbVgiFIDFt",
        "colab_type": "text"
      },
      "source": [
        "## 3.1 CoNLL-U format"
      ]
    },
    {
      "cell_type": "markdown",
      "metadata": {
        "id": "ZG3n3E5MPxxk",
        "colab_type": "text"
      },
      "source": [
        "A standard format for representing represeting Universal dependency structures (https://universaldependencies.org/docs/format.html)"
      ]
    },
    {
      "cell_type": "code",
      "metadata": {
        "id": "70Wojyi5LZdj",
        "colab_type": "code",
        "colab": {
          "base_uri": "https://localhost:8080/",
          "height": 105
        },
        "outputId": "88dac209-4863-4e2a-fbaf-446951aafd95"
      },
      "source": [
        "!pip install spacy_conll\n",
        "from spacy_conll import Spacy2ConllParser\n",
        "\n",
        "spacyconll = Spacy2ConllParser()"
      ],
      "execution_count": 49,
      "outputs": [
        {
          "output_type": "stream",
          "text": [
            "Collecting spacy_conll\n",
            "  Downloading https://files.pythonhosted.org/packages/84/a6/18143014967a6a24ee64aac3ea2ca76dccc61432b99c4ef168ecb7da6a4c/spacy_conll-0.1.6-py3-none-any.whl\n",
            "Installing collected packages: spacy-conll\n",
            "Successfully installed spacy-conll-0.1.6\n"
          ],
          "name": "stdout"
        }
      ]
    },
    {
      "cell_type": "code",
      "metadata": {
        "id": "LDkNpZZDMOKm",
        "colab_type": "code",
        "colab": {}
      },
      "source": [
        "# `parse` returns a generator of the parsed sentences\n",
        "string = \"The boy rode a bike.\"\n",
        "\n",
        "conllu = \"\"\n",
        "for parsed_sent in spacyconll.parse(input_str=string):\n",
        "    conllu+=parsed_sent"
      ],
      "execution_count": 0,
      "outputs": []
    },
    {
      "cell_type": "code",
      "metadata": {
        "id": "GdpK50lZOnBG",
        "colab_type": "code",
        "colab": {
          "base_uri": "https://localhost:8080/",
          "height": 119
        },
        "outputId": "1e8aea21-0baf-442d-cf88-39e9eb49efab"
      },
      "source": [
        "print(conllu)"
      ],
      "execution_count": 132,
      "outputs": [
        {
          "output_type": "stream",
          "text": [
            "1\tThe\tthe\tDET\tDT\t_\t2\tdet\t_\t_\n",
            "2\tboy\tboy\tNOUN\tNN\tNumber=sing\t3\tnsubj\t_\t_\n",
            "3\trode\tride\tVERB\tVBD\tVerbForm=fin|Tense=past\t0\tROOT\t_\t_\n",
            "4\ta\ta\tDET\tDT\t_\t5\tdet\t_\t_\n",
            "5\tbike.\tbike.\tNOUN\tNN\tNumber=sing\t3\tdobj\t_\t_\n",
            "\n"
          ],
          "name": "stdout"
        }
      ]
    },
    {
      "cell_type": "markdown",
      "metadata": {
        "id": "Xk9fkUjsMgLB",
        "colab_type": "text"
      },
      "source": [
        "### Convert CoNLL-U to a graph"
      ]
    },
    {
      "cell_type": "code",
      "metadata": {
        "id": "qtdumTVcOUII",
        "colab_type": "code",
        "colab": {}
      },
      "source": [
        "from nltk import DependencyGraph"
      ],
      "execution_count": 0,
      "outputs": []
    },
    {
      "cell_type": "code",
      "metadata": {
        "id": "hWk9YVbpOVO0",
        "colab_type": "code",
        "colab": {
          "base_uri": "https://localhost:8080/",
          "height": 428
        },
        "outputId": "69aefc3d-01aa-4df0-a357-d64e4af1b49d"
      },
      "source": [
        "dep_graph = DependencyGraph(conllu, top_relation_label='ROOT')\n",
        "dep_graph"
      ],
      "execution_count": 134,
      "outputs": [
        {
          "output_type": "execute_result",
          "data": {
            "text/plain": [
              "<DependencyGraph with 6 nodes>"
            ],
            "image/svg+xml": "<?xml version=\"1.0\" encoding=\"UTF-8\" standalone=\"no\"?>\n<!DOCTYPE svg PUBLIC \"-//W3C//DTD SVG 1.1//EN\"\n \"http://www.w3.org/Graphics/SVG/1.1/DTD/svg11.dtd\">\n<!-- Generated by graphviz version 2.40.1 (20161225.0304)\n -->\n<!-- Title: G Pages: 1 -->\n<svg width=\"150pt\" height=\"305pt\"\n viewBox=\"0.00 0.00 150.00 305.00\" xmlns=\"http://www.w3.org/2000/svg\" xmlns:xlink=\"http://www.w3.org/1999/xlink\">\n<g id=\"graph0\" class=\"graph\" transform=\"scale(1 1) rotate(0) translate(4 301)\">\n<title>G</title>\n<polygon fill=\"#ffffff\" stroke=\"transparent\" points=\"-4,4 -4,-301 146,-301 146,4 -4,4\"/>\n<!-- 0 -->\n<g id=\"node1\" class=\"node\">\n<title>0</title>\n<text text-anchor=\"middle\" x=\"68.5\" y=\"-275.3\" font-family=\"Times,serif\" font-size=\"14.00\" fill=\"#000000\">0 (None)</text>\n</g>\n<!-- 3 -->\n<g id=\"node2\" class=\"node\">\n<title>3</title>\n<text text-anchor=\"middle\" x=\"68.5\" y=\"-188.3\" font-family=\"Times,serif\" font-size=\"14.00\" fill=\"#000000\">3 (rode)</text>\n</g>\n<!-- 0&#45;&gt;3 -->\n<g id=\"edge1\" class=\"edge\">\n<title>0&#45;&gt;3</title>\n<path fill=\"none\" stroke=\"#000000\" d=\"M68.5,-260.9735C68.5,-249.1918 68.5,-233.5607 68.5,-220.1581\"/>\n<polygon fill=\"#000000\" stroke=\"#000000\" points=\"72.0001,-220.0033 68.5,-210.0034 65.0001,-220.0034 72.0001,-220.0033\"/>\n<text text-anchor=\"middle\" x=\"88.5\" y=\"-231.8\" font-family=\"Times,serif\" font-size=\"14.00\" fill=\"#000000\">ROOT</text>\n</g>\n<!-- 2 -->\n<g id=\"node4\" class=\"node\">\n<title>2</title>\n<text text-anchor=\"middle\" x=\"29.5\" y=\"-101.3\" font-family=\"Times,serif\" font-size=\"14.00\" fill=\"#000000\">2 (boy)</text>\n</g>\n<!-- 3&#45;&gt;2 -->\n<g id=\"edge3\" class=\"edge\">\n<title>3&#45;&gt;2</title>\n<path fill=\"none\" stroke=\"#000000\" d=\"M57.7822,-173.9615C54.6105,-168.3034 51.2532,-161.9739 48.5,-156 45.0902,-148.6014 41.822,-140.4015 38.9869,-132.7793\"/>\n<polygon fill=\"#000000\" stroke=\"#000000\" points=\"42.2197,-131.4266 35.5337,-123.2079 35.6352,-133.8022 42.2197,-131.4266\"/>\n<text text-anchor=\"middle\" x=\"64.5\" y=\"-144.8\" font-family=\"Times,serif\" font-size=\"14.00\" fill=\"#000000\">nsubj</text>\n</g>\n<!-- 5 -->\n<g id=\"node5\" class=\"node\">\n<title>5</title>\n<text text-anchor=\"middle\" x=\"109.5\" y=\"-101.3\" font-family=\"Times,serif\" font-size=\"14.00\" fill=\"#000000\">5 (bike.)</text>\n</g>\n<!-- 3&#45;&gt;5 -->\n<g id=\"edge4\" class=\"edge\">\n<title>3&#45;&gt;5</title>\n<path fill=\"none\" stroke=\"#000000\" d=\"M76.9952,-173.9735C82.6575,-161.9585 90.2064,-145.9401 96.6041,-132.3646\"/>\n<polygon fill=\"#000000\" stroke=\"#000000\" points=\"99.9187,-133.5413 101.0157,-123.0034 93.5866,-130.5571 99.9187,-133.5413\"/>\n<text text-anchor=\"middle\" x=\"105\" y=\"-144.8\" font-family=\"Times,serif\" font-size=\"14.00\" fill=\"#000000\">dobj</text>\n</g>\n<!-- 1 -->\n<g id=\"node3\" class=\"node\">\n<title>1</title>\n<text text-anchor=\"middle\" x=\"29.5\" y=\"-14.3\" font-family=\"Times,serif\" font-size=\"14.00\" fill=\"#000000\">1 (The)</text>\n</g>\n<!-- 2&#45;&gt;1 -->\n<g id=\"edge2\" class=\"edge\">\n<title>2&#45;&gt;1</title>\n<path fill=\"none\" stroke=\"#000000\" d=\"M29.5,-86.9735C29.5,-75.1918 29.5,-59.5607 29.5,-46.1581\"/>\n<polygon fill=\"#000000\" stroke=\"#000000\" points=\"33.0001,-46.0033 29.5,-36.0034 26.0001,-46.0034 33.0001,-46.0033\"/>\n<text text-anchor=\"middle\" x=\"38.5\" y=\"-57.8\" font-family=\"Times,serif\" font-size=\"14.00\" fill=\"#000000\">det</text>\n</g>\n<!-- 4 -->\n<g id=\"node6\" class=\"node\">\n<title>4</title>\n<text text-anchor=\"middle\" x=\"109.5\" y=\"-14.3\" font-family=\"Times,serif\" font-size=\"14.00\" fill=\"#000000\">4 (a)</text>\n</g>\n<!-- 5&#45;&gt;4 -->\n<g id=\"edge5\" class=\"edge\">\n<title>5&#45;&gt;4</title>\n<path fill=\"none\" stroke=\"#000000\" d=\"M109.5,-86.9735C109.5,-75.1918 109.5,-59.5607 109.5,-46.1581\"/>\n<polygon fill=\"#000000\" stroke=\"#000000\" points=\"113.0001,-46.0033 109.5,-36.0034 106.0001,-46.0034 113.0001,-46.0033\"/>\n<text text-anchor=\"middle\" x=\"118.5\" y=\"-57.8\" font-family=\"Times,serif\" font-size=\"14.00\" fill=\"#000000\">det</text>\n</g>\n</g>\n</svg>\n"
          },
          "metadata": {
            "tags": []
          },
          "execution_count": 134
        }
      ]
    },
    {
      "cell_type": "code",
      "metadata": {
        "id": "RXs9OqT9PW5x",
        "colab_type": "code",
        "colab": {
          "base_uri": "https://localhost:8080/",
          "height": 85
        },
        "outputId": "a5d72bc4-f1ca-4261-930d-e612fcabc3e5"
      },
      "source": [
        "for x in dep_graph.triples():\n",
        "  print(x)"
      ],
      "execution_count": 135,
      "outputs": [
        {
          "output_type": "stream",
          "text": [
            "(('rode', 'VERB'), 'nsubj', ('boy', 'NOUN'))\n",
            "(('boy', 'NOUN'), 'det', ('The', 'DET'))\n",
            "(('rode', 'VERB'), 'dobj', ('bike.', 'NOUN'))\n",
            "(('bike.', 'NOUN'), 'det', ('a', 'DET'))\n"
          ],
          "name": "stdout"
        }
      ]
    },
    {
      "cell_type": "markdown",
      "metadata": {
        "id": "vYp7c2zwNXat",
        "colab_type": "text"
      },
      "source": [
        "# 4. Universal Dependencies Data"
      ]
    },
    {
      "cell_type": "markdown",
      "metadata": {
        "id": "ZmoMlc4gajt7",
        "colab_type": "text"
      },
      "source": [
        "Details at: https://universaldependencies.org/\n",
        "\n",
        "List of all dependencies: https://universaldependencies.org/u/dep/all.html"
      ]
    },
    {
      "cell_type": "code",
      "metadata": {
        "id": "pnHZAUQ_Z-9E",
        "colab_type": "code",
        "colab": {
          "base_uri": "https://localhost:8080/",
          "height": 190
        },
        "outputId": "205f6cd5-0b3e-4e67-f3f8-8fccb9e04e97"
      },
      "source": [
        "!pip install wget\n",
        "import wget"
      ],
      "execution_count": 74,
      "outputs": [
        {
          "output_type": "stream",
          "text": [
            "Collecting wget\n",
            "  Downloading https://files.pythonhosted.org/packages/47/6a/62e288da7bcda82b935ff0c6cfe542970f04e29c756b0e147251b2fb251f/wget-3.2.zip\n",
            "Building wheels for collected packages: wget\n",
            "  Building wheel for wget (setup.py) ... \u001b[?25l\u001b[?25hdone\n",
            "  Created wheel for wget: filename=wget-3.2-cp36-none-any.whl size=9681 sha256=d8b77f48eeaf62075a7bffd5cb453eba665d2cfe2c18f631b668af5ab8018da4\n",
            "  Stored in directory: /root/.cache/pip/wheels/40/15/30/7d8f7cea2902b4db79e3fea550d7d7b85ecb27ef992b618f3f\n",
            "Successfully built wget\n",
            "Installing collected packages: wget\n",
            "Successfully installed wget-3.2\n"
          ],
          "name": "stdout"
        }
      ]
    },
    {
      "cell_type": "markdown",
      "metadata": {
        "id": "QhWvDBQ1A63t",
        "colab_type": "text"
      },
      "source": [
        "#### Download English Web Treebank UD Data"
      ]
    },
    {
      "cell_type": "code",
      "metadata": {
        "id": "IIIf5SiQbFo9",
        "colab_type": "code",
        "colab": {
          "base_uri": "https://localhost:8080/",
          "height": 34
        },
        "outputId": "f7863e6d-778c-401e-d6c9-47947d8d0ea8"
      },
      "source": [
        "wget.download(\"https://raw.githubusercontent.com/UniversalDependencies/UD_English-EWT/master/en_ewt-ud-train.conllu\", \n",
        "              'en_ewt-ud-train.conllu')"
      ],
      "execution_count": 75,
      "outputs": [
        {
          "output_type": "execute_result",
          "data": {
            "text/plain": [
              "'en_ewt-ud-train.conllu'"
            ]
          },
          "metadata": {
            "tags": []
          },
          "execution_count": 75
        }
      ]
    },
    {
      "cell_type": "markdown",
      "metadata": {
        "id": "t3UKdAIRbOOF",
        "colab_type": "text"
      },
      "source": [
        "### Read data into dictionary graph structures"
      ]
    },
    {
      "cell_type": "code",
      "metadata": {
        "id": "0RA6qczKbsE1",
        "colab_type": "code",
        "colab": {}
      },
      "source": [
        "def get_structs(file):\n",
        "    '''\n",
        "    Input: a conllu file\n",
        "  \n",
        "    Output: a dictionary of (key, value) pairs\n",
        "          key: sentence id\n",
        "          value: NLTK Dependency Graph object\n",
        "    '''\n",
        "    structures = {}\n",
        "    with open(file, 'r') as f:\n",
        "      iden = 0\n",
        "      a = \"\"\n",
        "      words = []\n",
        "      \n",
        "      for line in f:\n",
        "        #Skip lines that start with a '#' (IDs)\n",
        "        if line[0]=='#':\n",
        "          continue\n",
        "\n",
        "        ## Keep appending lines for a sentence\n",
        "        elif line != \"\\n\":\n",
        "          a += line\n",
        "          words.append(line.split(\"\\t\")[1])\n",
        "\n",
        "        ## When the sentences finishes, make a Dep graph\n",
        "        else:\n",
        "          iden += 1\n",
        "          structure = DependencyGraph(a, top_relation_label='root')\n",
        "          sent = \" \".join(words)\n",
        "          sent_id = file.split(\"-\")[-1] + \" sent_\" + str(iden)\n",
        "          structures[sent_id] = structure\n",
        "          a = \"\"\n",
        "          words = []  \n",
        "  \n",
        "    return structures\n",
        "  \n",
        "def get_info(struct, param=\"word\"):\n",
        "    '''\n",
        "    Input: NLTK Dependency Graph object\n",
        "          \n",
        "    Output: a list of the parameters indexed by token's orders\n",
        "    '''\n",
        "    len_sentence = len(struct.nodes)-1 #subtract the Top tag above root\n",
        "     \n",
        "    tokens = [struct.nodes[idx+1][param] for idx in range(len_sentence)]  \n",
        "\n",
        "    return tokens\n"
      ],
      "execution_count": 0,
      "outputs": []
    },
    {
      "cell_type": "code",
      "metadata": {
        "id": "ku87Pyr0chRj",
        "colab_type": "code",
        "colab": {}
      },
      "source": [
        "structures = get_structs(\"en_ewt-ud-train.conllu\")"
      ],
      "execution_count": 0,
      "outputs": []
    },
    {
      "cell_type": "markdown",
      "metadata": {
        "id": "k3UJpdRC--ik",
        "colab_type": "text"
      },
      "source": [
        "#### An example from the corpus"
      ]
    },
    {
      "cell_type": "code",
      "metadata": {
        "id": "eYQY3r_N_FVC",
        "colab_type": "code",
        "colab": {
          "base_uri": "https://localhost:8080/",
          "height": 929
        },
        "outputId": "2a5f7636-703e-4018-ec49-3bb817a94f60"
      },
      "source": [
        "idx = 178\n",
        "sent_id = 'train.conllu sent_' + str(idx)\n",
        "print(get_info(structures[sent_id], param=\"word\"))\n",
        "structures[sent_id]"
      ],
      "execution_count": 240,
      "outputs": [
        {
          "output_type": "stream",
          "text": [
            "['Hiller', 'asked', ',', 'inquiring', 'about', 'Gen.', 'Pervaiz', 'Musharraf', ',', 'who', 'seized', 'control', 'of', 'the', 'country', 'October', '12', '.']\n"
          ],
          "name": "stdout"
        },
        {
          "output_type": "execute_result",
          "data": {
            "text/plain": [
              "<DependencyGraph with 19 nodes>"
            ],
            "image/svg+xml": "<?xml version=\"1.0\" encoding=\"UTF-8\" standalone=\"no\"?>\n<!DOCTYPE svg PUBLIC \"-//W3C//DTD SVG 1.1//EN\"\n \"http://www.w3.org/Graphics/SVG/1.1/DTD/svg11.dtd\">\n<!-- Generated by graphviz version 2.40.1 (20161225.0304)\n -->\n<!-- Title: G Pages: 1 -->\n<svg width=\"621pt\" height=\"653pt\"\n viewBox=\"0.00 0.00 620.50 653.00\" xmlns=\"http://www.w3.org/2000/svg\" xmlns:xlink=\"http://www.w3.org/1999/xlink\">\n<g id=\"graph0\" class=\"graph\" transform=\"scale(1 1) rotate(0) translate(4 649)\">\n<title>G</title>\n<polygon fill=\"#ffffff\" stroke=\"transparent\" points=\"-4,4 -4,-649 616.5,-649 616.5,4 -4,4\"/>\n<!-- 0 -->\n<g id=\"node1\" class=\"node\">\n<title>0</title>\n<text text-anchor=\"middle\" x=\"150.5\" y=\"-623.3\" font-family=\"Times,serif\" font-size=\"14.00\" fill=\"#000000\">0 (None)</text>\n</g>\n<!-- 2 -->\n<g id=\"node2\" class=\"node\">\n<title>2</title>\n<text text-anchor=\"middle\" x=\"150.5\" y=\"-536.3\" font-family=\"Times,serif\" font-size=\"14.00\" fill=\"#000000\">2 (asked)</text>\n</g>\n<!-- 0&#45;&gt;2 -->\n<g id=\"edge1\" class=\"edge\">\n<title>0&#45;&gt;2</title>\n<path fill=\"none\" stroke=\"#000000\" d=\"M150.5,-608.9735C150.5,-597.1918 150.5,-581.5607 150.5,-568.1581\"/>\n<polygon fill=\"#000000\" stroke=\"#000000\" points=\"154.0001,-568.0033 150.5,-558.0034 147.0001,-568.0034 154.0001,-568.0033\"/>\n<text text-anchor=\"middle\" x=\"162.5\" y=\"-579.8\" font-family=\"Times,serif\" font-size=\"14.00\" fill=\"#000000\">root</text>\n</g>\n<!-- 1 -->\n<g id=\"node3\" class=\"node\">\n<title>1</title>\n<text text-anchor=\"middle\" x=\"34.5\" y=\"-449.3\" font-family=\"Times,serif\" font-size=\"14.00\" fill=\"#000000\">1 (Hiller)</text>\n</g>\n<!-- 2&#45;&gt;1 -->\n<g id=\"edge2\" class=\"edge\">\n<title>2&#45;&gt;1</title>\n<path fill=\"none\" stroke=\"#000000\" d=\"M117.6655,-521.8943C108.6256,-516.486 98.9798,-510.3078 90.5,-504 80.0316,-496.2129 69.2658,-486.8011 60.0056,-478.1937\"/>\n<polygon fill=\"#000000\" stroke=\"#000000\" points=\"62.2901,-475.5368 52.6208,-471.206 57.4789,-480.6214 62.2901,-475.5368\"/>\n<text text-anchor=\"middle\" x=\"106.5\" y=\"-492.8\" font-family=\"Times,serif\" font-size=\"14.00\" fill=\"#000000\">nsubj</text>\n</g>\n<!-- 3 -->\n<g id=\"node4\" class=\"node\">\n<title>3</title>\n<text text-anchor=\"middle\" x=\"114.5\" y=\"-449.3\" font-family=\"Times,serif\" font-size=\"14.00\" fill=\"#000000\">3 (,)</text>\n</g>\n<!-- 2&#45;&gt;3 -->\n<g id=\"edge3\" class=\"edge\">\n<title>2&#45;&gt;3</title>\n<path fill=\"none\" stroke=\"#000000\" d=\"M140.2423,-521.9679C137.2261,-516.3101 134.0539,-509.9791 131.5,-504 128.3391,-496.5999 125.379,-488.3995 122.8431,-480.7773\"/>\n<polygon fill=\"#000000\" stroke=\"#000000\" points=\"126.16,-479.6589 119.7724,-471.2061 119.4947,-481.7973 126.16,-479.6589\"/>\n<text text-anchor=\"middle\" x=\"148\" y=\"-492.8\" font-family=\"Times,serif\" font-size=\"14.00\" fill=\"#000000\">punct</text>\n</g>\n<!-- 18 -->\n<g id=\"node5\" class=\"node\">\n<title>18</title>\n<text text-anchor=\"middle\" x=\"186.5\" y=\"-449.3\" font-family=\"Times,serif\" font-size=\"14.00\" fill=\"#000000\">18 (.)</text>\n</g>\n<!-- 2&#45;&gt;18 -->\n<g id=\"edge4\" class=\"edge\">\n<title>2&#45;&gt;18</title>\n<path fill=\"none\" stroke=\"#000000\" d=\"M157.9592,-521.9735C162.931,-509.9585 169.5593,-493.9401 175.1767,-480.3646\"/>\n<polygon fill=\"#000000\" stroke=\"#000000\" points=\"178.4608,-481.5818 179.0503,-471.0034 171.9927,-478.9053 178.4608,-481.5818\"/>\n<text text-anchor=\"middle\" x=\"188\" y=\"-492.8\" font-family=\"Times,serif\" font-size=\"14.00\" fill=\"#000000\">punct</text>\n</g>\n<!-- 4 -->\n<g id=\"node6\" class=\"node\">\n<title>4</title>\n<text text-anchor=\"middle\" x=\"276.5\" y=\"-449.3\" font-family=\"Times,serif\" font-size=\"14.00\" fill=\"#000000\">4 (inquiring)</text>\n</g>\n<!-- 2&#45;&gt;4 -->\n<g id=\"edge5\" class=\"edge\">\n<title>2&#45;&gt;4</title>\n<path fill=\"none\" stroke=\"#000000\" d=\"M180.6271,-521.9963C189.6932,-516.3929 199.5959,-510.0851 208.5,-504 220.755,-495.6249 233.8776,-485.9578 245.2941,-477.3069\"/>\n<polygon fill=\"#000000\" stroke=\"#000000\" points=\"247.4431,-480.0697 253.2687,-471.2202 243.196,-474.5052 247.4431,-480.0697\"/>\n<text text-anchor=\"middle\" x=\"249.5\" y=\"-492.8\" font-family=\"Times,serif\" font-size=\"14.00\" fill=\"#000000\">xcomp</text>\n</g>\n<!-- 6 -->\n<g id=\"node7\" class=\"node\">\n<title>6</title>\n<text text-anchor=\"middle\" x=\"276.5\" y=\"-362.3\" font-family=\"Times,serif\" font-size=\"14.00\" fill=\"#000000\">6 (Gen.)</text>\n</g>\n<!-- 4&#45;&gt;6 -->\n<g id=\"edge6\" class=\"edge\">\n<title>4&#45;&gt;6</title>\n<path fill=\"none\" stroke=\"#000000\" d=\"M276.5,-434.9735C276.5,-423.1918 276.5,-407.5607 276.5,-394.1581\"/>\n<polygon fill=\"#000000\" stroke=\"#000000\" points=\"280.0001,-394.0033 276.5,-384.0034 273.0001,-394.0034 280.0001,-394.0033\"/>\n<text text-anchor=\"middle\" x=\"286\" y=\"-405.8\" font-family=\"Times,serif\" font-size=\"14.00\" fill=\"#000000\">obl</text>\n</g>\n<!-- 5 -->\n<g id=\"node8\" class=\"node\">\n<title>5</title>\n<text text-anchor=\"middle\" x=\"79.5\" y=\"-275.3\" font-family=\"Times,serif\" font-size=\"14.00\" fill=\"#000000\">5 (about)</text>\n</g>\n<!-- 6&#45;&gt;5 -->\n<g id=\"edge7\" class=\"edge\">\n<title>6&#45;&gt;5</title>\n<path fill=\"none\" stroke=\"#000000\" d=\"M243.7176,-352.5863C227.6274,-345.924 207.9892,-337.6756 190.5,-330 168.3707,-320.2879 143.9487,-309.117 123.6597,-299.7103\"/>\n<polygon fill=\"#000000\" stroke=\"#000000\" points=\"124.9003,-296.4273 114.3567,-295.3866 121.95,-302.7752 124.9003,-296.4273\"/>\n<text text-anchor=\"middle\" x=\"202.5\" y=\"-318.8\" font-family=\"Times,serif\" font-size=\"14.00\" fill=\"#000000\">case</text>\n</g>\n<!-- 7 -->\n<g id=\"node9\" class=\"node\">\n<title>7</title>\n<text text-anchor=\"middle\" x=\"171.5\" y=\"-275.3\" font-family=\"Times,serif\" font-size=\"14.00\" fill=\"#000000\">7 (Pervaiz)</text>\n</g>\n<!-- 6&#45;&gt;7 -->\n<g id=\"edge8\" class=\"edge\">\n<title>6&#45;&gt;7</title>\n<path fill=\"none\" stroke=\"#000000\" d=\"M254.7439,-347.9735C239.2575,-335.1419 218.2604,-317.7443 201.229,-303.6326\"/>\n<polygon fill=\"#000000\" stroke=\"#000000\" points=\"203.1615,-300.6885 193.2282,-297.0034 198.6954,-306.0787 203.1615,-300.6885\"/>\n<text text-anchor=\"middle\" x=\"240\" y=\"-318.8\" font-family=\"Times,serif\" font-size=\"14.00\" fill=\"#000000\">flat</text>\n</g>\n<!-- 8 -->\n<g id=\"node10\" class=\"node\">\n<title>8</title>\n<text text-anchor=\"middle\" x=\"276.5\" y=\"-275.3\" font-family=\"Times,serif\" font-size=\"14.00\" fill=\"#000000\">8 (Musharraf)</text>\n</g>\n<!-- 6&#45;&gt;8 -->\n<g id=\"edge9\" class=\"edge\">\n<title>6&#45;&gt;8</title>\n<path fill=\"none\" stroke=\"#000000\" d=\"M276.5,-347.9735C276.5,-336.1918 276.5,-320.5607 276.5,-307.1581\"/>\n<polygon fill=\"#000000\" stroke=\"#000000\" points=\"280.0001,-307.0033 276.5,-297.0034 273.0001,-307.0034 280.0001,-307.0033\"/>\n<text text-anchor=\"middle\" x=\"286\" y=\"-318.8\" font-family=\"Times,serif\" font-size=\"14.00\" fill=\"#000000\">flat</text>\n</g>\n<!-- 9 -->\n<g id=\"node11\" class=\"node\">\n<title>9</title>\n<text text-anchor=\"middle\" x=\"369.5\" y=\"-275.3\" font-family=\"Times,serif\" font-size=\"14.00\" fill=\"#000000\">9 (,)</text>\n</g>\n<!-- 6&#45;&gt;9 -->\n<g id=\"edge10\" class=\"edge\">\n<title>6&#45;&gt;9</title>\n<path fill=\"none\" stroke=\"#000000\" d=\"M295.7697,-347.9735C309.3615,-335.2586 327.7459,-318.0603 342.7563,-304.0183\"/>\n<polygon fill=\"#000000\" stroke=\"#000000\" points=\"345.3433,-306.3909 350.255,-297.0034 340.5612,-301.279 345.3433,-306.3909\"/>\n<text text-anchor=\"middle\" x=\"346\" y=\"-318.8\" font-family=\"Times,serif\" font-size=\"14.00\" fill=\"#000000\">punct</text>\n</g>\n<!-- 11 -->\n<g id=\"node12\" class=\"node\">\n<title>11</title>\n<text text-anchor=\"middle\" x=\"453.5\" y=\"-275.3\" font-family=\"Times,serif\" font-size=\"14.00\" fill=\"#000000\">11 (seized)</text>\n</g>\n<!-- 6&#45;&gt;11 -->\n<g id=\"edge11\" class=\"edge\">\n<title>6&#45;&gt;11</title>\n<path fill=\"none\" stroke=\"#000000\" d=\"M309.0823,-354.3171C326.4073,-347.7694 347.91,-339.1032 366.5,-330 383.3247,-321.7612 401.2837,-311.4999 416.4896,-302.3462\"/>\n<polygon fill=\"#000000\" stroke=\"#000000\" points=\"418.3728,-305.2973 425.0951,-297.1082 414.7332,-299.3179 418.3728,-305.2973\"/>\n<text text-anchor=\"middle\" x=\"415.5\" y=\"-318.8\" font-family=\"Times,serif\" font-size=\"14.00\" fill=\"#000000\">acl:relcl</text>\n</g>\n<!-- 10 -->\n<g id=\"node13\" class=\"node\">\n<title>10</title>\n<text text-anchor=\"middle\" x=\"357.5\" y=\"-188.3\" font-family=\"Times,serif\" font-size=\"14.00\" fill=\"#000000\">10 (who)</text>\n</g>\n<!-- 11&#45;&gt;10 -->\n<g id=\"edge12\" class=\"edge\">\n<title>11&#45;&gt;10</title>\n<path fill=\"none\" stroke=\"#000000\" d=\"M433.6087,-260.9735C419.5784,-248.2586 400.601,-231.0603 385.1064,-217.0183\"/>\n<polygon fill=\"#000000\" stroke=\"#000000\" points=\"387.126,-214.1251 377.3658,-210.0034 382.4253,-219.3121 387.126,-214.1251\"/>\n<text text-anchor=\"middle\" x=\"427.5\" y=\"-231.8\" font-family=\"Times,serif\" font-size=\"14.00\" fill=\"#000000\">nsubj</text>\n</g>\n<!-- 12 -->\n<g id=\"node14\" class=\"node\">\n<title>12</title>\n<text text-anchor=\"middle\" x=\"453.5\" y=\"-188.3\" font-family=\"Times,serif\" font-size=\"14.00\" fill=\"#000000\">12 (control)</text>\n</g>\n<!-- 11&#45;&gt;12 -->\n<g id=\"edge13\" class=\"edge\">\n<title>11&#45;&gt;12</title>\n<path fill=\"none\" stroke=\"#000000\" d=\"M453.5,-260.9735C453.5,-249.1918 453.5,-233.5607 453.5,-220.1581\"/>\n<polygon fill=\"#000000\" stroke=\"#000000\" points=\"457.0001,-220.0033 453.5,-210.0034 450.0001,-220.0034 457.0001,-220.0033\"/>\n<text text-anchor=\"middle\" x=\"463\" y=\"-231.8\" font-family=\"Times,serif\" font-size=\"14.00\" fill=\"#000000\">obj</text>\n</g>\n<!-- 16 -->\n<g id=\"node15\" class=\"node\">\n<title>16</title>\n<text text-anchor=\"middle\" x=\"559.5\" y=\"-188.3\" font-family=\"Times,serif\" font-size=\"14.00\" fill=\"#000000\">16 (October)</text>\n</g>\n<!-- 11&#45;&gt;16 -->\n<g id=\"edge14\" class=\"edge\">\n<title>11&#45;&gt;16</title>\n<path fill=\"none\" stroke=\"#000000\" d=\"M475.4633,-260.9735C491.0972,-248.1419 512.2942,-230.7443 529.4879,-216.6326\"/>\n<polygon fill=\"#000000\" stroke=\"#000000\" points=\"532.0555,-219.0531 537.5649,-210.0034 527.6145,-213.6422 532.0555,-219.0531\"/>\n<text text-anchor=\"middle\" x=\"540\" y=\"-231.8\" font-family=\"Times,serif\" font-size=\"14.00\" fill=\"#000000\">obl:tmod</text>\n</g>\n<!-- 15 -->\n<g id=\"node16\" class=\"node\">\n<title>15</title>\n<text text-anchor=\"middle\" x=\"453.5\" y=\"-101.3\" font-family=\"Times,serif\" font-size=\"14.00\" fill=\"#000000\">15 (country)</text>\n</g>\n<!-- 12&#45;&gt;15 -->\n<g id=\"edge15\" class=\"edge\">\n<title>12&#45;&gt;15</title>\n<path fill=\"none\" stroke=\"#000000\" d=\"M453.5,-173.9735C453.5,-162.1918 453.5,-146.5607 453.5,-133.1581\"/>\n<polygon fill=\"#000000\" stroke=\"#000000\" points=\"457.0001,-133.0033 453.5,-123.0034 450.0001,-133.0034 457.0001,-133.0033\"/>\n<text text-anchor=\"middle\" x=\"470.5\" y=\"-144.8\" font-family=\"Times,serif\" font-size=\"14.00\" fill=\"#000000\">nmod</text>\n</g>\n<!-- 17 -->\n<g id=\"node19\" class=\"node\">\n<title>17</title>\n<text text-anchor=\"middle\" x=\"559.5\" y=\"-101.3\" font-family=\"Times,serif\" font-size=\"14.00\" fill=\"#000000\">17 (12)</text>\n</g>\n<!-- 16&#45;&gt;17 -->\n<g id=\"edge18\" class=\"edge\">\n<title>16&#45;&gt;17</title>\n<path fill=\"none\" stroke=\"#000000\" d=\"M559.5,-173.9735C559.5,-162.1918 559.5,-146.5607 559.5,-133.1581\"/>\n<polygon fill=\"#000000\" stroke=\"#000000\" points=\"563.0001,-133.0033 559.5,-123.0034 556.0001,-133.0034 563.0001,-133.0033\"/>\n<text text-anchor=\"middle\" x=\"586\" y=\"-144.8\" font-family=\"Times,serif\" font-size=\"14.00\" fill=\"#000000\">nummod</text>\n</g>\n<!-- 13 -->\n<g id=\"node17\" class=\"node\">\n<title>13</title>\n<text text-anchor=\"middle\" x=\"415.5\" y=\"-14.3\" font-family=\"Times,serif\" font-size=\"14.00\" fill=\"#000000\">13 (of)</text>\n</g>\n<!-- 15&#45;&gt;13 -->\n<g id=\"edge16\" class=\"edge\">\n<title>15&#45;&gt;13</title>\n<path fill=\"none\" stroke=\"#000000\" d=\"M445.6264,-86.9735C440.3784,-74.9585 433.3819,-58.9401 427.4523,-45.3646\"/>\n<polygon fill=\"#000000\" stroke=\"#000000\" points=\"430.5737,-43.7664 423.3635,-36.0034 424.1589,-46.5683 430.5737,-43.7664\"/>\n<text text-anchor=\"middle\" x=\"449.5\" y=\"-57.8\" font-family=\"Times,serif\" font-size=\"14.00\" fill=\"#000000\">case</text>\n</g>\n<!-- 14 -->\n<g id=\"node18\" class=\"node\">\n<title>14</title>\n<text text-anchor=\"middle\" x=\"492.5\" y=\"-14.3\" font-family=\"Times,serif\" font-size=\"14.00\" fill=\"#000000\">14 (the)</text>\n</g>\n<!-- 15&#45;&gt;14 -->\n<g id=\"edge17\" class=\"edge\">\n<title>15&#45;&gt;14</title>\n<path fill=\"none\" stroke=\"#000000\" d=\"M461.5808,-86.9735C466.9669,-74.9585 474.1475,-58.9401 480.2331,-45.3646\"/>\n<polygon fill=\"#000000\" stroke=\"#000000\" points=\"483.5327,-46.5602 484.4295,-36.0034 477.1451,-43.6967 483.5327,-46.5602\"/>\n<text text-anchor=\"middle\" x=\"484.5\" y=\"-57.8\" font-family=\"Times,serif\" font-size=\"14.00\" fill=\"#000000\">det</text>\n</g>\n</g>\n</svg>\n"
          },
          "metadata": {
            "tags": []
          },
          "execution_count": 240
        }
      ]
    },
    {
      "cell_type": "code",
      "metadata": {
        "id": "Vh7HmMhUGghr",
        "colab_type": "code",
        "colab": {}
      },
      "source": [
        "structures[sent_id]"
      ],
      "execution_count": 0,
      "outputs": []
    },
    {
      "cell_type": "code",
      "metadata": {
        "id": "ZHYlxM90BrQm",
        "colab_type": "code",
        "colab": {
          "base_uri": "https://localhost:8080/",
          "height": 34
        },
        "outputId": "31d7a8ab-210e-43f0-87d2-5ca1cf053903"
      },
      "source": [
        "list(structures[sent_id].triples())[0][1]"
      ],
      "execution_count": 228,
      "outputs": [
        {
          "output_type": "execute_result",
          "data": {
            "text/plain": [
              "'nsubj'"
            ]
          },
          "metadata": {
            "tags": []
          },
          "execution_count": 228
        }
      ]
    },
    {
      "cell_type": "code",
      "metadata": {
        "id": "_bO5JToPBJo4",
        "colab_type": "code",
        "colab": {
          "base_uri": "https://localhost:8080/",
          "height": 1000
        },
        "outputId": "ae1af34a-fa6e-43cd-d2c4-b5d9a8781d6f"
      },
      "source": [
        "structures[sent_id].nodes"
      ],
      "execution_count": 225,
      "outputs": [
        {
          "output_type": "execute_result",
          "data": {
            "text/plain": [
              "defaultdict(<function nltk.parse.dependencygraph.DependencyGraph.__init__.<locals>.<lambda>>,\n",
              "            {0: {'address': 0,\n",
              "              'ctag': 'TOP',\n",
              "              'deps': defaultdict(list, {'root': [4]}),\n",
              "              'feats': None,\n",
              "              'head': None,\n",
              "              'lemma': None,\n",
              "              'rel': None,\n",
              "              'tag': 'TOP',\n",
              "              'word': None},\n",
              "             1: {'address': 1,\n",
              "              'ctag': 'PRON',\n",
              "              'deps': defaultdict(list, {}),\n",
              "              'feats': 'Case=Nom|Gender=Masc|Number=Sing|Person=3|PronType=Prs',\n",
              "              'head': 4,\n",
              "              'lemma': 'he',\n",
              "              'rel': 'nsubj',\n",
              "              'tag': 'PRP',\n",
              "              'word': 'He'},\n",
              "             2: {'address': 2,\n",
              "              'ctag': 'AUX',\n",
              "              'deps': defaultdict(list, {}),\n",
              "              'feats': 'VerbForm=Fin',\n",
              "              'head': 4,\n",
              "              'lemma': 'could',\n",
              "              'rel': 'aux',\n",
              "              'tag': 'MD',\n",
              "              'word': 'could'},\n",
              "             3: {'address': 3,\n",
              "              'ctag': 'PART',\n",
              "              'deps': defaultdict(list, {}),\n",
              "              'feats': '_',\n",
              "              'head': 4,\n",
              "              'lemma': 'not',\n",
              "              'rel': 'advmod',\n",
              "              'tag': 'RB',\n",
              "              'word': 'not'},\n",
              "             4: {'address': 4,\n",
              "              'ctag': 'VERB',\n",
              "              'deps': defaultdict(list,\n",
              "                          {'advmod': [3],\n",
              "                           'aux': [2],\n",
              "                           'nsubj': [1],\n",
              "                           'obj': [6],\n",
              "                           'punct': [7]}),\n",
              "              'feats': 'VerbForm=Inf',\n",
              "              'head': 0,\n",
              "              'lemma': 'name',\n",
              "              'rel': 'root',\n",
              "              'tag': 'VB',\n",
              "              'word': 'name'},\n",
              "             5: {'address': 5,\n",
              "              'ctag': 'DET',\n",
              "              'deps': defaultdict(list, {}),\n",
              "              'feats': 'Definite=Def|PronType=Art',\n",
              "              'head': 6,\n",
              "              'lemma': 'the',\n",
              "              'rel': 'det',\n",
              "              'tag': 'DT',\n",
              "              'word': 'the'},\n",
              "             6: {'address': 6,\n",
              "              'ctag': 'NOUN',\n",
              "              'deps': defaultdict(list, {'det': [5]}),\n",
              "              'feats': 'Number=Plur',\n",
              "              'head': 4,\n",
              "              'lemma': 'other',\n",
              "              'rel': 'obj',\n",
              "              'tag': 'NNS',\n",
              "              'word': 'others'},\n",
              "             7: {'address': 7,\n",
              "              'ctag': 'PUNCT',\n",
              "              'deps': defaultdict(list, {}),\n",
              "              'feats': '_',\n",
              "              'head': 4,\n",
              "              'lemma': '.',\n",
              "              'rel': 'punct',\n",
              "              'tag': '.',\n",
              "              'word': '.'}})"
            ]
          },
          "metadata": {
            "tags": []
          },
          "execution_count": 225
        }
      ]
    },
    {
      "cell_type": "code",
      "metadata": {
        "id": "MGUMrTlPEuzn",
        "colab_type": "code",
        "colab": {
          "base_uri": "https://localhost:8080/",
          "height": 323
        },
        "outputId": "9c4b8c21-ff82-493c-d228-42d1767f2503"
      },
      "source": [
        "list(zip(get_info(structures[sent_id], param=\"word\"),\n",
        "    get_info(structures[sent_id], param=\"lemma\"),\n",
        "    get_info(structures[sent_id], param=\"rel\")))"
      ],
      "execution_count": 241,
      "outputs": [
        {
          "output_type": "execute_result",
          "data": {
            "text/plain": [
              "[('Hiller', 'Hiller', 'nsubj'),\n",
              " ('asked', 'ask', 'root'),\n",
              " (',', ',', 'punct'),\n",
              " ('inquiring', 'inquire', 'xcomp'),\n",
              " ('about', 'about', 'case'),\n",
              " ('Gen.', 'Gen.', 'obl'),\n",
              " ('Pervaiz', 'Pervaiz', 'flat'),\n",
              " ('Musharraf', 'Musharraf', 'flat'),\n",
              " (',', ',', 'punct'),\n",
              " ('who', 'who', 'nsubj'),\n",
              " ('seized', 'seize', 'acl:relcl'),\n",
              " ('control', 'control', 'obj'),\n",
              " ('of', 'of', 'case'),\n",
              " ('the', 'the', 'det'),\n",
              " ('country', 'country', 'nmod'),\n",
              " ('October', 'October', 'obl:tmod'),\n",
              " ('12', '12', 'nummod'),\n",
              " ('.', '.', 'punct')]"
            ]
          },
          "metadata": {
            "tags": []
          },
          "execution_count": 241
        }
      ]
    },
    {
      "cell_type": "code",
      "metadata": {
        "id": "PYMrkuPVGqqR",
        "colab_type": "code",
        "colab": {
          "base_uri": "https://localhost:8080/",
          "height": 34
        },
        "outputId": "120f1206-be78-4a63-ed1c-32c0aa0aeb77"
      },
      "source": [
        "'xcomp' in set(get_info(structures[sent_id], param=\"rel\"))"
      ],
      "execution_count": 244,
      "outputs": [
        {
          "output_type": "execute_result",
          "data": {
            "text/plain": [
              "True"
            ]
          },
          "metadata": {
            "tags": []
          },
          "execution_count": 244
        }
      ]
    },
    {
      "cell_type": "markdown",
      "metadata": {
        "id": "Ys5gydcH7MTq",
        "colab_type": "text"
      },
      "source": [
        "### Exercises (Search queries)"
      ]
    },
    {
      "cell_type": "markdown",
      "metadata": {
        "id": "i-Yl1_dM_nei",
        "colab_type": "text"
      },
      "source": [
        "### Q1. Find examples which have a ccomp relation and have less than 12 words.\n",
        "Definition of ccomp: https://universaldependencies.org/u/dep/ccomp.html\n",
        "\n",
        "\n",
        "\n"
      ]
    },
    {
      "cell_type": "code",
      "metadata": {
        "id": "esOV2jFKB7rn",
        "colab_type": "code",
        "colab": {}
      },
      "source": [
        "ccomp_ids = []\n",
        "for key in structures:\n",
        "  rel_tokens = get_info(structures[key], param=\"rel\")\n",
        "  if ('ccomp' in set(rel_tokens)) & (len(rel_tokens)<=12):\n",
        "    ccomp_ids.append(key)"
      ],
      "execution_count": 0,
      "outputs": []
    },
    {
      "cell_type": "code",
      "metadata": {
        "id": "uCVzxJNGHIvn",
        "colab_type": "code",
        "colab": {
          "base_uri": "https://localhost:8080/",
          "height": 34
        },
        "outputId": "3d102514-0b01-40e3-dcf3-586a60c6e76e"
      },
      "source": [
        "print(\"# of sentences with a ccomp relation and having less than 12 words: {}\".format(len(ccomp_ids)))"
      ],
      "execution_count": 264,
      "outputs": [
        {
          "output_type": "stream",
          "text": [
            "# of sentences with a ccomp relation and having less than 12 words: 256\n"
          ],
          "name": "stdout"
        }
      ]
    },
    {
      "cell_type": "markdown",
      "metadata": {
        "id": "i53zAxvRICl8",
        "colab_type": "text"
      },
      "source": [
        "#### Check a random sample"
      ]
    },
    {
      "cell_type": "code",
      "metadata": {
        "id": "bvOu63j6HOmS",
        "colab_type": "code",
        "colab": {
          "base_uri": "https://localhost:8080/",
          "height": 34
        },
        "outputId": "eb0ece2c-19f8-4d3d-fd92-1f0c6736039a"
      },
      "source": [
        "import random\n",
        "sample = random.sample(ccomp_ids, 1)[0]\n",
        "print(sample)\n",
        "#train.conllu sent_10103"
      ],
      "execution_count": 267,
      "outputs": [
        {
          "output_type": "stream",
          "text": [
            "train.conllu sent_10103\n"
          ],
          "name": "stdout"
        }
      ]
    },
    {
      "cell_type": "code",
      "metadata": {
        "id": "YA9bsUFjHkPf",
        "colab_type": "code",
        "colab": {
          "base_uri": "https://localhost:8080/",
          "height": 561
        },
        "outputId": "95c3930b-7bfd-4158-bd7b-ced51ad6ffae"
      },
      "source": [
        "print(\" \".join(get_info(structures[sample], param=\"word\")))\n",
        "structures[sample]"
      ],
      "execution_count": 268,
      "outputs": [
        {
          "output_type": "stream",
          "text": [
            "Very glad that we went with them .\n"
          ],
          "name": "stdout"
        },
        {
          "output_type": "execute_result",
          "data": {
            "text/plain": [
              "<DependencyGraph with 9 nodes>"
            ],
            "image/svg+xml": "<?xml version=\"1.0\" encoding=\"UTF-8\" standalone=\"no\"?>\n<!DOCTYPE svg PUBLIC \"-//W3C//DTD SVG 1.1//EN\"\n \"http://www.w3.org/Graphics/SVG/1.1/DTD/svg11.dtd\">\n<!-- Generated by graphviz version 2.40.1 (20161225.0304)\n -->\n<!-- Title: G Pages: 1 -->\n<svg width=\"234pt\" height=\"392pt\"\n viewBox=\"0.00 0.00 233.50 392.00\" xmlns=\"http://www.w3.org/2000/svg\" xmlns:xlink=\"http://www.w3.org/1999/xlink\">\n<g id=\"graph0\" class=\"graph\" transform=\"scale(1 1) rotate(0) translate(4 388)\">\n<title>G</title>\n<polygon fill=\"#ffffff\" stroke=\"transparent\" points=\"-4,4 -4,-388 229.5,-388 229.5,4 -4,4\"/>\n<!-- 0 -->\n<g id=\"node1\" class=\"node\">\n<title>0</title>\n<text text-anchor=\"middle\" x=\"115\" y=\"-362.3\" font-family=\"Times,serif\" font-size=\"14.00\" fill=\"#000000\">0 (None)</text>\n</g>\n<!-- 2 -->\n<g id=\"node2\" class=\"node\">\n<title>2</title>\n<text text-anchor=\"middle\" x=\"115\" y=\"-275.3\" font-family=\"Times,serif\" font-size=\"14.00\" fill=\"#000000\">2 (glad)</text>\n</g>\n<!-- 0&#45;&gt;2 -->\n<g id=\"edge1\" class=\"edge\">\n<title>0&#45;&gt;2</title>\n<path fill=\"none\" stroke=\"#000000\" d=\"M115,-347.9735C115,-336.1918 115,-320.5607 115,-307.1581\"/>\n<polygon fill=\"#000000\" stroke=\"#000000\" points=\"118.5001,-307.0033 115,-297.0034 111.5001,-307.0034 118.5001,-307.0033\"/>\n<text text-anchor=\"middle\" x=\"127\" y=\"-318.8\" font-family=\"Times,serif\" font-size=\"14.00\" fill=\"#000000\">root</text>\n</g>\n<!-- 1 -->\n<g id=\"node3\" class=\"node\">\n<title>1</title>\n<text text-anchor=\"middle\" x=\"32\" y=\"-188.3\" font-family=\"Times,serif\" font-size=\"14.00\" fill=\"#000000\">1 (Very)</text>\n</g>\n<!-- 2&#45;&gt;1 -->\n<g id=\"edge2\" class=\"edge\">\n<title>2&#45;&gt;1</title>\n<path fill=\"none\" stroke=\"#000000\" d=\"M84.4168,-260.9859C76.9135,-255.7487 69.2501,-249.6327 63,-243 56.3914,-235.9869 50.4932,-227.3386 45.6614,-219.1687\"/>\n<polygon fill=\"#000000\" stroke=\"#000000\" points=\"48.6149,-217.2792 40.6782,-210.2607 42.5058,-220.6967 48.6149,-217.2792\"/>\n<text text-anchor=\"middle\" x=\"87\" y=\"-231.8\" font-family=\"Times,serif\" font-size=\"14.00\" fill=\"#000000\">advmod</text>\n</g>\n<!-- 5 -->\n<g id=\"node4\" class=\"node\">\n<title>5</title>\n<text text-anchor=\"middle\" x=\"115\" y=\"-188.3\" font-family=\"Times,serif\" font-size=\"14.00\" fill=\"#000000\">5 (went)</text>\n</g>\n<!-- 2&#45;&gt;5 -->\n<g id=\"edge3\" class=\"edge\">\n<title>2&#45;&gt;5</title>\n<path fill=\"none\" stroke=\"#000000\" d=\"M115,-260.9735C115,-249.1918 115,-233.5607 115,-220.1581\"/>\n<polygon fill=\"#000000\" stroke=\"#000000\" points=\"118.5001,-220.0033 115,-210.0034 111.5001,-220.0034 118.5001,-220.0033\"/>\n<text text-anchor=\"middle\" x=\"134.5\" y=\"-231.8\" font-family=\"Times,serif\" font-size=\"14.00\" fill=\"#000000\">ccomp</text>\n</g>\n<!-- 8 -->\n<g id=\"node5\" class=\"node\">\n<title>8</title>\n<text text-anchor=\"middle\" x=\"193\" y=\"-188.3\" font-family=\"Times,serif\" font-size=\"14.00\" fill=\"#000000\">8 (.)</text>\n</g>\n<!-- 2&#45;&gt;8 -->\n<g id=\"edge4\" class=\"edge\">\n<title>2&#45;&gt;8</title>\n<path fill=\"none\" stroke=\"#000000\" d=\"M139.2526,-260.6564C145.6685,-255.2928 152.3689,-249.1967 158,-243 164.6826,-235.6462 171.107,-226.9455 176.5867,-218.8323\"/>\n<polygon fill=\"#000000\" stroke=\"#000000\" points=\"179.5888,-220.6364 182.1296,-210.3508 173.7291,-216.807 179.5888,-220.6364\"/>\n<text text-anchor=\"middle\" x=\"186.5\" y=\"-231.8\" font-family=\"Times,serif\" font-size=\"14.00\" fill=\"#000000\">punct</text>\n</g>\n<!-- 3 -->\n<g id=\"node6\" class=\"node\">\n<title>3</title>\n<text text-anchor=\"middle\" x=\"41\" y=\"-101.3\" font-family=\"Times,serif\" font-size=\"14.00\" fill=\"#000000\">3 (that)</text>\n</g>\n<!-- 5&#45;&gt;3 -->\n<g id=\"edge5\" class=\"edge\">\n<title>5&#45;&gt;3</title>\n<path fill=\"none\" stroke=\"#000000\" d=\"M97.3717,-173.985C92.0039,-168.3279 86.1612,-161.9929 81,-156 74.2421,-148.153 67.1735,-139.3568 60.8911,-131.308\"/>\n<polygon fill=\"#000000\" stroke=\"#000000\" points=\"63.5582,-129.0354 54.6746,-123.262 58.0189,-133.3152 63.5582,-129.0354\"/>\n<text text-anchor=\"middle\" x=\"96\" y=\"-144.8\" font-family=\"Times,serif\" font-size=\"14.00\" fill=\"#000000\">mark</text>\n</g>\n<!-- 4 -->\n<g id=\"node7\" class=\"node\">\n<title>4</title>\n<text text-anchor=\"middle\" x=\"115\" y=\"-101.3\" font-family=\"Times,serif\" font-size=\"14.00\" fill=\"#000000\">4 (we)</text>\n</g>\n<!-- 5&#45;&gt;4 -->\n<g id=\"edge6\" class=\"edge\">\n<title>5&#45;&gt;4</title>\n<path fill=\"none\" stroke=\"#000000\" d=\"M115,-173.9735C115,-162.1918 115,-146.5607 115,-133.1581\"/>\n<polygon fill=\"#000000\" stroke=\"#000000\" points=\"118.5001,-133.0033 115,-123.0034 111.5001,-133.0034 118.5001,-133.0033\"/>\n<text text-anchor=\"middle\" x=\"131\" y=\"-144.8\" font-family=\"Times,serif\" font-size=\"14.00\" fill=\"#000000\">nsubj</text>\n</g>\n<!-- 7 -->\n<g id=\"node8\" class=\"node\">\n<title>7</title>\n<text text-anchor=\"middle\" x=\"193\" y=\"-101.3\" font-family=\"Times,serif\" font-size=\"14.00\" fill=\"#000000\">7 (them)</text>\n</g>\n<!-- 5&#45;&gt;7 -->\n<g id=\"edge7\" class=\"edge\">\n<title>5&#45;&gt;7</title>\n<path fill=\"none\" stroke=\"#000000\" d=\"M134.0351,-173.6492C139.6158,-168.0876 145.6528,-161.8897 151,-156 158.1704,-148.1022 165.6739,-139.212 172.3223,-131.0927\"/>\n<polygon fill=\"#000000\" stroke=\"#000000\" points=\"175.0641,-133.2684 178.6415,-123.2958 169.6259,-128.8609 175.0641,-133.2684\"/>\n<text text-anchor=\"middle\" x=\"172.5\" y=\"-144.8\" font-family=\"Times,serif\" font-size=\"14.00\" fill=\"#000000\">obl</text>\n</g>\n<!-- 6 -->\n<g id=\"node9\" class=\"node\">\n<title>6</title>\n<text text-anchor=\"middle\" x=\"193\" y=\"-14.3\" font-family=\"Times,serif\" font-size=\"14.00\" fill=\"#000000\">6 (with)</text>\n</g>\n<!-- 7&#45;&gt;6 -->\n<g id=\"edge8\" class=\"edge\">\n<title>7&#45;&gt;6</title>\n<path fill=\"none\" stroke=\"#000000\" d=\"M193,-86.9735C193,-75.1918 193,-59.5607 193,-46.1581\"/>\n<polygon fill=\"#000000\" stroke=\"#000000\" points=\"196.5001,-46.0033 193,-36.0034 189.5001,-46.0034 196.5001,-46.0033\"/>\n<text text-anchor=\"middle\" x=\"205\" y=\"-57.8\" font-family=\"Times,serif\" font-size=\"14.00\" fill=\"#000000\">case</text>\n</g>\n</g>\n</svg>\n"
          },
          "metadata": {
            "tags": []
          },
          "execution_count": 268
        }
      ]
    },
    {
      "cell_type": "markdown",
      "metadata": {
        "id": "r2PBCXIgHGRn",
        "colab_type": "text"
      },
      "source": [
        "### Q2. Find some examples (len <=12 words) where a subject has a verb modifier."
      ]
    },
    {
      "cell_type": "code",
      "metadata": {
        "id": "Gtjscf87NtBB",
        "colab_type": "code",
        "colab": {}
      },
      "source": [
        "def get_rel_index(struct, rel='nsubj'):\n",
        "  '''\n",
        "  Input: A Dependency Graph object\n",
        "  \n",
        "  Output: a list of indexes of words which are have a particular rel.\n",
        "  '''\n",
        "  idxs = []\n",
        "  for key in struct.nodes:\n",
        "    if struct.nodes[key]['rel']==rel:\n",
        "      idxs.append(key)\n",
        "      \n",
        "  return idxs\n",
        "      \n",
        "\n",
        "def check_index_dep(struct_dict, idx, pos=None):\n",
        "  '''\n",
        "  Check if struct_dict[idx] has a deps == dep with a pos==pos\n",
        "  '''\n",
        "  if struct_dict[idx]['deps']:\n",
        "    deps_idxs = struct_dict[idx]['deps'].values()\n",
        "    for dep_idx in deps_idxs:\n",
        "      if struct_dict[dep_idx[0]]['ctag'] == pos:\n",
        "        return True\n",
        "      else:\n",
        "        continue\n",
        "    return False\n",
        "  \n",
        "  else:\n",
        "    return False\n",
        "    "
      ],
      "execution_count": 0,
      "outputs": []
    },
    {
      "cell_type": "code",
      "metadata": {
        "id": "ZqlpzVoBRsBk",
        "colab_type": "code",
        "colab": {}
      },
      "source": [
        ""
      ],
      "execution_count": 0,
      "outputs": []
    },
    {
      "cell_type": "code",
      "metadata": {
        "id": "TEqfwgsuPw_2",
        "colab_type": "code",
        "colab": {
          "base_uri": "https://localhost:8080/",
          "height": 34
        },
        "outputId": "d6f7d431-6064-4670-e264-b910a55f609e"
      },
      "source": [
        "q2_ids = []\n",
        "for key in structures:\n",
        "  struct = structures[key]\n",
        "  if len(struct.nodes)<13:\n",
        "    nsubj_idxs = get_rel_index(struct, rel='nsubj')\n",
        "    for idx in nsubj_idxs:\n",
        "      if check_index_dep(struct.nodes, idx, pos='VERB'):\n",
        "        q2_ids.append(key)\n",
        "      \n",
        "print(\"Number of cases found: {}\".format(len(q2_ids)))"
      ],
      "execution_count": 315,
      "outputs": [
        {
          "output_type": "stream",
          "text": [
            "Number of cases found: 51\n"
          ],
          "name": "stdout"
        }
      ]
    },
    {
      "cell_type": "markdown",
      "metadata": {
        "id": "elrjm5xZSVng",
        "colab_type": "text"
      },
      "source": [
        "#### Check a random sample"
      ]
    },
    {
      "cell_type": "code",
      "metadata": {
        "id": "IqNrN6s3TeuQ",
        "colab_type": "code",
        "colab": {
          "base_uri": "https://localhost:8080/",
          "height": 34
        },
        "outputId": "d23ecedb-5070-4731-e0f4-bdeab75855b1"
      },
      "source": [
        "import random\n",
        "sample = random.sample(q2_ids, 1)[0]\n",
        "print(sample)\n",
        "#train.conllu sent_10103"
      ],
      "execution_count": 318,
      "outputs": [
        {
          "output_type": "stream",
          "text": [
            "train.conllu sent_11044\n"
          ],
          "name": "stdout"
        }
      ]
    },
    {
      "cell_type": "code",
      "metadata": {
        "id": "KFt3OnnfOyD5",
        "colab_type": "code",
        "colab": {
          "base_uri": "https://localhost:8080/",
          "height": 677
        },
        "outputId": "0ce5aad9-7173-43e0-95ba-afc88cf06e95"
      },
      "source": [
        "print(\" \".join(get_info(structures[sample], param=\"word\")))\n",
        "structures[sample]"
      ],
      "execution_count": 319,
      "outputs": [
        {
          "output_type": "stream",
          "text": [
            "Excellent chefs are in the kitchen preparing memorable breakfasts .\n"
          ],
          "name": "stdout"
        },
        {
          "output_type": "execute_result",
          "data": {
            "text/plain": [
              "<DependencyGraph with 11 nodes>"
            ],
            "image/svg+xml": "<?xml version=\"1.0\" encoding=\"UTF-8\" standalone=\"no\"?>\n<!DOCTYPE svg PUBLIC \"-//W3C//DTD SVG 1.1//EN\"\n \"http://www.w3.org/Graphics/SVG/1.1/DTD/svg11.dtd\">\n<!-- Generated by graphviz version 2.40.1 (20161225.0304)\n -->\n<!-- Title: G Pages: 1 -->\n<svg width=\"402pt\" height=\"479pt\"\n viewBox=\"0.00 0.00 402.00 479.00\" xmlns=\"http://www.w3.org/2000/svg\" xmlns:xlink=\"http://www.w3.org/1999/xlink\">\n<g id=\"graph0\" class=\"graph\" transform=\"scale(1 1) rotate(0) translate(4 475)\">\n<title>G</title>\n<polygon fill=\"#ffffff\" stroke=\"transparent\" points=\"-4,4 -4,-475 398,-475 398,4 -4,4\"/>\n<!-- 0 -->\n<g id=\"node1\" class=\"node\">\n<title>0</title>\n<text text-anchor=\"middle\" x=\"223\" y=\"-449.3\" font-family=\"Times,serif\" font-size=\"14.00\" fill=\"#000000\">0 (None)</text>\n</g>\n<!-- 6 -->\n<g id=\"node2\" class=\"node\">\n<title>6</title>\n<text text-anchor=\"middle\" x=\"223\" y=\"-362.3\" font-family=\"Times,serif\" font-size=\"14.00\" fill=\"#000000\">6 (kitchen)</text>\n</g>\n<!-- 0&#45;&gt;6 -->\n<g id=\"edge1\" class=\"edge\">\n<title>0&#45;&gt;6</title>\n<path fill=\"none\" stroke=\"#000000\" d=\"M223,-434.9735C223,-423.1918 223,-407.5607 223,-394.1581\"/>\n<polygon fill=\"#000000\" stroke=\"#000000\" points=\"226.5001,-394.0033 223,-384.0034 219.5001,-394.0034 226.5001,-394.0033\"/>\n<text text-anchor=\"middle\" x=\"235\" y=\"-405.8\" font-family=\"Times,serif\" font-size=\"14.00\" fill=\"#000000\">root</text>\n</g>\n<!-- 2 -->\n<g id=\"node4\" class=\"node\">\n<title>2</title>\n<text text-anchor=\"middle\" x=\"73\" y=\"-275.3\" font-family=\"Times,serif\" font-size=\"14.00\" fill=\"#000000\">2 (chefs)</text>\n</g>\n<!-- 6&#45;&gt;2 -->\n<g id=\"edge4\" class=\"edge\">\n<title>6&#45;&gt;2</title>\n<path fill=\"none\" stroke=\"#000000\" d=\"M183.3275,-348.6816C171.441,-343.1017 158.5105,-336.6349 147,-330 132.9414,-321.8963 118.0926,-311.9599 105.4157,-303.0172\"/>\n<polygon fill=\"#000000\" stroke=\"#000000\" points=\"107.194,-299.9862 97.0229,-297.0197 103.1241,-305.6814 107.194,-299.9862\"/>\n<text text-anchor=\"middle\" x=\"163\" y=\"-318.8\" font-family=\"Times,serif\" font-size=\"14.00\" fill=\"#000000\">nsubj</text>\n</g>\n<!-- 3 -->\n<g id=\"node6\" class=\"node\">\n<title>3</title>\n<text text-anchor=\"middle\" x=\"151\" y=\"-275.3\" font-family=\"Times,serif\" font-size=\"14.00\" fill=\"#000000\">3 (are)</text>\n</g>\n<!-- 6&#45;&gt;3 -->\n<g id=\"edge5\" class=\"edge\">\n<title>6&#45;&gt;3</title>\n<path fill=\"none\" stroke=\"#000000\" d=\"M208.0816,-347.9735C197.7519,-335.4919 183.8468,-318.6899 172.3471,-304.7944\"/>\n<polygon fill=\"#000000\" stroke=\"#000000\" points=\"174.9714,-302.4758 165.8993,-297.0034 169.5787,-306.9388 174.9714,-302.4758\"/>\n<text text-anchor=\"middle\" x=\"203\" y=\"-318.8\" font-family=\"Times,serif\" font-size=\"14.00\" fill=\"#000000\">cop</text>\n</g>\n<!-- 4 -->\n<g id=\"node7\" class=\"node\">\n<title>4</title>\n<text text-anchor=\"middle\" x=\"223\" y=\"-275.3\" font-family=\"Times,serif\" font-size=\"14.00\" fill=\"#000000\">4 (in)</text>\n</g>\n<!-- 6&#45;&gt;4 -->\n<g id=\"edge6\" class=\"edge\">\n<title>6&#45;&gt;4</title>\n<path fill=\"none\" stroke=\"#000000\" d=\"M223,-347.9735C223,-336.1918 223,-320.5607 223,-307.1581\"/>\n<polygon fill=\"#000000\" stroke=\"#000000\" points=\"226.5001,-307.0033 223,-297.0034 219.5001,-307.0034 226.5001,-307.0033\"/>\n<text text-anchor=\"middle\" x=\"235\" y=\"-318.8\" font-family=\"Times,serif\" font-size=\"14.00\" fill=\"#000000\">case</text>\n</g>\n<!-- 5 -->\n<g id=\"node8\" class=\"node\">\n<title>5</title>\n<text text-anchor=\"middle\" x=\"295\" y=\"-275.3\" font-family=\"Times,serif\" font-size=\"14.00\" fill=\"#000000\">5 (the)</text>\n</g>\n<!-- 6&#45;&gt;5 -->\n<g id=\"edge7\" class=\"edge\">\n<title>6&#45;&gt;5</title>\n<path fill=\"none\" stroke=\"#000000\" d=\"M237.9184,-347.9735C248.2481,-335.4919 262.1532,-318.6899 273.6529,-304.7944\"/>\n<polygon fill=\"#000000\" stroke=\"#000000\" points=\"276.4213,-306.9388 280.1007,-297.0034 271.0286,-302.4758 276.4213,-306.9388\"/>\n<text text-anchor=\"middle\" x=\"273\" y=\"-318.8\" font-family=\"Times,serif\" font-size=\"14.00\" fill=\"#000000\">det</text>\n</g>\n<!-- 10 -->\n<g id=\"node9\" class=\"node\">\n<title>10</title>\n<text text-anchor=\"middle\" x=\"367\" y=\"-275.3\" font-family=\"Times,serif\" font-size=\"14.00\" fill=\"#000000\">10 (.)</text>\n</g>\n<!-- 6&#45;&gt;10 -->\n<g id=\"edge8\" class=\"edge\">\n<title>6&#45;&gt;10</title>\n<path fill=\"none\" stroke=\"#000000\" d=\"M255.2039,-347.9492C265.1315,-342.2906 276.0628,-335.9639 286,-330 300.8442,-321.0912 317.021,-310.9872 330.9875,-302.1361\"/>\n<polygon fill=\"#000000\" stroke=\"#000000\" points=\"333.2498,-304.8453 339.8101,-296.5258 329.4936,-298.9384 333.2498,-304.8453\"/>\n<text text-anchor=\"middle\" x=\"324.5\" y=\"-318.8\" font-family=\"Times,serif\" font-size=\"14.00\" fill=\"#000000\">punct</text>\n</g>\n<!-- 1 -->\n<g id=\"node3\" class=\"node\">\n<title>1</title>\n<text text-anchor=\"middle\" x=\"45\" y=\"-188.3\" font-family=\"Times,serif\" font-size=\"14.00\" fill=\"#000000\">1 (Excellent)</text>\n</g>\n<!-- 2&#45;&gt;1 -->\n<g id=\"edge2\" class=\"edge\">\n<title>2&#45;&gt;1</title>\n<path fill=\"none\" stroke=\"#000000\" d=\"M67.1984,-260.9735C63.369,-249.0751 58.2761,-233.2508 53.9345,-219.7606\"/>\n<polygon fill=\"#000000\" stroke=\"#000000\" points=\"57.1896,-218.4502 50.7942,-210.0034 50.5262,-220.5948 57.1896,-218.4502\"/>\n<text text-anchor=\"middle\" x=\"77.5\" y=\"-231.8\" font-family=\"Times,serif\" font-size=\"14.00\" fill=\"#000000\">amod</text>\n</g>\n<!-- 7 -->\n<g id=\"node5\" class=\"node\">\n<title>7</title>\n<text text-anchor=\"middle\" x=\"154\" y=\"-188.3\" font-family=\"Times,serif\" font-size=\"14.00\" fill=\"#000000\">7 (preparing)</text>\n</g>\n<!-- 2&#45;&gt;7 -->\n<g id=\"edge3\" class=\"edge\">\n<title>2&#45;&gt;7</title>\n<path fill=\"none\" stroke=\"#000000\" d=\"M89.7833,-260.9735C101.5127,-248.3752 117.3401,-231.3755 130.3466,-217.4055\"/>\n<polygon fill=\"#000000\" stroke=\"#000000\" points=\"132.9857,-219.7073 137.2382,-210.0034 127.8624,-214.9374 132.9857,-219.7073\"/>\n<text text-anchor=\"middle\" x=\"127\" y=\"-231.8\" font-family=\"Times,serif\" font-size=\"14.00\" fill=\"#000000\">acl</text>\n</g>\n<!-- 9 -->\n<g id=\"node10\" class=\"node\">\n<title>9</title>\n<text text-anchor=\"middle\" x=\"154\" y=\"-101.3\" font-family=\"Times,serif\" font-size=\"14.00\" fill=\"#000000\">9 (breakfasts)</text>\n</g>\n<!-- 7&#45;&gt;9 -->\n<g id=\"edge9\" class=\"edge\">\n<title>7&#45;&gt;9</title>\n<path fill=\"none\" stroke=\"#000000\" d=\"M154,-173.9735C154,-162.1918 154,-146.5607 154,-133.1581\"/>\n<polygon fill=\"#000000\" stroke=\"#000000\" points=\"157.5001,-133.0033 154,-123.0034 150.5001,-133.0034 157.5001,-133.0033\"/>\n<text text-anchor=\"middle\" x=\"163.5\" y=\"-144.8\" font-family=\"Times,serif\" font-size=\"14.00\" fill=\"#000000\">obj</text>\n</g>\n<!-- 8 -->\n<g id=\"node11\" class=\"node\">\n<title>8</title>\n<text text-anchor=\"middle\" x=\"154\" y=\"-14.3\" font-family=\"Times,serif\" font-size=\"14.00\" fill=\"#000000\">8 (memorable)</text>\n</g>\n<!-- 9&#45;&gt;8 -->\n<g id=\"edge10\" class=\"edge\">\n<title>9&#45;&gt;8</title>\n<path fill=\"none\" stroke=\"#000000\" d=\"M154,-86.9735C154,-75.1918 154,-59.5607 154,-46.1581\"/>\n<polygon fill=\"#000000\" stroke=\"#000000\" points=\"157.5001,-46.0033 154,-36.0034 150.5001,-46.0034 157.5001,-46.0033\"/>\n<text text-anchor=\"middle\" x=\"170.5\" y=\"-57.8\" font-family=\"Times,serif\" font-size=\"14.00\" fill=\"#000000\">amod</text>\n</g>\n</g>\n</svg>\n"
          },
          "metadata": {
            "tags": []
          },
          "execution_count": 319
        }
      ]
    },
    {
      "cell_type": "code",
      "metadata": {
        "id": "2Bn4nvdEOlYp",
        "colab_type": "code",
        "colab": {
          "base_uri": "https://localhost:8080/",
          "height": 1000
        },
        "outputId": "4f858cf8-01c0-43f4-e9a4-f8ce3d1b72b0"
      },
      "source": [
        "structures[sample].nodes"
      ],
      "execution_count": 320,
      "outputs": [
        {
          "output_type": "execute_result",
          "data": {
            "text/plain": [
              "defaultdict(<function nltk.parse.dependencygraph.DependencyGraph.__init__.<locals>.<lambda>>,\n",
              "            {0: {'address': 0,\n",
              "              'ctag': 'TOP',\n",
              "              'deps': defaultdict(list, {'root': [6]}),\n",
              "              'feats': None,\n",
              "              'head': None,\n",
              "              'lemma': None,\n",
              "              'rel': None,\n",
              "              'tag': 'TOP',\n",
              "              'word': None},\n",
              "             1: {'address': 1,\n",
              "              'ctag': 'ADJ',\n",
              "              'deps': defaultdict(list, {}),\n",
              "              'feats': 'Degree=Pos',\n",
              "              'head': 2,\n",
              "              'lemma': 'excellent',\n",
              "              'rel': 'amod',\n",
              "              'tag': 'JJ',\n",
              "              'word': 'Excellent'},\n",
              "             2: {'address': 2,\n",
              "              'ctag': 'NOUN',\n",
              "              'deps': defaultdict(list, {'acl': [7], 'amod': [1]}),\n",
              "              'feats': 'Number=Plur',\n",
              "              'head': 6,\n",
              "              'lemma': 'chef',\n",
              "              'rel': 'nsubj',\n",
              "              'tag': 'NNS',\n",
              "              'word': 'chefs'},\n",
              "             3: {'address': 3,\n",
              "              'ctag': 'AUX',\n",
              "              'deps': defaultdict(list, {}),\n",
              "              'feats': 'Mood=Ind|Tense=Pres|VerbForm=Fin',\n",
              "              'head': 6,\n",
              "              'lemma': 'be',\n",
              "              'rel': 'cop',\n",
              "              'tag': 'VBP',\n",
              "              'word': 'are'},\n",
              "             4: {'address': 4,\n",
              "              'ctag': 'ADP',\n",
              "              'deps': defaultdict(list, {}),\n",
              "              'feats': '_',\n",
              "              'head': 6,\n",
              "              'lemma': 'in',\n",
              "              'rel': 'case',\n",
              "              'tag': 'IN',\n",
              "              'word': 'in'},\n",
              "             5: {'address': 5,\n",
              "              'ctag': 'DET',\n",
              "              'deps': defaultdict(list, {}),\n",
              "              'feats': 'Definite=Def|PronType=Art',\n",
              "              'head': 6,\n",
              "              'lemma': 'the',\n",
              "              'rel': 'det',\n",
              "              'tag': 'DT',\n",
              "              'word': 'the'},\n",
              "             6: {'address': 6,\n",
              "              'ctag': 'NOUN',\n",
              "              'deps': defaultdict(list,\n",
              "                          {'case': [4],\n",
              "                           'cop': [3],\n",
              "                           'det': [5],\n",
              "                           'nsubj': [2],\n",
              "                           'punct': [10]}),\n",
              "              'feats': 'Number=Sing',\n",
              "              'head': 0,\n",
              "              'lemma': 'kitchen',\n",
              "              'rel': 'root',\n",
              "              'tag': 'NN',\n",
              "              'word': 'kitchen'},\n",
              "             7: {'address': 7,\n",
              "              'ctag': 'VERB',\n",
              "              'deps': defaultdict(list, {'obj': [9]}),\n",
              "              'feats': 'VerbForm=Ger',\n",
              "              'head': 2,\n",
              "              'lemma': 'prepare',\n",
              "              'rel': 'acl',\n",
              "              'tag': 'VBG',\n",
              "              'word': 'preparing'},\n",
              "             8: {'address': 8,\n",
              "              'ctag': 'ADJ',\n",
              "              'deps': defaultdict(list, {}),\n",
              "              'feats': 'Degree=Pos',\n",
              "              'head': 9,\n",
              "              'lemma': 'memorable',\n",
              "              'rel': 'amod',\n",
              "              'tag': 'JJ',\n",
              "              'word': 'memorable'},\n",
              "             9: {'address': 9,\n",
              "              'ctag': 'NOUN',\n",
              "              'deps': defaultdict(list, {'amod': [8]}),\n",
              "              'feats': 'Number=Plur',\n",
              "              'head': 7,\n",
              "              'lemma': 'breakfast',\n",
              "              'rel': 'obj',\n",
              "              'tag': 'NNS',\n",
              "              'word': 'breakfasts'},\n",
              "             10: {'address': 10,\n",
              "              'ctag': 'PUNCT',\n",
              "              'deps': defaultdict(list, {}),\n",
              "              'feats': '_',\n",
              "              'head': 6,\n",
              "              'lemma': '.',\n",
              "              'rel': 'punct',\n",
              "              'tag': '.',\n",
              "              'word': '.'}})"
            ]
          },
          "metadata": {
            "tags": []
          },
          "execution_count": 320
        }
      ]
    }
  ]
}