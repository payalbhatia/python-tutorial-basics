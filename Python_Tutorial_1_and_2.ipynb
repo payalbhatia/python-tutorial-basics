{
  "nbformat": 4,
  "nbformat_minor": 0,
  "metadata": {
    "colab": {
      "name": "Python_Tutorial_1_and_2.ipynb",
      "version": "0.3.2",
      "provenance": [],
      "collapsed_sections": []
    },
    "kernelspec": {
      "name": "python3",
      "display_name": "Python 3"
    }
  },
  "cells": [
    {
      "cell_type": "markdown",
      "metadata": {
        "id": "ynGxSNh5sCKK",
        "colab_type": "text"
      },
      "source": [
        "## Text Processing in Python \n",
        "#### A Series of 5 Tutorials\n",
        "\n",
        "Organized by Facts Lab (http://factslab.io/)\n",
        "\n",
        "Instructor - Siddharth (Sid) Vashishtha (svashis3@cs.rochester.edu)\n",
        "\n",
        "\n",
        "## To-do before class:\n",
        "\n",
        " - You can access Today's notebook here - https://bit.ly/2kDLgv9\n",
        "\n",
        "Please fill your details here if you haven't already:\n",
        "\n",
        " - RSVP page: https://bit.ly/2kDL6Uz\n",
        "\n",
        " - Today's Attendance: https://forms.gle/JM2FHsVhw8zrYmh8A\n",
        "\n",
        "\n",
        "### Tuorial 1 (Date: 9 Sep, 2019)\n",
        "Topics\n",
        "- Basic datatypes and operations in Python\n",
        "- If-else statements\n",
        "- loops \n",
        "\n",
        "\n",
        "### Tutorial 2 (Date: 11 Sep, 2019)\n",
        "Topics\n",
        "\n",
        "- List comprehensions\n",
        "- Defining Functions\n",
        "- Regular expressions (regex) \n",
        "\n",
        "Optional reading for next tutorial:\n",
        "Tokenization: https://web.stanford.edu/~jurafsky/slp3/2.pdf\n",
        "\n",
        "### Tutorial 3 (Date: 13 Sep, 2019)\n",
        "Topics\n",
        "- Review tokenization issues\n",
        "- Tokenization, Sentence separation (corenlp, spacy)\n",
        "- Lemmatization (corenlp, spacy)\n",
        "- Reading corpuses\n",
        "- Plotting unigram counts \n",
        "- Zipfian distribution   \n",
        "\n",
        "### Tutorial 4 (Date 16 Sep, 2019)\n",
        "Topics\n",
        "- Google ngram viewer\n",
        "- Constituency Parsers\n",
        "- Dependency Parsers\n",
        "- Tree searching\n",
        "\n",
        "### Tutorial 5 (Semantic Resources)\n",
        "\n"
      ]
    },
    {
      "cell_type": "markdown",
      "metadata": {
        "id": "_AAW9rTWvW0O",
        "colab_type": "text"
      },
      "source": [
        "# Tutorial 1"
      ]
    },
    {
      "cell_type": "markdown",
      "metadata": {
        "id": "PheHB-118VF1",
        "colab_type": "text"
      },
      "source": [
        "We will cover these tutorials in Google Colab : https://colab.research.google.com\n",
        "\n",
        "Google Colab allows a simple way to access Python Jupyter Notebooks with a lot of packages already installed.\n",
        "\n",
        "To run Google Colab, all you need is a google account. It's a free service. "
      ]
    },
    {
      "cell_type": "markdown",
      "metadata": {
        "id": "T9btKw2lwoOu",
        "colab_type": "text"
      },
      "source": [
        "## 1. Basic datatypes and operations"
      ]
    },
    {
      "cell_type": "markdown",
      "metadata": {
        "id": "z_4nCYoJztmu",
        "colab_type": "text"
      },
      "source": [
        "### Numbers"
      ]
    },
    {
      "cell_type": "markdown",
      "metadata": {
        "id": "tyMqt_T8fnxG",
        "colab_type": "text"
      },
      "source": [
        "Python supports three types of numbers - int, float, and complex"
      ]
    },
    {
      "cell_type": "code",
      "metadata": {
        "id": "Tx0clQgOw7x8",
        "colab_type": "code",
        "colab": {}
      },
      "source": [
        "2"
      ],
      "execution_count": 0,
      "outputs": []
    },
    {
      "cell_type": "code",
      "metadata": {
        "id": "wE7p4SPwyasb",
        "colab_type": "code",
        "outputId": "10cb907e-1981-4f25-9784-0e381fb8c1a6",
        "colab": {
          "base_uri": "https://localhost:8080/",
          "height": 34
        }
      },
      "source": [
        "type(2)  #type function returns the datatype of the input argument"
      ],
      "execution_count": 0,
      "outputs": [
        {
          "output_type": "execute_result",
          "data": {
            "text/plain": [
              "int"
            ]
          },
          "metadata": {
            "tags": []
          },
          "execution_count": 1
        }
      ]
    },
    {
      "cell_type": "code",
      "metadata": {
        "id": "xlaLGbpNzzFN",
        "colab_type": "code",
        "outputId": "4f33ceb7-5009-4265-f3f2-6bafe5d90064",
        "colab": {
          "base_uri": "https://localhost:8080/",
          "height": 34
        }
      },
      "source": [
        "type(2.0)"
      ],
      "execution_count": 0,
      "outputs": [
        {
          "output_type": "execute_result",
          "data": {
            "text/plain": [
              "float"
            ]
          },
          "metadata": {
            "tags": []
          },
          "execution_count": 2
        }
      ]
    },
    {
      "cell_type": "code",
      "metadata": {
        "id": "g2Qmo-SKyhvE",
        "colab_type": "code",
        "outputId": "068061f4-b1e8-4380-9b22-825f7b45808d",
        "colab": {
          "base_uri": "https://localhost:8080/",
          "height": 34
        }
      },
      "source": [
        "2*4"
      ],
      "execution_count": 0,
      "outputs": [
        {
          "output_type": "execute_result",
          "data": {
            "text/plain": [
              "8"
            ]
          },
          "metadata": {
            "tags": []
          },
          "execution_count": 3
        }
      ]
    },
    {
      "cell_type": "code",
      "metadata": {
        "id": "HW_oBNHWzRr9",
        "colab_type": "code",
        "outputId": "678787f0-233d-458f-f7f8-acbfc6d9ee25",
        "colab": {
          "base_uri": "https://localhost:8080/",
          "height": 34
        }
      },
      "source": [
        "2 + 5 - 6 * 4     # follows BODMAS/PEDMAS"
      ],
      "execution_count": 0,
      "outputs": [
        {
          "output_type": "execute_result",
          "data": {
            "text/plain": [
              "-17"
            ]
          },
          "metadata": {
            "tags": []
          },
          "execution_count": 4
        }
      ]
    },
    {
      "cell_type": "code",
      "metadata": {
        "id": "stexOunSzTq7",
        "colab_type": "code",
        "outputId": "8ddbf0e7-a2a8-4c0c-e6ad-6d0d9d81ff30",
        "colab": {
          "base_uri": "https://localhost:8080/",
          "height": 34
        }
      },
      "source": [
        "2**4   #exponents"
      ],
      "execution_count": 0,
      "outputs": [
        {
          "output_type": "execute_result",
          "data": {
            "text/plain": [
              "16"
            ]
          },
          "metadata": {
            "tags": []
          },
          "execution_count": 5
        }
      ]
    },
    {
      "cell_type": "code",
      "metadata": {
        "id": "0rHvH8F_z2lg",
        "colab_type": "code",
        "outputId": "528c2ffb-be9b-45aa-89b6-f484b8b23c27",
        "colab": {
          "base_uri": "https://localhost:8080/",
          "height": 34
        }
      },
      "source": [
        "9%5  #remainder "
      ],
      "execution_count": 0,
      "outputs": [
        {
          "output_type": "execute_result",
          "data": {
            "text/plain": [
              "4"
            ]
          },
          "metadata": {
            "tags": []
          },
          "execution_count": 6
        }
      ]
    },
    {
      "cell_type": "code",
      "metadata": {
        "id": "8V-PPZcZf1aG",
        "colab_type": "code",
        "outputId": "b766c8bb-103f-4ed1-890c-14c2f1b6c1d8",
        "colab": {
          "base_uri": "https://localhost:8080/",
          "height": 34
        }
      },
      "source": [
        "3//2"
      ],
      "execution_count": 0,
      "outputs": [
        {
          "output_type": "execute_result",
          "data": {
            "text/plain": [
              "1"
            ]
          },
          "metadata": {
            "tags": []
          },
          "execution_count": 10
        }
      ]
    },
    {
      "cell_type": "code",
      "metadata": {
        "id": "l25iHgZ-0vsv",
        "colab_type": "code",
        "outputId": "c92206f0-5e63-4ea1-ef15-88e5d21b741c",
        "colab": {
          "base_uri": "https://localhost:8080/",
          "height": 34
        }
      },
      "source": [
        "abs(-42)  #absolute function"
      ],
      "execution_count": 0,
      "outputs": [
        {
          "output_type": "execute_result",
          "data": {
            "text/plain": [
              "42"
            ]
          },
          "metadata": {
            "tags": []
          },
          "execution_count": 11
        }
      ]
    },
    {
      "cell_type": "markdown",
      "metadata": {
        "id": "iwRwRE8u03Ae",
        "colab_type": "text"
      },
      "source": [
        "### Strings"
      ]
    },
    {
      "cell_type": "markdown",
      "metadata": {
        "id": "WBRAcTa-FVB7",
        "colab_type": "text"
      },
      "source": [
        ""
      ]
    },
    {
      "cell_type": "code",
      "metadata": {
        "id": "Ic49Ft2u1ARL",
        "colab_type": "code",
        "outputId": "fe17ee8f-5baa-49ea-fa85-65ef72129262",
        "colab": {
          "base_uri": "https://localhost:8080/",
          "height": 34
        }
      },
      "source": [
        "type('abc')"
      ],
      "execution_count": 0,
      "outputs": [
        {
          "output_type": "execute_result",
          "data": {
            "text/plain": [
              "str"
            ]
          },
          "metadata": {
            "tags": []
          },
          "execution_count": 13
        }
      ]
    },
    {
      "cell_type": "markdown",
      "metadata": {
        "colab_type": "text",
        "id": "insv2s6O1teK"
      },
      "source": [
        "#### Printing stuff"
      ]
    },
    {
      "cell_type": "code",
      "metadata": {
        "colab_type": "code",
        "id": "yQjdhFY91teX",
        "outputId": "43dc1efe-0b6f-44df-bea8-c618d54e7246",
        "colab": {
          "base_uri": "https://localhost:8080/",
          "height": 51
        }
      },
      "source": [
        "print(\"Hello, world\")\n",
        "print('Hello, world')"
      ],
      "execution_count": 0,
      "outputs": [
        {
          "output_type": "stream",
          "text": [
            "Hello, world\n",
            "Hello, world\n"
          ],
          "name": "stdout"
        }
      ]
    },
    {
      "cell_type": "markdown",
      "metadata": {
        "colab_type": "text",
        "id": "1T2SZfz21teb"
      },
      "source": [
        "How do we handle quotations inside text?"
      ]
    },
    {
      "cell_type": "code",
      "metadata": {
        "colab_type": "code",
        "id": "n5IKyN7z1teb",
        "outputId": "53b8b0c9-d994-4a01-f384-37f8eea045a0",
        "colab": {
          "base_uri": "https://localhost:8080/",
          "height": 34
        }
      },
      "source": [
        "print(\"This is Sid's tutorial\")"
      ],
      "execution_count": 0,
      "outputs": [
        {
          "output_type": "stream",
          "text": [
            "This is Sid's tutorial\n"
          ],
          "name": "stdout"
        }
      ]
    },
    {
      "cell_type": "code",
      "metadata": {
        "colab_type": "code",
        "id": "WNmNF6lu1tef",
        "outputId": "c495ca08-ed24-451f-a571-8902add2fabe",
        "colab": {
          "base_uri": "https://localhost:8080/",
          "height": 34
        }
      },
      "source": [
        "print('Sid said, \"Text processing is cool.\" ')"
      ],
      "execution_count": 0,
      "outputs": [
        {
          "output_type": "stream",
          "text": [
            "Sid said, \"Text processing is cool.\" \n"
          ],
          "name": "stdout"
        }
      ]
    },
    {
      "cell_type": "code",
      "metadata": {
        "colab_type": "code",
        "id": "SZRL9LyG1teg",
        "colab": {}
      },
      "source": [
        "print('''  Sid said, \"It doesn't matter which major you have, anyone can master text processing.\"  ''' )"
      ],
      "execution_count": 0,
      "outputs": []
    },
    {
      "cell_type": "markdown",
      "metadata": {
        "id": "CKVDicj8ERvM",
        "colab_type": "text"
      },
      "source": [
        "Concatenating strings"
      ]
    },
    {
      "cell_type": "code",
      "metadata": {
        "id": "xM1ZR8AJEHVR",
        "colab_type": "code",
        "outputId": "d41e4ceb-bf4a-469f-b267-91fa070506bf",
        "colab": {
          "base_uri": "https://localhost:8080/",
          "height": 34
        }
      },
      "source": [
        "print('abc' + 'def')   ## concatenation"
      ],
      "execution_count": 0,
      "outputs": [
        {
          "output_type": "stream",
          "text": [
            "abcdef\n"
          ],
          "name": "stdout"
        }
      ]
    },
    {
      "cell_type": "code",
      "metadata": {
        "id": "deLOHiX4EMVb",
        "colab_type": "code",
        "outputId": "1362dd30-b967-455a-8117-4d7ddee71207",
        "colab": {
          "base_uri": "https://localhost:8080/",
          "height": 34
        }
      },
      "source": [
        "print(\"abc\"*7)"
      ],
      "execution_count": 0,
      "outputs": [
        {
          "output_type": "stream",
          "text": [
            "abcabcabcabcabcabcabc\n"
          ],
          "name": "stdout"
        }
      ]
    },
    {
      "cell_type": "code",
      "metadata": {
        "id": "ajaUC0dyEfSA",
        "colab_type": "code",
        "outputId": "4572d187-e5a1-4b81-a717-66202963a6eb",
        "colab": {
          "base_uri": "https://localhost:8080/",
          "height": 35
        }
      },
      "source": [
        "height = 179\n",
        "name = 'Ram'\n",
        "\n",
        "print(\"The instructor's {cab} \" + \"name is {} and he is {} cms tall.\".format(name, height) + \"{red}\")"
      ],
      "execution_count": 0,
      "outputs": [
        {
          "output_type": "stream",
          "text": [
            "The instructor's {cab} name is Ram and he is 179 cms tall.{red}\n"
          ],
          "name": "stdout"
        }
      ]
    },
    {
      "cell_type": "markdown",
      "metadata": {
        "id": "AxLLXdgWBSE4",
        "colab_type": "text"
      },
      "source": [
        "#### Booleans"
      ]
    },
    {
      "cell_type": "markdown",
      "metadata": {
        "id": "KLWo8ZUhjjNF",
        "colab_type": "text"
      },
      "source": [
        "You can evaluate any expression in Python, and get one of two answers, `True` or `False`."
      ]
    },
    {
      "cell_type": "code",
      "metadata": {
        "id": "PnWE-bLtibPm",
        "colab_type": "code",
        "outputId": "3bc1e66c-05b8-4376-b5a9-24423e2b0f71",
        "colab": {
          "base_uri": "https://localhost:8080/",
          "height": 34
        }
      },
      "source": [
        "2 < 3"
      ],
      "execution_count": 0,
      "outputs": [
        {
          "output_type": "execute_result",
          "data": {
            "text/plain": [
              "True"
            ]
          },
          "metadata": {
            "tags": []
          },
          "execution_count": 31
        }
      ]
    },
    {
      "cell_type": "code",
      "metadata": {
        "id": "OCGGkxCfIIMW",
        "colab_type": "code",
        "outputId": "ce975f0b-45ed-405a-e7f1-64ef53519132",
        "colab": {
          "base_uri": "https://localhost:8080/",
          "height": 34
        }
      },
      "source": [
        "\"True\" == True"
      ],
      "execution_count": 0,
      "outputs": [
        {
          "output_type": "execute_result",
          "data": {
            "text/plain": [
              "False"
            ]
          },
          "metadata": {
            "tags": []
          },
          "execution_count": 34
        }
      ]
    },
    {
      "cell_type": "code",
      "metadata": {
        "id": "xuvIc-eeic57",
        "colab_type": "code",
        "outputId": "58c0ba93-b0ea-4656-a171-cb437cad3817",
        "colab": {
          "base_uri": "https://localhost:8080/",
          "height": 34
        }
      },
      "source": [
        "34 > 42"
      ],
      "execution_count": 0,
      "outputs": [
        {
          "output_type": "execute_result",
          "data": {
            "text/plain": [
              "False"
            ]
          },
          "metadata": {
            "tags": []
          },
          "execution_count": 35
        }
      ]
    },
    {
      "cell_type": "code",
      "metadata": {
        "id": "XGDMYESwihyG",
        "colab_type": "code",
        "outputId": "2f855625-9901-4fc6-ca8d-094c0ef30c8b",
        "colab": {
          "base_uri": "https://localhost:8080/",
          "height": 34
        }
      },
      "source": [
        "59 <= 59"
      ],
      "execution_count": 0,
      "outputs": [
        {
          "output_type": "execute_result",
          "data": {
            "text/plain": [
              "True"
            ]
          },
          "metadata": {
            "tags": []
          },
          "execution_count": 36
        }
      ]
    },
    {
      "cell_type": "code",
      "metadata": {
        "id": "MIGTm5GVikfZ",
        "colab_type": "code",
        "outputId": "941caf30-c954-4348-8ed7-0b5ab09f68fc",
        "colab": {
          "base_uri": "https://localhost:8080/",
          "height": 34
        }
      },
      "source": [
        "99 != 100  #not equals"
      ],
      "execution_count": 0,
      "outputs": [
        {
          "output_type": "execute_result",
          "data": {
            "text/plain": [
              "True"
            ]
          },
          "metadata": {
            "tags": []
          },
          "execution_count": 37
        }
      ]
    },
    {
      "cell_type": "code",
      "metadata": {
        "id": "nfxmesXziodK",
        "colab_type": "code",
        "outputId": "ae9b6a68-15a7-48bd-d6a4-193e5c3f2808",
        "colab": {
          "base_uri": "https://localhost:8080/",
          "height": 34
        }
      },
      "source": [
        "2 == 2"
      ],
      "execution_count": 0,
      "outputs": [
        {
          "output_type": "execute_result",
          "data": {
            "text/plain": [
              "True"
            ]
          },
          "metadata": {
            "tags": []
          },
          "execution_count": 38
        }
      ]
    },
    {
      "cell_type": "code",
      "metadata": {
        "id": "-KpglkWyBU-1",
        "colab_type": "code",
        "outputId": "4205ae5a-295f-4a21-81f8-f7403a8bbc50",
        "colab": {
          "base_uri": "https://localhost:8080/",
          "height": 34
        }
      },
      "source": [
        "type(True)"
      ],
      "execution_count": 0,
      "outputs": [
        {
          "output_type": "execute_result",
          "data": {
            "text/plain": [
              "bool"
            ]
          },
          "metadata": {
            "tags": []
          },
          "execution_count": 45
        }
      ]
    },
    {
      "cell_type": "code",
      "metadata": {
        "id": "UNa2k3XuBWf1",
        "colab_type": "code",
        "outputId": "6c05d616-0166-41ee-a950-c77dbd7174e2",
        "colab": {
          "base_uri": "https://localhost:8080/",
          "height": 34
        }
      },
      "source": [
        "print(False)"
      ],
      "execution_count": 0,
      "outputs": [
        {
          "output_type": "stream",
          "text": [
            "False\n"
          ],
          "name": "stdout"
        }
      ]
    },
    {
      "cell_type": "code",
      "metadata": {
        "id": "FAjlb95NBZzW",
        "colab_type": "code",
        "outputId": "e6a39f00-2236-47ed-e0fe-1c39a60b31c6",
        "colab": {
          "base_uri": "https://localhost:8080/",
          "height": 34
        }
      },
      "source": [
        "\"string1\" == \"string1\""
      ],
      "execution_count": 0,
      "outputs": [
        {
          "output_type": "execute_result",
          "data": {
            "text/plain": [
              "True"
            ]
          },
          "metadata": {
            "tags": []
          },
          "execution_count": 41
        }
      ]
    },
    {
      "cell_type": "code",
      "metadata": {
        "id": "LBvBVnXmBjXE",
        "colab_type": "code",
        "outputId": "85af542f-d6a6-475b-c322-67dc717a6463",
        "colab": {
          "base_uri": "https://localhost:8080/",
          "height": 34
        }
      },
      "source": [
        "\"string1\" == \"string1s\""
      ],
      "execution_count": 0,
      "outputs": [
        {
          "output_type": "execute_result",
          "data": {
            "text/plain": [
              "False"
            ]
          },
          "metadata": {
            "tags": []
          },
          "execution_count": 42
        }
      ]
    },
    {
      "cell_type": "markdown",
      "metadata": {
        "id": "Kv0n_WkbK1ZC",
        "colab_type": "text"
      },
      "source": [
        "### Collection data types\n",
        "\n",
        "- Lists\n",
        "- Tuples\n",
        "- Sets\n",
        "- Dictionaries"
      ]
    },
    {
      "cell_type": "markdown",
      "metadata": {
        "id": "RgthsefBLAaT",
        "colab_type": "text"
      },
      "source": [
        "Each collection data type can take multiple types of objects. "
      ]
    },
    {
      "cell_type": "markdown",
      "metadata": {
        "id": "YnNmNaUGLNC3",
        "colab_type": "text"
      },
      "source": [
        "A generic note for Python: Indexing starts at 0 for any data type that is indexable"
      ]
    },
    {
      "cell_type": "markdown",
      "metadata": {
        "id": "MBqox59Q4bdg",
        "colab_type": "text"
      },
      "source": [
        "### Lists\n",
        "A collection which is:\n",
        " - ordered and changeable\n",
        " - written with square brackets\n"
      ]
    },
    {
      "cell_type": "code",
      "metadata": {
        "id": "pRf5KRU-5EU5",
        "colab_type": "code",
        "colab": {}
      },
      "source": [
        "alst = [1,2,3]\n",
        "blst = ['abc', 'xyz', 'string']\n",
        "clst = ['foo', 456, 'bar', ['pqr', 2**4]]"
      ],
      "execution_count": 0,
      "outputs": []
    },
    {
      "cell_type": "code",
      "metadata": {
        "id": "15IrXhXaJVTu",
        "colab_type": "code",
        "outputId": "66a520dc-b6f7-4654-82c3-39f7aa9c706e",
        "colab": {
          "base_uri": "https://localhost:8080/",
          "height": 34
        }
      },
      "source": [
        "blst[2]"
      ],
      "execution_count": 0,
      "outputs": [
        {
          "output_type": "execute_result",
          "data": {
            "text/plain": [
              "'string'"
            ]
          },
          "metadata": {
            "tags": []
          },
          "execution_count": 49
        }
      ]
    },
    {
      "cell_type": "code",
      "metadata": {
        "id": "EduBSp-6655Y",
        "colab_type": "code",
        "outputId": "14f37c53-cf57-4451-c9c6-7b2e29a2dcd4",
        "colab": {
          "base_uri": "https://localhost:8080/",
          "height": 68
        }
      },
      "source": [
        "print(alst[0])\n",
        "print(blst[2])\n",
        "print(clst[3])"
      ],
      "execution_count": 0,
      "outputs": [
        {
          "output_type": "stream",
          "text": [
            "1\n",
            "string\n",
            "['pqr', 16]\n"
          ],
          "name": "stdout"
        }
      ]
    },
    {
      "cell_type": "markdown",
      "metadata": {
        "id": "7v1bieHy7q1F",
        "colab_type": "text"
      },
      "source": [
        "#### Lists are changeable i.e. mutable. You can edit/delete elements of a list and add elements to it as well."
      ]
    },
    {
      "cell_type": "code",
      "metadata": {
        "id": "wQrg8axq7xpe",
        "colab_type": "code",
        "outputId": "7f7587a5-76a0-495e-c6d7-c332490e0af3",
        "colab": {
          "base_uri": "https://localhost:8080/",
          "height": 34
        }
      },
      "source": [
        "blst[2] = \"newString\"\n",
        "print(blst)"
      ],
      "execution_count": 0,
      "outputs": [
        {
          "output_type": "stream",
          "text": [
            "['abc', 'xyz', 'newString']\n"
          ],
          "name": "stdout"
        }
      ]
    },
    {
      "cell_type": "code",
      "metadata": {
        "id": "ABE5Zx5w-f5t",
        "colab_type": "code",
        "outputId": "3a6634ce-9acd-4c2a-e3d2-5d8b165c49fe",
        "colab": {
          "base_uri": "https://localhost:8080/",
          "height": 34
        }
      },
      "source": [
        "blst.append(\"anotherString\")\n",
        "print(blst)"
      ],
      "execution_count": 0,
      "outputs": [
        {
          "output_type": "stream",
          "text": [
            "['abc', 'xyz', 'newString', 'anotherString']\n"
          ],
          "name": "stdout"
        }
      ]
    },
    {
      "cell_type": "markdown",
      "metadata": {
        "id": "BcvLacwd-vzD",
        "colab_type": "text"
      },
      "source": [
        "Removing elements from a list"
      ]
    },
    {
      "cell_type": "code",
      "metadata": {
        "id": "0HTCtU9H-n5_",
        "colab_type": "code",
        "outputId": "3854ae17-741e-42f7-b81b-d597dc6cac4d",
        "colab": {
          "base_uri": "https://localhost:8080/",
          "height": 51
        }
      },
      "source": [
        "popped = blst.pop()     ## popping the last element: O(1) time complexity\n",
        "print(popped)\n",
        "print(blst)"
      ],
      "execution_count": 0,
      "outputs": [
        {
          "output_type": "stream",
          "text": [
            "anotherString\n",
            "['abc', 'xyz', 'newString']\n"
          ],
          "name": "stdout"
        }
      ]
    },
    {
      "cell_type": "code",
      "metadata": {
        "id": "HLBcs_r7KGnR",
        "colab_type": "code",
        "outputId": "e320a3c1-566b-4d42-9cf1-b6ebe083997f",
        "colab": {
          "base_uri": "https://localhost:8080/",
          "height": 34
        }
      },
      "source": [
        "blst.pop()"
      ],
      "execution_count": 0,
      "outputs": [
        {
          "output_type": "execute_result",
          "data": {
            "text/plain": [
              "'newString'"
            ]
          },
          "metadata": {
            "tags": []
          },
          "execution_count": 55
        }
      ]
    },
    {
      "cell_type": "code",
      "metadata": {
        "id": "Mathn9gjKLIs",
        "colab_type": "code",
        "outputId": "28497aac-44c3-4626-d4ec-bd570dced266",
        "colab": {
          "base_uri": "https://localhost:8080/",
          "height": 34
        }
      },
      "source": [
        "blst"
      ],
      "execution_count": 0,
      "outputs": [
        {
          "output_type": "execute_result",
          "data": {
            "text/plain": [
              "['abc', 'xyz']"
            ]
          },
          "metadata": {
            "tags": []
          },
          "execution_count": 56
        }
      ]
    },
    {
      "cell_type": "code",
      "metadata": {
        "id": "XinnsrQt-n9V",
        "colab_type": "code",
        "outputId": "6fe30b0c-a94b-4516-cbd0-ffb6cd99560a",
        "colab": {
          "base_uri": "https://localhost:8080/",
          "height": 34
        }
      },
      "source": [
        "popped = blst.pop(0)     ## popping by index: O(n) time complexity\n",
        "print(blst) "
      ],
      "execution_count": 0,
      "outputs": [
        {
          "output_type": "stream",
          "text": [
            "['xyz']\n"
          ],
          "name": "stdout"
        }
      ]
    },
    {
      "cell_type": "markdown",
      "metadata": {
        "id": "Oghq8bcbFpKL",
        "colab_type": "text"
      },
      "source": [
        "Inserting an element in the middle of a list"
      ]
    },
    {
      "cell_type": "code",
      "metadata": {
        "id": "ZEvtAdQ2KbYR",
        "colab_type": "code",
        "colab": {}
      },
      "source": [
        "lstd = [1,2, 3, 4, 5]"
      ],
      "execution_count": 0,
      "outputs": []
    },
    {
      "cell_type": "code",
      "metadata": {
        "id": "D-sKv1JKKbbO",
        "colab_type": "code",
        "colab": {}
      },
      "source": [
        "lstf = lmstd[:2] + [42] + lstd[2:]"
      ],
      "execution_count": 0,
      "outputs": []
    },
    {
      "cell_type": "code",
      "metadata": {
        "id": "BaeDignDLH7w",
        "colab_type": "code",
        "outputId": "9c2efcff-ea94-4f0e-85e2-8abd1d9f9926",
        "colab": {
          "base_uri": "https://localhost:8080/",
          "height": 34
        }
      },
      "source": [
        "lstf"
      ],
      "execution_count": 0,
      "outputs": [
        {
          "output_type": "execute_result",
          "data": {
            "text/plain": [
              "[1, 2, 42, 3, 4, 5]"
            ]
          },
          "metadata": {
            "tags": []
          },
          "execution_count": 67
        }
      ]
    },
    {
      "cell_type": "markdown",
      "metadata": {
        "id": "t8f35lh8FvqC",
        "colab_type": "text"
      },
      "source": [
        "Accessing elements upto last n elements"
      ]
    },
    {
      "cell_type": "code",
      "metadata": {
        "id": "ePwgszCTK-pp",
        "colab_type": "code",
        "outputId": "e6f4b4b1-e28a-49e6-e92f-e82e14f9f887",
        "colab": {
          "base_uri": "https://localhost:8080/",
          "height": 34
        }
      },
      "source": [
        "lstf[0:-2]"
      ],
      "execution_count": 0,
      "outputs": [
        {
          "output_type": "execute_result",
          "data": {
            "text/plain": [
              "[1, 2, 42, 3]"
            ]
          },
          "metadata": {
            "tags": []
          },
          "execution_count": 66
        }
      ]
    },
    {
      "cell_type": "markdown",
      "metadata": {
        "id": "vfLnEMIn7-Hy",
        "colab_type": "text"
      },
      "source": [
        "### Tuples"
      ]
    },
    {
      "cell_type": "markdown",
      "metadata": {
        "id": "jT1qsSf7JTos",
        "colab_type": "text"
      },
      "source": [
        "A tuple is a collection which is:\n",
        " - ordered and unchangeable\n",
        " - written with round brackets"
      ]
    },
    {
      "cell_type": "code",
      "metadata": {
        "id": "OQ4bxxpk7hgc",
        "colab_type": "code",
        "colab": {}
      },
      "source": [
        "atupl = (1,2,3)\n",
        "btupl =  ('abc', 'xyz', 'string')\n",
        "ctupl = ('foo', 456, 'bar', ['pqr', 2**4])"
      ],
      "execution_count": 0,
      "outputs": []
    },
    {
      "cell_type": "code",
      "metadata": {
        "id": "EWyE4yZ97hmG",
        "colab_type": "code",
        "outputId": "15f59883-a594-4274-c448-1aaea9cc9fd2",
        "colab": {
          "base_uri": "https://localhost:8080/",
          "height": 68
        }
      },
      "source": [
        "print(atupl[0])\n",
        "print(btupl[2])\n",
        "print(ctupl[3])"
      ],
      "execution_count": 0,
      "outputs": [
        {
          "output_type": "stream",
          "text": [
            "1\n",
            "string\n",
            "['pqr', 16]\n"
          ],
          "name": "stdout"
        }
      ]
    },
    {
      "cell_type": "code",
      "metadata": {
        "id": "RVSo5U2OL8PA",
        "colab_type": "code",
        "outputId": "e08b9508-e78b-4e2d-b90d-671105d6b63c",
        "colab": {
          "base_uri": "https://localhost:8080/",
          "height": 164
        }
      },
      "source": [
        "atupl[2] = \"jsdhfkjs\""
      ],
      "execution_count": 0,
      "outputs": [
        {
          "output_type": "error",
          "ename": "TypeError",
          "evalue": "ignored",
          "traceback": [
            "\u001b[0;31m---------------------------------------------------------------------------\u001b[0m",
            "\u001b[0;31mTypeError\u001b[0m                                 Traceback (most recent call last)",
            "\u001b[0;32m<ipython-input-72-367ea0e5bb7f>\u001b[0m in \u001b[0;36m<module>\u001b[0;34m()\u001b[0m\n\u001b[0;32m----> 1\u001b[0;31m \u001b[0matupl\u001b[0m\u001b[0;34m[\u001b[0m\u001b[0;36m2\u001b[0m\u001b[0;34m]\u001b[0m \u001b[0;34m=\u001b[0m \u001b[0;34m\"jsdhfkjs\"\u001b[0m\u001b[0;34m\u001b[0m\u001b[0;34m\u001b[0m\u001b[0m\n\u001b[0m",
            "\u001b[0;31mTypeError\u001b[0m: 'tuple' object does not support item assignment"
          ]
        }
      ]
    },
    {
      "cell_type": "markdown",
      "metadata": {
        "id": "FfmSWkSZ7hlC",
        "colab_type": "text"
      },
      "source": [
        "#### Tuples are unchangeable i.e immutable. You cannot edit/delete the elements of a tuple, and neither can add any element to it."
      ]
    },
    {
      "cell_type": "code",
      "metadata": {
        "id": "n0_YtP2R7hj_",
        "colab_type": "code",
        "colab": {}
      },
      "source": [
        "# btupl[2] = \"newString\"\n",
        "# print(blst)"
      ],
      "execution_count": 0,
      "outputs": []
    },
    {
      "cell_type": "code",
      "metadata": {
        "id": "Re_CEBBI_vtT",
        "colab_type": "code",
        "colab": {}
      },
      "source": [
        "#btupl.append(\"anotherString\")"
      ],
      "execution_count": 0,
      "outputs": []
    },
    {
      "cell_type": "markdown",
      "metadata": {
        "id": "PuFvE0rY_vzN",
        "colab_type": "text"
      },
      "source": [
        "#### Exercise: (Importance of mutable and immutable objects)"
      ]
    },
    {
      "cell_type": "code",
      "metadata": {
        "id": "tpBeITw_NCkN",
        "colab_type": "code",
        "outputId": "8c1bc9fa-f217-46b1-9f8c-a9f735451216",
        "colab": {
          "base_uri": "https://localhost:8080/",
          "height": 35
        }
      },
      "source": [
        "dlst = list([7,5,4])\n",
        "dlst"
      ],
      "execution_count": 0,
      "outputs": [
        {
          "output_type": "execute_result",
          "data": {
            "text/plain": [
              "[7, 5, 4]"
            ]
          },
          "metadata": {
            "tags": []
          },
          "execution_count": 3
        }
      ]
    },
    {
      "cell_type": "code",
      "metadata": {
        "id": "wkIZVDCiNXMf",
        "colab_type": "code",
        "outputId": "84a7f5bf-89fe-4410-936e-3a5c8e03f8d2",
        "colab": {
          "base_uri": "https://localhost:8080/",
          "height": 35
        }
      },
      "source": [
        "dlst[:]    #the colon operator creates a new list object"
      ],
      "execution_count": 0,
      "outputs": [
        {
          "output_type": "execute_result",
          "data": {
            "text/plain": [
              "[7, 5, 4]"
            ]
          },
          "metadata": {
            "tags": []
          },
          "execution_count": 4
        }
      ]
    },
    {
      "cell_type": "code",
      "metadata": {
        "id": "FoHmC4_e_vxF",
        "colab_type": "code",
        "outputId": "d1c8e775-be18-4b25-a11d-9087a59694b1",
        "colab": {
          "base_uri": "https://localhost:8080/",
          "height": 69
        }
      },
      "source": [
        "dlst = [42,12,79]\n",
        "elst = dlst\n",
        "elst[1] = 7\n",
        "\n",
        "# # What do you think would be the output of the below code?\n",
        "print(dlst == elst)\n",
        "print(dlst)\n",
        "print(elst)"
      ],
      "execution_count": 0,
      "outputs": [
        {
          "output_type": "stream",
          "text": [
            "True\n",
            "[42, 7, 79]\n",
            "[42, 7, 79]\n"
          ],
          "name": "stdout"
        }
      ]
    },
    {
      "cell_type": "code",
      "metadata": {
        "id": "N2e1zoX9_vvl",
        "colab_type": "code",
        "outputId": "4ee596cb-65be-451a-a7e6-6b6251a541d5",
        "colab": {
          "base_uri": "https://localhost:8080/",
          "height": 69
        }
      },
      "source": [
        "anum = 89\n",
        "bnum = anum\n",
        "bnum = 3\n",
        "\n",
        "# # What do you think would be the output of the below code?\n",
        "print(bnum == anum)\n",
        "print(anum)\n",
        "print(bnum)\n",
        "\n",
        "## Why? Because integer object is immutable"
      ],
      "execution_count": 0,
      "outputs": [
        {
          "output_type": "stream",
          "text": [
            "False\n",
            "89\n",
            "3\n"
          ],
          "name": "stdout"
        }
      ]
    },
    {
      "cell_type": "markdown",
      "metadata": {
        "id": "LokSBtx1CgIx",
        "colab_type": "text"
      },
      "source": [
        "### Sets"
      ]
    },
    {
      "cell_type": "markdown",
      "metadata": {
        "id": "huw2HI7aHO0R",
        "colab_type": "text"
      },
      "source": [
        "A set is a collection which is:\n",
        "- unordered and unindexed\n",
        "- represented with curly brackets"
      ]
    },
    {
      "cell_type": "code",
      "metadata": {
        "id": "JjsvEcgQCvWc",
        "colab_type": "code",
        "outputId": "8b084390-9691-4a83-cf74-b33694068e4d",
        "colab": {
          "base_uri": "https://localhost:8080/",
          "height": 51
        }
      },
      "source": [
        "aset = {1,2,3}\n",
        "bset = {7,7,6,6,3,3,3,4,9,1,1}\n",
        "\n",
        "print(aset)\n",
        "print(bset)"
      ],
      "execution_count": 0,
      "outputs": [
        {
          "output_type": "stream",
          "text": [
            "{1, 2, 3}\n",
            "{1, 3, 4, 6, 7, 9}\n"
          ],
          "name": "stdout"
        }
      ]
    },
    {
      "cell_type": "code",
      "metadata": {
        "id": "1CkpJZj6OZEB",
        "colab_type": "code",
        "outputId": "9d01b5a6-256f-4387-8835-5ddcbcdcf115",
        "colab": {
          "base_uri": "https://localhost:8080/",
          "height": 34
        }
      },
      "source": [
        "len(aset)"
      ],
      "execution_count": 0,
      "outputs": [
        {
          "output_type": "execute_result",
          "data": {
            "text/plain": [
              "3"
            ]
          },
          "metadata": {
            "tags": []
          },
          "execution_count": 82
        }
      ]
    },
    {
      "cell_type": "code",
      "metadata": {
        "id": "tP6l3XqvCvcF",
        "colab_type": "code",
        "colab": {}
      },
      "source": [
        "print(len(aset))"
      ],
      "execution_count": 0,
      "outputs": []
    },
    {
      "cell_type": "code",
      "metadata": {
        "id": "MyWDBdMTFaPa",
        "colab_type": "code",
        "outputId": "ecf688d4-20a9-4c93-b8b6-72d57a33b2ac",
        "colab": {
          "base_uri": "https://localhost:8080/",
          "height": 34
        }
      },
      "source": [
        "345 in aset   #set membership"
      ],
      "execution_count": 0,
      "outputs": [
        {
          "output_type": "execute_result",
          "data": {
            "text/plain": [
              "False"
            ]
          },
          "metadata": {
            "tags": []
          },
          "execution_count": 88
        }
      ]
    },
    {
      "cell_type": "code",
      "metadata": {
        "id": "6qjymq69FdNG",
        "colab_type": "code",
        "outputId": "9538879e-7e06-431c-cea5-86c1695fa7a9",
        "colab": {
          "base_uri": "https://localhost:8080/",
          "height": 34
        }
      },
      "source": [
        "print(4 in aset)"
      ],
      "execution_count": 0,
      "outputs": [
        {
          "output_type": "stream",
          "text": [
            "False\n"
          ],
          "name": "stdout"
        }
      ]
    },
    {
      "cell_type": "code",
      "metadata": {
        "id": "j0q20O5SCvax",
        "colab_type": "code",
        "outputId": "a29b5d30-fc40-4bd2-873c-32a423651de0",
        "colab": {
          "base_uri": "https://localhost:8080/",
          "height": 34
        }
      },
      "source": [
        "aset.intersection(bset)"
      ],
      "execution_count": 0,
      "outputs": [
        {
          "output_type": "execute_result",
          "data": {
            "text/plain": [
              "{1, 3}"
            ]
          },
          "metadata": {
            "tags": []
          },
          "execution_count": 90
        }
      ]
    },
    {
      "cell_type": "code",
      "metadata": {
        "id": "XSLWSaOUCvZA",
        "colab_type": "code",
        "outputId": "1f7987ee-f961-4fb7-de35-b76ab49d813e",
        "colab": {
          "base_uri": "https://localhost:8080/",
          "height": 34
        }
      },
      "source": [
        "aset.union(bset)"
      ],
      "execution_count": 0,
      "outputs": [
        {
          "output_type": "execute_result",
          "data": {
            "text/plain": [
              "{1, 2, 3, 4, 6, 7, 9}"
            ]
          },
          "metadata": {
            "tags": []
          },
          "execution_count": 91
        }
      ]
    },
    {
      "cell_type": "markdown",
      "metadata": {
        "id": "pB9gv9ofFsau",
        "colab_type": "text"
      },
      "source": [
        "### Dictionaries"
      ]
    },
    {
      "cell_type": "markdown",
      "metadata": {
        "id": "-rs0j_DwHEw_",
        "colab_type": "text"
      },
      "source": [
        " A dict is collection that has the following properties:\n",
        " - unordered, indexed and editable\n",
        " - represented with a curly bracket\n",
        " - has (Key, Value) pairs \\\\\n",
        " \n",
        "Other notes:\n",
        " - has Constant time lookup\n",
        " - has to have Keys as objects that are immutable"
      ]
    },
    {
      "cell_type": "code",
      "metadata": {
        "id": "ySKFDMsGFwaD",
        "colab_type": "code",
        "colab": {}
      },
      "source": [
        "#Storing heights of different living species (mostly Pokemon)\n",
        "\n",
        "adict = {'sid': 179, \n",
        "         'pikachu': 40.6, \n",
        "         'bulbasaur': 71.1,\n",
        "         'dragonite':221}"
      ],
      "execution_count": 0,
      "outputs": []
    },
    {
      "cell_type": "code",
      "metadata": {
        "id": "8M5yhOjQFwf3",
        "colab_type": "code",
        "outputId": "54cc12cc-d657-4e64-b184-6211bbe4ee84",
        "colab": {
          "base_uri": "https://localhost:8080/",
          "height": 35
        }
      },
      "source": [
        "adict"
      ],
      "execution_count": 0,
      "outputs": [
        {
          "output_type": "execute_result",
          "data": {
            "text/plain": [
              "{'bulbasaur': 71.1, 'dragonite': 221, 'pikachu': 40.6, 'sid': 179}"
            ]
          },
          "metadata": {
            "tags": []
          },
          "execution_count": 8
        }
      ]
    },
    {
      "cell_type": "code",
      "metadata": {
        "id": "fKowTAtvFwed",
        "colab_type": "code",
        "colab": {}
      },
      "source": [
        "adict['sid'] = 2736483276"
      ],
      "execution_count": 0,
      "outputs": []
    },
    {
      "cell_type": "code",
      "metadata": {
        "id": "NykWEtjAFwcm",
        "colab_type": "code",
        "outputId": "ee9b8bce-6e0c-44f4-93f3-256a26e41693",
        "colab": {
          "base_uri": "https://localhost:8080/",
          "height": 34
        }
      },
      "source": [
        "adict['sid']"
      ],
      "execution_count": 0,
      "outputs": [
        {
          "output_type": "execute_result",
          "data": {
            "text/plain": [
              "2736483276"
            ]
          },
          "metadata": {
            "tags": []
          },
          "execution_count": 99
        }
      ]
    },
    {
      "cell_type": "markdown",
      "metadata": {
        "id": "fCSIRNwzHgJp",
        "colab_type": "text"
      },
      "source": [
        "Adding to a dict is very straight-forward"
      ]
    },
    {
      "cell_type": "code",
      "metadata": {
        "id": "y0Qay2OLHeNB",
        "colab_type": "code",
        "colab": {}
      },
      "source": [
        "adict['charmender'] = 61\n"
      ],
      "execution_count": 0,
      "outputs": []
    },
    {
      "cell_type": "code",
      "metadata": {
        "id": "Jkg6quVEHeUs",
        "colab_type": "code",
        "outputId": "0fd31f49-e46c-45b3-a77a-01611b5264a2",
        "colab": {
          "base_uri": "https://localhost:8080/",
          "height": 34
        }
      },
      "source": [
        "print(adict)"
      ],
      "execution_count": 0,
      "outputs": [
        {
          "output_type": "stream",
          "text": [
            "{'sid': 2736483276, 23: 40.6, 'bulbasaur': 71.1, 'dragonite': 221, 'charmender': 61}\n"
          ],
          "name": "stdout"
        }
      ]
    },
    {
      "cell_type": "markdown",
      "metadata": {
        "id": "l1O9A80onzmj",
        "colab_type": "text"
      },
      "source": [
        "Different items of a dictionary can be accessed by using these attributes:\n",
        "- `.keys()`\n",
        "- `.values()`\n",
        "- `.items()`"
      ]
    },
    {
      "cell_type": "code",
      "metadata": {
        "id": "q-eQNwJOHeSn",
        "colab_type": "code",
        "outputId": "68e267db-0bbd-4b8e-a20f-9e9602d72d0e",
        "colab": {
          "base_uri": "https://localhost:8080/",
          "height": 34
        }
      },
      "source": [
        "print(adict.keys())"
      ],
      "execution_count": 0,
      "outputs": [
        {
          "output_type": "stream",
          "text": [
            "dict_keys(['sid', 23, 'bulbasaur', 'dragonite', 'charmender'])\n"
          ],
          "name": "stdout"
        }
      ]
    },
    {
      "cell_type": "code",
      "metadata": {
        "id": "zTNAKdR0HeRN",
        "colab_type": "code",
        "outputId": "1b957722-ddcf-4a46-9823-7a92358bc243",
        "colab": {
          "base_uri": "https://localhost:8080/",
          "height": 34
        }
      },
      "source": [
        "print(adict.values())"
      ],
      "execution_count": 0,
      "outputs": [
        {
          "output_type": "stream",
          "text": [
            "dict_values([2736483276, 40.6, 71.1, 221, 61])\n"
          ],
          "name": "stdout"
        }
      ]
    },
    {
      "cell_type": "code",
      "metadata": {
        "id": "lvZaphRHoBiZ",
        "colab_type": "code",
        "outputId": "da2a7d78-ac02-4583-f2f9-888a145959e0",
        "colab": {
          "base_uri": "https://localhost:8080/",
          "height": 34
        }
      },
      "source": [
        "adict.items()"
      ],
      "execution_count": 0,
      "outputs": [
        {
          "output_type": "execute_result",
          "data": {
            "text/plain": [
              "dict_items([('sid', 2736483276), (23, 40.6), ('bulbasaur', 71.1), ('dragonite', 221), ('charmender', 61)])"
            ]
          },
          "metadata": {
            "tags": []
          },
          "execution_count": 106
        }
      ]
    },
    {
      "cell_type": "markdown",
      "metadata": {
        "id": "QMahEXHXHePu",
        "colab_type": "text"
      },
      "source": [
        "## 2. If, else and Loops"
      ]
    },
    {
      "cell_type": "markdown",
      "metadata": {
        "id": "N7f4ZJMfhNQU",
        "colab_type": "text"
      },
      "source": [
        "Python requires indentation for scoping in your code.\n",
        "In some other languages, curly brackets are used for this purpose"
      ]
    },
    {
      "cell_type": "code",
      "metadata": {
        "id": "CUQG_RDNhUQo",
        "colab_type": "code",
        "outputId": "a246fc28-b9d1-44fd-92c5-68a77fc95692",
        "colab": {
          "base_uri": "https://localhost:8080/",
          "height": 51
        }
      },
      "source": [
        "if 21 < 3:\n",
        "  print(\"You are correct! :) \")\n",
        "  print(\"khfskdjhf\")\n",
        "else:\n",
        "  print(\"You are wrong! :( \")\n",
        "  print(\"abcs\")"
      ],
      "execution_count": 0,
      "outputs": [
        {
          "output_type": "stream",
          "text": [
            "You are wrong! :( \n",
            "abcs\n"
          ],
          "name": "stdout"
        }
      ]
    },
    {
      "cell_type": "code",
      "metadata": {
        "id": "cp9593PmiQMk",
        "colab_type": "code",
        "colab": {}
      },
      "source": [
        "if 21 < 3:\n",
        "print(\"You are correct! :) \")\n",
        "else:\n",
        "print(\"You are wrong! :( \")"
      ],
      "execution_count": 0,
      "outputs": []
    },
    {
      "cell_type": "code",
      "metadata": {
        "id": "HA8x1qhEkZxc",
        "colab_type": "code",
        "outputId": "f8d8d5e7-6f5d-40f1-84b3-14fa81b7b9d1",
        "colab": {
          "base_uri": "https://localhost:8080/",
          "height": 34
        }
      },
      "source": [
        "a = 3487683674\n",
        "b = 200\n",
        "\n",
        "if a < b:\n",
        "  print(\"a is less than b\")\n",
        "if a > b:\n",
        "  print(\"a is greater than b\")"
      ],
      "execution_count": 0,
      "outputs": [
        {
          "output_type": "stream",
          "text": [
            "a is greater than b\n"
          ],
          "name": "stdout"
        }
      ]
    },
    {
      "cell_type": "markdown",
      "metadata": {
        "id": "PiyCyAicle7q",
        "colab_type": "text"
      },
      "source": [
        "When python encounters a series of `if` statements, by default it runs each of them sequentially"
      ]
    },
    {
      "cell_type": "code",
      "metadata": {
        "id": "V1XvdwvLkZvN",
        "colab_type": "code",
        "colab": {}
      },
      "source": [
        "a = 100\n",
        "b = 200\n",
        "\n",
        "if a < b:\n",
        "  print(\"a is less than b\")\n",
        "if a > b:\n",
        "  print(\"a is greater than b\")\n",
        "if a==b:\n",
        "  print(\"a is equal to b\")"
      ],
      "execution_count": 0,
      "outputs": []
    },
    {
      "cell_type": "markdown",
      "metadata": {
        "id": "BGQHgNtZlrS0",
        "colab_type": "text"
      },
      "source": [
        "`elif` is a way of saying - if the previous condition weren't true, try this case"
      ]
    },
    {
      "cell_type": "code",
      "metadata": {
        "id": "9dbMvyeLk6-W",
        "colab_type": "code",
        "colab": {}
      },
      "source": [
        "a = 100\n",
        "b = 200\n",
        "\n",
        "if a < b:\n",
        "  print(\"a is less than b\")\n",
        "elif a > b:\n",
        "  print(\"a is greater than b\")\n",
        "elif a==b:\n",
        "  print(\"a is equal to b\")\n"
      ],
      "execution_count": 0,
      "outputs": []
    },
    {
      "cell_type": "markdown",
      "metadata": {
        "id": "fl4bYIB0mAoy",
        "colab_type": "text"
      },
      "source": [
        "All objects in Python have a truth value.\n",
        "\n",
        "The following objects have a `False` value\n",
        "- 0\n",
        "- 0.000, 0.0x\n",
        "- an empty sequence: '', (), []\n",
        "- an empty mapping: {}\n",
        "- set()\n",
        "- `None`\n",
        "\n",
        "Rest other objects in Python, have value `True`"
      ]
    },
    {
      "cell_type": "code",
      "metadata": {
        "id": "AUiwGqNDmaNg",
        "colab_type": "code",
        "outputId": "bd7f97c7-705a-46da-a63a-2e8429cda799",
        "colab": {
          "base_uri": "https://localhost:8080/",
          "height": 34
        }
      },
      "source": [
        "a = 5\n",
        "if a:\n",
        "  print(\"if condition is true\")\n",
        "else:\n",
        "  print(\"else condition is true\")"
      ],
      "execution_count": 0,
      "outputs": [
        {
          "output_type": "stream",
          "text": [
            "if condition is true\n"
          ],
          "name": "stdout"
        }
      ]
    },
    {
      "cell_type": "code",
      "metadata": {
        "id": "-zIfTJDpSszQ",
        "colab_type": "code",
        "outputId": "8d98597a-f30f-40e2-87ed-fc0eb273ab50",
        "colab": {
          "base_uri": "https://localhost:8080/",
          "height": 34
        }
      },
      "source": [
        "not True"
      ],
      "execution_count": 0,
      "outputs": [
        {
          "output_type": "execute_result",
          "data": {
            "text/plain": [
              "False"
            ]
          },
          "metadata": {
            "tags": []
          },
          "execution_count": 118
        }
      ]
    },
    {
      "cell_type": "code",
      "metadata": {
        "id": "HK3F11OWmaTn",
        "colab_type": "code",
        "outputId": "558e1740-1aea-43e2-fca7-2c16a156454d",
        "colab": {
          "base_uri": "https://localhost:8080/",
          "height": 34
        }
      },
      "source": [
        "b = []\n",
        "if b:\n",
        "  print(\"if condition is true\")\n",
        "else:\n",
        "  print(\"else condition is true\")"
      ],
      "execution_count": 0,
      "outputs": [
        {
          "output_type": "stream",
          "text": [
            "else condition is true\n"
          ],
          "name": "stdout"
        }
      ]
    },
    {
      "cell_type": "code",
      "metadata": {
        "id": "fX0tMV1JmaRL",
        "colab_type": "code",
        "outputId": "8b01a21b-1808-470c-b264-4a1af5fcdf68",
        "colab": {
          "base_uri": "https://localhost:8080/",
          "height": 34
        }
      },
      "source": [
        "if {4}:\n",
        "  print(\"if condition is true\")\n",
        "else:\n",
        "  print(\"else condition is true\")"
      ],
      "execution_count": 0,
      "outputs": [
        {
          "output_type": "stream",
          "text": [
            "if condition is true\n"
          ],
          "name": "stdout"
        }
      ]
    },
    {
      "cell_type": "markdown",
      "metadata": {
        "id": "EFg1r8IqnOn0",
        "colab_type": "text"
      },
      "source": [
        "#### Loops"
      ]
    },
    {
      "cell_type": "markdown",
      "metadata": {
        "id": "AAHpSCfXovmZ",
        "colab_type": "text"
      },
      "source": [
        "A `for` loop is used for iterating over a sequence.\n",
        "\n",
        "`for` doesn't require an indexing variable to be set beforehand"
      ]
    },
    {
      "cell_type": "code",
      "metadata": {
        "id": "zmmyE9LJngJ6",
        "colab_type": "code",
        "outputId": "9b593179-0b05-4a52-f579-b0b9cf33c431",
        "colab": {
          "base_uri": "https://localhost:8080/",
          "height": 120
        }
      },
      "source": [
        "dlst = [42,12,79]\n",
        "\n",
        "for item in dlst:\n",
        "  \n",
        "  print(abc)\n",
        "  print(abc*2)"
      ],
      "execution_count": 0,
      "outputs": [
        {
          "output_type": "stream",
          "text": [
            "42\n",
            "84\n",
            "12\n",
            "24\n",
            "79\n",
            "158\n"
          ],
          "name": "stdout"
        }
      ]
    },
    {
      "cell_type": "code",
      "metadata": {
        "id": "JH7iYiTYngSt",
        "colab_type": "code",
        "outputId": "c9ca47b6-60b9-4450-ee8f-a58f34aa05be",
        "colab": {
          "base_uri": "https://localhost:8080/",
          "height": 103
        }
      },
      "source": [
        "string = \"apple\"\n",
        "for ch in string:\n",
        "  print(ch)"
      ],
      "execution_count": 0,
      "outputs": [
        {
          "output_type": "stream",
          "text": [
            "a\n",
            "p\n",
            "p\n",
            "l\n",
            "e\n"
          ],
          "name": "stdout"
        }
      ]
    },
    {
      "cell_type": "code",
      "metadata": {
        "id": "600C3fLYrFrk",
        "colab_type": "code",
        "colab": {}
      },
      "source": [
        "range(0, 10, 1)   #start, stop, increment"
      ],
      "execution_count": 0,
      "outputs": []
    },
    {
      "cell_type": "code",
      "metadata": {
        "id": "w3UVjuJUq72V",
        "colab_type": "code",
        "outputId": "ea8e5949-9cb8-4e12-b0b4-c5216b70c09b",
        "colab": {
          "base_uri": "https://localhost:8080/",
          "height": 103
        }
      },
      "source": [
        "for i in range(1,10,2):\n",
        "  print(i)"
      ],
      "execution_count": 0,
      "outputs": [
        {
          "output_type": "stream",
          "text": [
            "1\n",
            "3\n",
            "5\n",
            "7\n",
            "9\n"
          ],
          "name": "stdout"
        }
      ]
    },
    {
      "cell_type": "code",
      "metadata": {
        "id": "ZTmqf9z5ruBd",
        "colab_type": "code",
        "outputId": "c3251336-8d4c-425c-a857-84f42f594bc0",
        "colab": {
          "base_uri": "https://localhost:8080/",
          "height": 188
        }
      },
      "source": [
        "## Default start = 0 and default incrememnt = 1\n",
        "for i in range(0,10,1):\n",
        "  print(i)"
      ],
      "execution_count": 0,
      "outputs": [
        {
          "output_type": "stream",
          "text": [
            "0\n",
            "1\n",
            "2\n",
            "3\n",
            "4\n",
            "5\n",
            "6\n",
            "7\n",
            "8\n",
            "9\n"
          ],
          "name": "stdout"
        }
      ]
    },
    {
      "cell_type": "code",
      "metadata": {
        "id": "Rnpj2ddJngQF",
        "colab_type": "code",
        "outputId": "46782a76-b10d-4a79-9e7a-2fb22fbee754",
        "colab": {
          "base_uri": "https://localhost:8080/",
          "height": 86
        }
      },
      "source": [
        "adict = {'sid': 179, \n",
        "         'pikachu': 40.6, \n",
        "         'bulbasaur': 71.1,\n",
        "         'dragonite':221}\n",
        "\n",
        "for key in adict:\n",
        "  print(\" {}'s height is:  {}\".format(key, adict[key]))"
      ],
      "execution_count": 0,
      "outputs": [
        {
          "output_type": "stream",
          "text": [
            " sid's height is:  179\n",
            " pikachu's height is:  40.6\n",
            " bulbasaur's height is:  71.1\n",
            " dragonite's height is:  221\n"
          ],
          "name": "stdout"
        }
      ]
    },
    {
      "cell_type": "code",
      "metadata": {
        "id": "ooDAa45VUiEM",
        "colab_type": "code",
        "outputId": "11fd410e-4788-448b-b898-f0cee2090082",
        "colab": {
          "base_uri": "https://localhost:8080/",
          "height": 86
        }
      },
      "source": [
        "lst = [1, 2.3, 4, 5.5, 6.6, 7, 8]\n",
        "\n",
        "\n",
        "for var in lst:\n",
        "  if isinstance(var, int):\n",
        "    print(var)"
      ],
      "execution_count": 0,
      "outputs": [
        {
          "output_type": "stream",
          "text": [
            "1\n",
            "4\n",
            "7\n",
            "8\n"
          ],
          "name": "stdout"
        }
      ]
    },
    {
      "cell_type": "markdown",
      "metadata": {
        "id": "Rp4t-sdSngN5",
        "colab_type": "text"
      },
      "source": [
        "A break statement can be used to break the for loop before it has looped through all the items"
      ]
    },
    {
      "cell_type": "code",
      "metadata": {
        "id": "aZpAYBVJpk4U",
        "colab_type": "code",
        "outputId": "9114ff5a-44cd-4f73-c633-5118da7baf2f",
        "colab": {
          "base_uri": "https://localhost:8080/",
          "height": 138
        }
      },
      "source": [
        "for var_name in \"harry_potter\":\n",
        "  if var_name=='p':\n",
        "    break\n",
        "  else:\n",
        "    print(var_name)\n",
        "    \n",
        "#  ########## this is a comment\n",
        "\n",
        "\n",
        "'''\n",
        "This line is commented\n",
        "This line is also commented\n",
        "This line is also commented\n",
        "'''\n",
        "\n",
        "print(\"Final value of var_name: {}\".format(var_name))"
      ],
      "execution_count": 0,
      "outputs": [
        {
          "output_type": "stream",
          "text": [
            "h\n",
            "a\n",
            "r\n",
            "r\n",
            "y\n",
            "_\n",
            "Final value of var_name: p\n"
          ],
          "name": "stdout"
        }
      ]
    },
    {
      "cell_type": "markdown",
      "metadata": {
        "id": "oCMpvtVFpvqD",
        "colab_type": "text"
      },
      "source": [
        "`while` loop runs as long as a certain command is true"
      ]
    },
    {
      "cell_type": "code",
      "metadata": {
        "id": "r6hFBvJppvna",
        "colab_type": "code",
        "outputId": "aebddb0e-4c3a-4865-e978-589eb3ebdfb9",
        "colab": {
          "base_uri": "https://localhost:8080/",
          "height": 207
        }
      },
      "source": [
        "i = 10\n",
        "while i > 0:\n",
        "  print(i)\n",
        "  i = i-1\n",
        "  \n",
        "print(\"Final value of i: {}\".format(i))"
      ],
      "execution_count": 0,
      "outputs": [
        {
          "output_type": "stream",
          "text": [
            "10\n",
            "9\n",
            "8\n",
            "7\n",
            "6\n",
            "5\n",
            "4\n",
            "3\n",
            "2\n",
            "1\n",
            "Final value of i: 0\n"
          ],
          "name": "stdout"
        }
      ]
    },
    {
      "cell_type": "code",
      "metadata": {
        "id": "OheUXtIRqGiQ",
        "colab_type": "code",
        "outputId": "036818aa-95c5-423d-e83c-3e724b9a3f6d",
        "colab": {
          "base_uri": "https://localhost:8080/",
          "height": 51
        }
      },
      "source": [
        "i = 11\n",
        "while i > 0:\n",
        "  print(i)\n",
        "  \n",
        "  if i%2==0:## even number (remainder when divided by 2 == 0)\n",
        "    break\n",
        "  \n",
        "  i = i-1"
      ],
      "execution_count": 0,
      "outputs": [
        {
          "output_type": "stream",
          "text": [
            "11\n",
            "10\n"
          ],
          "name": "stdout"
        }
      ]
    },
    {
      "cell_type": "markdown",
      "metadata": {
        "id": "tU1IDt8xPaYe",
        "colab_type": "text"
      },
      "source": [
        "# Tutorial 2 (Date: 11 Sep, 2019)"
      ]
    },
    {
      "cell_type": "markdown",
      "metadata": {
        "id": "rw4o2g12PfcS",
        "colab_type": "text"
      },
      "source": [
        "Today's Attendance: https://forms.gle/qCd7Muju8oFinkBj7\n",
        "\n",
        "Topics today:\n",
        "\n",
        "- List comprehensions\n",
        "- Defining Functions\n",
        "- Regular expressions (regex) "
      ]
    },
    {
      "cell_type": "markdown",
      "metadata": {
        "id": "xjJeXwZgIJzp",
        "colab_type": "text"
      },
      "source": [
        "## 3. List comprehensions"
      ]
    },
    {
      "cell_type": "markdown",
      "metadata": {
        "id": "jDJkkfZEqW7a",
        "colab_type": "text"
      },
      "source": [
        "List comprehensions are a concise way of creating lists"
      ]
    },
    {
      "cell_type": "markdown",
      "metadata": {
        "id": "BPMr2R7TGvQh",
        "colab_type": "text"
      },
      "source": [
        "Consider the below for loop for creating a list"
      ]
    },
    {
      "cell_type": "code",
      "metadata": {
        "id": "J1KrM52Eq1Op",
        "colab_type": "code",
        "outputId": "46ced7b9-f85e-4328-ad06-6e8a1b630078",
        "colab": {
          "base_uri": "https://localhost:8080/",
          "height": 34
        }
      },
      "source": [
        "alst = []\n",
        "for i in range(15):\n",
        "  alst.append(i)\n",
        "  \n",
        "print(alst)"
      ],
      "execution_count": 0,
      "outputs": [
        {
          "output_type": "stream",
          "text": [
            "[0, 1, 2, 3, 4, 5, 6, 7, 8, 9, 10, 11, 12, 13, 14]\n"
          ],
          "name": "stdout"
        }
      ]
    },
    {
      "cell_type": "markdown",
      "metadata": {
        "id": "3NE-2FBwGzTZ",
        "colab_type": "text"
      },
      "source": [
        "We can create the same list alst as follows using a list comprehension"
      ]
    },
    {
      "cell_type": "code",
      "metadata": {
        "id": "U4QwDkVgqvT4",
        "colab_type": "code",
        "outputId": "69c9e04d-1eb3-4e32-b269-2cd6f20060cf",
        "colab": {
          "base_uri": "https://localhost:8080/",
          "height": 34
        }
      },
      "source": [
        "blst = [i for i in range(15)]\n",
        "print(blst)"
      ],
      "execution_count": 0,
      "outputs": [
        {
          "output_type": "stream",
          "text": [
            "[0, 1, 2, 3, 4, 5, 6, 7, 8, 9, 10, 11, 12, 13, 14]\n"
          ],
          "name": "stdout"
        }
      ]
    },
    {
      "cell_type": "code",
      "metadata": {
        "id": "9oBYAIDGX1NT",
        "colab_type": "code",
        "outputId": "0a845cbb-8d50-4213-de75-4e2ea15403ef",
        "colab": {
          "base_uri": "https://localhost:8080/",
          "height": 54
        }
      },
      "source": [
        "alst = []\n",
        "\n",
        "for i in range(10):\n",
        "  for j in range(5):\n",
        "    alst.append(i*j)\n",
        "    \n",
        "print(alst)"
      ],
      "execution_count": 0,
      "outputs": [
        {
          "output_type": "stream",
          "text": [
            "[0, 0, 0, 0, 0, 0, 1, 2, 3, 4, 0, 2, 4, 6, 8, 0, 3, 6, 9, 12, 0, 4, 8, 12, 16, 0, 5, 10, 15, 20, 0, 6, 12, 18, 24, 0, 7, 14, 21, 28, 0, 8, 16, 24, 32, 0, 9, 18, 27, 36]\n"
          ],
          "name": "stdout"
        }
      ]
    },
    {
      "cell_type": "code",
      "metadata": {
        "id": "YcURX9ddYcLR",
        "colab_type": "code",
        "outputId": "55fee3a2-17e1-4e44-ea13-42a454102b47",
        "colab": {
          "base_uri": "https://localhost:8080/",
          "height": 34
        }
      },
      "source": [
        "blst = [i*j for i in range(15) for j in range(5)]\n",
        "blst == alst"
      ],
      "execution_count": 0,
      "outputs": [
        {
          "output_type": "execute_result",
          "data": {
            "text/plain": [
              "True"
            ]
          },
          "metadata": {
            "tags": []
          },
          "execution_count": 27
        }
      ]
    },
    {
      "cell_type": "code",
      "metadata": {
        "id": "qjGHTCwJsJ_2",
        "colab_type": "code",
        "colab": {}
      },
      "source": [
        "## creating tuples inside a list"
      ],
      "execution_count": 0,
      "outputs": []
    },
    {
      "cell_type": "markdown",
      "metadata": {
        "id": "PFTtyGf0IP2H",
        "colab_type": "text"
      },
      "source": [
        "## 4. Functions"
      ]
    },
    {
      "cell_type": "markdown",
      "metadata": {
        "id": "nQ85AqYMtmo6",
        "colab_type": "text"
      },
      "source": [
        "- A function is a block of code which runs only when it is called.\n",
        "- You can pass parameters (some data) into a function\n",
        "- A function can return any data as its result\n",
        "- The return command exits the function whenever it is encountered inside a function"
      ]
    },
    {
      "cell_type": "code",
      "metadata": {
        "id": "VeG24AnYsdnS",
        "colab_type": "code",
        "colab": {}
      },
      "source": [
        "def multiplication_table(n):\n",
        "  '''\n",
        "  Input: takes an integer input\n",
        "  \n",
        "  Output: returns the multiplication table of the input integer upto 10 (as a list)\n",
        "  '''\n",
        "  ans_lst = []\n",
        "  \n",
        "  for i in range(0,11,2):\n",
        "    ans_lst.append(i*n)\n",
        "    \n",
        "  return ans_lst #this will be returned as the output of the function\n",
        "    "
      ],
      "execution_count": 0,
      "outputs": []
    },
    {
      "cell_type": "markdown",
      "metadata": {
        "id": "hrKK8mQjNGn1",
        "colab_type": "text"
      },
      "source": [
        "Once a function is defined, you can call the function as follows:"
      ]
    },
    {
      "cell_type": "code",
      "metadata": {
        "id": "A3RgiX_ZM1DR",
        "colab_type": "code",
        "outputId": "affdab70-c41b-44bc-c624-7c4403b7632b",
        "colab": {
          "base_uri": "https://localhost:8080/",
          "height": 192
        }
      },
      "source": [
        "multiplication_table(5.345)"
      ],
      "execution_count": 0,
      "outputs": [
        {
          "output_type": "execute_result",
          "data": {
            "text/plain": [
              "[5.345,\n",
              " 10.69,\n",
              " 16.035,\n",
              " 21.38,\n",
              " 26.724999999999998,\n",
              " 32.07,\n",
              " 37.415,\n",
              " 42.76,\n",
              " 48.105,\n",
              " 53.449999999999996]"
            ]
          },
          "metadata": {
            "tags": []
          },
          "execution_count": 32
        }
      ]
    },
    {
      "cell_type": "code",
      "metadata": {
        "id": "GohY3zP-uFW4",
        "colab_type": "code",
        "colab": {}
      },
      "source": [
        "# Exercise:\n",
        "# create a function 'is_prime' that takes a number as its input and prints if it is a prime number"
      ],
      "execution_count": 0,
      "outputs": []
    },
    {
      "cell_type": "code",
      "metadata": {
        "id": "2LWV-h7UuFeL",
        "colab_type": "code",
        "colab": {}
      },
      "source": [
        "is_prime(439)"
      ],
      "execution_count": 0,
      "outputs": []
    },
    {
      "cell_type": "markdown",
      "metadata": {
        "colab_type": "text",
        "id": "J4trl2Nr1teh"
      },
      "source": [
        "## 5. Regular Expressions"
      ]
    },
    {
      "cell_type": "markdown",
      "metadata": {
        "id": "YaijJ6K1dsXy",
        "colab_type": "text"
      },
      "source": [
        "A sequence of characters that define a search pattern in strings.\n",
        "\n",
        "A resource for practising or checking regular expressions - https://www.regexpal.com/\n",
        "\n",
        "**Cheat Sheet from regexpal.com**:\n",
        "\n",
        "**Character classes** \\\\\n",
        ".\tany character except newline \\\\\n",
        "\\w \\d \\s word, digit, whitespace \\\\\n",
        "\\W \\D \\S not word, digit, whitespace \\\\\n",
        "[abc]\tany of a, b, or c \\\\\n",
        "[^abc]\tnot a, b, or c \\\\\n",
        "[a-g]\tcharacter between a & g \\\\\n",
        "\n",
        "**Anchors**\n",
        "\n",
        "^abc$\tstart / end of the string \\\\\n",
        "\\b\tword boundary \\\\\n",
        "\n",
        "**Escaped characters**  \\\\\n",
        "\\. \\* \\\\\tescaped special characters \\\\\n",
        "\\t \\n \\r\ttab, linefeed, carriage return \\\\\n",
        "\\u00A9\tunicode escaped © \\\\\n",
        "\n",
        "**Groups & Lookaround**\n",
        "\n",
        "(abc)\tcapture group \\\\\n",
        "\\1\tbackreference to group #1 \\\\\n",
        "(?:abc)\tnon-capturing group \\\\\n",
        "(?=abc)\tpositive lookahead \\\\\n",
        "(?!abc)\tnegative lookahead  \\\\\n",
        "\n",
        "**Quantifiers & Alternation** \\\\\n",
        "a* a+ a?\t0 or more, 1 or more, 0 or 1 \\\\\n",
        "a{5} a{2,}\texactly five, two or more \\\\\n",
        "a{1,3}\tbetween one & three \\\\\n",
        "a+? a{2,}?\tmatch as few as possible \\\\\n",
        "ab|cd\tmatch ab or cd \\\\"
      ]
    },
    {
      "cell_type": "code",
      "metadata": {
        "id": "tUtbBrHae07j",
        "colab_type": "code",
        "colab": {}
      },
      "source": [
        "import re #importing the Python regex library"
      ],
      "execution_count": 0,
      "outputs": []
    },
    {
      "cell_type": "code",
      "metadata": {
        "id": "DWkd3SU7-7o6",
        "colab_type": "code",
        "colab": {}
      },
      "source": [
        ""
      ],
      "execution_count": 0,
      "outputs": []
    },
    {
      "cell_type": "code",
      "metadata": {
        "id": "EZiGpc8Tf58_",
        "colab_type": "code",
        "colab": {}
      },
      "source": [
        "example_string = '''\n",
        "Harry Potter's Hogwarts student ID was GRYF10011. \n",
        "Ron's ID was just next to Harry's -- GRYF10012.\n",
        "Draco Malfoy's ID was SLY7777. \n",
        "Fun fact - Harry Potter was 17 when he killed Voldemort. Voldemort was 72 years old when he died. \n",
        "Dumbledore was probably 150 when he died, who knows, doesn't matter anyway.\n",
        "What is this sentence doing here? Nobody knows!!!\n",
        "Random math equation just for the purpose of a regex example: 72=9*8 and 9+8=17\n",
        "Another random math eq: x2-5x+6=0\n",
        "Last equation: 2=2\n",
        "Bye!\n",
        "'''"
      ],
      "execution_count": 0,
      "outputs": []
    },
    {
      "cell_type": "code",
      "metadata": {
        "id": "aNnPj5YugnoH",
        "colab_type": "code",
        "outputId": "0069464d-73c3-4dec-b73a-ca0021d1692e",
        "colab": {
          "base_uri": "https://localhost:8080/",
          "height": 238
        }
      },
      "source": [
        "print(example_string)\n"
      ],
      "execution_count": 0,
      "outputs": [
        {
          "output_type": "stream",
          "text": [
            "\n",
            "Harry Potter's Hogwarts student ID was GRYF10011. \n",
            "Ron's ID was just next to Harry's -- GRYF10012.\n",
            "Draco Malfoy's ID was SLY7777. \n",
            "Fun fact - Harry Potter was 17 when he killed Voldemort. Voldemort was 72 years old when he died. \n",
            "Dumbledore was probably 150 when he died, who knows, doesn't matter anyway.\n",
            "What is this sentence doing here? Nobody knows!!!\n",
            "Random math equation just for the purpose of a regex example: 72=9*8 and 9+8=17\n",
            "Another random math eq: x2-5x+6=0\n",
            "Last equation: 2=2\n",
            "Bye!\n",
            "\n"
          ],
          "name": "stdout"
        },
        {
          "output_type": "execute_result",
          "data": {
            "text/plain": [
              "[1, 2, 3]"
            ]
          },
          "metadata": {
            "tags": []
          },
          "execution_count": 42
        }
      ]
    },
    {
      "cell_type": "code",
      "metadata": {
        "id": "YrLjB_11grDa",
        "colab_type": "code",
        "outputId": "43fca3c6-f53d-4908-999c-b89ae4dbd652",
        "colab": {
          "base_uri": "https://localhost:8080/",
          "height": 54
        }
      },
      "source": [
        "ages = re.findall('\\d', example_string)\n",
        "print(ages)"
      ],
      "execution_count": 0,
      "outputs": [
        {
          "output_type": "stream",
          "text": [
            "['1', '0', '0', '1', '1', '1', '0', '0', '1', '2', '7', '7', '7', '7', '1', '7', '7', '2', '1', '5', '0', '7', '2', '9', '8', '9', '8', '1', '7', '2', '5', '6', '0', '2', '2']\n"
          ],
          "name": "stdout"
        }
      ]
    },
    {
      "cell_type": "code",
      "metadata": {
        "id": "la2vEVCZi78m",
        "colab_type": "code",
        "outputId": "0f46b237-b936-410e-c1c4-434a4eb14969",
        "colab": {
          "base_uri": "https://localhost:8080/",
          "height": 34
        }
      },
      "source": [
        "ages = re.findall(r' \\d+ ', example_string)\n",
        "print(ages)"
      ],
      "execution_count": 0,
      "outputs": [
        {
          "output_type": "stream",
          "text": [
            "[' 17 ', ' 72 ', ' 150 ']\n"
          ],
          "name": "stdout"
        }
      ]
    },
    {
      "cell_type": "code",
      "metadata": {
        "id": "33GPdL7qk41N",
        "colab_type": "code",
        "outputId": "e7118013-095d-4b6d-dc0a-e37c7254f484",
        "colab": {
          "base_uri": "https://localhost:8080/",
          "height": 34
        }
      },
      "source": [
        "ages = re.findall(r' (\\d{1,3}) ', example_string)\n",
        "print(ages)"
      ],
      "execution_count": 0,
      "outputs": [
        {
          "output_type": "stream",
          "text": [
            "['17', '72', '150']\n"
          ],
          "name": "stdout"
        }
      ]
    },
    {
      "cell_type": "markdown",
      "metadata": {
        "id": "wf6nLbX6lA-_",
        "colab_type": "text"
      },
      "source": [
        "Words, alphanumerics"
      ]
    },
    {
      "cell_type": "markdown",
      "metadata": {
        "id": "KI0FwbcwQP0q",
        "colab_type": "text"
      },
      "source": [
        "#### Tokenization based on whitespaces"
      ]
    },
    {
      "cell_type": "code",
      "metadata": {
        "id": "xQ3rUuMOlPa7",
        "colab_type": "code",
        "outputId": "d30dd613-2e5a-4f5e-a27d-515c00178f5d",
        "colab": {
          "base_uri": "https://localhost:8080/",
          "height": 54
        }
      },
      "source": [
        "words = re.findall(r'\\S+', example_string)  \n",
        "print(words)"
      ],
      "execution_count": 0,
      "outputs": [
        {
          "output_type": "stream",
          "text": [
            "['Harry', \"Potter's\", 'Hogwarts', 'student', 'ID', 'was', 'GRYF10011.', \"Ron's\", 'ID', 'was', 'just', 'next', 'to', \"Harry's\", '--', 'GRYF10012.', 'Draco', \"Malfoy's\", 'ID', 'was', 'SLY7777.', 'Fun', 'fact', '-', 'Harry', 'Potter', 'was', '17', 'when', 'he', 'killed', 'Voldemort.', 'Voldemort', 'was', '72', 'years', 'old', 'when', 'he', 'died.', 'Dumbledore', 'was', 'probably', '150', 'when', 'he', 'died,', 'who', 'knows,', \"doesn't\", 'matter', 'anyway.', 'What', 'is', 'this', 'sentence', 'doing', 'here?', 'Nobody', 'knows!!!', 'Random', 'math', 'equation', 'just', 'for', 'the', 'purpose', 'of', 'a', 'regex', 'example:', '72=9*8', 'and', '9+8=17', 'Another', 'random', 'math', 'eq:', 'x2-5x+6=0', 'Last', 'equation:', '2=2', 'Bye!']\n"
          ],
          "name": "stdout"
        }
      ]
    },
    {
      "cell_type": "markdown",
      "metadata": {
        "id": "MmsseJSxxWEy",
        "colab_type": "text"
      },
      "source": [
        "In some languages, tokenization is not as simple as separation by a whitespace. \n",
        "\n",
        "Consider this string from Chinese."
      ]
    },
    {
      "cell_type": "code",
      "metadata": {
        "id": "Y0ChEANHxHnM",
        "colab_type": "code",
        "colab": {}
      },
      "source": [
        "mandarin_string1 = \"如果你吃面条的话，那我要回家\"  # “If you eat noodles then I will go home.”\n",
        "mandarin_string2 = \"苹果是我最喜欢的水果\"         # “Apples are my favourite fruit”."
      ],
      "execution_count": 0,
      "outputs": []
    },
    {
      "cell_type": "code",
      "metadata": {
        "id": "jMdB45J_tatI",
        "colab_type": "code",
        "outputId": "aa9a8de5-6ff6-4d6a-92fd-9d8efe9b0ac3",
        "colab": {
          "base_uri": "https://localhost:8080/",
          "height": 34
        }
      },
      "source": [
        "words = re.findall(r'\\w+', mandarin_string1)\n",
        "print(words)"
      ],
      "execution_count": 0,
      "outputs": [
        {
          "output_type": "stream",
          "text": [
            "['如果你吃面条的话', '那我要回家']\n"
          ],
          "name": "stdout"
        }
      ]
    },
    {
      "cell_type": "code",
      "metadata": {
        "id": "aB4Za55Nx3_n",
        "colab_type": "code",
        "outputId": "abfd0381-5049-49f6-a7db-d63c311d0a71",
        "colab": {
          "base_uri": "https://localhost:8080/",
          "height": 34
        }
      },
      "source": [
        "words = re.findall(r'\\w+', mandarin_string2)\n",
        "print(words)"
      ],
      "execution_count": 0,
      "outputs": [
        {
          "output_type": "stream",
          "text": [
            "['苹果是我最喜欢的水果']\n"
          ],
          "name": "stdout"
        }
      ]
    },
    {
      "cell_type": "markdown",
      "metadata": {
        "id": "L7Dl_ETll4Yh",
        "colab_type": "text"
      },
      "source": [
        "#### Exercise:"
      ]
    },
    {
      "cell_type": "markdown",
      "metadata": {
        "id": "G0n9IX2I20TP",
        "colab_type": "text"
      },
      "source": [
        "Using regex:\n",
        "1. Find all the student IDs in the example_string\n",
        "2. Find all the math equations in the example_string\n",
        "3. Find all names in the example_string\n"
      ]
    },
    {
      "cell_type": "code",
      "metadata": {
        "id": "qYGQPYVykIuy",
        "colab_type": "code",
        "outputId": "ee1ef3f3-6eab-47e3-c53e-9b2e1b67acf7",
        "colab": {
          "base_uri": "https://localhost:8080/",
          "height": 34
        }
      },
      "source": [
        "## Finding all the IDS in the string\n",
        "re.findall(r'[A-Z]+[0-9]+', example_string)"
      ],
      "execution_count": 0,
      "outputs": [
        {
          "output_type": "execute_result",
          "data": {
            "text/plain": [
              "['GRYF10011', 'GRYF10012', 'SLY7777']"
            ]
          },
          "metadata": {
            "tags": []
          },
          "execution_count": 95
        }
      ]
    },
    {
      "cell_type": "code",
      "metadata": {
        "id": "tbzsiCBo2qIO",
        "colab_type": "code",
        "outputId": "4fe50401-8d52-4fde-eb2a-edc5a0e27d1d",
        "colab": {
          "base_uri": "https://localhost:8080/",
          "height": 34
        }
      },
      "source": [
        "## Finding all the equations in the string\n",
        "re.findall(r'\\S+=\\S+', example_string)"
      ],
      "execution_count": 0,
      "outputs": [
        {
          "output_type": "execute_result",
          "data": {
            "text/plain": [
              "['72=9*8', '9+8=17', 'x2-5x+6=0', '2=2']"
            ]
          },
          "metadata": {
            "tags": []
          },
          "execution_count": 94
        }
      ]
    },
    {
      "cell_type": "code",
      "metadata": {
        "id": "Duba--Vc2dZ9",
        "colab_type": "code",
        "outputId": "0309afff-2732-4dd8-858f-3a0550658b43",
        "colab": {
          "base_uri": "https://localhost:8080/",
          "height": 357
        }
      },
      "source": [
        "## Finding all the names\n",
        "re.findall(r'([A-Z][A-Za-z]+)[\\s\\']', example_string)"
      ],
      "execution_count": 0,
      "outputs": [
        {
          "output_type": "execute_result",
          "data": {
            "text/plain": [
              "['Harry',\n",
              " 'Potter',\n",
              " 'Hogwarts',\n",
              " 'ID',\n",
              " 'Ron',\n",
              " 'ID',\n",
              " 'Harry',\n",
              " 'Draco',\n",
              " 'Malfoy',\n",
              " 'ID',\n",
              " 'Fun',\n",
              " 'Harry',\n",
              " 'Potter',\n",
              " 'Voldemort',\n",
              " 'Dumbledore',\n",
              " 'What',\n",
              " 'Nobody',\n",
              " 'Random',\n",
              " 'Another',\n",
              " 'Last']"
            ]
          },
          "metadata": {
            "tags": []
          },
          "execution_count": 92
        }
      ]
    },
    {
      "cell_type": "markdown",
      "metadata": {
        "id": "sXhCkH7JB0DD",
        "colab_type": "text"
      },
      "source": [
        "Lookarounds:\n",
        "\n",
        "These do not consume our matching regular expression. They just look around for matching the expression. "
      ]
    },
    {
      "cell_type": "markdown",
      "metadata": {
        "id": "D6TK839tB1xS",
        "colab_type": "text"
      },
      "source": [
        " - Positive lookahead ?=\n",
        "\n",
        " - Negative look ahead ?!\n",
        "\n",
        " - Positive look behind ?<=\n",
        "\n",
        " - Negative look behind ?<!\n",
        "\n",
        "\n",
        "Note: ?: non-capturing is different. it consumes characters"
      ]
    },
    {
      "cell_type": "markdown",
      "metadata": {
        "id": "k3IVwG0MCrnj",
        "colab_type": "text"
      },
      "source": [
        "Examples:\n",
        "\n"
      ]
    },
    {
      "cell_type": "code",
      "metadata": {
        "id": "62P8AD0tEpJA",
        "colab_type": "code",
        "outputId": "1fc17718-b782-41c0-d237-13063a809481",
        "colab": {
          "base_uri": "https://localhost:8080/",
          "height": 34
        }
      },
      "source": [
        "re.findall(r'b(a)b', string)"
      ],
      "execution_count": 0,
      "outputs": [
        {
          "output_type": "execute_result",
          "data": {
            "text/plain": [
              "['a']"
            ]
          },
          "metadata": {
            "tags": []
          },
          "execution_count": 71
        }
      ]
    },
    {
      "cell_type": "markdown",
      "metadata": {
        "id": "64aw-IMgPlUw",
        "colab_type": "text"
      },
      "source": [
        "#### Exercise: Find all the 'a's in the string which are both preceded and followed by a 'b'"
      ]
    },
    {
      "cell_type": "code",
      "metadata": {
        "id": "kUzgzRK6Pvug",
        "colab_type": "code",
        "outputId": "8d2199f7-3667-4bfd-8eb3-540de4170fde",
        "colab": {
          "base_uri": "https://localhost:8080/",
          "height": 34
        }
      },
      "source": [
        "re.findall(r'(?<=b)a(?=b)', string)\n"
      ],
      "execution_count": 0,
      "outputs": [
        {
          "output_type": "execute_result",
          "data": {
            "text/plain": [
              "['a', 'a']"
            ]
          },
          "metadata": {
            "tags": []
          },
          "execution_count": 91
        }
      ]
    },
    {
      "cell_type": "markdown",
      "metadata": {
        "id": "PqdwdDuGEpM1",
        "colab_type": "text"
      },
      "source": [
        "#### Capture the entire look around - (ex: capture all 'bab's)"
      ]
    },
    {
      "cell_type": "code",
      "metadata": {
        "id": "PRqM5P-CCtdw",
        "colab_type": "code",
        "colab": {}
      },
      "source": [
        "string = \"abababcdeab\""
      ],
      "execution_count": 0,
      "outputs": []
    },
    {
      "cell_type": "code",
      "metadata": {
        "id": "L1U1_aWvGPA8",
        "colab_type": "code",
        "outputId": "7b50f68d-941f-4a33-ff0c-1a0814cf3560",
        "colab": {
          "base_uri": "https://localhost:8080/",
          "height": 34
        }
      },
      "source": [
        "re.findall(r'(?=(bab))', string)"
      ],
      "execution_count": 0,
      "outputs": [
        {
          "output_type": "execute_result",
          "data": {
            "text/plain": [
              "['bab', 'bab']"
            ]
          },
          "metadata": {
            "tags": []
          },
          "execution_count": 90
        }
      ]
    },
    {
      "cell_type": "markdown",
      "metadata": {
        "id": "Y3TIDAYfsd7t",
        "colab_type": "text"
      },
      "source": [
        "## Search and Replace"
      ]
    },
    {
      "cell_type": "code",
      "metadata": {
        "id": "kjqFPww4tAah",
        "colab_type": "code",
        "colab": {}
      },
      "source": [
        "def replace(s):\n",
        "  '''\n",
        "  Input: a string\n",
        "  \n",
        "  Output: input string with some replacements \n",
        "  \n",
        "  '''\n",
        "  s = re.sub(r'', s)\n",
        "  s = re.sub(r'', s)\n",
        "  return s\n",
        "\n",
        "\n",
        "### group matching example\n",
        "### ? matchina as few as example  (greedy or nongreedy)"
      ],
      "execution_count": 0,
      "outputs": []
    },
    {
      "cell_type": "code",
      "metadata": {
        "colab_type": "code",
        "id": "ruIuatcI2HX8",
        "colab": {}
      },
      "source": [
        "string = \"abababcdeab\""
      ],
      "execution_count": 0,
      "outputs": []
    },
    {
      "cell_type": "code",
      "metadata": {
        "colab_type": "code",
        "outputId": "71e3175d-fa68-4a48-f1b9-237f502e52b6",
        "id": "QO4-3MmW2HYA",
        "colab": {
          "base_uri": "https://localhost:8080/",
          "height": 34
        }
      },
      "source": [
        "re.sub(r'a', r'E', string)  ## replace the matching regex patttern with another pattern"
      ],
      "execution_count": 0,
      "outputs": [
        {
          "output_type": "execute_result",
          "data": {
            "text/plain": [
              "'EbEbEbcdeEb'"
            ]
          },
          "metadata": {
            "tags": []
          },
          "execution_count": 89
        }
      ]
    },
    {
      "cell_type": "markdown",
      "metadata": {
        "id": "ugGxlvrWItOo",
        "colab_type": "text"
      },
      "source": [
        "#### Exercise:\n",
        "1. Replace all alphabets of a student ID by \"XXXX\" in the example_string.\n",
        "\n",
        "2. Replace all student IDs in the example_string by \"YYYY\"\n",
        " \n",
        "\n",
        "3. Create a function that replaces the negative/positive contractions in a text with their full forms.\n",
        "\n",
        "Example Input for Q3:  \n",
        "\"I don't want to go there. idk, i'm afraid man.\"\n",
        "     \n",
        "Example Output for Q3:\\\n",
        "\"I do not want to go there. I do not know, I am afraid man.\""
      ]
    },
    {
      "cell_type": "markdown",
      "metadata": {
        "id": "BC0PYGDtIdNF",
        "colab_type": "text"
      },
      "source": [
        "## P.S. - Crossword lovers! Just found out yesterday that there is regex crossword:\n",
        "https://regexcrossword.com"
      ]
    }
  ]
}