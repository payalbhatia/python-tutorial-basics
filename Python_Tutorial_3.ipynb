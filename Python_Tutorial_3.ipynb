{
  "nbformat": 4,
  "nbformat_minor": 0,
  "metadata": {
    "colab": {
      "name": "Python_Tutorial_3.ipynb",
      "version": "0.3.2",
      "provenance": [],
      "collapsed_sections": []
    },
    "kernelspec": {
      "name": "python3",
      "display_name": "Python 3"
    }
  },
  "cells": [
    {
      "cell_type": "markdown",
      "metadata": {
        "id": "dDEOiV2e1s5e",
        "colab_type": "text"
      },
      "source": [
        "### Tutorial 3 (Date: 13 Sep, 2019)\n",
        "\n",
        "Link for today's notebook: https://bit.ly/2kvyvms\n",
        "\n",
        "Today's Attendance: https://forms.gle/C4FnAdQGzsNGg6Pt9\n",
        "\n",
        "Topics\n",
        "- Tokenization (corenlp, spacy)\n",
        "- Lemmatization (corenlp, spacy)\n",
        "- Sentence seperation (corenlp, spacy)\n",
        "- Reading corpuses\n",
        "- Plotting unigram counts (defaultditc, Counter etc.)\n",
        "- Zipfian distribution (http://colala.berkeley.edu/papers/piantadosi2014zipfs.pdf)\n",
        "\n",
        "\n"
      ]
    },
    {
      "cell_type": "markdown",
      "metadata": {
        "id": "oA5p5jv_0bTD",
        "colab_type": "text"
      },
      "source": [
        "## Quick note on r' in Python"
      ]
    },
    {
      "cell_type": "markdown",
      "metadata": {
        "id": "P516TBC30eHv",
        "colab_type": "text"
      },
      "source": [
        "r' keyword for strings simply means that the text is considered as raw text. The escaped characters are not evaluated.\n"
      ]
    },
    {
      "cell_type": "code",
      "metadata": {
        "id": "zUZ3aTAC0lDD",
        "colab_type": "code",
        "outputId": "2fd4149b-4a6b-4cd8-cefa-ccc13cd2caf0",
        "colab": {
          "base_uri": "https://localhost:8080/",
          "height": 51
        }
      },
      "source": [
        "print('some words \\n blah blah')"
      ],
      "execution_count": 0,
      "outputs": [
        {
          "output_type": "stream",
          "text": [
            "some words \n",
            " blah blah\n"
          ],
          "name": "stdout"
        }
      ]
    },
    {
      "cell_type": "code",
      "metadata": {
        "id": "_CcEGSVu0txJ",
        "colab_type": "code",
        "outputId": "10d0e08d-6915-4ae3-fdc1-fcf0190d2f29",
        "colab": {
          "base_uri": "https://localhost:8080/",
          "height": 34
        }
      },
      "source": [
        "print(r'some words \\n blah blah')"
      ],
      "execution_count": 0,
      "outputs": [
        {
          "output_type": "stream",
          "text": [
            "some words \\n blah blah\n"
          ],
          "name": "stdout"
        }
      ]
    },
    {
      "cell_type": "markdown",
      "metadata": {
        "id": "SXy1Bbu_1AoY",
        "colab_type": "text"
      },
      "source": [
        "r' considers \\n as a \"slash followed by an 'n' character\", whereas otherwise it is treated as a newline character. "
      ]
    },
    {
      "cell_type": "markdown",
      "metadata": {
        "id": "havcnvbb1I-Z",
        "colab_type": "text"
      },
      "source": [
        "# 1. Tokenization"
      ]
    },
    {
      "cell_type": "markdown",
      "metadata": {
        "id": "s_I_I6n9RDlh",
        "colab_type": "text"
      },
      "source": [
        "Tokenization is the task of segmenting a running text into words."
      ]
    },
    {
      "cell_type": "markdown",
      "metadata": {
        "id": "jGxx-wNfvtPT",
        "colab_type": "text"
      },
      "source": [
        "Last session, we saw that applying tokenization simply based on whitespace might not be the best idea. Especially, for a langugage like Chinese.\n",
        "It is said that the individual characters in Chinese are meaningful in themselves. So can we simply not just tokenize by characters?\n"
      ]
    },
    {
      "cell_type": "markdown",
      "metadata": {
        "id": "EFqAnbOSweUK",
        "colab_type": "text"
      },
      "source": [
        " Let's try tokenizing characters of a Hong Kong news article. (https://www.post852.com/270084/%E4%B8%AD%E7%92%B0/)\n",
        " \n",
        " Example credits - https://medium.com/@jjsham/nlp-tokenizing-chinese-phases-3302da4336bf\n"
      ]
    },
    {
      "cell_type": "code",
      "metadata": {
        "id": "-MbjEqIJv15s",
        "colab_type": "code",
        "outputId": "749048d1-7a16-4b5e-ae35-ebefa6e54a3e",
        "colab": {
          "base_uri": "https://localhost:8080/",
          "height": 34
        }
      },
      "source": [
        "news = \"林行止表示貿易戰促使在中國的工廠搬遷到越南、寮國、印度、台灣甚至是馬來西亞\"\n",
        "print(news)   #a news article ()\n"
      ],
      "execution_count": 0,
      "outputs": [
        {
          "output_type": "stream",
          "text": [
            "林行止表示貿易戰促使在中國的工廠搬遷到越南、寮國、印度、台灣甚至是馬來西亞\n"
          ],
          "name": "stdout"
        }
      ]
    },
    {
      "cell_type": "markdown",
      "metadata": {
        "id": "CNDbDAdJxFIG",
        "colab_type": "text"
      },
      "source": [
        "Google Translate translates the article as follows:\n",
        "\n",
        "\"Lin Xingzhi said that the trade war prompted the relocation of factories in China to Vietnam, Laos, India, Taiwan and even Malaysia.\""
      ]
    },
    {
      "cell_type": "markdown",
      "metadata": {
        "id": "uyJSF2Gh2VXD",
        "colab_type": "text"
      },
      "source": [
        "This is how you can split a string into characters"
      ]
    },
    {
      "cell_type": "code",
      "metadata": {
        "id": "FF07tWsZz5gZ",
        "colab_type": "code",
        "outputId": "e732bf25-902b-4026-eb62-02794996c08a",
        "colab": {
          "base_uri": "https://localhost:8080/",
          "height": 34
        }
      },
      "source": [
        "print(list('this is a string.'))"
      ],
      "execution_count": 0,
      "outputs": [
        {
          "output_type": "stream",
          "text": [
            "['t', 'h', 'i', 's', ' ', 'i', 's', ' ', 'a', ' ', 's', 't', 'r', 'i', 'n', 'g', '.']\n"
          ],
          "name": "stdout"
        }
      ]
    },
    {
      "cell_type": "markdown",
      "metadata": {
        "id": "vefhFzTM0Ru5",
        "colab_type": "text"
      },
      "source": [
        "Let's try this on our news string"
      ]
    },
    {
      "cell_type": "code",
      "metadata": {
        "id": "-oSNV4p1wUJq",
        "colab_type": "code",
        "outputId": "b9b0bb9d-6639-4bb2-8b69-073e25752b0e",
        "colab": {
          "base_uri": "https://localhost:8080/",
          "height": 54
        }
      },
      "source": [
        "print(list(news))"
      ],
      "execution_count": 0,
      "outputs": [
        {
          "output_type": "stream",
          "text": [
            "['林', '行', '止', '表', '示', '貿', '易', '戰', '促', '使', '在', '中', '國', '的', '工', '廠', '搬', '遷', '到', '越', '南', '、', '寮', '國', '、', '印', '度', '、', '台', '灣', '甚', '至', '是', '馬', '來', '西', '亞']\n"
          ],
          "name": "stdout"
        }
      ]
    },
    {
      "cell_type": "markdown",
      "metadata": {
        "id": "6byYYSn8wUL5",
        "colab_type": "text"
      },
      "source": [
        "#### Why does this not work?"
      ]
    },
    {
      "cell_type": "markdown",
      "metadata": {
        "id": "OBaSHbW7zPpJ",
        "colab_type": "text"
      },
      "source": [
        "Some good reasons are as follows:"
      ]
    },
    {
      "cell_type": "markdown",
      "metadata": {
        "id": "l0FtehDywUPl",
        "colab_type": "text"
      },
      "source": [
        "#### 1. Names\n",
        "\n",
        "'林行止' is a name (Lin Xingzhi)\n",
        "\n",
        "However, splitting it into characters literally mean - \"forest, walk, halt\""
      ]
    },
    {
      "cell_type": "markdown",
      "metadata": {
        "id": "vjZPxMmKyb13",
        "colab_type": "text"
      },
      "source": [
        "#### 2. Some phrases are made up of two of more characters.\n",
        "\n",
        " - 馬來西亞 means Malaysia, but word by word means “Horse come to Western Asia”\n"
      ]
    },
    {
      "cell_type": "markdown",
      "metadata": {
        "id": "uoB4QysGyb6L",
        "colab_type": "text"
      },
      "source": [
        "So what should we do?"
      ]
    },
    {
      "cell_type": "markdown",
      "metadata": {
        "id": "cjMn8B10yb-G",
        "colab_type": "text"
      },
      "source": [
        "Luckily for us, people have made packages available to the public which are modeled independently for different languages. \n",
        "\n",
        "Hence, we can simply just import those into Python and use them as we wish.\n"
      ]
    },
    {
      "cell_type": "markdown",
      "metadata": {
        "id": "2T1lTQ85yb8V",
        "colab_type": "text"
      },
      "source": [
        "I'll cover two of the most popular state-of-the-art packages which are used by researchers working on Natural Language Processing.\n",
        "\n",
        "- StanfordCoreNLP (https://stanfordnlp.github.io/stanfordnlp/)\n",
        "- spacy (https://spacy.io/)\n",
        "\n",
        "Note: Both stanfordcorenlp and spacy support computations on a GPU"
      ]
    },
    {
      "cell_type": "markdown",
      "metadata": {
        "id": "pBWrUBi34IsP",
        "colab_type": "text"
      },
      "source": [
        "## 1.1 StanfordCoreNLP"
      ]
    },
    {
      "cell_type": "code",
      "metadata": {
        "id": "yYOM89AORShj",
        "colab_type": "code",
        "outputId": "b8763421-b383-4916-ea1e-b5d95e86a7d5",
        "colab": {
          "base_uri": "https://localhost:8080/",
          "height": 309
        }
      },
      "source": [
        "!pip install stanfordnlp\n",
        "import stanfordnlp   \n",
        "\n",
        "## If the above command doesn't work, run the following before it:\n",
        "## !pip install stanfordnlp"
      ],
      "execution_count": 0,
      "outputs": [
        {
          "output_type": "stream",
          "text": [
            "Collecting stanfordnlp\n",
            "\u001b[?25l  Downloading https://files.pythonhosted.org/packages/41/bf/5d2898febb6e993fcccd90484cba3c46353658511a41430012e901824e94/stanfordnlp-0.2.0-py3-none-any.whl (158kB)\n",
            "\r\u001b[K     |██                              | 10kB 15.1MB/s eta 0:00:01\r\u001b[K     |████▏                           | 20kB 2.2MB/s eta 0:00:01\r\u001b[K     |██████▏                         | 30kB 3.3MB/s eta 0:00:01\r\u001b[K     |████████▎                       | 40kB 2.1MB/s eta 0:00:01\r\u001b[K     |██████████▎                     | 51kB 2.6MB/s eta 0:00:01\r\u001b[K     |████████████▍                   | 61kB 3.1MB/s eta 0:00:01\r\u001b[K     |██████████████▌                 | 71kB 3.6MB/s eta 0:00:01\r\u001b[K     |████████████████▌               | 81kB 4.1MB/s eta 0:00:01\r\u001b[K     |██████████████████▋             | 92kB 4.6MB/s eta 0:00:01\r\u001b[K     |████████████████████▋           | 102kB 3.5MB/s eta 0:00:01\r\u001b[K     |██████████████████████▊         | 112kB 3.5MB/s eta 0:00:01\r\u001b[K     |████████████████████████▊       | 122kB 3.5MB/s eta 0:00:01\r\u001b[K     |██████████████████████████▉     | 133kB 3.5MB/s eta 0:00:01\r\u001b[K     |█████████████████████████████   | 143kB 3.5MB/s eta 0:00:01\r\u001b[K     |███████████████████████████████ | 153kB 3.5MB/s eta 0:00:01\r\u001b[K     |████████████████████████████████| 163kB 3.5MB/s \n",
            "\u001b[?25hRequirement already satisfied: tqdm in /usr/local/lib/python3.6/dist-packages (from stanfordnlp) (4.28.1)\n",
            "Requirement already satisfied: protobuf in /usr/local/lib/python3.6/dist-packages (from stanfordnlp) (3.7.1)\n",
            "Requirement already satisfied: requests in /usr/local/lib/python3.6/dist-packages (from stanfordnlp) (2.21.0)\n",
            "Requirement already satisfied: torch>=1.0.0 in /usr/local/lib/python3.6/dist-packages (from stanfordnlp) (1.1.0)\n",
            "Requirement already satisfied: numpy in /usr/local/lib/python3.6/dist-packages (from stanfordnlp) (1.16.5)\n",
            "Requirement already satisfied: setuptools in /usr/local/lib/python3.6/dist-packages (from protobuf->stanfordnlp) (41.2.0)\n",
            "Requirement already satisfied: six>=1.9 in /usr/local/lib/python3.6/dist-packages (from protobuf->stanfordnlp) (1.12.0)\n",
            "Requirement already satisfied: chardet<3.1.0,>=3.0.2 in /usr/local/lib/python3.6/dist-packages (from requests->stanfordnlp) (3.0.4)\n",
            "Requirement already satisfied: certifi>=2017.4.17 in /usr/local/lib/python3.6/dist-packages (from requests->stanfordnlp) (2019.6.16)\n",
            "Requirement already satisfied: urllib3<1.25,>=1.21.1 in /usr/local/lib/python3.6/dist-packages (from requests->stanfordnlp) (1.24.3)\n",
            "Requirement already satisfied: idna<2.9,>=2.5 in /usr/local/lib/python3.6/dist-packages (from requests->stanfordnlp) (2.8)\n",
            "Installing collected packages: stanfordnlp\n",
            "Successfully installed stanfordnlp-0.2.0\n"
          ],
          "name": "stdout"
        }
      ]
    },
    {
      "cell_type": "markdown",
      "metadata": {
        "id": "auubz_yM4Lsh",
        "colab_type": "text"
      },
      "source": [
        "#### Downloading Models"
      ]
    },
    {
      "cell_type": "code",
      "metadata": {
        "id": "sZ7Ec50MRYyd",
        "colab_type": "code",
        "outputId": "ef1986cb-e3ae-46a2-89aa-ee9bfb0caa40",
        "colab": {
          "base_uri": "https://localhost:8080/",
          "height": 459
        }
      },
      "source": [
        "# Download an English model\n",
        "stanfordnlp.download('en', force=True)\n",
        "  \n",
        "# Similarly, download a (traditional) Chinese model\n",
        "stanfordnlp.download('zh', force=True)"
      ],
      "execution_count": 0,
      "outputs": [
        {
          "output_type": "stream",
          "text": [
            "Using the default treebank \"en_ewt\" for language \"en\".\n",
            "Would you like to download the models for: en_ewt now? (Y/n)\n",
            "\n",
            "Default download directory: /root/stanfordnlp_resources\n",
            "Hit enter to continue or type an alternate directory.\n",
            "\n",
            "Downloading models for: en_ewt\n",
            "Download location: /root/stanfordnlp_resources/en_ewt_models.zip\n"
          ],
          "name": "stdout"
        },
        {
          "output_type": "stream",
          "text": [
            "100%|██████████| 235M/235M [00:10<00:00, 18.8MB/s]\n"
          ],
          "name": "stderr"
        },
        {
          "output_type": "stream",
          "text": [
            "\n",
            "Download complete.  Models saved to: /root/stanfordnlp_resources/en_ewt_models.zip\n",
            "Extracting models file for: en_ewt\n",
            "Cleaning up...Done.\n",
            "Using the default treebank \"zh_gsd\" for language \"zh\".\n",
            "Would you like to download the models for: zh_gsd now? (Y/n)\n",
            "\n",
            "Default download directory: /root/stanfordnlp_resources\n",
            "Hit enter to continue or type an alternate directory.\n",
            "\n",
            "Downloading models for: zh_gsd\n",
            "Download location: /root/stanfordnlp_resources/zh_gsd_models.zip\n"
          ],
          "name": "stdout"
        },
        {
          "output_type": "stream",
          "text": [
            "100%|██████████| 234M/234M [00:30<00:00, 7.46MB/s]\n"
          ],
          "name": "stderr"
        },
        {
          "output_type": "stream",
          "text": [
            "\n",
            "Download complete.  Models saved to: /root/stanfordnlp_resources/zh_gsd_models.zip\n",
            "Extracting models file for: zh_gsd\n",
            "Cleaning up...Done.\n"
          ],
          "name": "stdout"
        }
      ]
    },
    {
      "cell_type": "markdown",
      "metadata": {
        "id": "i53ZeGJw4i-5",
        "colab_type": "text"
      },
      "source": [
        "#### Processing Text - setting up a pipeline in corenlp\n",
        " (Source: https://bit.ly/2kb8eJU)\n",
        "\n",
        " - To process a piece of text, you'll need to first construct a `Pipeline` with different `Processor` units. The pipeline is language-specific, so again you'll need to first specify the language.\n",
        "\n",
        " - By default, the pipeline will include all processors, including tokenization, multi-word token expansion, part-of-speech tagging, lemmatization and dependency parsing. However, you can always specify what processors you want to include with the processors argument.\n",
        "\n",
        " - Note that the backend device has to be specified when building the pipeline. By default, the pipeline will always use a CUDA-compatible GPU if it exists on your device to accelerate computing, and it'll fall back to CPU if no such GPU can be found. You can force the pipeline to use CPU regardless by setting use_gpu=False."
      ]
    },
    {
      "cell_type": "code",
      "metadata": {
        "id": "U-skvfi5RgMd",
        "colab_type": "code",
        "outputId": "ac9c48f4-eebc-41f7-aea7-dbc9a189d011",
        "colab": {
          "base_uri": "https://localhost:8080/",
          "height": 255
        }
      },
      "source": [
        "# Build an English pipeline, with all processors by default\n",
        "corenlp_en_nlp = stanfordnlp.Pipeline(lang='en', processors = 'tokenize', use_gpu=False)\n",
        "\n",
        "# Build a Chinese pipeline, with customized processor list, and force it to use CPU\n",
        "corenlp_zh_nlp = stanfordnlp.Pipeline(lang='zh', processors='tokenize', use_gpu=False)\n",
        "\n",
        "### A full processors list looks like: processors='tokenize,lemma,pos,depparse'"
      ],
      "execution_count": 0,
      "outputs": [
        {
          "output_type": "stream",
          "text": [
            "Use device: cpu\n",
            "---\n",
            "Loading: tokenize\n",
            "With settings: \n",
            "{'model_path': '/root/stanfordnlp_resources/en_ewt_models/en_ewt_tokenizer.pt', 'lang': 'en', 'shorthand': 'en_ewt', 'mode': 'predict'}\n",
            "Done loading processors!\n",
            "---\n",
            "Use device: cpu\n",
            "---\n",
            "Loading: tokenize\n",
            "With settings: \n",
            "{'model_path': '/root/stanfordnlp_resources/zh_gsd_models/zh_gsd_tokenizer.pt', 'lang': 'zh', 'shorthand': 'zh_gsd', 'mode': 'predict'}\n",
            "Done loading processors!\n",
            "---\n"
          ],
          "name": "stdout"
        }
      ]
    },
    {
      "cell_type": "markdown",
      "metadata": {
        "id": "_aH9V3CQSQ8s",
        "colab_type": "text"
      },
      "source": [
        "#### Creating document objects"
      ]
    },
    {
      "cell_type": "code",
      "metadata": {
        "id": "zNEG6bki7c5H",
        "colab_type": "code",
        "colab": {}
      },
      "source": [
        "en_str = \"Homelessness is to be found in the large numbers of mentally ill and substance-abusing people in the homeless population, don't you think?\"\n",
        "zh_str = \"林行止表示貿易戰促使在中國的工廠搬遷到越南、寮國、印度、台灣甚至是馬來西亞\""
      ],
      "execution_count": 0,
      "outputs": []
    },
    {
      "cell_type": "code",
      "metadata": {
        "id": "XyT601pu7ozI",
        "colab_type": "code",
        "outputId": "042cf47f-5bf5-4ff7-b3b1-48042af801db",
        "colab": {
          "base_uri": "https://localhost:8080/",
          "height": 54
        }
      },
      "source": [
        "## Our Earlier algo using regex function\n",
        "import re\n",
        "print(re.findall('[^ ]+', en_str))  ## based on whitespace seperation"
      ],
      "execution_count": 0,
      "outputs": [
        {
          "output_type": "stream",
          "text": [
            "['Homelessness', 'is', 'to', 'be', 'found', 'in', 'the', 'large', 'numbers', 'of', 'mentally', 'ill', 'and', 'substance-abusing', 'people', 'in', 'the', 'homeless', 'population,', \"don't\", 'you', 'think?']\n"
          ],
          "name": "stdout"
        }
      ]
    },
    {
      "cell_type": "code",
      "metadata": {
        "id": "6sLXdw4e51Ij",
        "colab_type": "code",
        "outputId": "9a2f7976-f54c-43f0-e579-633df0d91feb",
        "colab": {
          "base_uri": "https://localhost:8080/",
          "height": 51
        }
      },
      "source": [
        "# Processing English text\n",
        "en_doc = corenlp_en_nlp(en_str)\n",
        "print(type(en_doc))\n",
        "\n",
        "# Processing Chinese text\n",
        "zh_doc = corenlp_zh_nlp(zh_str)\n",
        "print(type(zh_doc))"
      ],
      "execution_count": 0,
      "outputs": [
        {
          "output_type": "stream",
          "text": [
            "<class 'stanfordnlp.pipeline.doc.Document'>\n",
            "<class 'stanfordnlp.pipeline.doc.Document'>\n"
          ],
          "name": "stdout"
        }
      ]
    },
    {
      "cell_type": "code",
      "metadata": {
        "id": "aUKeRApPSXs0",
        "colab_type": "code",
        "outputId": "91622bb8-32d4-4b35-8aef-69235bcf9202",
        "colab": {
          "base_uri": "https://localhost:8080/",
          "height": 54
        }
      },
      "source": [
        "for sent in en_doc.sentences:\n",
        "    corenlp_en_sent = [word.text for word in sent.words]\n",
        "    print(corenlp_en_sent)"
      ],
      "execution_count": 0,
      "outputs": [
        {
          "output_type": "stream",
          "text": [
            "['Homelessness', 'is', 'to', 'be', 'found', 'in', 'the', 'large', 'numbers', 'of', 'mentally', 'ill', 'and', 'substance', '-', 'abusing', 'people', 'in', 'the', 'homeless', 'population', ',', 'do', \"n't\", 'you', 'think', '?']\n"
          ],
          "name": "stdout"
        }
      ]
    },
    {
      "cell_type": "code",
      "metadata": {
        "id": "yA5pU4YxSja1",
        "colab_type": "code",
        "outputId": "55d7ec2e-a798-4970-f84a-9adac08f364e",
        "colab": {
          "base_uri": "https://localhost:8080/",
          "height": 34
        }
      },
      "source": [
        "for i, sent in enumerate(zh_doc.sentences):\n",
        "    corenlp_zh_sent = [word.text for word in sent.words]\n",
        "    print(corenlp_zh_sent)"
      ],
      "execution_count": 0,
      "outputs": [
        {
          "output_type": "stream",
          "text": [
            "['林', '行止', '表示', '貿易', '戰促', '使', '在', '中國', '的', '工廠', '搬遷', '到', '越南', '、', '寮國', '、', '印度', '、', '台灣', '甚至', '是', '馬來西亞']\n"
          ],
          "name": "stdout"
        }
      ]
    },
    {
      "cell_type": "markdown",
      "metadata": {
        "id": "-kBjWHBB6_nm",
        "colab_type": "text"
      },
      "source": [
        "## 1.2 Spacy"
      ]
    },
    {
      "cell_type": "code",
      "metadata": {
        "id": "u8MpzUx882mi",
        "colab_type": "code",
        "colab": {}
      },
      "source": [
        "import spacy"
      ],
      "execution_count": 0,
      "outputs": []
    },
    {
      "cell_type": "code",
      "metadata": {
        "id": "LJrP2BlN_rX_",
        "colab_type": "code",
        "outputId": "9cd7926c-6a34-42d9-c773-807ad603f1b6",
        "colab": {
          "base_uri": "https://localhost:8080/",
          "height": 292
        }
      },
      "source": [
        "## Download models:\n",
        "!python -m spacy download en_core_web_sm\n",
        "!python -m spacy download it_core_news_sm"
      ],
      "execution_count": 0,
      "outputs": [
        {
          "output_type": "stream",
          "text": [
            "Requirement already satisfied: en_core_web_sm==2.1.0 from https://github.com/explosion/spacy-models/releases/download/en_core_web_sm-2.1.0/en_core_web_sm-2.1.0.tar.gz#egg=en_core_web_sm==2.1.0 in /usr/local/lib/python3.6/dist-packages (2.1.0)\n",
            "\u001b[38;5;2m✔ Download and installation successful\u001b[0m\n",
            "You can now load the model via spacy.load('en_core_web_sm')\n",
            "Collecting it_core_news_sm==2.1.0 from https://github.com/explosion/spacy-models/releases/download/it_core_news_sm-2.1.0/it_core_news_sm-2.1.0.tar.gz#egg=it_core_news_sm==2.1.0\n",
            "\u001b[?25l  Downloading https://github.com/explosion/spacy-models/releases/download/it_core_news_sm-2.1.0/it_core_news_sm-2.1.0.tar.gz (11.1MB)\n",
            "\u001b[K     |████████████████████████████████| 11.1MB 1.2MB/s \n",
            "\u001b[?25hBuilding wheels for collected packages: it-core-news-sm\n",
            "  Building wheel for it-core-news-sm (setup.py) ... \u001b[?25l\u001b[?25hdone\n",
            "  Created wheel for it-core-news-sm: filename=it_core_news_sm-2.1.0-cp36-none-any.whl size=11123297 sha256=2728888c0f22681d48a2b6ed904eac638ad3acfe7bf9fd091c9e2b89f094487c\n",
            "  Stored in directory: /tmp/pip-ephem-wheel-cache-uyo_tid2/wheels/8a/7b/11/1010c25163c5166f22f68205123898a33cbe535e0f7525a9ab\n",
            "Successfully built it-core-news-sm\n",
            "Installing collected packages: it-core-news-sm\n",
            "Successfully installed it-core-news-sm-2.1.0\n",
            "\u001b[38;5;2m✔ Download and installation successful\u001b[0m\n",
            "You can now load the model via spacy.load('it_core_news_sm')\n"
          ],
          "name": "stdout"
        }
      ]
    },
    {
      "cell_type": "markdown",
      "metadata": {
        "id": "0LHrn3X384AB",
        "colab_type": "text"
      },
      "source": [
        " Loading spacy models (A list of models is available here - https://spacy.io/usage/models)"
      ]
    },
    {
      "cell_type": "code",
      "metadata": {
        "id": "fKXfvixE_YRL",
        "colab_type": "code",
        "colab": {}
      },
      "source": [
        "spacy_en_nlp = spacy.load(\"en_core_web_sm\" ) #disable=[\"tagger\", \"parser\", \"ner\"]"
      ],
      "execution_count": 0,
      "outputs": []
    },
    {
      "cell_type": "markdown",
      "metadata": {
        "id": "HoAD_kBNLIgl",
        "colab_type": "text"
      },
      "source": [
        "Unfortunately, Spacy doesn't have a model for Chinese, but they do support Chinese tokenization using another package `jieba`"
      ]
    },
    {
      "cell_type": "code",
      "metadata": {
        "id": "fE7Z2eG8_pTL",
        "colab_type": "code",
        "outputId": "d0a01ae5-2f43-4604-e215-290a427c0a8d",
        "colab": {
          "base_uri": "https://localhost:8080/",
          "height": 68
        }
      },
      "source": [
        "spacy_en_nlp.pipeline"
      ],
      "execution_count": 0,
      "outputs": [
        {
          "output_type": "execute_result",
          "data": {
            "text/plain": [
              "[('tagger', <spacy.pipeline.pipes.Tagger at 0x7f0e318eeb00>),\n",
              " ('parser', <spacy.pipeline.pipes.DependencyParser at 0x7f0e312bd888>),\n",
              " ('ner', <spacy.pipeline.pipes.EntityRecognizer at 0x7f0e312bd8e8>)]"
            ]
          },
          "metadata": {
            "tags": []
          },
          "execution_count": 17
        }
      ]
    },
    {
      "cell_type": "markdown",
      "metadata": {
        "id": "fEFQGkxzAo7Z",
        "colab_type": "text"
      },
      "source": [
        "#### Creating document objects"
      ]
    },
    {
      "cell_type": "code",
      "metadata": {
        "id": "Wecf4NzSDUcu",
        "colab_type": "code",
        "colab": {}
      },
      "source": [
        "en_str = \"Homelessness is to be found in the large numbers of mentally ill and substance-abusing people in the homeless population, does he not think so?\"\n",
        "zh_str = \"林行止表示貿易戰促使在中國的工廠搬遷到越南、寮國、印度、台灣甚至是馬來西亞\""
      ],
      "execution_count": 0,
      "outputs": []
    },
    {
      "cell_type": "code",
      "metadata": {
        "id": "TR8nginHDQxu",
        "colab_type": "code",
        "outputId": "c727f1cf-ee36-41dc-c591-36bb15ce3d96",
        "colab": {
          "base_uri": "https://localhost:8080/",
          "height": 54
        }
      },
      "source": [
        "en_doc = spacy_en_nlp(en_str)\n",
        "spacy_en_sent = [w.text for w in en_doc]\n",
        "print(spacy_en_sent)"
      ],
      "execution_count": 0,
      "outputs": [
        {
          "output_type": "stream",
          "text": [
            "['Homelessness', 'is', 'to', 'be', 'found', 'in', 'the', 'large', 'numbers', 'of', 'mentally', 'ill', 'and', 'substance', '-', 'abusing', 'people', 'in', 'the', 'homeless', 'population', ',', 'does', 'he', 'not', 'think', 'so', '?']\n"
          ],
          "name": "stdout"
        }
      ]
    },
    {
      "cell_type": "code",
      "metadata": {
        "id": "igZ3YPsOLl0o",
        "colab_type": "code",
        "outputId": "1ff1e62a-e8a8-4dae-a299-bb4f77863eee",
        "colab": {
          "base_uri": "https://localhost:8080/",
          "height": 54
        }
      },
      "source": [
        "spacy_en_sent = [w.text for w in en_doc]\n",
        "print(spacy_en_sent)"
      ],
      "execution_count": 0,
      "outputs": [
        {
          "output_type": "stream",
          "text": [
            "['Homelessness', 'is', 'to', 'be', 'found', 'in', 'the', 'large', 'numbers', 'of', 'mentally', 'ill', 'and', 'substance', '-', 'abusing', 'people', 'in', 'the', 'homeless', 'population', ',', 'does', 'he', 'not', 'think', 'so', '?']\n"
          ],
          "name": "stdout"
        }
      ]
    },
    {
      "cell_type": "markdown",
      "metadata": {
        "id": "vhC27wC6L8zW",
        "colab_type": "text"
      },
      "source": [
        "Tokenization for Chinese"
      ]
    },
    {
      "cell_type": "code",
      "metadata": {
        "id": "ISprodPKK50o",
        "colab_type": "code",
        "outputId": "740649f0-55ce-4a11-ddad-1718aff18a82",
        "colab": {
          "base_uri": "https://localhost:8080/",
          "height": 122
        }
      },
      "source": [
        "from spacy.lang.zh import Chinese\n",
        "\n",
        "zh_nlp = Chinese()\n",
        "zh_doc = zh_nlp(zh_str)\n",
        "\n",
        "spacy_zh_sent = [w.text for w in zh_doc]\n",
        "print(spacy_zh_sent)"
      ],
      "execution_count": 0,
      "outputs": [
        {
          "output_type": "stream",
          "text": [
            "Building prefix dict from the default dictionary ...\n",
            "Dumping model to file cache /tmp/jieba.cache\n",
            "Loading model cost 0.897 seconds.\n",
            "Prefix dict has been built succesfully.\n"
          ],
          "name": "stderr"
        },
        {
          "output_type": "stream",
          "text": [
            "['林', '行止', '表示', '貿易戰', '促使', '在', '中國', '的', '工廠', '搬', '遷', '到', '越南', '、', '寮', '國', '、', '印度', '、', '台灣', '甚至', '是', '馬', '來', '西亞']\n"
          ],
          "name": "stdout"
        }
      ]
    },
    {
      "cell_type": "markdown",
      "metadata": {
        "id": "X4tMD0H8M8BY",
        "colab_type": "text"
      },
      "source": [
        "Note how spacy wasn't able to correctly tokenize Malaysia (the last three words), however, Corenlp did correctly tokenize it."
      ]
    },
    {
      "cell_type": "code",
      "metadata": {
        "id": "2Y2jSyr5DgcP",
        "colab_type": "code",
        "outputId": "c50723c9-d9a2-4f68-f12e-403026604ea5",
        "colab": {
          "base_uri": "https://localhost:8080/",
          "height": 71
        }
      },
      "source": [
        "print(corenlp_en_sent)\n",
        "print(spacy_en_sent)"
      ],
      "execution_count": 0,
      "outputs": [
        {
          "output_type": "stream",
          "text": [
            "['Homelessness', 'is', 'to', 'be', 'found', 'in', 'the', 'large', 'numbers', 'of', 'mentally', 'ill', 'and', 'substance', '-', 'abusing', 'people', 'in', 'the', 'homeless', 'population', ',', 'do', \"n't\", 'you', 'think', '?']\n",
            "['Homelessness', 'is', 'to', 'be', 'found', 'in', 'the', 'large', 'numbers', 'of', 'mentally', 'ill', 'and', 'substance', '-', 'abusing', 'people', 'in', 'the', 'homeless', 'population', ',', 'does', 'he', 'not', 'think', 'so', '?']\n"
          ],
          "name": "stdout"
        }
      ]
    },
    {
      "cell_type": "markdown",
      "metadata": {
        "id": "fW-XDOFkNOPQ",
        "colab_type": "text"
      },
      "source": [
        "# 2. Lemmatization"
      ]
    },
    {
      "cell_type": "markdown",
      "metadata": {
        "id": "5T4Bx8hPSwO1",
        "colab_type": "text"
      },
      "source": [
        "Jurafsky and Martin define Lemmatization in their book as follows (https://web.stanford.edu/~jurafsky/slp3/2.pdf):\n",
        "\n",
        "\"Lemmatization is the task of determining that two words have the same root,\n",
        "despite their surface differences. The words am, are, and is have the shared lemma\n",
        "be; the words dinner and dinners both have the lemma dinner. Lemmatizing each of\n",
        "these forms to the same lemma will let us find all mentions of words in Russian like\n",
        "Moscow. \n",
        "\n",
        "The lemmatized form of a sentence like:\n",
        "\n",
        "\"He is reading detective stories\"\n",
        "\n",
        "would thus be:\n",
        "\n",
        "He be read detective story.\""
      ]
    },
    {
      "cell_type": "markdown",
      "metadata": {
        "id": "c5gniFlHTLL6",
        "colab_type": "text"
      },
      "source": [
        "To get the lemmatized forms of words, we need to modify the processors list in the corenlp object"
      ]
    },
    {
      "cell_type": "code",
      "metadata": {
        "id": "8uMyiLMoUTGJ",
        "colab_type": "code",
        "outputId": "964ba711-2a6c-46a2-f83f-ff9b3bd33bb7",
        "colab": {
          "base_uri": "https://localhost:8080/",
          "height": 561
        }
      },
      "source": [
        "# Build an English pipeline, with all processors by default\n",
        "corenlp_en_nlp = stanfordnlp.Pipeline(lang='en', processors = 'tokenize,lemma', use_gpu=False)\n",
        "\n",
        "# Build a Chinese pipeline, with customized processor list, and force it to use CPU\n",
        "corenlp_zh_nlp = stanfordnlp.Pipeline(lang='zh', processors='tokenize,lemma', use_gpu=False)\n",
        "\n",
        "### A full processors list looks like: processors='tokenize,lemma,pos,depparse'"
      ],
      "execution_count": 0,
      "outputs": [
        {
          "output_type": "stream",
          "text": [
            "Use device: cpu\n",
            "---\n",
            "Loading: tokenize\n",
            "With settings: \n",
            "{'model_path': '/root/stanfordnlp_resources/en_ewt_models/en_ewt_tokenizer.pt', 'lang': 'en', 'shorthand': 'en_ewt', 'mode': 'predict'}\n",
            "---\n",
            "Loading: lemma\n",
            "With settings: \n",
            "{'model_path': '/root/stanfordnlp_resources/en_ewt_models/en_ewt_lemmatizer.pt', 'lang': 'en', 'shorthand': 'en_ewt', 'mode': 'predict'}\n",
            "Building an attentional Seq2Seq model...\n",
            "Using a Bi-LSTM encoder\n",
            "Using soft attention for LSTM.\n",
            "Finetune all embeddings.\n",
            "[Running seq2seq lemmatizer with edit classifier]\n",
            "Done loading processors!\n",
            "---\n",
            "Use device: cpu\n",
            "---\n",
            "Loading: tokenize\n",
            "With settings: \n",
            "{'model_path': '/root/stanfordnlp_resources/zh_gsd_models/zh_gsd_tokenizer.pt', 'lang': 'zh', 'shorthand': 'zh_gsd', 'mode': 'predict'}\n",
            "---\n",
            "Loading: lemma\n",
            "With settings: \n",
            "{'model_path': '/root/stanfordnlp_resources/zh_gsd_models/zh_gsd_lemmatizer.pt', 'lang': 'zh', 'shorthand': 'zh_gsd', 'mode': 'predict'}\n",
            "Building an attentional Seq2Seq model...\n",
            "Using a Bi-LSTM encoder\n",
            "Using soft attention for LSTM.\n",
            "Finetune all embeddings.\n",
            "[Running seq2seq lemmatizer with edit classifier]\n",
            "Done loading processors!\n",
            "---\n"
          ],
          "name": "stdout"
        }
      ]
    },
    {
      "cell_type": "code",
      "metadata": {
        "colab_type": "code",
        "outputId": "4228e6e4-f64f-4d74-ec97-c76b2a1d385f",
        "id": "_r3co-RFVPkF",
        "colab": {
          "base_uri": "https://localhost:8080/",
          "height": 51
        }
      },
      "source": [
        "# Processing English text\n",
        "en_doc = corenlp_en_nlp(en_str)\n",
        "print(type(en_doc))\n",
        "\n",
        "# Processing Chinese text\n",
        "zh_doc = corenlp_zh_nlp(zh_str)\n",
        "print(type(zh_doc))"
      ],
      "execution_count": 0,
      "outputs": [
        {
          "output_type": "stream",
          "text": [
            "<class 'stanfordnlp.pipeline.doc.Document'>\n",
            "<class 'stanfordnlp.pipeline.doc.Document'>\n"
          ],
          "name": "stdout"
        }
      ]
    },
    {
      "cell_type": "code",
      "metadata": {
        "colab_type": "code",
        "outputId": "dd2c217a-b8cc-4b88-80df-7597879f490d",
        "id": "2NyC_RFnVPkM",
        "colab": {
          "base_uri": "https://localhost:8080/",
          "height": 54
        }
      },
      "source": [
        "for sent in en_doc.sentences:\n",
        "    corenlp_en_sent = [(word.text, word.lemma) for word in sent.words]\n",
        "    print(corenlp_en_sent)"
      ],
      "execution_count": 0,
      "outputs": [
        {
          "output_type": "stream",
          "text": [
            "[('Homelessness', 'homelessness'), ('is', 'be'), ('to', 'to'), ('be', 'be'), ('found', 'find'), ('in', 'in'), ('the', 'the'), ('large', 'large'), ('numbers', 'number'), ('of', 'of'), ('mentally', 'mentally'), ('ill', 'ill'), ('and', 'and'), ('substance', 'substance'), ('-', '-'), ('abusing', 'abuse'), ('people', 'people'), ('in', 'in'), ('the', 'the'), ('homeless', 'homeless'), ('population', 'population'), (',', ','), ('does', 'do'), ('he', 'he'), ('not', 'not'), ('think', 'think'), ('so', 'so'), ('?', '?')]\n"
          ],
          "name": "stdout"
        }
      ]
    },
    {
      "cell_type": "code",
      "metadata": {
        "id": "Ny2uAJ8UVT3w",
        "colab_type": "code",
        "outputId": "60aec01b-9b7a-4cdf-95b0-4d3ee15b97ac",
        "colab": {
          "base_uri": "https://localhost:8080/",
          "height": 54
        }
      },
      "source": [
        "for i, sent in enumerate(zh_doc.sentences):\n",
        "    corenlp_zh_sent = [(word.text, word.lemma) for word in sent.words]\n",
        "    print(corenlp_zh_sent)"
      ],
      "execution_count": 0,
      "outputs": [
        {
          "output_type": "stream",
          "text": [
            "[('林', '林'), ('行止', '行止'), ('表示', '表示'), ('貿易', '貿易'), ('戰促', '戰促'), ('使', '使'), ('在', '在'), ('中國', '中國'), ('的', '的'), ('工廠', '工廠'), ('搬遷', '搬遷'), ('到', '到'), ('越南', '越南'), ('、', '、'), ('寮國', '寮國'), ('、', '、'), ('印度', '印度'), ('、', '、'), ('台灣', '台灣'), ('甚至', '甚至'), ('是', '是'), ('馬來西亞', '馬來西亞')]\n"
          ],
          "name": "stdout"
        }
      ]
    },
    {
      "cell_type": "markdown",
      "metadata": {
        "id": "omKWzY-dcEDN",
        "colab_type": "text"
      },
      "source": [
        "#### Spacy"
      ]
    },
    {
      "cell_type": "code",
      "metadata": {
        "id": "FYYnr1UUcTs-",
        "colab_type": "code",
        "outputId": "b506647e-c59a-44cc-efa3-5bac83fcb270",
        "colab": {
          "base_uri": "https://localhost:8080/",
          "height": 34
        }
      },
      "source": [
        "en_str = \"I don't like him.\"\n",
        "en_doc = spacy_en_nlp(en_str)\n",
        "spacy_en_sent = [(w.text, w.lemma_) for w in en_doc]\n",
        "print(spacy_en_sent)"
      ],
      "execution_count": 0,
      "outputs": [
        {
          "output_type": "stream",
          "text": [
            "[('I', '-PRON-'), ('do', 'do'), (\"n't\", 'not'), ('like', 'like'), ('him', '-PRON-'), ('.', '.')]\n"
          ],
          "name": "stdout"
        }
      ]
    },
    {
      "cell_type": "markdown",
      "metadata": {
        "id": "TXUlJ_F822cY",
        "colab_type": "text"
      },
      "source": [
        "# 3. Named Entity Recognition"
      ]
    },
    {
      "cell_type": "markdown",
      "metadata": {
        "id": "2Jg1z-0VXzDS",
        "colab_type": "text"
      },
      "source": [
        "In Tutorial 2, we discussed an exercise where we were trying to figure out how to extract all the named entities in a text. One simple way of doing that was to use a regex function to match all the words starting with a capital letter. But then it doesn't work because every sentence also starts a with a capital letter word and it might not be a named entity. Also, for identifying names, we want to consider something like \"Harry Potter\" as the same entity instead of saying that \"Harry\" is one entity and \"Potter\" is another.\n",
        "\n",
        "We can use the spacy package to extract entities from a text string as follows:"
      ]
    },
    {
      "cell_type": "code",
      "metadata": {
        "id": "4ABypk7vBhsq",
        "colab_type": "code",
        "outputId": "83aa39b3-7f51-46c6-ecf7-064fbb9b0f27",
        "colab": {
          "base_uri": "https://localhost:8080/",
          "height": 153
        }
      },
      "source": [
        "en_str = '''\n",
        "This is an example string. Harry Potter is a name of an individual. Ron Weasley and Draco Malfoy are his school-mates.\n",
        "Voldemort is another individual who has an army of Death Eaters.\n",
        "He belongs to the Hogwart school. Nobody actually know if the school actually exists. But, nevertheless, people love the concept.\n",
        "Do you think the NER-System, Spacy, will capture all the named entities in this string correctly?\n",
        "'''\n",
        "\n",
        "en_doc = spacy_en_nlp(en_str)\n",
        "en_doc.ents"
      ],
      "execution_count": 0,
      "outputs": [
        {
          "output_type": "execute_result",
          "data": {
            "text/plain": [
              "(Harry Potter,\n",
              " Ron Weasley,\n",
              " Draco Malfoy,\n",
              " Voldemort,\n",
              " Death Eaters,\n",
              " Hogwart,\n",
              " the NER-System,\n",
              " Spacy)"
            ]
          },
          "metadata": {
            "tags": []
          },
          "execution_count": 28
        }
      ]
    },
    {
      "cell_type": "markdown",
      "metadata": {
        "id": "je2-XdDyXrcX",
        "colab_type": "text"
      },
      "source": [
        "As we can see above, the NER system is pretty good at finding the named entities in a text"
      ]
    },
    {
      "cell_type": "markdown",
      "metadata": {
        "id": "QscRUgz3V3cU",
        "colab_type": "text"
      },
      "source": [
        "# 4. Sentence Separators"
      ]
    },
    {
      "cell_type": "markdown",
      "metadata": {
        "id": "7E51HAbBWKrK",
        "colab_type": "text"
      },
      "source": [
        "Sentence separation is also an important task in NLP. \n",
        "\n",
        "One can usually look at cues such as periods, question marks, exclamation points etc.  "
      ]
    },
    {
      "cell_type": "markdown",
      "metadata": {
        "id": "Wsz11wXcbtfd",
        "colab_type": "text"
      },
      "source": [
        "#### Corenlp"
      ]
    },
    {
      "cell_type": "code",
      "metadata": {
        "id": "gCvAItBUXjaC",
        "colab_type": "code",
        "outputId": "42fd850b-09b1-4014-98b4-6a520587ac00",
        "colab": {
          "base_uri": "https://localhost:8080/",
          "height": 306
        }
      },
      "source": [
        "# Processing English text\n",
        "en_doc = corenlp_en_nlp(\"The N.E.R. system is pretty good. I don't believe it.\")\n",
        "\n",
        "for i, sent in enumerate(en_doc.sentences):\n",
        "    print(\"[Sentence {}]\".format(i+1))\n",
        "    for word in sent.words:\n",
        "        print(\"{:12s}\\t{:12s}\".format(word.text, word.lemma))\n",
        "    print(\"\")"
      ],
      "execution_count": 0,
      "outputs": [
        {
          "output_type": "stream",
          "text": [
            "[Sentence 1]\n",
            "The         \tthe         \n",
            "N.E.R.      \tN.E.R.      \n",
            "system      \tsystem      \n",
            "is          \tbe          \n",
            "pretty      \tpretty      \n",
            "good        \tgood        \n",
            ".           \t.           \n",
            "\n",
            "[Sentence 2]\n",
            "I           \tI           \n",
            "do          \tdo          \n",
            "n't         \tnot         \n",
            "believe     \tbelieve     \n",
            "it          \tit          \n",
            ".           \t.           \n",
            "\n"
          ],
          "name": "stdout"
        }
      ]
    },
    {
      "cell_type": "markdown",
      "metadata": {
        "id": "t72s6nWAYjgq",
        "colab_type": "text"
      },
      "source": [
        "#### Spacy"
      ]
    },
    {
      "cell_type": "code",
      "metadata": {
        "id": "Rjq75qSPbzZu",
        "colab_type": "code",
        "outputId": "ffd5a81b-e2aa-48ce-d556-20f722a21cdc",
        "colab": {
          "base_uri": "https://localhost:8080/",
          "height": 34
        }
      },
      "source": [
        "raw_text = \"Barack Obama was born in Hawaii.  He was elected president in 2008.\"\n",
        "doc = spacy_en_nlp(raw_text)\n",
        "sentences = [sent.string.strip() for sent in doc.sents]\n",
        "print(sentences)"
      ],
      "execution_count": 0,
      "outputs": [
        {
          "output_type": "stream",
          "text": [
            "['Barack Obama was born in Hawaii.', 'He was elected president in 2008.']\n"
          ],
          "name": "stdout"
        }
      ]
    },
    {
      "cell_type": "code",
      "metadata": {
        "id": "y9r26xx420jw",
        "colab_type": "code",
        "colab": {}
      },
      "source": [
        ""
      ],
      "execution_count": 0,
      "outputs": []
    },
    {
      "cell_type": "markdown",
      "metadata": {
        "id": "cXTxheDAeEw4",
        "colab_type": "text"
      },
      "source": [
        "# 5. Reading Corpora"
      ]
    },
    {
      "cell_type": "markdown",
      "metadata": {
        "id": "eMInG5t3Y5dw",
        "colab_type": "text"
      },
      "source": [
        "NLTK is another popular NLP processing library but it is outdated and it is best not use the tokenization, lemmatization etc. functions from it. But we can import some corpora from it to do some text processing."
      ]
    },
    {
      "cell_type": "code",
      "metadata": {
        "id": "_EHY4zFrfJ5F",
        "colab_type": "code",
        "colab": {}
      },
      "source": [
        "import nltk"
      ],
      "execution_count": 0,
      "outputs": []
    },
    {
      "cell_type": "code",
      "metadata": {
        "id": "wUA9QWrppOAk",
        "colab_type": "code",
        "outputId": "7ef3a440-e9a3-4667-bf48-b10c3b03fd46",
        "colab": {
          "base_uri": "https://localhost:8080/",
          "height": 68
        }
      },
      "source": [
        "nltk.download('brown')"
      ],
      "execution_count": 0,
      "outputs": [
        {
          "output_type": "stream",
          "text": [
            "[nltk_data] Downloading package brown to /root/nltk_data...\n",
            "[nltk_data]   Package brown is already up-to-date!\n"
          ],
          "name": "stdout"
        },
        {
          "output_type": "execute_result",
          "data": {
            "text/plain": [
              "True"
            ]
          },
          "metadata": {
            "tags": []
          },
          "execution_count": 32
        }
      ]
    },
    {
      "cell_type": "code",
      "metadata": {
        "id": "PzhbVmZSfaJ5",
        "colab_type": "code",
        "colab": {}
      },
      "source": [
        "from nltk.corpus import brown ## Importing brown corpus"
      ],
      "execution_count": 0,
      "outputs": []
    },
    {
      "cell_type": "code",
      "metadata": {
        "id": "Hyf_57H6faMS",
        "colab_type": "code",
        "outputId": "8dd2a3ae-69d8-4ca0-fbf0-c9b6a73b6230",
        "colab": {
          "base_uri": "https://localhost:8080/",
          "height": 34
        }
      },
      "source": [
        "print(\"Total number of words in the Brown corpus: {:,}\".format(len(brown.words())))"
      ],
      "execution_count": 0,
      "outputs": [
        {
          "output_type": "stream",
          "text": [
            "Total number of words in the Brown corpus: 1,161,192\n"
          ],
          "name": "stdout"
        }
      ]
    },
    {
      "cell_type": "markdown",
      "metadata": {
        "id": "O3IZv44kfaQw",
        "colab_type": "text"
      },
      "source": [
        "Let's count the frequency of each word in the corpus"
      ]
    },
    {
      "cell_type": "code",
      "metadata": {
        "id": "kW9t4p6ofaPj",
        "colab_type": "code",
        "colab": {}
      },
      "source": [
        "from collections import defaultdict, Counter"
      ],
      "execution_count": 0,
      "outputs": []
    },
    {
      "cell_type": "code",
      "metadata": {
        "id": "o1idwfYNh85k",
        "colab_type": "code",
        "outputId": "0e64dcca-8be2-4001-bb7a-ec36990cccd9",
        "colab": {
          "base_uri": "https://localhost:8080/",
          "height": 34
        }
      },
      "source": [
        "count_dct = defaultdict(int)\n",
        "\n",
        "for word in brown.words():\n",
        "  count_dct[word]= count_dct[word]+ 1\n",
        "  \n",
        "print(\"Vocabulary size of Brown corpus: {:,}\".format(len(count_dct)))"
      ],
      "execution_count": 0,
      "outputs": [
        {
          "output_type": "stream",
          "text": [
            "Vocabulary size of Brown corpus: 56,057\n"
          ],
          "name": "stdout"
        }
      ]
    },
    {
      "cell_type": "code",
      "metadata": {
        "id": "yS90j2j8iu2x",
        "colab_type": "code",
        "outputId": "5a566b32-641f-451d-b5b3-b371df004fb0",
        "colab": {
          "base_uri": "https://localhost:8080/",
          "height": 34
        }
      },
      "source": [
        "k_object = Counter(count_dct)\n",
        "type(k_object)"
      ],
      "execution_count": 0,
      "outputs": [
        {
          "output_type": "execute_result",
          "data": {
            "text/plain": [
              "collections.Counter"
            ]
          },
          "metadata": {
            "tags": []
          },
          "execution_count": 37
        }
      ]
    },
    {
      "cell_type": "markdown",
      "metadata": {
        "id": "Rn13VrgFZbEq",
        "colab_type": "text"
      },
      "source": [
        "Finding the most frequent n words in the corpus "
      ]
    },
    {
      "cell_type": "code",
      "metadata": {
        "id": "aEPvAc6niu7J",
        "colab_type": "code",
        "outputId": "ee712c4b-a557-4b20-baac-d2901868dc97",
        "colab": {
          "base_uri": "https://localhost:8080/",
          "height": 272
        }
      },
      "source": [
        "k_object.most_common(15)"
      ],
      "execution_count": 0,
      "outputs": [
        {
          "output_type": "execute_result",
          "data": {
            "text/plain": [
              "[('the', 62713),\n",
              " (',', 58334),\n",
              " ('.', 49346),\n",
              " ('of', 36080),\n",
              " ('and', 27915),\n",
              " ('to', 25732),\n",
              " ('a', 21881),\n",
              " ('in', 19536),\n",
              " ('that', 10237),\n",
              " ('is', 10011),\n",
              " ('was', 9777),\n",
              " ('for', 8841),\n",
              " ('``', 8837),\n",
              " (\"''\", 8789),\n",
              " ('The', 7258)]"
            ]
          },
          "metadata": {
            "tags": []
          },
          "execution_count": 38
        }
      ]
    },
    {
      "cell_type": "markdown",
      "metadata": {
        "id": "sUNClj0vZ94X",
        "colab_type": "text"
      },
      "source": [
        "#### A quick note on enumeration function in Python"
      ]
    },
    {
      "cell_type": "code",
      "metadata": {
        "id": "xkclrXaPaBiH",
        "colab_type": "code",
        "outputId": "cfd71fc9-3431-49c4-dd42-0bafa8a734b5",
        "colab": {
          "base_uri": "https://localhost:8080/",
          "height": 68
        }
      },
      "source": [
        "lst = ['a', 'b', 'c']\n",
        "for item in enumerate(lst):\n",
        "  print(item)"
      ],
      "execution_count": 0,
      "outputs": [
        {
          "output_type": "stream",
          "text": [
            "(0, 'a')\n",
            "(1, 'b')\n",
            "(2, 'c')\n"
          ],
          "name": "stdout"
        }
      ]
    },
    {
      "cell_type": "code",
      "metadata": {
        "id": "rCelOrq-aFrO",
        "colab_type": "code",
        "outputId": "3e040db5-814d-4430-91c3-9c5611b79b9b",
        "colab": {
          "base_uri": "https://localhost:8080/",
          "height": 68
        }
      },
      "source": [
        "lst = ['a', 'b', 'c']\n",
        "\n",
        "for idx, item in enumerate(lst):\n",
        "  print(\"Index:{}, Item: {}\".format(idx, item))"
      ],
      "execution_count": 0,
      "outputs": [
        {
          "output_type": "stream",
          "text": [
            "Index:0, Item: a\n",
            "Index:1, Item: b\n",
            "Index:2, Item: c\n"
          ],
          "name": "stdout"
        }
      ]
    },
    {
      "cell_type": "markdown",
      "metadata": {
        "id": "gMIJXXn6e6NW",
        "colab_type": "text"
      },
      "source": [
        "# 6. Plotting unigrams (Zipfian distribution)"
      ]
    },
    {
      "cell_type": "markdown",
      "metadata": {
        "id": "Rh6q5thhT35y",
        "colab_type": "text"
      },
      "source": [
        "A fun video on Ziphy mystery: https://www.youtube.com/watch?v=fCn8zs912OE&t=90s"
      ]
    },
    {
      "cell_type": "markdown",
      "metadata": {
        "id": "SsnpJw_UoF_p",
        "colab_type": "text"
      },
      "source": [
        "#### 1. Brown Corpus"
      ]
    },
    {
      "cell_type": "markdown",
      "metadata": {
        "id": "tQlFAo3lEHsn",
        "colab_type": "text"
      },
      "source": [
        "\"The Brown Corpus was the first million-word electronic corpus of English, created in 1961 at Brown University. This corpus contains text from 500 sources, and the sources have been categorized by genre, such as news, editorial, and so on. 1.1 gives an example of each genre.\"  Ref: https://www.nltk.org/book/ch02.html"
      ]
    },
    {
      "cell_type": "markdown",
      "metadata": {
        "colab_type": "text",
        "id": "Jg3vehL_nkAA"
      },
      "source": [
        "#### Store ranks and frequency of words:"
      ]
    },
    {
      "cell_type": "code",
      "metadata": {
        "id": "IhgFqFdnoUEc",
        "colab_type": "code",
        "outputId": "ce20ee58-aa6e-43bd-ebf8-d10a8d0c5b47",
        "colab": {
          "base_uri": "https://localhost:8080/",
          "height": 51
        }
      },
      "source": [
        "count_dct = defaultdict(int)\n",
        "\n",
        "for word in brown.words():\n",
        "  count_dct[word]+=1\n",
        "  \n",
        "print(\"Total number of words in the Brown corpus {:,}\".format(len(brown.words())))\n",
        "print(\"Vocabulary size of Brown corpus: {:,}\".format(len(count_dct)))\n",
        "\n",
        "k = Counter(count_dct)"
      ],
      "execution_count": 0,
      "outputs": [
        {
          "output_type": "stream",
          "text": [
            "Total number of words in the Brown corpus 1,161,192\n",
            "Vocabulary size of Brown corpus: 56,057\n"
          ],
          "name": "stdout"
        }
      ]
    },
    {
      "cell_type": "code",
      "metadata": {
        "colab_type": "code",
        "id": "k1bt6Xx3nkAG",
        "colab": {}
      },
      "source": [
        "x_axis = []\n",
        "y_axis = []\n",
        "words = []\n",
        "\n",
        "import math\n",
        "\n",
        "for idx, (word, freq) in enumerate(k.most_common()):\n",
        "  x_axis.append(math.log(idx+1))\n",
        "  y_axis.append(math.log(freq))\n",
        "  words.append(word)"
      ],
      "execution_count": 0,
      "outputs": []
    },
    {
      "cell_type": "code",
      "metadata": {
        "colab_type": "code",
        "outputId": "1a5809ed-9363-4be3-ee2f-620222b4eaf4",
        "id": "XYW4e15xnkAK",
        "colab": {
          "base_uri": "https://localhost:8080/",
          "height": 187
        }
      },
      "source": [
        "k.most_common(10)"
      ],
      "execution_count": 0,
      "outputs": [
        {
          "output_type": "execute_result",
          "data": {
            "text/plain": [
              "[('the', 62713),\n",
              " (',', 58334),\n",
              " ('.', 49346),\n",
              " ('of', 36080),\n",
              " ('and', 27915),\n",
              " ('to', 25732),\n",
              " ('a', 21881),\n",
              " ('in', 19536),\n",
              " ('that', 10237),\n",
              " ('is', 10011)]"
            ]
          },
          "metadata": {
            "tags": []
          },
          "execution_count": 43
        }
      ]
    },
    {
      "cell_type": "code",
      "metadata": {
        "id": "0gwkMDm8fD1W",
        "colab_type": "code",
        "colab": {}
      },
      "source": [
        "import matplotlib.pyplot as plt"
      ],
      "execution_count": 0,
      "outputs": []
    },
    {
      "cell_type": "code",
      "metadata": {
        "id": "E0d-sEJlmsbV",
        "colab_type": "code",
        "outputId": "f473b4a2-708a-492f-ed19-abbac7a57451",
        "colab": {
          "base_uri": "https://localhost:8080/",
          "height": 312
        }
      },
      "source": [
        "plt.plot(x_axis, y_axis)\n",
        "plt.xlabel(\"Ranks\")\n",
        "plt.ylabel(\"Log-Freq\")\n",
        "plt.title(\"Frequency Vs. Rank Distribution (Brown)\")"
      ],
      "execution_count": 0,
      "outputs": [
        {
          "output_type": "execute_result",
          "data": {
            "text/plain": [
              "Text(0.5, 1.0, 'Frequency Vs. Rank Distribution (Brown)')"
            ]
          },
          "metadata": {
            "tags": []
          },
          "execution_count": 45
        },
        {
          "output_type": "display_data",
          "data": {
            "image/png": "[encoded data removed]",
            "text/plain": [
              "<Figure size 432x288 with 1 Axes>"
            ]
          },
          "metadata": {
            "tags": []
          }
        }
      ]
    },
    {
      "cell_type": "markdown",
      "metadata": {
        "id": "np5uJcQXB2TJ",
        "colab_type": "text"
      },
      "source": [
        "#### Exercise:\n",
        "1. Create a function to plot rank vs frequency distribution for any corpus.\n",
        "2. Download any book from https://www.gutenberg.org/ and plot its frequency distribution\n"
      ]
    },
    {
      "cell_type": "code",
      "metadata": {
        "id": "EPlSpI4WCCX1",
        "colab_type": "code",
        "colab": {}
      },
      "source": [
        "def plot_freq_rank(corpus_words):\n",
        "  '''\n",
        "  Input: corpus_words: a list of all the words in the corpus\n",
        "  \n",
        "  \n",
        "  Output: Rank vs Frequency Plot\n",
        "  '''\n",
        "  \n",
        "  count_dct = defaultdict(int)\n",
        "\n",
        "  for word in corpus_words:\n",
        "    count_dct[word]+=1\n",
        "\n",
        "  print(\"# Words: {:,}, Vocab size: {:,}\".format(len(corpus_words),len(count_dct)))\n",
        "  \n",
        "  k = Counter(count_dct)\n",
        "  \n",
        "  ## Plotting stuff\n",
        "  x_axis = []\n",
        "  y_axis = []\n",
        "  words = []\n",
        "\n",
        "  import math\n",
        "  import matplotlib.pyplot as plt\n",
        "\n",
        "  for idx, (word, freq) in enumerate(k.most_common()):\n",
        "    x_axis.append(math.log(idx+1))  ## idx+1 because idx starts at 0 and log(0) is undefined\n",
        "    y_axis.append(math.log(freq))\n",
        "    words.append(word)\n",
        "  \n",
        "  plt.plot(x_axis, y_axis)\n",
        "  plt.xlabel(\"Ranks\")\n",
        "  plt.ylabel(\"Log-Freq\")\n",
        "  plt.title(\"Frequency Vs. Rank Distribution\")"
      ],
      "execution_count": 0,
      "outputs": []
    },
    {
      "cell_type": "markdown",
      "metadata": {
        "id": "YHYCTxjgDTXc",
        "colab_type": "text"
      },
      "source": [
        "#### Plot unigram graphs for different corpura"
      ]
    },
    {
      "cell_type": "code",
      "metadata": {
        "id": "J8SlxZV4ExGx",
        "colab_type": "code",
        "outputId": "623dd759-5e99-4836-ed1c-e3f46f0505e7",
        "colab": {
          "base_uri": "https://localhost:8080/",
          "height": 85
        }
      },
      "source": [
        "nltk.download('gutenberg')\n",
        "nltk.download('reuters')"
      ],
      "execution_count": 0,
      "outputs": [
        {
          "output_type": "stream",
          "text": [
            "[nltk_data] Downloading package gutenberg to /root/nltk_data...\n",
            "[nltk_data]   Unzipping corpora/gutenberg.zip.\n",
            "[nltk_data] Downloading package reuters to /root/nltk_data...\n"
          ],
          "name": "stdout"
        },
        {
          "output_type": "execute_result",
          "data": {
            "text/plain": [
              "True"
            ]
          },
          "metadata": {
            "tags": []
          },
          "execution_count": 47
        }
      ]
    },
    {
      "cell_type": "code",
      "metadata": {
        "id": "6j-DFhpgDZsl",
        "colab_type": "code",
        "colab": {}
      },
      "source": [
        "reuters_words =  nltk.corpus.reuters.words()\n",
        "shakesp_words =  nltk.corpus.gutenberg.words('shakespeare-caesar.txt')"
      ],
      "execution_count": 0,
      "outputs": []
    },
    {
      "cell_type": "code",
      "metadata": {
        "id": "M75ceto7CCWN",
        "colab_type": "code",
        "outputId": "00c61b1c-6bda-4a85-ddbe-f126bcc0bcfa",
        "colab": {
          "base_uri": "https://localhost:8080/",
          "height": 312
        }
      },
      "source": [
        "plot_freq_rank(reuters_words)"
      ],
      "execution_count": 0,
      "outputs": [
        {
          "output_type": "stream",
          "text": [
            "# Words: 1,720,901, Vocab size: 41,600\n"
          ],
          "name": "stdout"
        },
        {
          "output_type": "display_data",
          "data": {
            "image/png": "[encoded data removed]",
            "text/plain": [
              "<Figure size 432x288 with 1 Axes>"
            ]
          },
          "metadata": {
            "tags": []
          }
        }
      ]
    },
    {
      "cell_type": "code",
      "metadata": {
        "id": "aa_CgIM0CCUP",
        "colab_type": "code",
        "outputId": "40b3eed0-889a-4bf1-8bb2-739f9fbd428e",
        "colab": {
          "base_uri": "https://localhost:8080/",
          "height": 312
        }
      },
      "source": [
        "plot_freq_rank(shakesp_words)"
      ],
      "execution_count": 0,
      "outputs": [
        {
          "output_type": "stream",
          "text": [
            "# Words: 25,833, Vocab size: 3,560\n"
          ],
          "name": "stdout"
        },
        {
          "output_type": "display_data",
          "data": {
            "image/png": "[encoded data removed]",
            "text/plain": [
              "<Figure size 432x288 with 1 Axes>"
            ]
          },
          "metadata": {
            "tags": []
          }
        }
      ]
    },
    {
      "cell_type": "markdown",
      "metadata": {
        "id": "ZS6KGbsvGeny",
        "colab_type": "text"
      },
      "source": [
        "## Downloading a Book from Gutenberg (https://www.gutenberg.org)"
      ]
    },
    {
      "cell_type": "code",
      "metadata": {
        "id": "sc6b8ZLDGjIj",
        "colab_type": "code",
        "outputId": "d3d0a789-3374-4b9f-f57f-766d991a8001",
        "colab": {
          "base_uri": "https://localhost:8080/",
          "height": 170
        }
      },
      "source": [
        "!pip install wget\n",
        "import wget"
      ],
      "execution_count": 0,
      "outputs": [
        {
          "output_type": "stream",
          "text": [
            "Collecting wget\n",
            "  Downloading https://files.pythonhosted.org/packages/47/6a/62e288da7bcda82b935ff0c6cfe542970f04e29c756b0e147251b2fb251f/wget-3.2.zip\n",
            "Building wheels for collected packages: wget\n",
            "  Building wheel for wget (setup.py) ... \u001b[?25l\u001b[?25hdone\n",
            "  Created wheel for wget: filename=wget-3.2-cp36-none-any.whl size=9681 sha256=35827d48563245a502b4c2236284fd4f498c25f4d285e1fa9f25f058fb777666\n",
            "  Stored in directory: /root/.cache/pip/wheels/40/15/30/7d8f7cea2902b4db79e3fea550d7d7b85ecb27ef992b618f3f\n",
            "Successfully built wget\n",
            "Installing collected packages: wget\n",
            "Successfully installed wget-3.2\n"
          ],
          "name": "stdout"
        }
      ]
    },
    {
      "cell_type": "code",
      "metadata": {
        "id": "RTWXpFNlHcUZ",
        "colab_type": "code",
        "outputId": "f03b8676-c61a-422b-9167-b405e14a27f5",
        "colab": {
          "base_uri": "https://localhost:8080/",
          "height": 34
        }
      },
      "source": [
        "wget.download(\"https://www.gutenberg.org/files/834/834-0.txt\", 'sherlock.txt')"
      ],
      "execution_count": 0,
      "outputs": [
        {
          "output_type": "execute_result",
          "data": {
            "text/plain": [
              "'sherlock.txt'"
            ]
          },
          "metadata": {
            "tags": []
          },
          "execution_count": 52
        }
      ]
    },
    {
      "cell_type": "code",
      "metadata": {
        "id": "Axdym5i_GxOC",
        "colab_type": "code",
        "colab": {}
      },
      "source": [
        "with open('sherlock.txt', 'r') as f:\n",
        "  sherlock_text = f.read()"
      ],
      "execution_count": 0,
      "outputs": []
    },
    {
      "cell_type": "code",
      "metadata": {
        "id": "ZMRFfmycHCC5",
        "colab_type": "code",
        "outputId": "8c9b4486-66ea-435d-c421-b518e91e3282",
        "colab": {
          "base_uri": "https://localhost:8080/",
          "height": 34
        }
      },
      "source": [
        "sherlock_text[:100]"
      ],
      "execution_count": 0,
      "outputs": [
        {
          "output_type": "execute_result",
          "data": {
            "text/plain": [
              "'\\nProject Gutenberg’s The Memoirs of Sherlock Holmes, by Arthur Conan Doyle\\n\\nThis eBook is for the us'"
            ]
          },
          "metadata": {
            "tags": []
          },
          "execution_count": 54
        }
      ]
    },
    {
      "cell_type": "code",
      "metadata": {
        "id": "BppSnk6LHvoB",
        "colab_type": "code",
        "colab": {}
      },
      "source": [
        "sherlock_doc = corenlp_en_nlp(sherlock_text)"
      ],
      "execution_count": 0,
      "outputs": []
    },
    {
      "cell_type": "code",
      "metadata": {
        "id": "5k6YLNH1IWZc",
        "colab_type": "code",
        "outputId": "13c60273-4023-4363-e8c2-a42d315ebed7",
        "colab": {
          "base_uri": "https://localhost:8080/",
          "height": 34
        }
      },
      "source": [
        "print(\"Total number of sentences: {}\".format(len(sherlock_doc.sentences)))\n",
        "\n",
        "sherlock_words = [word.text for sent in sherlock_doc.sentences for word in sent.words]"
      ],
      "execution_count": 0,
      "outputs": [
        {
          "output_type": "stream",
          "text": [
            "Total number of sentences: 6068\n"
          ],
          "name": "stdout"
        }
      ]
    },
    {
      "cell_type": "code",
      "metadata": {
        "id": "VLkiGhxgIyYF",
        "colab_type": "code",
        "outputId": "c4de8f65-9a9e-4b88-d470-194087da106e",
        "colab": {
          "base_uri": "https://localhost:8080/",
          "height": 312
        }
      },
      "source": [
        "plot_freq_rank(sherlock_words)"
      ],
      "execution_count": 0,
      "outputs": [
        {
          "output_type": "stream",
          "text": [
            "# Words: 118,625, Vocab size: 8,567\n"
          ],
          "name": "stdout"
        },
        {
          "output_type": "display_data",
          "data": {
            "image/png": "[encoded data removed]",
            "text/plain": [
              "<Figure size 432x288 with 1 Axes>"
            ]
          },
          "metadata": {
            "tags": []
          }
        }
      ]
    },
    {
      "cell_type": "markdown",
      "metadata": {
        "id": "59KLOq0VCCSG",
        "colab_type": "text"
      },
      "source": [
        "## Testing ziphy's law in a Randomly generated corpus"
      ]
    },
    {
      "cell_type": "code",
      "metadata": {
        "id": "He0dvMI3A5uE",
        "colab_type": "code",
        "outputId": "a5dd37d7-1855-4dd7-8753-b2abaf7e53cd",
        "colab": {
          "base_uri": "https://localhost:8080/",
          "height": 34
        }
      },
      "source": [
        "import random\n",
        "random.choice(\"abcdefg \")"
      ],
      "execution_count": 0,
      "outputs": [
        {
          "output_type": "execute_result",
          "data": {
            "text/plain": [
              "'g'"
            ]
          },
          "metadata": {
            "tags": []
          },
          "execution_count": 58
        }
      ]
    },
    {
      "cell_type": "code",
      "metadata": {
        "id": "Xt8dnxonA6ai",
        "colab_type": "code",
        "colab": {}
      },
      "source": [
        "random_corpus = \"\"\n",
        "for i in range(1000000):\n",
        "  random_corpus+= random.choice(\"abcdefg \")"
      ],
      "execution_count": 0,
      "outputs": []
    },
    {
      "cell_type": "code",
      "metadata": {
        "id": "2DwU-xdbBHME",
        "colab_type": "code",
        "outputId": "25deca53-364c-43a0-9fa0-0f3d171e591c",
        "colab": {
          "base_uri": "https://localhost:8080/",
          "height": 34
        }
      },
      "source": [
        "random_corpus_words = random_corpus.split()\n",
        "print(random_corpus_words[:10])"
      ],
      "execution_count": 0,
      "outputs": [
        {
          "output_type": "stream",
          "text": [
            "['ffeeegcf', 'abbbccgccadffe', 'dffgfca', 'ecaafcea', 'gg', 'cefdebcge', 'dfdf', 'gbeffd', 'aadccaagfeg', 'dcagedg']\n"
          ],
          "name": "stdout"
        }
      ]
    },
    {
      "cell_type": "code",
      "metadata": {
        "id": "4CnIPW7-BJUn",
        "colab_type": "code",
        "outputId": "938b5a25-8137-4e2b-d1a3-e587d9162653",
        "colab": {
          "base_uri": "https://localhost:8080/",
          "height": 312
        }
      },
      "source": [
        "plot_freq_rank(random_corpus_words)"
      ],
      "execution_count": 0,
      "outputs": [
        {
          "output_type": "stream",
          "text": [
            "# Words: 109,686, Vocab size: 65,097\n"
          ],
          "name": "stdout"
        },
        {
          "output_type": "display_data",
          "data": {
            "image/png": "[encoded data removed]",
            "text/plain": [
              "<Figure size 432x288 with 1 Axes>"
            ]
          },
          "metadata": {
            "tags": []
          }
        }
      ]
    },
    {
      "cell_type": "markdown",
      "metadata": {
        "id": "Tsp3DMDia5w0",
        "colab_type": "text"
      },
      "source": [
        "It looks like Zipfian distribution doesn't work for randomly generated text"
      ]
    },
    {
      "cell_type": "markdown",
      "metadata": {
        "id": "yI4EXfaiBfKq",
        "colab_type": "text"
      },
      "source": [
        "## Next Class:\n",
        " Topics\n",
        "- Google ngram viewer\n",
        "- Constituency and Dependency Parsers\n",
        "- Tree searching"
      ]
    }
  ]
}