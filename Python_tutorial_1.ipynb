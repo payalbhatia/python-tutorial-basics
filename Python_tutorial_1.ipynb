{
  "nbformat": 4,
  "nbformat_minor": 0,
  "metadata": {
    "colab": {
      "name": "Python_tutorial_1.ipynb",
      "version": "0.3.2",
      "provenance": [],
      "collapsed_sections": []
    },
    "kernelspec": {
      "name": "python3",
      "display_name": "Python 3"
    }
  },
  "cells": [
    {
      "cell_type": "markdown",
      "metadata": {
        "id": "ynGxSNh5sCKK",
        "colab_type": "text"
      },
      "source": [
        "## Text Processing in Python - A Series of 5 Tutorials\n",
        "\n",
        "Organized by Facts Lab (http://factslab.io/)\n",
        "\n",
        "Instructor - Siddharth (Sid) Vashishtha (svashis3@ur.rochester.edu)\n",
        "\n",
        "### Tuorial 1 (Date: 9 Sep, 2019)\n",
        "Topics\n",
        "- Basic datatypes and operations in Python\n",
        "- If-else statements, loops \n",
        "- List comprehensions\n",
        "- Defining Functions\n",
        "- String manipulation\n",
        "- Regular expressions (regex)\n",
        "\n",
        "### Tutorial 2 (Date: 11 Sep, 2019)\n",
        "Topics\n",
        "- Tokenization, Lemmatization\n",
        "- Text Corpuses\n",
        "- N-gram Language Models\n",
        "\n",
        "### Tutorial 3 (Date 13 Sep, 2019)\n",
        "Topics\n",
        "- "
      ]
    },
    {
      "cell_type": "markdown",
      "metadata": {
        "id": "_AAW9rTWvW0O",
        "colab_type": "text"
      },
      "source": [
        "# Tutorial 1"
      ]
    },
    {
      "cell_type": "markdown",
      "metadata": {
        "id": "PheHB-118VF1",
        "colab_type": "text"
      },
      "source": [
        "We will cover these tutorials in Google Colab : https://colab.research.google.com\n",
        "\n",
        "Google Colab allows a simple way to access Python Jupyter Notebooks with a lot of packages already installed.\n",
        "\n",
        "To run Google Colab, all you need is a google account. It's a free service. "
      ]
    },
    {
      "cell_type": "markdown",
      "metadata": {
        "id": "T9btKw2lwoOu",
        "colab_type": "text"
      },
      "source": [
        "## 1. Basic datatypes and operations"
      ]
    },
    {
      "cell_type": "markdown",
      "metadata": {
        "id": "z_4nCYoJztmu",
        "colab_type": "text"
      },
      "source": [
        "### Numbers"
      ]
    },
    {
      "cell_type": "code",
      "metadata": {
        "id": "Tx0clQgOw7x8",
        "colab_type": "code",
        "outputId": "00c82a3c-dc6e-434c-913f-5e0236e17a95",
        "colab": {
          "base_uri": "https://localhost:8080/",
          "height": 34
        }
      },
      "source": [
        "2"
      ],
      "execution_count": 0,
      "outputs": [
        {
          "output_type": "execute_result",
          "data": {
            "text/plain": [
              "2"
            ]
          },
          "metadata": {
            "tags": []
          },
          "execution_count": 22
        }
      ]
    },
    {
      "cell_type": "code",
      "metadata": {
        "id": "wE7p4SPwyasb",
        "colab_type": "code",
        "outputId": "11a4774e-a85e-4e7e-f1b1-e85f2ed09ce2",
        "colab": {
          "base_uri": "https://localhost:8080/",
          "height": 34
        }
      },
      "source": [
        "type(2)  #type function returns the datatype of the input argument"
      ],
      "execution_count": 0,
      "outputs": [
        {
          "output_type": "execute_result",
          "data": {
            "text/plain": [
              "int"
            ]
          },
          "metadata": {
            "tags": []
          },
          "execution_count": 31
        }
      ]
    },
    {
      "cell_type": "code",
      "metadata": {
        "id": "xlaLGbpNzzFN",
        "colab_type": "code",
        "outputId": "17929783-edc9-41fe-844c-1e9282b997fc",
        "colab": {
          "base_uri": "https://localhost:8080/",
          "height": 34
        }
      },
      "source": [
        "type(2.0)"
      ],
      "execution_count": 0,
      "outputs": [
        {
          "output_type": "execute_result",
          "data": {
            "text/plain": [
              "float"
            ]
          },
          "metadata": {
            "tags": []
          },
          "execution_count": 23
        }
      ]
    },
    {
      "cell_type": "code",
      "metadata": {
        "id": "g2Qmo-SKyhvE",
        "colab_type": "code",
        "outputId": "a966a144-07e9-4553-add7-40f300a153e3",
        "colab": {
          "base_uri": "https://localhost:8080/",
          "height": 34
        }
      },
      "source": [
        "2*4"
      ],
      "execution_count": 0,
      "outputs": [
        {
          "output_type": "execute_result",
          "data": {
            "text/plain": [
              "8"
            ]
          },
          "metadata": {
            "tags": []
          },
          "execution_count": 18
        }
      ]
    },
    {
      "cell_type": "code",
      "metadata": {
        "id": "HW_oBNHWzRr9",
        "colab_type": "code",
        "outputId": "269a220a-ecd1-4441-a1ef-7716aebd4443",
        "colab": {
          "base_uri": "https://localhost:8080/",
          "height": 34
        }
      },
      "source": [
        "2 + 5 - 6 * 4     # follows BODMAS/PEDMAS"
      ],
      "execution_count": 0,
      "outputs": [
        {
          "output_type": "execute_result",
          "data": {
            "text/plain": [
              "-17"
            ]
          },
          "metadata": {
            "tags": []
          },
          "execution_count": 20
        }
      ]
    },
    {
      "cell_type": "code",
      "metadata": {
        "id": "stexOunSzTq7",
        "colab_type": "code",
        "outputId": "9de944b6-752f-4607-acb1-b59f28516ef0",
        "colab": {
          "base_uri": "https://localhost:8080/",
          "height": 34
        }
      },
      "source": [
        "2**4   #exponents"
      ],
      "execution_count": 0,
      "outputs": [
        {
          "output_type": "execute_result",
          "data": {
            "text/plain": [
              "16"
            ]
          },
          "metadata": {
            "tags": []
          },
          "execution_count": 26
        }
      ]
    },
    {
      "cell_type": "code",
      "metadata": {
        "id": "0rHvH8F_z2lg",
        "colab_type": "code",
        "outputId": "3d198502-c5a9-4cd1-f2d1-be35413383b7",
        "colab": {
          "base_uri": "https://localhost:8080/",
          "height": 34
        }
      },
      "source": [
        "9%5  #remainder "
      ],
      "execution_count": 0,
      "outputs": [
        {
          "output_type": "execute_result",
          "data": {
            "text/plain": [
              "4"
            ]
          },
          "metadata": {
            "tags": []
          },
          "execution_count": 28
        }
      ]
    },
    {
      "cell_type": "code",
      "metadata": {
        "id": "l25iHgZ-0vsv",
        "colab_type": "code",
        "outputId": "fd6962ea-132d-4733-d38e-904b1534d105",
        "colab": {
          "base_uri": "https://localhost:8080/",
          "height": 34
        }
      },
      "source": [
        "abs(-42)  #absolute function"
      ],
      "execution_count": 0,
      "outputs": [
        {
          "output_type": "execute_result",
          "data": {
            "text/plain": [
              "42"
            ]
          },
          "metadata": {
            "tags": []
          },
          "execution_count": 30
        }
      ]
    },
    {
      "cell_type": "markdown",
      "metadata": {
        "id": "iwRwRE8u03Ae",
        "colab_type": "text"
      },
      "source": [
        "### Strings"
      ]
    },
    {
      "cell_type": "code",
      "metadata": {
        "id": "Ic49Ft2u1ARL",
        "colab_type": "code",
        "outputId": "ceb633ab-b2c3-485a-87b5-d33bd15ef99c",
        "colab": {
          "base_uri": "https://localhost:8080/",
          "height": 34
        }
      },
      "source": [
        "'abc'"
      ],
      "execution_count": 0,
      "outputs": [
        {
          "output_type": "execute_result",
          "data": {
            "text/plain": [
              "'abc'"
            ]
          },
          "metadata": {
            "tags": []
          },
          "execution_count": 32
        }
      ]
    },
    {
      "cell_type": "code",
      "metadata": {
        "id": "bfVuJ1iAEEpQ",
        "colab_type": "code",
        "colab": {}
      },
      "source": [
        ""
      ],
      "execution_count": 0,
      "outputs": []
    },
    {
      "cell_type": "markdown",
      "metadata": {
        "colab_type": "text",
        "id": "insv2s6O1teK"
      },
      "source": [
        "#### Printing stuff"
      ]
    },
    {
      "cell_type": "code",
      "metadata": {
        "colab_type": "code",
        "outputId": "e82d10ca-a525-453b-a581-0ebb7ecaa692",
        "id": "yQjdhFY91teX",
        "colab": {
          "base_uri": "https://localhost:8080/",
          "height": 51
        }
      },
      "source": [
        "print(\"Hello, world\")\n",
        "print('Hello, world')"
      ],
      "execution_count": 0,
      "outputs": [
        {
          "output_type": "stream",
          "text": [
            "Hello, world\n",
            "Hello, world\n"
          ],
          "name": "stdout"
        }
      ]
    },
    {
      "cell_type": "markdown",
      "metadata": {
        "colab_type": "text",
        "id": "1T2SZfz21teb"
      },
      "source": [
        "How do we handle quotations inside text?"
      ]
    },
    {
      "cell_type": "code",
      "metadata": {
        "colab_type": "code",
        "outputId": "5d218972-f8df-4c16-f0b7-2195636ef574",
        "id": "n5IKyN7z1teb",
        "colab": {
          "base_uri": "https://localhost:8080/",
          "height": 34
        }
      },
      "source": [
        "print(\"This is Sid's tutorial\")"
      ],
      "execution_count": 0,
      "outputs": [
        {
          "output_type": "stream",
          "text": [
            "This is Sid's tutorial\n"
          ],
          "name": "stdout"
        }
      ]
    },
    {
      "cell_type": "code",
      "metadata": {
        "colab_type": "code",
        "outputId": "466b12ce-3e33-4b67-e14d-d7ad59b839d7",
        "id": "WNmNF6lu1tef",
        "colab": {
          "base_uri": "https://localhost:8080/",
          "height": 34
        }
      },
      "source": [
        "print('Sid said, \"Text processing is cool.\" ')"
      ],
      "execution_count": 0,
      "outputs": [
        {
          "output_type": "stream",
          "text": [
            "Sid said, \"Text processing is cool.\" \n"
          ],
          "name": "stdout"
        }
      ]
    },
    {
      "cell_type": "code",
      "metadata": {
        "colab_type": "code",
        "outputId": "19b09fff-013c-45d2-d502-d0e23a00b3ff",
        "id": "SZRL9LyG1teg",
        "colab": {
          "base_uri": "https://localhost:8080/",
          "height": 34
        }
      },
      "source": [
        "print('''  Sid said, \"It doesn't matter which major you have, anyone can master text processing.\"  ''' )"
      ],
      "execution_count": 0,
      "outputs": [
        {
          "output_type": "stream",
          "text": [
            "  Sid said, \"It doesn't matter which major you have, anyone can master text processing.\"  \n"
          ],
          "name": "stdout"
        }
      ]
    },
    {
      "cell_type": "markdown",
      "metadata": {
        "id": "CKVDicj8ERvM",
        "colab_type": "text"
      },
      "source": [
        "Concatenating strings"
      ]
    },
    {
      "cell_type": "code",
      "metadata": {
        "id": "xM1ZR8AJEHVR",
        "colab_type": "code",
        "colab": {
          "base_uri": "https://localhost:8080/",
          "height": 35
        },
        "outputId": "c4a53697-e951-4789-f8b0-5feab45bcf48"
      },
      "source": [
        "print('abc' + 'def')   ## concatenation"
      ],
      "execution_count": 106,
      "outputs": [
        {
          "output_type": "stream",
          "text": [
            "abcdef\n"
          ],
          "name": "stdout"
        }
      ]
    },
    {
      "cell_type": "code",
      "metadata": {
        "id": "deLOHiX4EMVb",
        "colab_type": "code",
        "colab": {
          "base_uri": "https://localhost:8080/",
          "height": 35
        },
        "outputId": "afbd54b4-7c32-4535-c548-fb725ee81fcb"
      },
      "source": [
        "print(\"abc\"*3)"
      ],
      "execution_count": 107,
      "outputs": [
        {
          "output_type": "stream",
          "text": [
            "abcabcabc\n"
          ],
          "name": "stdout"
        }
      ]
    },
    {
      "cell_type": "code",
      "metadata": {
        "id": "ajaUC0dyEfSA",
        "colab_type": "code",
        "colab": {
          "base_uri": "https://localhost:8080/",
          "height": 35
        },
        "outputId": "c1802b09-f5d7-499b-a705-7faee1d72559"
      },
      "source": [
        "height = 179\n",
        "name = 'Sid'\n",
        "\n",
        "print(\"The instructor's name is {} and he is {} cms tall.\".format(name, height))"
      ],
      "execution_count": 110,
      "outputs": [
        {
          "output_type": "stream",
          "text": [
            "The instructor's name is Sid and he is 179 cms tall.\n"
          ],
          "name": "stdout"
        }
      ]
    },
    {
      "cell_type": "markdown",
      "metadata": {
        "id": "AxLLXdgWBSE4",
        "colab_type": "text"
      },
      "source": [
        "#### Booleans"
      ]
    },
    {
      "cell_type": "code",
      "metadata": {
        "id": "-KpglkWyBU-1",
        "colab_type": "code",
        "colab": {
          "base_uri": "https://localhost:8080/",
          "height": 35
        },
        "outputId": "8a11c175-6878-44e7-9437-168429fe5dc2"
      },
      "source": [
        "True"
      ],
      "execution_count": 91,
      "outputs": [
        {
          "output_type": "execute_result",
          "data": {
            "text/plain": [
              "True"
            ]
          },
          "metadata": {
            "tags": []
          },
          "execution_count": 91
        }
      ]
    },
    {
      "cell_type": "code",
      "metadata": {
        "id": "UNa2k3XuBWf1",
        "colab_type": "code",
        "colab": {
          "base_uri": "https://localhost:8080/",
          "height": 35
        },
        "outputId": "fd997c94-f7a5-4094-b5ae-7734bfdb833b"
      },
      "source": [
        "False"
      ],
      "execution_count": 85,
      "outputs": [
        {
          "output_type": "execute_result",
          "data": {
            "text/plain": [
              "False"
            ]
          },
          "metadata": {
            "tags": []
          },
          "execution_count": 85
        }
      ]
    },
    {
      "cell_type": "code",
      "metadata": {
        "id": "gA5-VPLTBYTz",
        "colab_type": "code",
        "colab": {
          "base_uri": "https://localhost:8080/",
          "height": 35
        },
        "outputId": "34ca2382-4bb6-4555-9124-a0929ded0432"
      },
      "source": [
        "2 == 2"
      ],
      "execution_count": 86,
      "outputs": [
        {
          "output_type": "execute_result",
          "data": {
            "text/plain": [
              "True"
            ]
          },
          "metadata": {
            "tags": []
          },
          "execution_count": 86
        }
      ]
    },
    {
      "cell_type": "code",
      "metadata": {
        "id": "FAjlb95NBZzW",
        "colab_type": "code",
        "colab": {
          "base_uri": "https://localhost:8080/",
          "height": 35
        },
        "outputId": "59d8d8c6-31a0-4f49-8db6-355a3290a6e7"
      },
      "source": [
        "\"string1\" == \"string1\""
      ],
      "execution_count": 89,
      "outputs": [
        {
          "output_type": "execute_result",
          "data": {
            "text/plain": [
              "True"
            ]
          },
          "metadata": {
            "tags": []
          },
          "execution_count": 89
        }
      ]
    },
    {
      "cell_type": "code",
      "metadata": {
        "id": "LBvBVnXmBjXE",
        "colab_type": "code",
        "colab": {
          "base_uri": "https://localhost:8080/",
          "height": 35
        },
        "outputId": "e57396ec-3dc0-4bfb-a6d3-896b8075b05f"
      },
      "source": [
        "\"string1\" == \"string2\""
      ],
      "execution_count": 90,
      "outputs": [
        {
          "output_type": "execute_result",
          "data": {
            "text/plain": [
              "False"
            ]
          },
          "metadata": {
            "tags": []
          },
          "execution_count": 90
        }
      ]
    },
    {
      "cell_type": "markdown",
      "metadata": {
        "id": "MBqox59Q4bdg",
        "colab_type": "text"
      },
      "source": [
        "### Lists\n",
        "\n",
        " - an array which can take multiple objects\n",
        " - objects need not be homogenous\n",
        " - indexing starts at 0"
      ]
    },
    {
      "cell_type": "code",
      "metadata": {
        "id": "pRf5KRU-5EU5",
        "colab_type": "code",
        "colab": {}
      },
      "source": [
        "alst = [1,2,3]\n",
        "blst = ['abc', 'xyz', 'string']\n",
        "clst = ['foo', 456, 'bar', ['pqr', 2**4]]"
      ],
      "execution_count": 0,
      "outputs": []
    },
    {
      "cell_type": "code",
      "metadata": {
        "id": "EduBSp-6655Y",
        "colab_type": "code",
        "colab": {
          "base_uri": "https://localhost:8080/",
          "height": 69
        },
        "outputId": "c665a54f-389e-44ad-b5d9-7ecf8aa57d2b"
      },
      "source": [
        "print(alst[0])\n",
        "print(blst[2])\n",
        "print(clst[3])"
      ],
      "execution_count": 73,
      "outputs": [
        {
          "output_type": "stream",
          "text": [
            "1\n",
            "string\n",
            "['pqr', 16]\n"
          ],
          "name": "stdout"
        }
      ]
    },
    {
      "cell_type": "markdown",
      "metadata": {
        "id": "7v1bieHy7q1F",
        "colab_type": "text"
      },
      "source": [
        "#### Lists are mutable. You can edit/delete elements of a list and add elements to it as well."
      ]
    },
    {
      "cell_type": "code",
      "metadata": {
        "id": "wQrg8axq7xpe",
        "colab_type": "code",
        "colab": {
          "base_uri": "https://localhost:8080/",
          "height": 35
        },
        "outputId": "a502ef88-8578-4415-e9e5-b0be3ac09b9d"
      },
      "source": [
        "blst[2] = \"newString\"\n",
        "print(blst)"
      ],
      "execution_count": 74,
      "outputs": [
        {
          "output_type": "stream",
          "text": [
            "['abc', 'xyz', 'newString']\n"
          ],
          "name": "stdout"
        }
      ]
    },
    {
      "cell_type": "code",
      "metadata": {
        "id": "ABE5Zx5w-f5t",
        "colab_type": "code",
        "colab": {
          "base_uri": "https://localhost:8080/",
          "height": 35
        },
        "outputId": "da0b4ab6-504a-44ca-e5c7-a47292ba2df6"
      },
      "source": [
        "blst.append(\"anotherString\")\n",
        "print(blst)"
      ],
      "execution_count": 75,
      "outputs": [
        {
          "output_type": "stream",
          "text": [
            "['abc', 'xyz', 'newString', 'anotherString']\n"
          ],
          "name": "stdout"
        }
      ]
    },
    {
      "cell_type": "markdown",
      "metadata": {
        "id": "BcvLacwd-vzD",
        "colab_type": "text"
      },
      "source": [
        "Removing elements from a list"
      ]
    },
    {
      "cell_type": "code",
      "metadata": {
        "id": "0HTCtU9H-n5_",
        "colab_type": "code",
        "colab": {
          "base_uri": "https://localhost:8080/",
          "height": 52
        },
        "outputId": "e8d1e3cc-6764-4d35-f4f1-8d4cbd3393c9"
      },
      "source": [
        "popped = blst.pop()     ## popping the last element: O(1) time complexity\n",
        "print(popped)\n",
        "print(blst)"
      ],
      "execution_count": 78,
      "outputs": [
        {
          "output_type": "stream",
          "text": [
            "newString\n",
            "['xyz']\n"
          ],
          "name": "stdout"
        }
      ]
    },
    {
      "cell_type": "code",
      "metadata": {
        "id": "XinnsrQt-n9V",
        "colab_type": "code",
        "colab": {
          "base_uri": "https://localhost:8080/",
          "height": 35
        },
        "outputId": "6a5454f0-9393-481e-ada7-40200496fbe0"
      },
      "source": [
        "popped = blst.pop(0)     ## popping by index: O(n) time complexity\n",
        "print(blst) "
      ],
      "execution_count": 77,
      "outputs": [
        {
          "output_type": "stream",
          "text": [
            "['xyz', 'newString']\n"
          ],
          "name": "stdout"
        }
      ]
    },
    {
      "cell_type": "markdown",
      "metadata": {
        "id": "vfLnEMIn7-Hy",
        "colab_type": "text"
      },
      "source": [
        "### Tuples"
      ]
    },
    {
      "cell_type": "code",
      "metadata": {
        "id": "OQ4bxxpk7hgc",
        "colab_type": "code",
        "colab": {}
      },
      "source": [
        "atupl = (1,2,3)\n",
        "btupl =  ('abc', 'xyz', 'string')\n",
        "ctupl = ('foo', 456, 'bar', ['pqr', 2**4])"
      ],
      "execution_count": 0,
      "outputs": []
    },
    {
      "cell_type": "code",
      "metadata": {
        "id": "EWyE4yZ97hmG",
        "colab_type": "code",
        "colab": {
          "base_uri": "https://localhost:8080/",
          "height": 69
        },
        "outputId": "fc72b112-a2f6-4c9d-b893-e8c508bac34c"
      },
      "source": [
        "print(atupl[0])\n",
        "print(btupl[2])\n",
        "print(ctupl[3])"
      ],
      "execution_count": 48,
      "outputs": [
        {
          "output_type": "stream",
          "text": [
            "1\n",
            "string\n",
            "['pqr', 16]\n"
          ],
          "name": "stdout"
        }
      ]
    },
    {
      "cell_type": "markdown",
      "metadata": {
        "id": "FfmSWkSZ7hlC",
        "colab_type": "text"
      },
      "source": [
        "Tuples are immutable. You cannot edit/delete the elements of a tuple, and neither can add any element to it."
      ]
    },
    {
      "cell_type": "code",
      "metadata": {
        "id": "n0_YtP2R7hj_",
        "colab_type": "code",
        "colab": {}
      },
      "source": [
        "# btupl[2] = \"newString\"\n",
        "# print(blst)"
      ],
      "execution_count": 0,
      "outputs": []
    },
    {
      "cell_type": "code",
      "metadata": {
        "id": "Re_CEBBI_vtT",
        "colab_type": "code",
        "colab": {}
      },
      "source": [
        "#btupl.append(\"anotherString\")"
      ],
      "execution_count": 0,
      "outputs": []
    },
    {
      "cell_type": "markdown",
      "metadata": {
        "id": "PuFvE0rY_vzN",
        "colab_type": "text"
      },
      "source": [
        "#### Exercise: (Importance of mutable and immutable objects)"
      ]
    },
    {
      "cell_type": "code",
      "metadata": {
        "id": "FoHmC4_e_vxF",
        "colab_type": "code",
        "colab": {}
      },
      "source": [
        "dlst = [42,12,79]\n",
        "elst = dlst\n",
        "elst[1] = 7\n",
        "\n",
        "# # What do you think would be the output of the below code?\n",
        "# print(dlst == elst)\n",
        "# print(dlst)\n",
        "# print(elst)"
      ],
      "execution_count": 0,
      "outputs": []
    },
    {
      "cell_type": "code",
      "metadata": {
        "id": "N2e1zoX9_vvl",
        "colab_type": "code",
        "colab": {}
      },
      "source": [
        "anum = 89\n",
        "bnum = anum\n",
        "bnum = 3\n",
        "\n",
        "# # What do you think would be the output of the below code?\n",
        "# print(bnum == anum)\n",
        "# print(anum)\n",
        "# print(bnum)"
      ],
      "execution_count": 0,
      "outputs": []
    },
    {
      "cell_type": "markdown",
      "metadata": {
        "id": "LokSBtx1CgIx",
        "colab_type": "text"
      },
      "source": [
        "### Sets"
      ]
    },
    {
      "cell_type": "markdown",
      "metadata": {
        "id": "huw2HI7aHO0R",
        "colab_type": "text"
      },
      "source": [
        "A set is a collection which is unordered and unindexed"
      ]
    },
    {
      "cell_type": "code",
      "metadata": {
        "id": "JjsvEcgQCvWc",
        "colab_type": "code",
        "colab": {
          "base_uri": "https://localhost:8080/",
          "height": 52
        },
        "outputId": "b3bad25d-114f-4d75-fd40-5494ce9865da"
      },
      "source": [
        "aset = {1,2,3}\n",
        "bset = {7,7,6,6,3,3,3,4,9,1,1}\n",
        "\n",
        "print(aset)\n",
        "print(bset)"
      ],
      "execution_count": 114,
      "outputs": [
        {
          "output_type": "stream",
          "text": [
            "{1, 2, 3}\n",
            "{1, 3, 4, 6, 7, 9}\n"
          ],
          "name": "stdout"
        }
      ]
    },
    {
      "cell_type": "code",
      "metadata": {
        "id": "tP6l3XqvCvcF",
        "colab_type": "code",
        "colab": {
          "base_uri": "https://localhost:8080/",
          "height": 35
        },
        "outputId": "d8314a6a-cff7-4822-f853-5a80ce6d5cb3"
      },
      "source": [
        "print(len(aset))"
      ],
      "execution_count": 108,
      "outputs": [
        {
          "output_type": "stream",
          "text": [
            "3\n"
          ],
          "name": "stdout"
        }
      ]
    },
    {
      "cell_type": "code",
      "metadata": {
        "id": "MyWDBdMTFaPa",
        "colab_type": "code",
        "colab": {
          "base_uri": "https://localhost:8080/",
          "height": 35
        },
        "outputId": "3cdc2ffd-90d5-4bcd-d2a4-9c52508ae7e4"
      },
      "source": [
        "print(3 in aset)  #set membership"
      ],
      "execution_count": 118,
      "outputs": [
        {
          "output_type": "stream",
          "text": [
            "True\n"
          ],
          "name": "stdout"
        }
      ]
    },
    {
      "cell_type": "code",
      "metadata": {
        "id": "6qjymq69FdNG",
        "colab_type": "code",
        "colab": {
          "base_uri": "https://localhost:8080/",
          "height": 35
        },
        "outputId": "13609a69-97b3-42f6-b81d-5673b873e878"
      },
      "source": [
        "print(4 in aset)"
      ],
      "execution_count": 117,
      "outputs": [
        {
          "output_type": "stream",
          "text": [
            "False\n"
          ],
          "name": "stdout"
        }
      ]
    },
    {
      "cell_type": "code",
      "metadata": {
        "id": "j0q20O5SCvax",
        "colab_type": "code",
        "colab": {
          "base_uri": "https://localhost:8080/",
          "height": 35
        },
        "outputId": "817571b5-52a2-4e19-b98f-49fe7cd4a59b"
      },
      "source": [
        "aset.intersection(bset)"
      ],
      "execution_count": 119,
      "outputs": [
        {
          "output_type": "execute_result",
          "data": {
            "text/plain": [
              "{1, 3}"
            ]
          },
          "metadata": {
            "tags": []
          },
          "execution_count": 119
        }
      ]
    },
    {
      "cell_type": "code",
      "metadata": {
        "id": "XSLWSaOUCvZA",
        "colab_type": "code",
        "colab": {
          "base_uri": "https://localhost:8080/",
          "height": 35
        },
        "outputId": "78aad23a-23e5-4da8-a809-aee1d2409b68"
      },
      "source": [
        "aset.union(bset)"
      ],
      "execution_count": 120,
      "outputs": [
        {
          "output_type": "execute_result",
          "data": {
            "text/plain": [
              "{1, 2, 3, 4, 6, 7, 9}"
            ]
          },
          "metadata": {
            "tags": []
          },
          "execution_count": 120
        }
      ]
    },
    {
      "cell_type": "markdown",
      "metadata": {
        "id": "pB9gv9ofFsau",
        "colab_type": "text"
      },
      "source": [
        "### Dictionaries"
      ]
    },
    {
      "cell_type": "markdown",
      "metadata": {
        "id": "-rs0j_DwHEw_",
        "colab_type": "text"
      },
      "source": [
        " - A dict is collection that is unordered, indexed and editable\n",
        " - Constant time lookup\n",
        " - (Key, Value) pairs\n",
        " - Keys have be to immutable"
      ]
    },
    {
      "cell_type": "code",
      "metadata": {
        "id": "ySKFDMsGFwaD",
        "colab_type": "code",
        "colab": {}
      },
      "source": [
        "adict = {'sid': 179, \n",
        "         'pikachu': 40.6, \n",
        "         'bulbasaur': 71.1,\n",
        "         'dragonite':221}"
      ],
      "execution_count": 0,
      "outputs": []
    },
    {
      "cell_type": "code",
      "metadata": {
        "id": "8M5yhOjQFwf3",
        "colab_type": "code",
        "colab": {
          "base_uri": "https://localhost:8080/",
          "height": 35
        },
        "outputId": "bce8ce3f-58ff-4b3c-af65-75dca0d65127"
      },
      "source": [
        "adict['sid']"
      ],
      "execution_count": 124,
      "outputs": [
        {
          "output_type": "execute_result",
          "data": {
            "text/plain": [
              "179"
            ]
          },
          "metadata": {
            "tags": []
          },
          "execution_count": 124
        }
      ]
    },
    {
      "cell_type": "code",
      "metadata": {
        "id": "fKowTAtvFwed",
        "colab_type": "code",
        "colab": {}
      },
      "source": [
        "adict['sid'] = 2736483276"
      ],
      "execution_count": 0,
      "outputs": []
    },
    {
      "cell_type": "code",
      "metadata": {
        "id": "NykWEtjAFwcm",
        "colab_type": "code",
        "colab": {
          "base_uri": "https://localhost:8080/",
          "height": 35
        },
        "outputId": "47a2a3ef-2335-4083-8dfe-ee072c837897"
      },
      "source": [
        "adict['sid']"
      ],
      "execution_count": 126,
      "outputs": [
        {
          "output_type": "execute_result",
          "data": {
            "text/plain": [
              "2736483276"
            ]
          },
          "metadata": {
            "tags": []
          },
          "execution_count": 126
        }
      ]
    },
    {
      "cell_type": "markdown",
      "metadata": {
        "id": "fCSIRNwzHgJp",
        "colab_type": "text"
      },
      "source": [
        "Adding to a dict is very straight-forward"
      ]
    },
    {
      "cell_type": "code",
      "metadata": {
        "id": "y0Qay2OLHeNB",
        "colab_type": "code",
        "colab": {}
      },
      "source": [
        "adict['charmender'] = 61\n"
      ],
      "execution_count": 0,
      "outputs": []
    },
    {
      "cell_type": "code",
      "metadata": {
        "id": "Jkg6quVEHeUs",
        "colab_type": "code",
        "colab": {
          "base_uri": "https://localhost:8080/",
          "height": 35
        },
        "outputId": "5cd124e1-6b83-42f6-c6c5-9a9364fc02af"
      },
      "source": [
        "print(adict)"
      ],
      "execution_count": 129,
      "outputs": [
        {
          "output_type": "stream",
          "text": [
            "{'sid': 2736483276, 'pikachu': 40.6, 'bulbasaur': 71.1, 'dragonite': 221, 'charmender': 61}\n"
          ],
          "name": "stdout"
        }
      ]
    },
    {
      "cell_type": "code",
      "metadata": {
        "id": "q-eQNwJOHeSn",
        "colab_type": "code",
        "colab": {}
      },
      "source": [
        ""
      ],
      "execution_count": 0,
      "outputs": []
    },
    {
      "cell_type": "code",
      "metadata": {
        "id": "zTNAKdR0HeRN",
        "colab_type": "code",
        "colab": {}
      },
      "source": [
        ""
      ],
      "execution_count": 0,
      "outputs": []
    },
    {
      "cell_type": "markdown",
      "metadata": {
        "id": "QMahEXHXHePu",
        "colab_type": "text"
      },
      "source": [
        "## 2. If, else and Loops"
      ]
    },
    {
      "cell_type": "markdown",
      "metadata": {
        "id": "xjJeXwZgIJzp",
        "colab_type": "text"
      },
      "source": [
        "## 3. List comprehensions"
      ]
    },
    {
      "cell_type": "markdown",
      "metadata": {
        "id": "PFTtyGf0IP2H",
        "colab_type": "text"
      },
      "source": [
        "## 4. Functions"
      ]
    },
    {
      "cell_type": "markdown",
      "metadata": {
        "colab_type": "text",
        "id": "J4trl2Nr1teh"
      },
      "source": [
        "## 5. Regular Expressions"
      ]
    },
    {
      "cell_type": "markdown",
      "metadata": {
        "id": "YaijJ6K1dsXy",
        "colab_type": "text"
      },
      "source": [
        "A sequence of characters that define a search pattern in strings.\n",
        "\n",
        "A resource for practising or checking regular expressions - https://www.regexpal.com/\n",
        "\n",
        "**Cheat Sheet from regexpal.com**:\n",
        "\n",
        "**Character classes** \\\\\n",
        ".\tany character except newline \\\\\n",
        "\\w \\d \\s word, digit, whitespace \\\\\n",
        "\\W \\D \\S not word, digit, whitespace \\\\\n",
        "[abc]\tany of a, b, or c \\\\\n",
        "[^abc]\tnot a, b, or c \\\\\n",
        "[a-g]\tcharacter between a & g \\\\\n",
        "\n",
        "**Anchors**\n",
        "\n",
        "^abc$\tstart / end of the string \\\\\n",
        "\\b\tword boundary \\\\\n",
        "\n",
        "**Escaped characters**  \\\\\n",
        "\\. \\* \\\\\tescaped special characters \\\\\n",
        "\\t \\n \\r\ttab, linefeed, carriage return \\\\\n",
        "\\u00A9\tunicode escaped © \\\\\n",
        "\n",
        "**Groups & Lookaround**\n",
        "\n",
        "(abc)\tcapture group \\\\\n",
        "\\1\tbackreference to group #1 \\\\\n",
        "(?:abc)\tnon-capturing group \\\\\n",
        "(?=abc)\tpositive lookahead \\\\\n",
        "(?!abc)\tnegative lookahead  \\\\\n",
        "\n",
        "**Quantifiers & Alternation** \\\\\n",
        "a* a+ a?\t0 or more, 1 or more, 0 or 1 \\\\\n",
        "a{5} a{2,}\texactly five, two or more \\\\\n",
        "a{1,3}\tbetween one & three \\\\\n",
        "a+? a{2,}?\tmatch as few as possible \\\\\n",
        "ab|cd\tmatch ab or cd \\\\"
      ]
    },
    {
      "cell_type": "code",
      "metadata": {
        "id": "tUtbBrHae07j",
        "colab_type": "code",
        "colab": {}
      },
      "source": [
        "import re #importing the Python regex library"
      ],
      "execution_count": 0,
      "outputs": []
    },
    {
      "cell_type": "code",
      "metadata": {
        "id": "EZiGpc8Tf58_",
        "colab_type": "code",
        "colab": {}
      },
      "source": [
        "example_string = '''\n",
        "Harry Potter's Hogwarts student ID was GRYF10011. Ron's ID was just next to Harry's -- GRYF10012.\n",
        "Draco Malfoy's ID was SLY7777. \n",
        "Fun fact - Harry Potter was 17 when he killed Voldemort. Voldemort was 72 years old when he died. \n",
        "Dumbledore was probably 150 when he died, who knows.\n",
        "Random math equation just for the purpose of a regex example: 72=9*8 and 9+8=17\n",
        "Another random math eq: x2-5x+6=0\n",
        "Bye!\n",
        "'''"
      ],
      "execution_count": 0,
      "outputs": []
    },
    {
      "cell_type": "code",
      "metadata": {
        "id": "aNnPj5YugnoH",
        "colab_type": "code",
        "outputId": "e9ba972a-a5b4-4112-d56f-b195ddfdca27",
        "colab": {
          "base_uri": "https://localhost:8080/",
          "height": 153
        }
      },
      "source": [
        "print(example_string)"
      ],
      "execution_count": 0,
      "outputs": [
        {
          "output_type": "stream",
          "text": [
            "\n",
            "Harry Potter's Hogwarts student ID was GRYF10011. Ron's ID was just next to Harry's -- GRYF10012.\n",
            "Draco Malfoy's ID was SLY7777. \n",
            "Fun fact - Harry Potter was 17 when he killed Voldemort. Voldemort was 72 years old when he died. \n",
            "Dumbledore was probably 150 when he died, who knows.\n",
            "Random math equation just for the purpose of a regex example: 72=9*8 and 9+8=17\n",
            "Bye!\n",
            "\n"
          ],
          "name": "stdout"
        }
      ]
    },
    {
      "cell_type": "code",
      "metadata": {
        "id": "YrLjB_11grDa",
        "colab_type": "code",
        "outputId": "b817e611-4e4b-43e2-d436-b22084886774",
        "colab": {
          "base_uri": "https://localhost:8080/",
          "height": 34
        }
      },
      "source": [
        "ages = re.findall(r'\\d', example_string)\n",
        "print(ages)"
      ],
      "execution_count": 0,
      "outputs": [
        {
          "output_type": "stream",
          "text": [
            "['1', '0', '0', '1', '1', '1', '0', '0', '1', '2', '7', '7', '7', '7', '1', '7', '7', '2', '1', '5', '0', '7', '2', '9', '8', '9', '8', '1', '7']\n"
          ],
          "name": "stdout"
        }
      ]
    },
    {
      "cell_type": "code",
      "metadata": {
        "id": "la2vEVCZi78m",
        "colab_type": "code",
        "outputId": "6417023d-b098-46c6-ef59-432a1651c2ca",
        "colab": {
          "base_uri": "https://localhost:8080/",
          "height": 34
        }
      },
      "source": [
        "ages = re.findall(r'\\d{1,3}', example_string)\n",
        "print(ages)"
      ],
      "execution_count": 0,
      "outputs": [
        {
          "output_type": "stream",
          "text": [
            "['100', '11', '100', '12', '777', '7', '17', '72', '150', '72', '9', '8', '9', '8', '17']\n"
          ],
          "name": "stdout"
        }
      ]
    },
    {
      "cell_type": "code",
      "metadata": {
        "id": "33GPdL7qk41N",
        "colab_type": "code",
        "outputId": "df6e0c4d-04cf-432e-90bf-bda6422e83ae",
        "colab": {
          "base_uri": "https://localhost:8080/",
          "height": 34
        }
      },
      "source": [
        "ages = re.findall(r' \\d{1,3} ', example_string)\n",
        "print(ages)"
      ],
      "execution_count": 0,
      "outputs": [
        {
          "output_type": "stream",
          "text": [
            "[' 17 ', ' 72 ', ' 150 ']\n"
          ],
          "name": "stdout"
        }
      ]
    },
    {
      "cell_type": "markdown",
      "metadata": {
        "id": "wf6nLbX6lA-_",
        "colab_type": "text"
      },
      "source": [
        "Words, alphanumerics"
      ]
    },
    {
      "cell_type": "code",
      "metadata": {
        "id": "xQ3rUuMOlPa7",
        "colab_type": "code",
        "outputId": "e4c644c1-79be-4093-fcfb-f3b729c298dc",
        "colab": {
          "base_uri": "https://localhost:8080/",
          "height": 54
        }
      },
      "source": [
        "words = re.findall(r'\\w+', example_string)\n",
        "print(words)"
      ],
      "execution_count": 0,
      "outputs": [
        {
          "output_type": "stream",
          "text": [
            "['Voldemort', 'was', '72', 'years', 'old', 'when', 'he', 'died', 'Harry', 'Potter', 'was', '17', 'when', 'he', 'killed', 'Voldemort', 'Harry', 's', 'Hogwarts', 'student', 'ID', 'was', 'GRYF10011', 'Ron', 's', 'ID', 'was', 'just', 'next', 'to', 'Harry', 'GRYF10012', 'Dumbledore', 'was', 'probably', '150', 'when', 'he', 'died', 'who', 'knows']\n"
          ],
          "name": "stdout"
        }
      ]
    },
    {
      "cell_type": "markdown",
      "metadata": {
        "id": "L7Dl_ETll4Yh",
        "colab_type": "text"
      },
      "source": [
        "#### Exercise:"
      ]
    },
    {
      "cell_type": "markdown",
      "metadata": {
        "id": "5O7cm7sdl8Pi",
        "colab_type": "text"
      },
      "source": [
        "Using regex:\n",
        "1. Find all the student IDs in the example_string\n",
        "2. Find all the math equations in the example_string\n",
        "3. Find all names in the example_string\n"
      ]
    },
    {
      "cell_type": "markdown",
      "metadata": {
        "id": "Y3TIDAYfsd7t",
        "colab_type": "text"
      },
      "source": [
        "## Search and Replace"
      ]
    },
    {
      "cell_type": "code",
      "metadata": {
        "id": "kjqFPww4tAah",
        "colab_type": "code",
        "colab": {}
      },
      "source": [
        "def replace(s):\n",
        "  '''\n",
        "  Input: a string\n",
        "  \n",
        "  Output: input string with some replacements \n",
        "  \n",
        "  '''\n",
        "  \n",
        "  s = re.sub(r'', s)\n",
        "  s = re.sub(r'', s)\n",
        "  \n",
        "  \n",
        "  return s"
      ],
      "execution_count": 0,
      "outputs": []
    },
    {
      "cell_type": "markdown",
      "metadata": {
        "id": "ugGxlvrWItOo",
        "colab_type": "text"
      },
      "source": [
        "#### Exercise:\n",
        "1. Replace all student IDs in the example_string by \"XXXXXXX\"\n",
        "\n",
        "2. Create a function that replaces the negative/positive contractions in a text with their full forms.\n",
        "\n",
        "Eg:  \"I don't want to go there. idk, i'm afraid man.\"\n",
        "     \n",
        "    \"I do not want to go there. I do not know, I am afraid man.\""
      ]
    },
    {
      "cell_type": "code",
      "metadata": {
        "id": "Td3vr5yNJABv",
        "colab_type": "code",
        "colab": {}
      },
      "source": [
        ""
      ],
      "execution_count": 0,
      "outputs": []
    }
  ]
}