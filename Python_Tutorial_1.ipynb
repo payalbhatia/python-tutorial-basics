{
  "nbformat": 4,
  "nbformat_minor": 0,
  "metadata": {
    "colab": {
      "name": "Python_Tutorial_1.ipynb",
      "version": "0.3.2",
      "provenance": [],
      "collapsed_sections": []
    },
    "kernelspec": {
      "name": "python3",
      "display_name": "Python 3"
    }
  },
  "cells": [
    {
      "cell_type": "markdown",
      "metadata": {
        "id": "ynGxSNh5sCKK",
        "colab_type": "text"
      },
      "source": [
        "## Text Processing in Python \n",
        "#### A Series of 5 Tutorials\n",
        "\n",
        "Organized by Facts Lab (http://factslab.io/)\n",
        "\n",
        "Instructor - Siddharth (Sid) Vashishtha (svashis3@ur.rochester.edu)\n",
        "\n",
        "### Tuorial 1 (Date: 9 Sep, 2019)\n",
        "Topics\n",
        "- Basic datatypes and operations in Python\n",
        "- If-else statements, loops \n",
        "- List comprehensions\n",
        "- Defining Functions\n",
        "- String manipulation\n",
        "- Regular expressions (regex) \n",
        "\n",
        "Optional reading for next tutorial:\n",
        "Tokenization: https://web.stanford.edu/~jurafsky/slp3/2.pdf\n",
        "\n",
        "### Tutorial 2 (Date: 11 Sep, 2019)\n",
        "Topics\n",
        "- Review tokenization issues\n",
        "- Tokenization, Sentence separation (corenlp, spacy)\n",
        "- Lemmatization (corenlp, spacy)\n",
        "- Reading corpuses\n",
        "- Plotting unigram counts \n",
        "- Ziphy distribution   \n",
        "\n",
        "### Tutorial 3 (Date 13 Sep, 2019)\n",
        "Topics\n",
        "- Ngram Language Modelling\n",
        "- google ngram viewer\n",
        "- POS tagging\n",
        "- Constituency Parsers\n",
        "- Dependency Parsers\n",
        "\n",
        "  \n",
        "### Tutorial 4 (Syntactic resources, Tree searches)\n",
        "\n",
        "### Tutorial 5 (Semantic Resources - decomp, sparqle)\n"
      ]
    },
    {
      "cell_type": "markdown",
      "metadata": {
        "id": "_AAW9rTWvW0O",
        "colab_type": "text"
      },
      "source": [
        "# Tutorial 1"
      ]
    },
    {
      "cell_type": "markdown",
      "metadata": {
        "id": "PheHB-118VF1",
        "colab_type": "text"
      },
      "source": [
        "We will cover these tutorials in Google Colab : https://colab.research.google.com\n",
        "\n",
        "Google Colab allows a simple way to access Python Jupyter Notebooks with a lot of packages already installed.\n",
        "\n",
        "To run Google Colab, all you need is a google account. It's a free service. "
      ]
    },
    {
      "cell_type": "markdown",
      "metadata": {
        "id": "T9btKw2lwoOu",
        "colab_type": "text"
      },
      "source": [
        "## 1. Basic datatypes and operations"
      ]
    },
    {
      "cell_type": "markdown",
      "metadata": {
        "id": "z_4nCYoJztmu",
        "colab_type": "text"
      },
      "source": [
        "### Numbers"
      ]
    },
    {
      "cell_type": "markdown",
      "metadata": {
        "id": "tyMqt_T8fnxG",
        "colab_type": "text"
      },
      "source": [
        "Python supports three types of numbers - int, float, and complex"
      ]
    },
    {
      "cell_type": "code",
      "metadata": {
        "id": "Tx0clQgOw7x8",
        "colab_type": "code",
        "colab": {}
      },
      "source": [
        "2"
      ],
      "execution_count": 0,
      "outputs": []
    },
    {
      "cell_type": "code",
      "metadata": {
        "id": "wE7p4SPwyasb",
        "colab_type": "code",
        "colab": {}
      },
      "source": [
        "type(2)  #type function returns the datatype of the input argument"
      ],
      "execution_count": 0,
      "outputs": []
    },
    {
      "cell_type": "code",
      "metadata": {
        "id": "xlaLGbpNzzFN",
        "colab_type": "code",
        "colab": {}
      },
      "source": [
        "type(2.0)"
      ],
      "execution_count": 0,
      "outputs": []
    },
    {
      "cell_type": "code",
      "metadata": {
        "id": "g2Qmo-SKyhvE",
        "colab_type": "code",
        "colab": {}
      },
      "source": [
        "2*4"
      ],
      "execution_count": 0,
      "outputs": []
    },
    {
      "cell_type": "code",
      "metadata": {
        "id": "HW_oBNHWzRr9",
        "colab_type": "code",
        "colab": {}
      },
      "source": [
        "2 + 5 - 6 * 4     # follows BODMAS/PEDMAS"
      ],
      "execution_count": 0,
      "outputs": []
    },
    {
      "cell_type": "code",
      "metadata": {
        "id": "stexOunSzTq7",
        "colab_type": "code",
        "colab": {}
      },
      "source": [
        "2**4   #exponents"
      ],
      "execution_count": 0,
      "outputs": []
    },
    {
      "cell_type": "code",
      "metadata": {
        "id": "0rHvH8F_z2lg",
        "colab_type": "code",
        "colab": {}
      },
      "source": [
        "9%5  #remainder "
      ],
      "execution_count": 0,
      "outputs": []
    },
    {
      "cell_type": "code",
      "metadata": {
        "id": "8V-PPZcZf1aG",
        "colab_type": "code",
        "colab": {}
      },
      "source": [
        "42//5"
      ],
      "execution_count": 0,
      "outputs": []
    },
    {
      "cell_type": "code",
      "metadata": {
        "id": "l25iHgZ-0vsv",
        "colab_type": "code",
        "colab": {}
      },
      "source": [
        "abs(-42)  #absolute function"
      ],
      "execution_count": 0,
      "outputs": []
    },
    {
      "cell_type": "markdown",
      "metadata": {
        "id": "iwRwRE8u03Ae",
        "colab_type": "text"
      },
      "source": [
        "### Strings"
      ]
    },
    {
      "cell_type": "code",
      "metadata": {
        "id": "Ic49Ft2u1ARL",
        "colab_type": "code",
        "colab": {}
      },
      "source": [
        "'abc'"
      ],
      "execution_count": 0,
      "outputs": []
    },
    {
      "cell_type": "markdown",
      "metadata": {
        "colab_type": "text",
        "id": "insv2s6O1teK"
      },
      "source": [
        "#### Printing stuff"
      ]
    },
    {
      "cell_type": "code",
      "metadata": {
        "colab_type": "code",
        "id": "yQjdhFY91teX",
        "colab": {}
      },
      "source": [
        "print(\"Hello, world\")\n",
        "print('Hello, world')"
      ],
      "execution_count": 0,
      "outputs": []
    },
    {
      "cell_type": "markdown",
      "metadata": {
        "colab_type": "text",
        "id": "1T2SZfz21teb"
      },
      "source": [
        "How do we handle quotations inside text?"
      ]
    },
    {
      "cell_type": "code",
      "metadata": {
        "colab_type": "code",
        "id": "n5IKyN7z1teb",
        "colab": {}
      },
      "source": [
        "print(\"This is Sid's tutorial\")"
      ],
      "execution_count": 0,
      "outputs": []
    },
    {
      "cell_type": "code",
      "metadata": {
        "colab_type": "code",
        "id": "WNmNF6lu1tef",
        "colab": {}
      },
      "source": [
        "print('Sid said, \"Text processing is cool.\" ')"
      ],
      "execution_count": 0,
      "outputs": []
    },
    {
      "cell_type": "code",
      "metadata": {
        "colab_type": "code",
        "id": "SZRL9LyG1teg",
        "colab": {}
      },
      "source": [
        "print('''  Sid said, \"It doesn't matter which major you have, anyone can master text processing.\"  ''' )"
      ],
      "execution_count": 0,
      "outputs": []
    },
    {
      "cell_type": "markdown",
      "metadata": {
        "id": "CKVDicj8ERvM",
        "colab_type": "text"
      },
      "source": [
        "Concatenating strings"
      ]
    },
    {
      "cell_type": "code",
      "metadata": {
        "id": "xM1ZR8AJEHVR",
        "colab_type": "code",
        "colab": {}
      },
      "source": [
        "print('abc' + 'def')   ## concatenation"
      ],
      "execution_count": 0,
      "outputs": []
    },
    {
      "cell_type": "code",
      "metadata": {
        "id": "deLOHiX4EMVb",
        "colab_type": "code",
        "colab": {}
      },
      "source": [
        "print(\"abc\"*3)"
      ],
      "execution_count": 0,
      "outputs": []
    },
    {
      "cell_type": "code",
      "metadata": {
        "id": "ajaUC0dyEfSA",
        "colab_type": "code",
        "colab": {}
      },
      "source": [
        "height = 179\n",
        "name = 'Sid'\n",
        "\n",
        "print(\"The instructor's name is {} and he is {} cms tall.\".format(name, height))"
      ],
      "execution_count": 0,
      "outputs": []
    },
    {
      "cell_type": "markdown",
      "metadata": {
        "id": "AxLLXdgWBSE4",
        "colab_type": "text"
      },
      "source": [
        "#### Booleans"
      ]
    },
    {
      "cell_type": "markdown",
      "metadata": {
        "id": "KLWo8ZUhjjNF",
        "colab_type": "text"
      },
      "source": [
        "You can evaluate any expression in Python, and get one of two answers, `True` or `False`."
      ]
    },
    {
      "cell_type": "code",
      "metadata": {
        "id": "PnWE-bLtibPm",
        "colab_type": "code",
        "colab": {}
      },
      "source": [
        "2 < 3"
      ],
      "execution_count": 0,
      "outputs": []
    },
    {
      "cell_type": "code",
      "metadata": {
        "id": "xuvIc-eeic57",
        "colab_type": "code",
        "colab": {}
      },
      "source": [
        "34 > 42"
      ],
      "execution_count": 0,
      "outputs": []
    },
    {
      "cell_type": "code",
      "metadata": {
        "id": "XGDMYESwihyG",
        "colab_type": "code",
        "colab": {}
      },
      "source": [
        "59 <= 59"
      ],
      "execution_count": 0,
      "outputs": []
    },
    {
      "cell_type": "code",
      "metadata": {
        "id": "MIGTm5GVikfZ",
        "colab_type": "code",
        "colab": {}
      },
      "source": [
        "99 != 100  #not equals"
      ],
      "execution_count": 0,
      "outputs": []
    },
    {
      "cell_type": "code",
      "metadata": {
        "id": "nfxmesXziodK",
        "colab_type": "code",
        "colab": {}
      },
      "source": [
        "2 == 2"
      ],
      "execution_count": 0,
      "outputs": []
    },
    {
      "cell_type": "code",
      "metadata": {
        "id": "-KpglkWyBU-1",
        "colab_type": "code",
        "colab": {}
      },
      "source": [
        "print(True)"
      ],
      "execution_count": 0,
      "outputs": []
    },
    {
      "cell_type": "code",
      "metadata": {
        "id": "UNa2k3XuBWf1",
        "colab_type": "code",
        "colab": {}
      },
      "source": [
        "print(False)"
      ],
      "execution_count": 0,
      "outputs": []
    },
    {
      "cell_type": "code",
      "metadata": {
        "id": "FAjlb95NBZzW",
        "colab_type": "code",
        "colab": {}
      },
      "source": [
        "\"string1\" == \"string1\""
      ],
      "execution_count": 0,
      "outputs": []
    },
    {
      "cell_type": "code",
      "metadata": {
        "id": "LBvBVnXmBjXE",
        "colab_type": "code",
        "colab": {}
      },
      "source": [
        "\"string1\" == \"string1s\""
      ],
      "execution_count": 0,
      "outputs": []
    },
    {
      "cell_type": "markdown",
      "metadata": {
        "id": "Kv0n_WkbK1ZC",
        "colab_type": "text"
      },
      "source": [
        "### Collection data types\n",
        "\n",
        "- Lists\n",
        "- Tuples\n",
        "- Sets\n",
        "- Dictionaries"
      ]
    },
    {
      "cell_type": "markdown",
      "metadata": {
        "id": "RgthsefBLAaT",
        "colab_type": "text"
      },
      "source": [
        "Each collection data type can take multiple types of objects. "
      ]
    },
    {
      "cell_type": "markdown",
      "metadata": {
        "id": "YnNmNaUGLNC3",
        "colab_type": "text"
      },
      "source": [
        "A generic note for Python: Indexing starts at 0 for any data type that is indexable"
      ]
    },
    {
      "cell_type": "markdown",
      "metadata": {
        "id": "MBqox59Q4bdg",
        "colab_type": "text"
      },
      "source": [
        "### Lists\n",
        "A collection which is:\n",
        " - ordered and changeable\n",
        " - written with square brackets\n"
      ]
    },
    {
      "cell_type": "code",
      "metadata": {
        "id": "pRf5KRU-5EU5",
        "colab_type": "code",
        "colab": {}
      },
      "source": [
        "alst = [1,2,3]\n",
        "blst = ['abc', 'xyz', 'string']\n",
        "clst = ['foo', 456, 'bar', ['pqr', 2**4]]"
      ],
      "execution_count": 0,
      "outputs": []
    },
    {
      "cell_type": "code",
      "metadata": {
        "id": "EduBSp-6655Y",
        "colab_type": "code",
        "colab": {}
      },
      "source": [
        "print(alst[0])\n",
        "print(blst[2])\n",
        "print(clst[3])"
      ],
      "execution_count": 0,
      "outputs": []
    },
    {
      "cell_type": "markdown",
      "metadata": {
        "id": "7v1bieHy7q1F",
        "colab_type": "text"
      },
      "source": [
        "#### Lists are changeable i.e. mutable. You can edit/delete elements of a list and add elements to it as well."
      ]
    },
    {
      "cell_type": "code",
      "metadata": {
        "id": "wQrg8axq7xpe",
        "colab_type": "code",
        "colab": {}
      },
      "source": [
        "blst[2] = \"newString\"\n",
        "print(blst)"
      ],
      "execution_count": 0,
      "outputs": []
    },
    {
      "cell_type": "code",
      "metadata": {
        "id": "ABE5Zx5w-f5t",
        "colab_type": "code",
        "colab": {}
      },
      "source": [
        "blst.append(\"anotherString\")\n",
        "print(blst)"
      ],
      "execution_count": 0,
      "outputs": []
    },
    {
      "cell_type": "markdown",
      "metadata": {
        "id": "BcvLacwd-vzD",
        "colab_type": "text"
      },
      "source": [
        "Removing elements from a list"
      ]
    },
    {
      "cell_type": "code",
      "metadata": {
        "id": "0HTCtU9H-n5_",
        "colab_type": "code",
        "colab": {}
      },
      "source": [
        "popped = blst.pop()     ## popping the last element: O(1) time complexity\n",
        "print(popped)\n",
        "print(blst)"
      ],
      "execution_count": 0,
      "outputs": []
    },
    {
      "cell_type": "code",
      "metadata": {
        "id": "XinnsrQt-n9V",
        "colab_type": "code",
        "colab": {}
      },
      "source": [
        "popped = blst.pop(0)     ## popping by index: O(n) time complexity\n",
        "print(blst) "
      ],
      "execution_count": 0,
      "outputs": []
    },
    {
      "cell_type": "markdown",
      "metadata": {
        "id": "vfLnEMIn7-Hy",
        "colab_type": "text"
      },
      "source": [
        "### Tuples"
      ]
    },
    {
      "cell_type": "markdown",
      "metadata": {
        "id": "jT1qsSf7JTos",
        "colab_type": "text"
      },
      "source": [
        "A tuple is a collection which is:\n",
        " - ordered and unchangeable\n",
        " - written with round brackets"
      ]
    },
    {
      "cell_type": "code",
      "metadata": {
        "id": "OQ4bxxpk7hgc",
        "colab_type": "code",
        "colab": {}
      },
      "source": [
        "atupl = (1,2,3)\n",
        "btupl =  ('abc', 'xyz', 'string')\n",
        "ctupl = ('foo', 456, 'bar', ['pqr', 2**4])"
      ],
      "execution_count": 0,
      "outputs": []
    },
    {
      "cell_type": "code",
      "metadata": {
        "id": "EWyE4yZ97hmG",
        "colab_type": "code",
        "colab": {}
      },
      "source": [
        "print(atupl[0])\n",
        "print(btupl[2])\n",
        "print(ctupl[3])"
      ],
      "execution_count": 0,
      "outputs": []
    },
    {
      "cell_type": "markdown",
      "metadata": {
        "id": "FfmSWkSZ7hlC",
        "colab_type": "text"
      },
      "source": [
        "#### Tuples are unchangeable i.e immutable. You cannot edit/delete the elements of a tuple, and neither can add any element to it."
      ]
    },
    {
      "cell_type": "code",
      "metadata": {
        "id": "n0_YtP2R7hj_",
        "colab_type": "code",
        "colab": {}
      },
      "source": [
        "# btupl[2] = \"newString\"\n",
        "# print(blst)"
      ],
      "execution_count": 0,
      "outputs": []
    },
    {
      "cell_type": "code",
      "metadata": {
        "id": "Re_CEBBI_vtT",
        "colab_type": "code",
        "colab": {}
      },
      "source": [
        "#btupl.append(\"anotherString\")"
      ],
      "execution_count": 0,
      "outputs": []
    },
    {
      "cell_type": "markdown",
      "metadata": {
        "id": "PuFvE0rY_vzN",
        "colab_type": "text"
      },
      "source": [
        "#### Exercise: (Importance of mutable and immutable objects)"
      ]
    },
    {
      "cell_type": "code",
      "metadata": {
        "id": "FoHmC4_e_vxF",
        "colab_type": "code",
        "colab": {}
      },
      "source": [
        "dlst = [42,12,79]\n",
        "elst = dlst\n",
        "elst[1] = 7\n",
        "\n",
        "# # What do you think would be the output of the below code?\n",
        "# print(dlst == elst)\n",
        "# print(dlst)\n",
        "# print(elst)"
      ],
      "execution_count": 0,
      "outputs": []
    },
    {
      "cell_type": "code",
      "metadata": {
        "id": "N2e1zoX9_vvl",
        "colab_type": "code",
        "colab": {}
      },
      "source": [
        "anum = 89\n",
        "bnum = anum\n",
        "bnum = 3\n",
        "\n",
        "# # What do you think would be the output of the below code?\n",
        "# print(bnum == anum)\n",
        "# print(anum)\n",
        "# print(bnum)"
      ],
      "execution_count": 0,
      "outputs": []
    },
    {
      "cell_type": "markdown",
      "metadata": {
        "id": "LokSBtx1CgIx",
        "colab_type": "text"
      },
      "source": [
        "### Sets"
      ]
    },
    {
      "cell_type": "markdown",
      "metadata": {
        "id": "huw2HI7aHO0R",
        "colab_type": "text"
      },
      "source": [
        "A set is a collection which is:\n",
        "- unordered and unindexed\n",
        "- represented with curly brackets"
      ]
    },
    {
      "cell_type": "code",
      "metadata": {
        "id": "JjsvEcgQCvWc",
        "colab_type": "code",
        "colab": {}
      },
      "source": [
        "aset = {1,2,3}\n",
        "bset = {7,7,6,6,3,3,3,4,9,1,1}\n",
        "\n",
        "print(aset)\n",
        "print(bset)"
      ],
      "execution_count": 0,
      "outputs": []
    },
    {
      "cell_type": "code",
      "metadata": {
        "id": "tP6l3XqvCvcF",
        "colab_type": "code",
        "colab": {}
      },
      "source": [
        "print(len(aset))"
      ],
      "execution_count": 0,
      "outputs": []
    },
    {
      "cell_type": "code",
      "metadata": {
        "id": "MyWDBdMTFaPa",
        "colab_type": "code",
        "colab": {}
      },
      "source": [
        "print(3 in aset)  #set membership"
      ],
      "execution_count": 0,
      "outputs": []
    },
    {
      "cell_type": "code",
      "metadata": {
        "id": "6qjymq69FdNG",
        "colab_type": "code",
        "colab": {}
      },
      "source": [
        "print(4 in aset)"
      ],
      "execution_count": 0,
      "outputs": []
    },
    {
      "cell_type": "code",
      "metadata": {
        "id": "j0q20O5SCvax",
        "colab_type": "code",
        "colab": {}
      },
      "source": [
        "aset.intersection(bset)"
      ],
      "execution_count": 0,
      "outputs": []
    },
    {
      "cell_type": "code",
      "metadata": {
        "id": "XSLWSaOUCvZA",
        "colab_type": "code",
        "colab": {}
      },
      "source": [
        "aset.union(bset)"
      ],
      "execution_count": 0,
      "outputs": []
    },
    {
      "cell_type": "markdown",
      "metadata": {
        "id": "pB9gv9ofFsau",
        "colab_type": "text"
      },
      "source": [
        "### Dictionaries"
      ]
    },
    {
      "cell_type": "markdown",
      "metadata": {
        "id": "-rs0j_DwHEw_",
        "colab_type": "text"
      },
      "source": [
        " A dict is collection that has the following properties:\n",
        " - unordered, indexed and editable\n",
        " - represented with a curly bracket\n",
        " - has (Key, Value) pairs \\\\\n",
        " \n",
        "Other notes:\n",
        " - has Constant time lookup\n",
        " - has to have Keys as objects that are immutable"
      ]
    },
    {
      "cell_type": "code",
      "metadata": {
        "id": "ySKFDMsGFwaD",
        "colab_type": "code",
        "colab": {}
      },
      "source": [
        "#Storing heights of different living species (mostly Pokemon)\n",
        "\n",
        "adict = {'sid': 179, \n",
        "         'pikachu': 40.6, \n",
        "         'bulbasaur': 71.1,\n",
        "         'dragonite':221}"
      ],
      "execution_count": 0,
      "outputs": []
    },
    {
      "cell_type": "code",
      "metadata": {
        "id": "8M5yhOjQFwf3",
        "colab_type": "code",
        "colab": {}
      },
      "source": [
        "adict['sid']"
      ],
      "execution_count": 0,
      "outputs": []
    },
    {
      "cell_type": "code",
      "metadata": {
        "id": "fKowTAtvFwed",
        "colab_type": "code",
        "colab": {}
      },
      "source": [
        "adict['sid'] = 2736483276"
      ],
      "execution_count": 0,
      "outputs": []
    },
    {
      "cell_type": "code",
      "metadata": {
        "id": "NykWEtjAFwcm",
        "colab_type": "code",
        "colab": {}
      },
      "source": [
        "adict['sid']"
      ],
      "execution_count": 0,
      "outputs": []
    },
    {
      "cell_type": "markdown",
      "metadata": {
        "id": "fCSIRNwzHgJp",
        "colab_type": "text"
      },
      "source": [
        "Adding to a dict is very straight-forward"
      ]
    },
    {
      "cell_type": "code",
      "metadata": {
        "id": "y0Qay2OLHeNB",
        "colab_type": "code",
        "colab": {}
      },
      "source": [
        "adict['charmender'] = 61\n"
      ],
      "execution_count": 0,
      "outputs": []
    },
    {
      "cell_type": "code",
      "metadata": {
        "id": "Jkg6quVEHeUs",
        "colab_type": "code",
        "colab": {}
      },
      "source": [
        "print(adict)"
      ],
      "execution_count": 0,
      "outputs": []
    },
    {
      "cell_type": "markdown",
      "metadata": {
        "id": "l1O9A80onzmj",
        "colab_type": "text"
      },
      "source": [
        "Different items of a dictionary can be accessed by using these attributes:\n",
        "- `.keys()`\n",
        "- `.values()`\n",
        "- `.items()`"
      ]
    },
    {
      "cell_type": "code",
      "metadata": {
        "id": "q-eQNwJOHeSn",
        "colab_type": "code",
        "colab": {}
      },
      "source": [
        "print(adict.keys())"
      ],
      "execution_count": 0,
      "outputs": []
    },
    {
      "cell_type": "code",
      "metadata": {
        "id": "zTNAKdR0HeRN",
        "colab_type": "code",
        "colab": {}
      },
      "source": [
        "print(adict.values())"
      ],
      "execution_count": 0,
      "outputs": []
    },
    {
      "cell_type": "code",
      "metadata": {
        "id": "lvZaphRHoBiZ",
        "colab_type": "code",
        "colab": {}
      },
      "source": [
        "print(adict.items())"
      ],
      "execution_count": 0,
      "outputs": []
    },
    {
      "cell_type": "markdown",
      "metadata": {
        "id": "QMahEXHXHePu",
        "colab_type": "text"
      },
      "source": [
        "## 2. If, else and Loops"
      ]
    },
    {
      "cell_type": "markdown",
      "metadata": {
        "id": "N7f4ZJMfhNQU",
        "colab_type": "text"
      },
      "source": [
        "Python requires indentation for scoping in your code.\n",
        "In some other languages, curly brackets are used for this purpose"
      ]
    },
    {
      "cell_type": "code",
      "metadata": {
        "id": "CUQG_RDNhUQo",
        "colab_type": "code",
        "colab": {}
      },
      "source": [
        "if 21 < 3:\n",
        "  print(\"You are correct! :) \")\n",
        "else:\n",
        "  print(\"You are wrong! :( \")"
      ],
      "execution_count": 0,
      "outputs": []
    },
    {
      "cell_type": "code",
      "metadata": {
        "id": "cp9593PmiQMk",
        "colab_type": "code",
        "colab": {}
      },
      "source": [
        "if 21 < 3:\n",
        "print(\"You are correct! :) \")\n",
        "else:\n",
        "print(\"You are wrong! :( \")"
      ],
      "execution_count": 0,
      "outputs": []
    },
    {
      "cell_type": "code",
      "metadata": {
        "id": "HA8x1qhEkZxc",
        "colab_type": "code",
        "colab": {}
      },
      "source": [
        "a = 100\n",
        "b = 200\n",
        "\n",
        "if a < b:\n",
        "  print(\"a is less than b\")\n",
        "if a > b:\n",
        "  print(\"a is greater than b\")"
      ],
      "execution_count": 0,
      "outputs": []
    },
    {
      "cell_type": "markdown",
      "metadata": {
        "id": "PiyCyAicle7q",
        "colab_type": "text"
      },
      "source": [
        "When python encounters a series of `if` statements, by default it runs each of them sequentially"
      ]
    },
    {
      "cell_type": "code",
      "metadata": {
        "id": "V1XvdwvLkZvN",
        "colab_type": "code",
        "colab": {}
      },
      "source": [
        "a = 100\n",
        "b = 200\n",
        "\n",
        "if a < b:\n",
        "  print(\"a is less than b\")\n",
        "if a > b:\n",
        "  print(\"a is greater than b\")\n",
        "if a==b:\n",
        "  print(\"a is equal to b\")"
      ],
      "execution_count": 0,
      "outputs": []
    },
    {
      "cell_type": "markdown",
      "metadata": {
        "id": "BGQHgNtZlrS0",
        "colab_type": "text"
      },
      "source": [
        "`elif` is a way of saying - if the previous condition weren't true, try this case"
      ]
    },
    {
      "cell_type": "code",
      "metadata": {
        "id": "9dbMvyeLk6-W",
        "colab_type": "code",
        "colab": {}
      },
      "source": [
        "a = 100\n",
        "b = 200\n",
        "\n",
        "if a < b:\n",
        "  print(\"a is less than b\")\n",
        "elif a > b:\n",
        "  print(\"a is greater than b\")\n",
        "elif a==b:\n",
        "  print(\"a is equal to b\")\n"
      ],
      "execution_count": 0,
      "outputs": []
    },
    {
      "cell_type": "markdown",
      "metadata": {
        "id": "fl4bYIB0mAoy",
        "colab_type": "text"
      },
      "source": [
        "All objects in Python have a truth value.\n",
        "\n",
        "The following objects have a `False` value\n",
        "- 0\n",
        "- 0.000, 0.0x\n",
        "- an empty sequence: '', (), []\n",
        "- an empty mapping: {}\n",
        "- set()\n",
        "- `None`\n",
        "\n",
        "Rest other objects in Python, have value `True`"
      ]
    },
    {
      "cell_type": "code",
      "metadata": {
        "id": "AUiwGqNDmaNg",
        "colab_type": "code",
        "colab": {}
      },
      "source": [
        "if 0.00:\n",
        "  print(\"if condition is true\")\n",
        "else:\n",
        "  print(\"else condition is true\")"
      ],
      "execution_count": 0,
      "outputs": []
    },
    {
      "cell_type": "code",
      "metadata": {
        "id": "HK3F11OWmaTn",
        "colab_type": "code",
        "colab": {}
      },
      "source": [
        "if []:\n",
        "  print(\"if condition is true\")\n",
        "else:\n",
        "  print(\"else condition is true\")"
      ],
      "execution_count": 0,
      "outputs": []
    },
    {
      "cell_type": "code",
      "metadata": {
        "id": "fX0tMV1JmaRL",
        "colab_type": "code",
        "colab": {}
      },
      "source": [
        "if {}:\n",
        "  print(\"if condition is true\")\n",
        "else:\n",
        "  print(\"else condition is true\")"
      ],
      "execution_count": 0,
      "outputs": []
    },
    {
      "cell_type": "markdown",
      "metadata": {
        "id": "EFg1r8IqnOn0",
        "colab_type": "text"
      },
      "source": [
        "#### Loops"
      ]
    },
    {
      "cell_type": "markdown",
      "metadata": {
        "id": "AAHpSCfXovmZ",
        "colab_type": "text"
      },
      "source": [
        "A `for` loop is used for iterating over a sequence.\n",
        "\n",
        "`for` doesn't require an indexing variable to be set beforehand"
      ]
    },
    {
      "cell_type": "code",
      "metadata": {
        "id": "zmmyE9LJngJ6",
        "colab_type": "code",
        "colab": {}
      },
      "source": [
        "dlst = [42,12,79]\n",
        "for item in dlst:\n",
        "  print(item)"
      ],
      "execution_count": 0,
      "outputs": []
    },
    {
      "cell_type": "code",
      "metadata": {
        "id": "JH7iYiTYngSt",
        "colab_type": "code",
        "colab": {}
      },
      "source": [
        "string = \"apple\"\n",
        "for ch in string:\n",
        "  print(ch)"
      ],
      "execution_count": 0,
      "outputs": []
    },
    {
      "cell_type": "code",
      "metadata": {
        "id": "600C3fLYrFrk",
        "colab_type": "code",
        "colab": {}
      },
      "source": [
        "range(0, 10, 1)   #start, stop, increment"
      ],
      "execution_count": 0,
      "outputs": []
    },
    {
      "cell_type": "code",
      "metadata": {
        "id": "w3UVjuJUq72V",
        "colab_type": "code",
        "colab": {}
      },
      "source": [
        "for i in range(1,10,2):\n",
        "  print(i)"
      ],
      "execution_count": 0,
      "outputs": []
    },
    {
      "cell_type": "code",
      "metadata": {
        "id": "ZTmqf9z5ruBd",
        "colab_type": "code",
        "colab": {}
      },
      "source": [
        "## Default start = 0 and default incrememnt = 1\n",
        "for i in range(10):\n",
        "  print(i)"
      ],
      "execution_count": 0,
      "outputs": []
    },
    {
      "cell_type": "code",
      "metadata": {
        "id": "Rnpj2ddJngQF",
        "colab_type": "code",
        "colab": {}
      },
      "source": [
        "adict = {'sid': 179, \n",
        "         'pikachu': 40.6, \n",
        "         'bulbasaur': 71.1,\n",
        "         'dragonite':221}\n",
        "\n",
        "for key in adict:\n",
        "  print(\" {}'s height is:  {}\".format(key, adict[key]))"
      ],
      "execution_count": 0,
      "outputs": []
    },
    {
      "cell_type": "markdown",
      "metadata": {
        "id": "Rp4t-sdSngN5",
        "colab_type": "text"
      },
      "source": [
        "A break statement can be used to break the for loop before it has looped through all the items"
      ]
    },
    {
      "cell_type": "code",
      "metadata": {
        "id": "aZpAYBVJpk4U",
        "colab_type": "code",
        "colab": {}
      },
      "source": [
        "for ch in \"harry_potter\":\n",
        "  if ch=='p':\n",
        "    break\n",
        "  else:\n",
        "    print(ch)"
      ],
      "execution_count": 0,
      "outputs": []
    },
    {
      "cell_type": "markdown",
      "metadata": {
        "id": "oCMpvtVFpvqD",
        "colab_type": "text"
      },
      "source": [
        "`while` loop runs as long as a certain command is true"
      ]
    },
    {
      "cell_type": "code",
      "metadata": {
        "id": "r6hFBvJppvna",
        "colab_type": "code",
        "colab": {}
      },
      "source": [
        "i = 10\n",
        "while i > 0:\n",
        "  print(i)\n",
        "  i = i-1"
      ],
      "execution_count": 0,
      "outputs": []
    },
    {
      "cell_type": "code",
      "metadata": {
        "id": "OheUXtIRqGiQ",
        "colab_type": "code",
        "colab": {}
      },
      "source": [
        "i = 11\n",
        "while i > 0:\n",
        "  print(i)\n",
        "  \n",
        "  if i%2==0:## even number (remainder when divided by 2 == 0)\n",
        "    break\n",
        "  \n",
        "  i = i-1"
      ],
      "execution_count": 0,
      "outputs": []
    },
    {
      "cell_type": "markdown",
      "metadata": {
        "id": "xjJeXwZgIJzp",
        "colab_type": "text"
      },
      "source": [
        "## 3. List comprehensions"
      ]
    },
    {
      "cell_type": "markdown",
      "metadata": {
        "id": "jDJkkfZEqW7a",
        "colab_type": "text"
      },
      "source": [
        "List comprehensions are a concise way of creating lists"
      ]
    },
    {
      "cell_type": "code",
      "metadata": {
        "id": "J1KrM52Eq1Op",
        "colab_type": "code",
        "colab": {}
      },
      "source": [
        "alst = []\n",
        "for i in range(15):\n",
        "  alst.append(i)\n",
        "  \n",
        "print(alst)"
      ],
      "execution_count": 0,
      "outputs": []
    },
    {
      "cell_type": "code",
      "metadata": {
        "id": "U4QwDkVgqvT4",
        "colab_type": "code",
        "colab": {}
      },
      "source": [
        "blst = [i for i in range(15)]\n",
        "print(blst)"
      ],
      "execution_count": 0,
      "outputs": []
    },
    {
      "cell_type": "code",
      "metadata": {
        "id": "qjGHTCwJsJ_2",
        "colab_type": "code",
        "colab": {}
      },
      "source": [
        "## creating tuples inside a list"
      ],
      "execution_count": 0,
      "outputs": []
    },
    {
      "cell_type": "markdown",
      "metadata": {
        "id": "PFTtyGf0IP2H",
        "colab_type": "text"
      },
      "source": [
        "## 4. Functions"
      ]
    },
    {
      "cell_type": "markdown",
      "metadata": {
        "id": "nQ85AqYMtmo6",
        "colab_type": "text"
      },
      "source": [
        "- A function is a block of code which runs only when it is called.\n",
        "- You can pass parameters (some data) into a function\n",
        "- A function can return any data as its result\n",
        "- The return command exits the function whenever it is encountered inside a function"
      ]
    },
    {
      "cell_type": "code",
      "metadata": {
        "id": "VeG24AnYsdnS",
        "colab_type": "code",
        "colab": {}
      },
      "source": [
        "def function_name():\n",
        "  return None\n",
        "\n",
        "## create a function that takes a number as its input and prints if it is a prime number"
      ],
      "execution_count": 0,
      "outputs": []
    },
    {
      "cell_type": "code",
      "metadata": {
        "id": "GohY3zP-uFW4",
        "colab_type": "code",
        "colab": {}
      },
      "source": [
        "def is_prime(n):\n",
        "  \n",
        "  if n==2:\n",
        "    return True\n",
        "  \n",
        "  else:\n",
        "    for i in range(2,n):\n",
        "      if n%i==0:\n",
        "        print(\"Divisible by  {}\".format(i))\n",
        "        return False\n",
        "      \n",
        "    return True"
      ],
      "execution_count": 0,
      "outputs": []
    },
    {
      "cell_type": "code",
      "metadata": {
        "id": "2LWV-h7UuFeL",
        "colab_type": "code",
        "colab": {}
      },
      "source": [
        "is_prime(439)"
      ],
      "execution_count": 0,
      "outputs": []
    },
    {
      "cell_type": "code",
      "metadata": {
        "id": "CGFJhoqhuFlS",
        "colab_type": "code",
        "colab": {}
      },
      "source": [
        "111%3"
      ],
      "execution_count": 0,
      "outputs": []
    },
    {
      "cell_type": "markdown",
      "metadata": {
        "colab_type": "text",
        "id": "J4trl2Nr1teh"
      },
      "source": [
        "## 5. Regular Expressions"
      ]
    },
    {
      "cell_type": "markdown",
      "metadata": {
        "id": "YaijJ6K1dsXy",
        "colab_type": "text"
      },
      "source": [
        "A sequence of characters that define a search pattern in strings.\n",
        "\n",
        "A resource for practising or checking regular expressions - https://www.regexpal.com/\n",
        "\n",
        "**Cheat Sheet from regexpal.com**:\n",
        "\n",
        "**Character classes** \\\\\n",
        ".\tany character except newline \\\\\n",
        "\\w \\d \\s word, digit, whitespace \\\\\n",
        "\\W \\D \\S not word, digit, whitespace \\\\\n",
        "[abc]\tany of a, b, or c \\\\\n",
        "[^abc]\tnot a, b, or c \\\\\n",
        "[a-g]\tcharacter between a & g \\\\\n",
        "\n",
        "**Anchors**\n",
        "\n",
        "^abc$\tstart / end of the string \\\\\n",
        "\\b\tword boundary \\\\\n",
        "\n",
        "**Escaped characters**  \\\\\n",
        "\\. \\* \\\\\tescaped special characters \\\\\n",
        "\\t \\n \\r\ttab, linefeed, carriage return \\\\\n",
        "\\u00A9\tunicode escaped © \\\\\n",
        "\n",
        "**Groups & Lookaround**\n",
        "\n",
        "(abc)\tcapture group \\\\\n",
        "\\1\tbackreference to group #1 \\\\\n",
        "(?:abc)\tnon-capturing group \\\\\n",
        "(?=abc)\tpositive lookahead \\\\\n",
        "(?!abc)\tnegative lookahead  \\\\\n",
        "\n",
        "**Quantifiers & Alternation** \\\\\n",
        "a* a+ a?\t0 or more, 1 or more, 0 or 1 \\\\\n",
        "a{5} a{2,}\texactly five, two or more \\\\\n",
        "a{1,3}\tbetween one & three \\\\\n",
        "a+? a{2,}?\tmatch as few as possible \\\\\n",
        "ab|cd\tmatch ab or cd \\\\"
      ]
    },
    {
      "cell_type": "code",
      "metadata": {
        "id": "tUtbBrHae07j",
        "colab_type": "code",
        "colab": {}
      },
      "source": [
        "import re #importing the Python regex library"
      ],
      "execution_count": 0,
      "outputs": []
    },
    {
      "cell_type": "code",
      "metadata": {
        "id": "EZiGpc8Tf58_",
        "colab_type": "code",
        "colab": {}
      },
      "source": [
        "example_string = '''\n",
        "Harry Potter's Hogwarts student ID was GRYF10011. \n",
        "Ron's ID was just next to Harry's -- GRYF10012.\n",
        "Draco Malfoy's ID was SLY7777. \n",
        "Fun fact - Harry Potter was 17 when he killed Voldemort. Voldemort was 72 years old when he died. \n",
        "Dumbledore was probably 150 when he died, who knows, doesn't matter anyway.\n",
        "What is this sentence doing here? Nobody knows!!!\n",
        "Random math equation just for the purpose of a regex example: 72=9*8 and 9+8=17\n",
        "Another random math eq: x2-5x+6=0\n",
        "Last equation: 2=2\n",
        "Bye!\n",
        "'''"
      ],
      "execution_count": 0,
      "outputs": []
    },
    {
      "cell_type": "code",
      "metadata": {
        "id": "aNnPj5YugnoH",
        "colab_type": "code",
        "colab": {}
      },
      "source": [
        "print(example_string)"
      ],
      "execution_count": 0,
      "outputs": []
    },
    {
      "cell_type": "code",
      "metadata": {
        "id": "YrLjB_11grDa",
        "colab_type": "code",
        "colab": {}
      },
      "source": [
        "ages = re.findall(r'\\d', example_string)\n",
        "print(ages)"
      ],
      "execution_count": 0,
      "outputs": []
    },
    {
      "cell_type": "code",
      "metadata": {
        "id": "la2vEVCZi78m",
        "colab_type": "code",
        "colab": {}
      },
      "source": [
        "ages = re.findall(r'\\d{1,3}', example_string)\n",
        "print(ages)"
      ],
      "execution_count": 0,
      "outputs": []
    },
    {
      "cell_type": "code",
      "metadata": {
        "id": "33GPdL7qk41N",
        "colab_type": "code",
        "colab": {}
      },
      "source": [
        "ages = re.findall(r' \\d{1,3} ', example_string)\n",
        "print(ages)"
      ],
      "execution_count": 0,
      "outputs": []
    },
    {
      "cell_type": "markdown",
      "metadata": {
        "id": "wf6nLbX6lA-_",
        "colab_type": "text"
      },
      "source": [
        "Words, alphanumerics"
      ]
    },
    {
      "cell_type": "code",
      "metadata": {
        "id": "xQ3rUuMOlPa7",
        "colab_type": "code",
        "colab": {}
      },
      "source": [
        "words = re.findall(r'\\w+', example_string)\n",
        "print(words)"
      ],
      "execution_count": 0,
      "outputs": []
    },
    {
      "cell_type": "markdown",
      "metadata": {
        "id": "MmsseJSxxWEy",
        "colab_type": "text"
      },
      "source": [
        "In some languages, tokenization is not as simple as separation by a whitespace. \n",
        "\n",
        "Consider this string from Chinese."
      ]
    },
    {
      "cell_type": "code",
      "metadata": {
        "id": "Y0ChEANHxHnM",
        "colab_type": "code",
        "colab": {}
      },
      "source": [
        "mandarin_string1 = \"如果你吃面条的话，那我要回家\"  # “If you eat noodles then I will go home.”\n",
        "mandarin_string2 = \"苹果是我最喜欢的水果\"         # “Apples are my favourite fruit”."
      ],
      "execution_count": 0,
      "outputs": []
    },
    {
      "cell_type": "code",
      "metadata": {
        "id": "jMdB45J_tatI",
        "colab_type": "code",
        "colab": {}
      },
      "source": [
        "words = re.findall(r'\\w+', mandarin_string1)\n",
        "print(words)"
      ],
      "execution_count": 0,
      "outputs": []
    },
    {
      "cell_type": "code",
      "metadata": {
        "id": "aB4Za55Nx3_n",
        "colab_type": "code",
        "colab": {}
      },
      "source": [
        "words = re.findall(r'\\w+', mandarin_string2)\n",
        "print(words)"
      ],
      "execution_count": 0,
      "outputs": []
    },
    {
      "cell_type": "markdown",
      "metadata": {
        "id": "L7Dl_ETll4Yh",
        "colab_type": "text"
      },
      "source": [
        "#### Exercise:"
      ]
    },
    {
      "cell_type": "markdown",
      "metadata": {
        "id": "5O7cm7sdl8Pi",
        "colab_type": "text"
      },
      "source": [
        "Using regex:\n",
        "1. Find all the student IDs in the example_string\n",
        "2. Find all the math equations in the example_string\n",
        "3. Find all names in the example_string\n"
      ]
    },
    {
      "cell_type": "markdown",
      "metadata": {
        "id": "Y3TIDAYfsd7t",
        "colab_type": "text"
      },
      "source": [
        "## Search and Replace"
      ]
    },
    {
      "cell_type": "code",
      "metadata": {
        "id": "9uIfhb-ktfX4",
        "colab_type": "code",
        "colab": {}
      },
      "source": [
        "## re.search example"
      ],
      "execution_count": 0,
      "outputs": []
    },
    {
      "cell_type": "code",
      "metadata": {
        "id": "kjqFPww4tAah",
        "colab_type": "code",
        "colab": {}
      },
      "source": [
        "def replace(s):\n",
        "  '''\n",
        "  Input: a string\n",
        "  \n",
        "  Output: input string with some replacements \n",
        "  \n",
        "  '''\n",
        "  \n",
        "  s = re.sub(r'', s)\n",
        "  s = re.sub(r'', s)\n",
        "  \n",
        "  \n",
        "  return s\n",
        "\n",
        "\n",
        "### group matching example\n",
        "### ? matchina as few as example  (greedy or nongreedy)"
      ],
      "execution_count": 0,
      "outputs": []
    },
    {
      "cell_type": "markdown",
      "metadata": {
        "id": "ugGxlvrWItOo",
        "colab_type": "text"
      },
      "source": [
        "#### Exercise:\n",
        "1. Replace all alphabets of a student ID by \"XXXX\" in the example_string.\n",
        "\n",
        "2. Replace all student IDs in the example_string by \"YYYY\"\n",
        " \n",
        "\n",
        "3. Create a function that replaces the negative/positive contractions in a text with their full forms.\n",
        "\n",
        "Example Input for Q3:  \n",
        "\"I don't want to go there. idk, i'm afraid man.\"\n",
        "     \n",
        "Example Output for Q3:\\\n",
        "\"I do not want to go there. I do not know, I am afraid man.\""
      ]
    },
    {
      "cell_type": "markdown",
      "metadata": {
        "id": "BC0PYGDtIdNF",
        "colab_type": "text"
      },
      "source": [
        "## P.S. - Crossword lovers! Just found out yesterday that there is regex crossword:\n",
        "https://regexcrossword.com"
      ]
    }
  ]
}