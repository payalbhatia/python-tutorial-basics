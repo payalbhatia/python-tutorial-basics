{
  "nbformat": 4,
  "nbformat_minor": 0,
  "metadata": {
    "colab": {
      "name": "Python_tutorial_5.ipynb",
      "provenance": [],
      "collapsed_sections": []
    },
    "kernelspec": {
      "name": "python3",
      "display_name": "Python 3"
    }
  },
  "cells": [
    {
      "cell_type": "markdown",
      "metadata": {
        "id": "TZ_3amzwXtig",
        "colab_type": "text"
      },
      "source": [
        "### Tutorial 5 (Date 18 Sep, 2019)\n",
        "\n",
        "Today's Attendance: https://forms.gle/uSf8JqubE4nDT65d9\n",
        "\n",
        "Today's Notebook link: https://bit.ly/2lUP3EK\n",
        "\n",
        "Topics\n",
        "- Semantic Role Labelling\n",
        "- PropBank, FrameNet\n",
        "- PredPatt\n",
        "- Semantic Parsers\n",
        "- Other tasks - WSD, Coreference resolution\n",
        "\n",
        "A lot of theory content and most of the SRL examples in this notebook are taken from Chapter 18 of Jurafsky and Martin's book - https://web.stanford.edu/~jurafsky/slp3/18.pdf\n",
        "\n",
        "\n"
      ]
    },
    {
      "cell_type": "markdown",
      "metadata": {
        "id": "uE4gp16bX7iJ",
        "colab_type": "text"
      },
      "source": [
        "# 1. Semantic Role Labelling"
      ]
    },
    {
      "cell_type": "markdown",
      "metadata": {
        "id": "HIXffr0Bdhi6",
        "colab_type": "text"
      },
      "source": [
        "To answer **\"who did what to whom\"**, one needs to have a meaningful understanding of an utterance, and this has been of interest in natural language understading for quite a long time.\n",
        "\n",
        "\n",
        "\n",
        "\n",
        "\n",
        "\n",
        "\n"
      ]
    },
    {
      "cell_type": "markdown",
      "metadata": {
        "id": "BkMkdpAKhNz-",
        "colab_type": "text"
      },
      "source": [
        "## 1.1 Semantic Roles"
      ]
    },
    {
      "cell_type": "markdown",
      "metadata": {
        "id": "_RsUwYHchc3q",
        "colab_type": "text"
      },
      "source": [
        "Let's take an example.\n",
        "\n",
        "  \"The boy broke a glass.\"\n",
        "  \n",
        "  Let's draw the dependency tree for the above sentence."
      ]
    },
    {
      "cell_type": "code",
      "metadata": {
        "id": "3danCZMfh6Pl",
        "colab_type": "code",
        "outputId": "ccb1386b-0df2-493e-d70a-c926e6a46af3",
        "colab": {
          "base_uri": "https://localhost:8080/",
          "height": 333
        }
      },
      "source": [
        "import spacy\n",
        "nlp = spacy.load('en')\n",
        "from spacy import displacy\n",
        "doc1 = nlp(u\"The boy broke a glass.\")\n",
        "displacy.render(doc1, style=\"dep\", jupyter=True, options={'compact':False})\n"
      ],
      "execution_count": 0,
      "outputs": [
        {
          "output_type": "display_data",
          "data": {
            "text/html": [
              "<svg xmlns=\"http://www.w3.org/2000/svg\" xmlns:xlink=\"http://www.w3.org/1999/xlink\" xml:lang=\"en\" id=\"13610377817c40c0b66d4aa5943ea0ea-0\" class=\"displacy\" width=\"925\" height=\"312.0\" direction=\"ltr\" style=\"max-width: none; height: 312.0px; color: #000000; background: #ffffff; font-family: Arial; direction: ltr\">\n",
              "<text class=\"displacy-token\" fill=\"currentColor\" text-anchor=\"middle\" y=\"222.0\">\n",
              "    <tspan class=\"displacy-word\" fill=\"currentColor\" x=\"50\">The</tspan>\n",
              "    <tspan class=\"displacy-tag\" dy=\"2em\" fill=\"currentColor\" x=\"50\">DET</tspan>\n",
              "</text>\n",
              "\n",
              "<text class=\"displacy-token\" fill=\"currentColor\" text-anchor=\"middle\" y=\"222.0\">\n",
              "    <tspan class=\"displacy-word\" fill=\"currentColor\" x=\"225\">boy</tspan>\n",
              "    <tspan class=\"displacy-tag\" dy=\"2em\" fill=\"currentColor\" x=\"225\">NOUN</tspan>\n",
              "</text>\n",
              "\n",
              "<text class=\"displacy-token\" fill=\"currentColor\" text-anchor=\"middle\" y=\"222.0\">\n",
              "    <tspan class=\"displacy-word\" fill=\"currentColor\" x=\"400\">broke</tspan>\n",
              "    <tspan class=\"displacy-tag\" dy=\"2em\" fill=\"currentColor\" x=\"400\">VERB</tspan>\n",
              "</text>\n",
              "\n",
              "<text class=\"displacy-token\" fill=\"currentColor\" text-anchor=\"middle\" y=\"222.0\">\n",
              "    <tspan class=\"displacy-word\" fill=\"currentColor\" x=\"575\">a</tspan>\n",
              "    <tspan class=\"displacy-tag\" dy=\"2em\" fill=\"currentColor\" x=\"575\">DET</tspan>\n",
              "</text>\n",
              "\n",
              "<text class=\"displacy-token\" fill=\"currentColor\" text-anchor=\"middle\" y=\"222.0\">\n",
              "    <tspan class=\"displacy-word\" fill=\"currentColor\" x=\"750\">glass.</tspan>\n",
              "    <tspan class=\"displacy-tag\" dy=\"2em\" fill=\"currentColor\" x=\"750\">NOUN</tspan>\n",
              "</text>\n",
              "\n",
              "<g class=\"displacy-arrow\">\n",
              "    <path class=\"displacy-arc\" id=\"arrow-13610377817c40c0b66d4aa5943ea0ea-0-0\" stroke-width=\"2px\" d=\"M70,177.0 C70,89.5 220.0,89.5 220.0,177.0\" fill=\"none\" stroke=\"currentColor\"/>\n",
              "    <text dy=\"1.25em\" style=\"font-size: 0.8em; letter-spacing: 1px\">\n",
              "        <textPath xlink:href=\"#arrow-13610377817c40c0b66d4aa5943ea0ea-0-0\" class=\"displacy-label\" startOffset=\"50%\" side=\"left\" fill=\"currentColor\" text-anchor=\"middle\">det</textPath>\n",
              "    </text>\n",
              "    <path class=\"displacy-arrowhead\" d=\"M70,179.0 L62,167.0 78,167.0\" fill=\"currentColor\"/>\n",
              "</g>\n",
              "\n",
              "<g class=\"displacy-arrow\">\n",
              "    <path class=\"displacy-arc\" id=\"arrow-13610377817c40c0b66d4aa5943ea0ea-0-1\" stroke-width=\"2px\" d=\"M245,177.0 C245,89.5 395.0,89.5 395.0,177.0\" fill=\"none\" stroke=\"currentColor\"/>\n",
              "    <text dy=\"1.25em\" style=\"font-size: 0.8em; letter-spacing: 1px\">\n",
              "        <textPath xlink:href=\"#arrow-13610377817c40c0b66d4aa5943ea0ea-0-1\" class=\"displacy-label\" startOffset=\"50%\" side=\"left\" fill=\"currentColor\" text-anchor=\"middle\">nsubj</textPath>\n",
              "    </text>\n",
              "    <path class=\"displacy-arrowhead\" d=\"M245,179.0 L237,167.0 253,167.0\" fill=\"currentColor\"/>\n",
              "</g>\n",
              "\n",
              "<g class=\"displacy-arrow\">\n",
              "    <path class=\"displacy-arc\" id=\"arrow-13610377817c40c0b66d4aa5943ea0ea-0-2\" stroke-width=\"2px\" d=\"M595,177.0 C595,89.5 745.0,89.5 745.0,177.0\" fill=\"none\" stroke=\"currentColor\"/>\n",
              "    <text dy=\"1.25em\" style=\"font-size: 0.8em; letter-spacing: 1px\">\n",
              "        <textPath xlink:href=\"#arrow-13610377817c40c0b66d4aa5943ea0ea-0-2\" class=\"displacy-label\" startOffset=\"50%\" side=\"left\" fill=\"currentColor\" text-anchor=\"middle\">det</textPath>\n",
              "    </text>\n",
              "    <path class=\"displacy-arrowhead\" d=\"M595,179.0 L587,167.0 603,167.0\" fill=\"currentColor\"/>\n",
              "</g>\n",
              "\n",
              "<g class=\"displacy-arrow\">\n",
              "    <path class=\"displacy-arc\" id=\"arrow-13610377817c40c0b66d4aa5943ea0ea-0-3\" stroke-width=\"2px\" d=\"M420,177.0 C420,2.0 750.0,2.0 750.0,177.0\" fill=\"none\" stroke=\"currentColor\"/>\n",
              "    <text dy=\"1.25em\" style=\"font-size: 0.8em; letter-spacing: 1px\">\n",
              "        <textPath xlink:href=\"#arrow-13610377817c40c0b66d4aa5943ea0ea-0-3\" class=\"displacy-label\" startOffset=\"50%\" side=\"left\" fill=\"currentColor\" text-anchor=\"middle\">dobj</textPath>\n",
              "    </text>\n",
              "    <path class=\"displacy-arrowhead\" d=\"M750.0,179.0 L758.0,167.0 742.0,167.0\" fill=\"currentColor\"/>\n",
              "</g>\n",
              "</svg>"
            ],
            "text/plain": [
              "<IPython.core.display.HTML object>"
            ]
          },
          "metadata": {
            "tags": []
          }
        }
      ]
    },
    {
      "cell_type": "markdown",
      "metadata": {
        "id": "kMucTYx6iOhV",
        "colab_type": "text"
      },
      "source": [
        " - Semantic roles are abstract roles of arguments that are played in some event which is denoted by the predicate. \n",
        "\n",
        "For example, in the above case, the event being talked about is \"break\" which has two arguments. The first argument is the boy who broke something which can be though of as the 'AGENT' of the event. The object \"glass\" can be called as a THEME. Tags like 'AGENT' and 'THEME' are called semantic roles. \n",
        "\n",
        " - These roles are defined in databses like PropBank and FrameNet. "
      ]
    },
    {
      "cell_type": "markdown",
      "metadata": {
        "id": "ywze1BzO5MIZ",
        "colab_type": "text"
      },
      "source": [
        "#### Some Thematic Roles\n",
        "\n",
        "Agents can be considered as a thematic role. We can think if it as representing \"volitional causation\". The object of verbs like break are prototypically inanimate objects, which are affected by the event of breaking. \n",
        "\n",
        "- Agent: the volitional causer of an event\n",
        "\n",
        "- Theme: The participant most directly affected by an event\n",
        "\n",
        "- Experiencer: The experiencer of an event \n",
        "\n",
        "- Instrument: An instrument used in an event"
      ]
    },
    {
      "cell_type": "markdown",
      "metadata": {
        "id": "q3rUhmiG9KEv",
        "colab_type": "text"
      },
      "source": [
        "\n",
        "#### \"There's no universally agreed upon set of roles.\" "
      ]
    },
    {
      "cell_type": "markdown",
      "metadata": {
        "id": "hVwug82D94Wr",
        "colab_type": "text"
      },
      "source": [
        "#### Why are these roles important? Can't we just use the syntactic parsers?"
      ]
    },
    {
      "cell_type": "markdown",
      "metadata": {
        "id": "lrsjO6Nu7rin",
        "colab_type": "text"
      },
      "source": [
        "These roles help us build a shallow semantic representation which cannot be expressed by syntactic parses.\n",
        "\n",
        "For eg: You might say the subject of the predicate is always the agent. But consider sentence 2.\n",
        "\n",
        "    1. Jon broke the window.\n",
        "    \n",
        "    Jon -- agent, the window -- theme\n",
        "    \n",
        "    2. The window was broken by John. \n",
        "    \n",
        "    The window -- theme, John -- agent.\n",
        "    \n",
        "    3. Jon broke the window with a hammer.\n",
        "    \n",
        "    hammer -- the instrument\n",
        "    \n",
        "    4. The hammer broke the window.\n",
        "    \n",
        "    hammer -- instrument, window -- theme"
      ]
    },
    {
      "cell_type": "markdown",
      "metadata": {
        "id": "zOaw6541p1Wd",
        "colab_type": "text"
      },
      "source": [
        "## 1.2 PropBank"
      ]
    },
    {
      "cell_type": "markdown",
      "metadata": {
        "id": "5II8jWCEqLcb",
        "colab_type": "text"
      },
      "source": [
        "Roles are defined for each definition of a verb in PropBank."
      ]
    },
    {
      "cell_type": "markdown",
      "metadata": {
        "id": "hRE323MtYpM2",
        "colab_type": "text"
      },
      "source": [
        "Frames from PropBank: https://github.com/propbank/propbank-frames/blob/master/framesThe "
      ]
    },
    {
      "cell_type": "markdown",
      "metadata": {
        "colab_type": "text",
        "id": "qnW6JYG9qOCb"
      },
      "source": [
        "#### Semantic Role Labelling is the task of assigning semantic roles to a given input sentence."
      ]
    },
    {
      "cell_type": "markdown",
      "metadata": {
        "colab_type": "text",
        "id": "8FmN9Ed5qOCd"
      },
      "source": [
        "#### Semantic Role Labelling generally has four sub-tasks:\n",
        "1. predicate identificatoin\n",
        "2. predicate disambiguation\n",
        "3. argument identification\n",
        "4. argument classification"
      ]
    },
    {
      "cell_type": "markdown",
      "metadata": {
        "id": "fOBb6wmt_gze",
        "colab_type": "text"
      },
      "source": [
        "#### Let's use the Allenlp library to check the probably State-of-the-Art SRL"
      ]
    },
    {
      "cell_type": "code",
      "metadata": {
        "id": "Nb4QkKipZsBd",
        "colab_type": "code",
        "outputId": "9712d47c-3666-4b04-e2b9-56d152f8779c",
        "colab": {
          "base_uri": "https://localhost:8080/",
          "height": 1000
        }
      },
      "source": [
        "!pip install allennlp"
      ],
      "execution_count": 34,
      "outputs": [
        {
          "output_type": "stream",
          "text": [
            "Requirement already satisfied: allennlp in /usr/local/lib/python3.6/dist-packages (0.8.5)\n",
            "Requirement already satisfied: flask>=1.0.2 in /usr/local/lib/python3.6/dist-packages (from allennlp) (1.1.1)\n",
            "Requirement already satisfied: matplotlib>=2.2.3 in /usr/local/lib/python3.6/dist-packages (from allennlp) (3.0.3)\n",
            "Requirement already satisfied: gevent>=1.3.6 in /usr/local/lib/python3.6/dist-packages (from allennlp) (1.4.0)\n",
            "Requirement already satisfied: torch<1.2,>=0.4.1 in /usr/local/lib/python3.6/dist-packages (from allennlp) (1.1.0)\n",
            "Requirement already satisfied: overrides in /usr/local/lib/python3.6/dist-packages (from allennlp) (1.9)\n",
            "Requirement already satisfied: requests>=2.18 in /usr/local/lib/python3.6/dist-packages (from allennlp) (2.21.0)\n",
            "Requirement already satisfied: word2number>=1.1 in /usr/local/lib/python3.6/dist-packages (from allennlp) (1.1)\n",
            "Requirement already satisfied: tensorboardX>=1.2 in /usr/local/lib/python3.6/dist-packages (from allennlp) (1.8)\n",
            "Requirement already satisfied: nltk in /usr/local/lib/python3.6/dist-packages (from allennlp) (3.2.5)\n",
            "Requirement already satisfied: pytorch-pretrained-bert>=0.6.0 in /usr/local/lib/python3.6/dist-packages (from allennlp) (0.6.2)\n",
            "Requirement already satisfied: boto3 in /usr/local/lib/python3.6/dist-packages (from allennlp) (1.9.224)\n",
            "Requirement already satisfied: scikit-learn in /usr/local/lib/python3.6/dist-packages (from allennlp) (0.21.3)\n",
            "Requirement already satisfied: flask-cors>=3.0.7 in /usr/local/lib/python3.6/dist-packages (from allennlp) (3.0.8)\n",
            "Requirement already satisfied: conllu==1.3.1 in /usr/local/lib/python3.6/dist-packages (from allennlp) (1.3.1)\n",
            "Requirement already satisfied: unidecode in /usr/local/lib/python3.6/dist-packages (from allennlp) (1.1.1)\n",
            "Requirement already satisfied: numpy in /usr/local/lib/python3.6/dist-packages (from allennlp) (1.16.5)\n",
            "Requirement already satisfied: sqlparse>=0.2.4 in /usr/local/lib/python3.6/dist-packages (from allennlp) (0.3.0)\n",
            "Requirement already satisfied: scipy in /usr/local/lib/python3.6/dist-packages (from allennlp) (1.3.1)\n",
            "Requirement already satisfied: flaky in /usr/local/lib/python3.6/dist-packages (from allennlp) (3.6.1)\n",
            "Requirement already satisfied: h5py in /usr/local/lib/python3.6/dist-packages (from allennlp) (2.8.0)\n",
            "Requirement already satisfied: tqdm>=4.19 in /usr/local/lib/python3.6/dist-packages (from allennlp) (4.28.1)\n",
            "Requirement already satisfied: parsimonious>=0.8.0 in /usr/local/lib/python3.6/dist-packages (from allennlp) (0.8.1)\n",
            "Requirement already satisfied: ftfy in /usr/local/lib/python3.6/dist-packages (from allennlp) (5.6)\n",
            "Requirement already satisfied: editdistance in /usr/local/lib/python3.6/dist-packages (from allennlp) (0.5.3)\n",
            "Requirement already satisfied: numpydoc>=0.8.0 in /usr/local/lib/python3.6/dist-packages (from allennlp) (0.9.1)\n",
            "Requirement already satisfied: pytest in /usr/local/lib/python3.6/dist-packages (from allennlp) (3.6.4)\n",
            "Requirement already satisfied: spacy<2.2,>=2.1.0 in /usr/local/lib/python3.6/dist-packages (from allennlp) (2.1.8)\n",
            "Requirement already satisfied: responses>=0.7 in /usr/local/lib/python3.6/dist-packages (from allennlp) (0.10.6)\n",
            "Requirement already satisfied: jsonpickle in /usr/local/lib/python3.6/dist-packages (from allennlp) (1.2)\n",
            "Requirement already satisfied: pytz>=2017.3 in /usr/local/lib/python3.6/dist-packages (from allennlp) (2018.9)\n",
            "Requirement already satisfied: jsonnet>=0.10.0; sys_platform != \"win32\" in /usr/local/lib/python3.6/dist-packages (from allennlp) (0.14.0)\n",
            "Requirement already satisfied: pytorch-transformers==1.1.0 in /usr/local/lib/python3.6/dist-packages (from allennlp) (1.1.0)\n",
            "Requirement already satisfied: itsdangerous>=0.24 in /usr/local/lib/python3.6/dist-packages (from flask>=1.0.2->allennlp) (1.1.0)\n",
            "Requirement already satisfied: Jinja2>=2.10.1 in /usr/local/lib/python3.6/dist-packages (from flask>=1.0.2->allennlp) (2.10.1)\n",
            "Requirement already satisfied: click>=5.1 in /usr/local/lib/python3.6/dist-packages (from flask>=1.0.2->allennlp) (7.0)\n",
            "Requirement already satisfied: Werkzeug>=0.15 in /usr/local/lib/python3.6/dist-packages (from flask>=1.0.2->allennlp) (0.15.6)\n",
            "Requirement already satisfied: cycler>=0.10 in /usr/local/lib/python3.6/dist-packages (from matplotlib>=2.2.3->allennlp) (0.10.0)\n",
            "Requirement already satisfied: python-dateutil>=2.1 in /usr/local/lib/python3.6/dist-packages (from matplotlib>=2.2.3->allennlp) (2.5.3)\n",
            "Requirement already satisfied: kiwisolver>=1.0.1 in /usr/local/lib/python3.6/dist-packages (from matplotlib>=2.2.3->allennlp) (1.1.0)\n",
            "Requirement already satisfied: pyparsing!=2.0.4,!=2.1.2,!=2.1.6,>=2.0.1 in /usr/local/lib/python3.6/dist-packages (from matplotlib>=2.2.3->allennlp) (2.4.2)\n",
            "Requirement already satisfied: greenlet>=0.4.14; platform_python_implementation == \"CPython\" in /usr/local/lib/python3.6/dist-packages (from gevent>=1.3.6->allennlp) (0.4.15)\n",
            "Requirement already satisfied: urllib3<1.25,>=1.21.1 in /usr/local/lib/python3.6/dist-packages (from requests>=2.18->allennlp) (1.24.3)\n",
            "Requirement already satisfied: certifi>=2017.4.17 in /usr/local/lib/python3.6/dist-packages (from requests>=2.18->allennlp) (2019.6.16)\n",
            "Requirement already satisfied: idna<2.9,>=2.5 in /usr/local/lib/python3.6/dist-packages (from requests>=2.18->allennlp) (2.8)\n",
            "Requirement already satisfied: chardet<3.1.0,>=3.0.2 in /usr/local/lib/python3.6/dist-packages (from requests>=2.18->allennlp) (3.0.4)\n",
            "Requirement already satisfied: six in /usr/local/lib/python3.6/dist-packages (from tensorboardX>=1.2->allennlp) (1.12.0)\n",
            "Requirement already satisfied: protobuf>=3.2.0 in /usr/local/lib/python3.6/dist-packages (from tensorboardX>=1.2->allennlp) (3.7.1)\n",
            "Requirement already satisfied: regex in /usr/local/lib/python3.6/dist-packages (from pytorch-pretrained-bert>=0.6.0->allennlp) (2019.8.19)\n",
            "Requirement already satisfied: jmespath<1.0.0,>=0.7.1 in /usr/local/lib/python3.6/dist-packages (from boto3->allennlp) (0.9.4)\n",
            "Requirement already satisfied: s3transfer<0.3.0,>=0.2.0 in /usr/local/lib/python3.6/dist-packages (from boto3->allennlp) (0.2.1)\n",
            "Requirement already satisfied: botocore<1.13.0,>=1.12.224 in /usr/local/lib/python3.6/dist-packages (from boto3->allennlp) (1.12.224)\n",
            "Requirement already satisfied: joblib>=0.11 in /usr/local/lib/python3.6/dist-packages (from scikit-learn->allennlp) (0.13.2)\n",
            "Requirement already satisfied: wcwidth in /usr/local/lib/python3.6/dist-packages (from ftfy->allennlp) (0.1.7)\n",
            "Requirement already satisfied: sphinx>=1.6.5 in /usr/local/lib/python3.6/dist-packages (from numpydoc>=0.8.0->allennlp) (1.8.5)\n",
            "Requirement already satisfied: attrs>=17.4.0 in /usr/local/lib/python3.6/dist-packages (from pytest->allennlp) (19.1.0)\n",
            "Requirement already satisfied: setuptools in /usr/local/lib/python3.6/dist-packages (from pytest->allennlp) (41.2.0)\n",
            "Requirement already satisfied: more-itertools>=4.0.0 in /usr/local/lib/python3.6/dist-packages (from pytest->allennlp) (7.2.0)\n",
            "Requirement already satisfied: atomicwrites>=1.0 in /usr/local/lib/python3.6/dist-packages (from pytest->allennlp) (1.3.0)\n",
            "Requirement already satisfied: pluggy<0.8,>=0.5 in /usr/local/lib/python3.6/dist-packages (from pytest->allennlp) (0.7.1)\n",
            "Requirement already satisfied: py>=1.5.0 in /usr/local/lib/python3.6/dist-packages (from pytest->allennlp) (1.8.0)\n",
            "Requirement already satisfied: preshed<2.1.0,>=2.0.1 in /usr/local/lib/python3.6/dist-packages (from spacy<2.2,>=2.1.0->allennlp) (2.0.1)\n",
            "Requirement already satisfied: murmurhash<1.1.0,>=0.28.0 in /usr/local/lib/python3.6/dist-packages (from spacy<2.2,>=2.1.0->allennlp) (1.0.2)\n",
            "Requirement already satisfied: wasabi<1.1.0,>=0.2.0 in /usr/local/lib/python3.6/dist-packages (from spacy<2.2,>=2.1.0->allennlp) (0.2.2)\n",
            "Requirement already satisfied: blis<0.3.0,>=0.2.2 in /usr/local/lib/python3.6/dist-packages (from spacy<2.2,>=2.1.0->allennlp) (0.2.4)\n",
            "Requirement already satisfied: plac<1.0.0,>=0.9.6 in /usr/local/lib/python3.6/dist-packages (from spacy<2.2,>=2.1.0->allennlp) (0.9.6)\n",
            "Requirement already satisfied: cymem<2.1.0,>=2.0.2 in /usr/local/lib/python3.6/dist-packages (from spacy<2.2,>=2.1.0->allennlp) (2.0.2)\n",
            "Requirement already satisfied: srsly<1.1.0,>=0.0.6 in /usr/local/lib/python3.6/dist-packages (from spacy<2.2,>=2.1.0->allennlp) (0.1.0)\n",
            "Requirement already satisfied: thinc<7.1.0,>=7.0.8 in /usr/local/lib/python3.6/dist-packages (from spacy<2.2,>=2.1.0->allennlp) (7.0.8)\n",
            "Requirement already satisfied: sentencepiece in /usr/local/lib/python3.6/dist-packages (from pytorch-transformers==1.1.0->allennlp) (0.1.83)\n",
            "Requirement already satisfied: MarkupSafe>=0.23 in /usr/local/lib/python3.6/dist-packages (from Jinja2>=2.10.1->flask>=1.0.2->allennlp) (1.1.1)\n",
            "Requirement already satisfied: docutils<0.16,>=0.10 in /usr/local/lib/python3.6/dist-packages (from botocore<1.13.0,>=1.12.224->boto3->allennlp) (0.15.2)\n",
            "Requirement already satisfied: Pygments>=2.0 in /usr/local/lib/python3.6/dist-packages (from sphinx>=1.6.5->numpydoc>=0.8.0->allennlp) (2.1.3)\n",
            "Requirement already satisfied: alabaster<0.8,>=0.7 in /usr/local/lib/python3.6/dist-packages (from sphinx>=1.6.5->numpydoc>=0.8.0->allennlp) (0.7.12)\n",
            "Requirement already satisfied: imagesize in /usr/local/lib/python3.6/dist-packages (from sphinx>=1.6.5->numpydoc>=0.8.0->allennlp) (1.1.0)\n",
            "Requirement already satisfied: babel!=2.0,>=1.3 in /usr/local/lib/python3.6/dist-packages (from sphinx>=1.6.5->numpydoc>=0.8.0->allennlp) (2.7.0)\n",
            "Requirement already satisfied: snowballstemmer>=1.1 in /usr/local/lib/python3.6/dist-packages (from sphinx>=1.6.5->numpydoc>=0.8.0->allennlp) (1.9.1)\n",
            "Requirement already satisfied: packaging in /usr/local/lib/python3.6/dist-packages (from sphinx>=1.6.5->numpydoc>=0.8.0->allennlp) (19.1)\n",
            "Requirement already satisfied: sphinxcontrib-websupport in /usr/local/lib/python3.6/dist-packages (from sphinx>=1.6.5->numpydoc>=0.8.0->allennlp) (1.1.2)\n"
          ],
          "name": "stdout"
        }
      ]
    },
    {
      "cell_type": "markdown",
      "metadata": {
        "id": "8zN8g6u0aJLu",
        "colab_type": "text"
      },
      "source": [
        "#### Download the SRL model from allennlp"
      ]
    },
    {
      "cell_type": "code",
      "metadata": {
        "id": "_VLwBekvZisu",
        "colab_type": "code",
        "colab": {}
      },
      "source": [
        "from allennlp.predictors.predictor import Predictor\n",
        "predictor = Predictor.from_path(\"https://s3-us-west-2.amazonaws.com/allennlp/models/bert-base-srl-2019.06.17.tar.gz\")\n"
      ],
      "execution_count": 0,
      "outputs": []
    },
    {
      "cell_type": "code",
      "metadata": {
        "id": "YEs7WZpqZju7",
        "colab_type": "code",
        "outputId": "4f36e197-c203-4627-f774-ed5e85f964aa",
        "colab": {
          "base_uri": "https://localhost:8080/",
          "height": 221
        }
      },
      "source": [
        "predictor.predict(sentence=\"The boy broke the window with a hammer.\")"
      ],
      "execution_count": 36,
      "outputs": [
        {
          "output_type": "execute_result",
          "data": {
            "text/plain": [
              "{'verbs': [{'description': '[ARG0: The boy] [V: broke] [ARG1: the window] [ARG2: with a hammer] .',\n",
              "   'tags': ['B-ARG0',\n",
              "    'I-ARG0',\n",
              "    'B-V',\n",
              "    'B-ARG1',\n",
              "    'I-ARG1',\n",
              "    'B-ARG2',\n",
              "    'I-ARG2',\n",
              "    'I-ARG2',\n",
              "    'O'],\n",
              "   'verb': 'broke'}],\n",
              " 'words': ['The', 'boy', 'broke', 'the', 'window', 'with', 'a', 'hammer', '.']}"
            ]
          },
          "metadata": {
            "tags": []
          },
          "execution_count": 36
        }
      ]
    },
    {
      "cell_type": "code",
      "metadata": {
        "id": "DnDb_CA8KM1-",
        "colab_type": "code",
        "outputId": "31c3009d-476a-497d-e345-2b2fb47a46fc",
        "colab": {
          "base_uri": "https://localhost:8080/",
          "height": 136
        }
      },
      "source": [
        "predictor.predict(sentence=\"The window was broken by the boy.\")"
      ],
      "execution_count": 37,
      "outputs": [
        {
          "output_type": "execute_result",
          "data": {
            "text/plain": [
              "{'verbs': [{'description': 'The window [V: was] broken by the boy .',\n",
              "   'tags': ['O', 'O', 'B-V', 'O', 'O', 'O', 'O', 'O'],\n",
              "   'verb': 'was'},\n",
              "  {'description': '[ARG1: The window] was [V: broken] [ARG0: by the boy] .',\n",
              "   'tags': ['B-ARG1', 'I-ARG1', 'O', 'B-V', 'B-ARG0', 'I-ARG0', 'I-ARG0', 'O'],\n",
              "   'verb': 'broken'}],\n",
              " 'words': ['The', 'window', 'was', 'broken', 'by', 'the', 'boy', '.']}"
            ]
          },
          "metadata": {
            "tags": []
          },
          "execution_count": 37
        }
      ]
    },
    {
      "cell_type": "markdown",
      "metadata": {
        "id": "SYmK6QlCq2CW",
        "colab_type": "text"
      },
      "source": [
        "You can also check out their online demo at: https://demo.allennlp.org/semantic-role-labeling/\n"
      ]
    },
    {
      "cell_type": "markdown",
      "metadata": {
        "id": "zVDj163hoGJB",
        "colab_type": "text"
      },
      "source": [
        "## 1.3 Quick note on FrameNet"
      ]
    },
    {
      "cell_type": "markdown",
      "metadata": {
        "id": "fXwW69_iqqzp",
        "colab_type": "text"
      },
      "source": [
        "Frame Net is another semantic role labelling Project which assigns Semantic roles. But it considers different verbs and nouns that could be in the same frame.\n",
        "\n",
        "For eg, consider the following sentences:\n",
        "  \n",
        "  1. [The price of bananas] **increased** [5%.]\n",
        "  \n",
        "  2. [The price of bananas] **rose** [5%].\n",
        "  \n",
        "  3. There has been a [5%] **rise** in [the price of bananas.]"
      ]
    },
    {
      "cell_type": "markdown",
      "metadata": {
        "id": "2DrDp1CyuKhZ",
        "colab_type": "text"
      },
      "source": [
        "We want to infer that the price of bananas went up, and it went up by 5%. "
      ]
    },
    {
      "cell_type": "code",
      "metadata": {
        "id": "T2yq_KTmtPg1",
        "colab_type": "code",
        "outputId": "4c195cc9-706a-4c86-8168-79157157c63b",
        "colab": {
          "base_uri": "https://localhost:8080/",
          "height": 204
        }
      },
      "source": [
        "predictor.predict(sentence=\"The price of bananas increased 5%.\")"
      ],
      "execution_count": 38,
      "outputs": [
        {
          "output_type": "execute_result",
          "data": {
            "text/plain": [
              "{'verbs': [{'description': '[ARG1: The price of bananas] [V: increased] [ARG2: 5 %] .',\n",
              "   'tags': ['B-ARG1',\n",
              "    'I-ARG1',\n",
              "    'I-ARG1',\n",
              "    'I-ARG1',\n",
              "    'B-V',\n",
              "    'B-ARG2',\n",
              "    'I-ARG2',\n",
              "    'O'],\n",
              "   'verb': 'increased'}],\n",
              " 'words': ['The', 'price', 'of', 'bananas', 'increased', '5', '%', '.']}"
            ]
          },
          "metadata": {
            "tags": []
          },
          "execution_count": 38
        }
      ]
    },
    {
      "cell_type": "code",
      "metadata": {
        "id": "Uo-gPN7htucl",
        "colab_type": "code",
        "outputId": "96e2c2a3-b856-4589-d1a0-e00af07110d5",
        "colab": {
          "base_uri": "https://localhost:8080/",
          "height": 204
        }
      },
      "source": [
        "predictor.predict(sentence=\"The price of bananas rose 5%.\")"
      ],
      "execution_count": 39,
      "outputs": [
        {
          "output_type": "execute_result",
          "data": {
            "text/plain": [
              "{'verbs': [{'description': '[ARG1: The price of bananas] [V: rose] [ARG2: 5 %] .',\n",
              "   'tags': ['B-ARG1',\n",
              "    'I-ARG1',\n",
              "    'I-ARG1',\n",
              "    'I-ARG1',\n",
              "    'B-V',\n",
              "    'B-ARG2',\n",
              "    'I-ARG2',\n",
              "    'O'],\n",
              "   'verb': 'rose'}],\n",
              " 'words': ['The', 'price', 'of', 'bananas', 'rose', '5', '%', '.']}"
            ]
          },
          "metadata": {
            "tags": []
          },
          "execution_count": 39
        }
      ]
    },
    {
      "cell_type": "code",
      "metadata": {
        "id": "Ct6PE9cztxrE",
        "colab_type": "code",
        "outputId": "754f48ae-372a-4371-cb90-1c4099e98acd",
        "colab": {
          "base_uri": "https://localhost:8080/",
          "height": 442
        }
      },
      "source": [
        "predictor.predict(sentence=\"There has been a rise in the price of bananas\")"
      ],
      "execution_count": 40,
      "outputs": [
        {
          "output_type": "execute_result",
          "data": {
            "text/plain": [
              "{'verbs': [{'description': 'There [V: has] been a rise in the price of bananas',\n",
              "   'tags': ['O', 'B-V', 'O', 'O', 'O', 'O', 'O', 'O', 'O', 'O'],\n",
              "   'verb': 'has'},\n",
              "  {'description': 'There has [V: been] [ARG1: a rise in the price of bananas]',\n",
              "   'tags': ['O',\n",
              "    'O',\n",
              "    'B-V',\n",
              "    'B-ARG1',\n",
              "    'I-ARG1',\n",
              "    'I-ARG1',\n",
              "    'I-ARG1',\n",
              "    'I-ARG1',\n",
              "    'I-ARG1',\n",
              "    'I-ARG1'],\n",
              "   'verb': 'been'}],\n",
              " 'words': ['There',\n",
              "  'has',\n",
              "  'been',\n",
              "  'a',\n",
              "  'rise',\n",
              "  'in',\n",
              "  'the',\n",
              "  'price',\n",
              "  'of',\n",
              "  'bananas']}"
            ]
          },
          "metadata": {
            "tags": []
          },
          "execution_count": 40
        }
      ]
    },
    {
      "cell_type": "markdown",
      "metadata": {
        "id": "A19KphaGt3g4",
        "colab_type": "text"
      },
      "source": [
        "In FrameNet, roles are specific to a frame instead of individual words as in PropBank"
      ]
    },
    {
      "cell_type": "markdown",
      "metadata": {
        "id": "HSuqHvKAvrXQ",
        "colab_type": "text"
      },
      "source": [
        "A frame is a concept like \"air-travel\". It could have roles related to: \"reservation, flight, travel, buy, price, cost, fare, rates, meal, plane\" etc.\n",
        "\n",
        "Distinction between core-roles non-core roles."
      ]
    },
    {
      "cell_type": "markdown",
      "metadata": {
        "id": "oKSGsUuFwcbz",
        "colab_type": "text"
      },
      "source": [
        "# 2. PredPatt"
      ]
    },
    {
      "cell_type": "markdown",
      "metadata": {
        "id": "kVf3upNJwmAu",
        "colab_type": "text"
      },
      "source": [
        " - Predicate-argument extraction from Universal Dependencies. \n",
        " \n",
        " - Part of the decomp project (http://decomp.io/). \n",
        "  \n",
        " - Creates a shallow semantic layer from the syntactic structure of Universal Dependencies\n",
        " \n",
        " Details: https://github.com/hltcoe/PredPatt"
      ]
    },
    {
      "cell_type": "markdown",
      "metadata": {
        "id": "sBMPDOU6_66W",
        "colab_type": "text"
      },
      "source": [
        "Papers: \n",
        "  - https://www.aclweb.org/anthology/W17-6944/\n",
        "  - https://www.aclweb.org/anthology/D16-1177/"
      ]
    },
    {
      "cell_type": "code",
      "metadata": {
        "id": "rOsaLVBvw4L1",
        "colab_type": "code",
        "outputId": "374c3e00-ec4d-425e-b6c0-3e720b1277bd",
        "colab": {
          "base_uri": "https://localhost:8080/",
          "height": 547
        }
      },
      "source": [
        "!pip install git+https://github.com/hltcoe/PredPatt.git"
      ],
      "execution_count": 41,
      "outputs": [
        {
          "output_type": "stream",
          "text": [
            "Collecting git+https://github.com/hltcoe/PredPatt.git\n",
            "  Cloning https://github.com/hltcoe/PredPatt.git to /tmp/pip-req-build-p32i654_\n",
            "  Running command git clone -q https://github.com/hltcoe/PredPatt.git /tmp/pip-req-build-p32i654_\n",
            "Requirement already satisfied (use --upgrade to upgrade): predpatt==1.0 from git+https://github.com/hltcoe/PredPatt.git in /usr/local/lib/python3.6/dist-packages\n",
            "Requirement already satisfied: concrete in /usr/local/lib/python3.6/dist-packages (from predpatt==1.0) (4.15.1)\n",
            "Requirement already satisfied: termcolor in /usr/local/lib/python3.6/dist-packages (from predpatt==1.0) (1.1.0)\n",
            "Requirement already satisfied: nltk>=3.0 in /usr/local/lib/python3.6/dist-packages (from predpatt==1.0) (3.2.5)\n",
            "Requirement already satisfied: bottle in /usr/local/lib/python3.6/dist-packages (from predpatt==1.0) (0.12.17)\n",
            "Requirement already satisfied: tabulate in /usr/local/lib/python3.6/dist-packages (from predpatt==1.0) (0.8.3)\n",
            "Requirement already satisfied: PyStanfordDependencies in /usr/local/lib/python3.6/dist-packages (from predpatt==1.0) (0.3.1)\n",
            "Requirement already satisfied: jpype1 in /usr/local/lib/python3.6/dist-packages (from predpatt==1.0) (0.7.0)\n",
            "Requirement already satisfied: future in /usr/local/lib/python3.6/dist-packages (from predpatt==1.0) (0.16.0)\n",
            "Requirement already satisfied: pycountry>=17.9.23 in /usr/local/lib/python3.6/dist-packages (from concrete->predpatt==1.0) (19.8.18)\n",
            "Requirement already satisfied: boto in /usr/local/lib/python3.6/dist-packages (from concrete->predpatt==1.0) (2.49.0)\n",
            "Requirement already satisfied: thrift==0.11.0 in /usr/local/lib/python3.6/dist-packages (from concrete->predpatt==1.0) (0.11.0)\n",
            "Requirement already satisfied: networkx in /usr/local/lib/python3.6/dist-packages (from concrete->predpatt==1.0) (2.3)\n",
            "Requirement already satisfied: redis>=2.10.0 in /usr/local/lib/python3.6/dist-packages (from concrete->predpatt==1.0) (3.3.8)\n",
            "Requirement already satisfied: requests in /usr/local/lib/python3.6/dist-packages (from concrete->predpatt==1.0) (2.21.0)\n",
            "Requirement already satisfied: humanfriendly in /usr/local/lib/python3.6/dist-packages (from concrete->predpatt==1.0) (4.18)\n",
            "Requirement already satisfied: six in /usr/local/lib/python3.6/dist-packages (from nltk>=3.0->predpatt==1.0) (1.12.0)\n",
            "Requirement already satisfied: decorator>=4.3.0 in /usr/local/lib/python3.6/dist-packages (from networkx->concrete->predpatt==1.0) (4.4.0)\n",
            "Requirement already satisfied: certifi>=2017.4.17 in /usr/local/lib/python3.6/dist-packages (from requests->concrete->predpatt==1.0) (2019.6.16)\n",
            "Requirement already satisfied: chardet<3.1.0,>=3.0.2 in /usr/local/lib/python3.6/dist-packages (from requests->concrete->predpatt==1.0) (3.0.4)\n",
            "Requirement already satisfied: idna<2.9,>=2.5 in /usr/local/lib/python3.6/dist-packages (from requests->concrete->predpatt==1.0) (2.8)\n",
            "Requirement already satisfied: urllib3<1.25,>=1.21.1 in /usr/local/lib/python3.6/dist-packages (from requests->concrete->predpatt==1.0) (1.24.3)\n",
            "Building wheels for collected packages: predpatt\n",
            "  Building wheel for predpatt (setup.py) ... \u001b[?25l\u001b[?25hdone\n",
            "  Created wheel for predpatt: filename=predpatt-1.0-cp36-none-any.whl size=32237 sha256=5879d6b53cde740ab35d64debe9d917c73f51fe1d5d0e6b382173b73f6f57a2d\n",
            "  Stored in directory: /tmp/pip-ephem-wheel-cache-5rx2grha/wheels/6f/be/31/69b8044f23ec9a2b3442d2a0863642df0a1018b77eb9b87332\n",
            "Successfully built predpatt\n"
          ],
          "name": "stdout"
        }
      ]
    },
    {
      "cell_type": "code",
      "metadata": {
        "id": "PJVlwZGX-CTz",
        "colab_type": "code",
        "colab": {}
      },
      "source": [
        "conllu = \"\"\"\n",
        "1\tYou\tyou\tPRON\tPRP\tCase=Nom|Person=2|PronType=Prs\t2\tnsubj\t_\t_\n",
        "2\twonder\twonder\tVERB\tVBP\tMood=Ind|Tense=Pres|VerbForm=Fin\t0\troot\t_\t_\n",
        "3\tif\tif\tSCONJ\tIN\t_\t6\tmark\t_\t_\n",
        "4\the\the\tPRON\tPRP\tCase=Nom|Gender=Masc|Number=Sing|Person=3|PronType=Prs\t6\tnsubj\t_\t_\n",
        "5\twas\tbe\tAUX\tVBD\tMood=Ind|Number=Sing|Person=3|Tense=Past|VerbForm=Fin\t6\taux\t_\t_\n",
        "6\tmanipulating\tmanipulate\tVERB\tVBG\tTense=Pres|VerbForm=Part\t2\tadvcl\t_\t_\n",
        "7\tthe\tthe\tDET\tDT\tDefinite=Def|PronType=Art\t8\tdet\t_\t_\n",
        "8\tmarket\tmarket\tNOUN\tNN\tNumber=Sing\t6\tdobj\t_\t_\n",
        "9\twith\twith\tADP\tIN\t_\t12\tcase\t_\t_\n",
        "10\this\the\tPRON\tPRP$\tGender=Masc|Number=Sing|Person=3|Poss=Yes|PronType=Prs\t12\tnmod:poss\t_\t_\n",
        "11\tbombing\tbombing\tNOUN\tNN\tNumber=Sing\t12\tcompound\t_\t_\n",
        "12\ttargets\ttarget\tNOUN\tNNS\tNumber=Plur\t6\tnmod\t_\tSpaceAfter=No\n",
        "13\t.\t.\tPUNCT\t.\t_\t2\tpunct\t_\t_\n",
        "\"\"\""
      ],
      "execution_count": 0,
      "outputs": []
    },
    {
      "cell_type": "markdown",
      "metadata": {
        "id": "HqLydzs03xXe",
        "colab_type": "text"
      },
      "source": [
        "#### Create a PredPatt object and extract predicates"
      ]
    },
    {
      "cell_type": "markdown",
      "metadata": {
        "id": "NxFqUoHe9xDq",
        "colab_type": "text"
      },
      "source": [
        "Details at: https://github.com/hltcoe/PredPatt/blob/master/tutorial.ipynb"
      ]
    },
    {
      "cell_type": "code",
      "metadata": {
        "id": "xjlIFgBy4Dl7",
        "colab_type": "code",
        "colab": {}
      },
      "source": [
        "from predpatt import load_conllu, PredPatt, PredPattOpts\n",
        "options = PredPattOpts(resolve_relcl=True, borrow_arg_for_relcl=True, resolve_conj=False, cut=True)"
      ],
      "execution_count": 0,
      "outputs": []
    },
    {
      "cell_type": "markdown",
      "metadata": {
        "id": "CeVOVse4_TfL",
        "colab_type": "text"
      },
      "source": [
        "#### Print Relation triples"
      ]
    },
    {
      "cell_type": "code",
      "metadata": {
        "id": "WoQo_yj832e5",
        "colab_type": "code",
        "outputId": "fb52c39f-6ed5-40ea-a597-fd06b6e3ca82",
        "colab": {
          "base_uri": "https://localhost:8080/",
          "height": 102
        }
      },
      "source": [
        "conll_example = [ud_parse for sent_id, ud_parse in load_conllu(conllu)][0]\n",
        "\n",
        "print(conll_example.pprint(K=3))"
      ],
      "execution_count": 45,
      "outputs": [
        {
          "output_type": "stream",
          "text": [
            "nsubj(You/0, wonder/1)        root(wonder/1, ROOT/-1)           mark(if/2, manipulating/5)\n",
            "nsubj(he/3, manipulating/5)   aux(was/4, manipulating/5)        advcl(manipulating/5, wonder/1)\n",
            "det(the/6, market/7)          dobj(market/7, manipulating/5)    case(with/8, targets/11)\n",
            "nmod:poss(his/9, targets/11)  compound(bombing/10, targets/11)  nmod(targets/11, manipulating/5)\n",
            "punct(./12, wonder/1)\n"
          ],
          "name": "stdout"
        }
      ]
    },
    {
      "cell_type": "markdown",
      "metadata": {
        "id": "VVKyU-Xh_XI3",
        "colab_type": "text"
      },
      "source": [
        "#### Create Predicate object and print predicate and arguments"
      ]
    },
    {
      "cell_type": "code",
      "metadata": {
        "id": "16_dutmT3TSK",
        "colab_type": "code",
        "colab": {}
      },
      "source": [
        "pred_object = PredPatt(conll_example, opts=options)"
      ],
      "execution_count": 0,
      "outputs": []
    },
    {
      "cell_type": "code",
      "metadata": {
        "id": "PuqwHAOZ9MES",
        "colab_type": "code",
        "outputId": "86a9e35c-4313-41e4-ad76-da7d02c94d71",
        "colab": {
          "base_uri": "https://localhost:8080/",
          "height": 136
        }
      },
      "source": [
        "print(\" \".join([token.text for token in pred_object.tokens]))\n",
        "print(pred_object.pprint(color=True))"
      ],
      "execution_count": 47,
      "outputs": [
        {
          "output_type": "stream",
          "text": [
            "You wonder if he was manipulating the market with his bombing targets .\n",
            "\t?a \u001b[32mwonder\u001b[0m\n",
            "\t\t?a: \u001b[32mYou\u001b[0m\n",
            "\t?a \u001b[32mwas\u001b[0m \u001b[32mmanipulating\u001b[0m ?b \u001b[32mwith\u001b[0m ?c\n",
            "\t\t?a: \u001b[32mhe\u001b[0m\n",
            "\t\t?b: \u001b[32mthe market\u001b[0m\n",
            "\t\t?c: \u001b[32mhis bombing targets\u001b[0m\n"
          ],
          "name": "stdout"
        }
      ]
    },
    {
      "cell_type": "code",
      "metadata": {
        "id": "Isr1iMI857y5",
        "colab_type": "code",
        "outputId": "ddd75c71-748d-459c-aa1d-7407d5bc4541",
        "colab": {
          "base_uri": "https://localhost:8080/",
          "height": 34
        }
      },
      "source": [
        "## Predicate instances\n",
        "pred_object.instances"
      ],
      "execution_count": 48,
      "outputs": [
        {
          "output_type": "execute_result",
          "data": {
            "text/plain": [
              "[Predicate(wonder/1), Predicate(manipulating/5)]"
            ]
          },
          "metadata": {
            "tags": []
          },
          "execution_count": 48
        }
      ]
    },
    {
      "cell_type": "code",
      "metadata": {
        "id": "_KVqebIp3pj_",
        "colab_type": "code",
        "outputId": "e5550026-393f-4b68-a0c6-0236436ff3c0",
        "colab": {
          "base_uri": "https://localhost:8080/",
          "height": 34
        }
      },
      "source": [
        "## Tokens\n",
        "print(pred_object.tokens)"
      ],
      "execution_count": 0,
      "outputs": [
        {
          "output_type": "stream",
          "text": [
            "[You/0, wonder/1, if/2, he/3, was/4, manipulating/5, the/6, market/7, with/8, his/9, bombing/10, targets/11, ./12]\n"
          ],
          "name": "stdout"
        }
      ]
    },
    {
      "cell_type": "markdown",
      "metadata": {
        "id": "dGu9r8o04QFn",
        "colab_type": "text"
      },
      "source": [
        "# 3. Semantic Parsers"
      ]
    },
    {
      "cell_type": "markdown",
      "metadata": {
        "id": "ampI63v96cs-",
        "colab_type": "text"
      },
      "source": [
        "Wikipedia defines semantic parsing as the task of converting a natural language utterance to a logical form: a machine-understandable representation of its meaning."
      ]
    },
    {
      "cell_type": "markdown",
      "metadata": {
        "id": "8TTcEi3f6tqu",
        "colab_type": "text"
      },
      "source": [
        "## 3.1 TRIPS Parser"
      ]
    },
    {
      "cell_type": "markdown",
      "metadata": {
        "id": "NwEfYG3Z7kdK",
        "colab_type": "text"
      },
      "source": [
        "TRIPS Ontology and TRIPS Lexicon can be found at: http://www.cs.rochester.edu/research/trips/lexicon/browse-ont-lex.html"
      ]
    },
    {
      "cell_type": "markdown",
      "metadata": {
        "id": "JB2up_5B8SFn",
        "colab_type": "text"
      },
      "source": [
        " - TRIPS has its own semantic roles which are defined differently than PropBank. \n",
        "\n",
        " - These roles are better readable (unlike Arg0, Arg1 etc.).\n",
        "\n",
        "\n",
        " - The roles are not specific to individual verbs. \n",
        "\n",
        "Details about the parser: https://www.aaai.org/ocs/index.php/SSS/SSS17/paper/view/15377/14522"
      ]
    },
    {
      "cell_type": "markdown",
      "metadata": {
        "id": "_4oNUKPj8me7",
        "colab_type": "text"
      },
      "source": [
        "TRIPS Parser online demo: http://trips.ihmc.us/parser/cgi/parse?input=the+bat+ate+the+fruit"
      ]
    },
    {
      "cell_type": "markdown",
      "metadata": {
        "id": "slgJ0YK9CRvO",
        "colab_type": "text"
      },
      "source": [
        "#### Pytrips"
      ]
    },
    {
      "cell_type": "markdown",
      "metadata": {
        "id": "2jh9ycaPFM4W",
        "colab_type": "text"
      },
      "source": [
        "https://pypi.org/project/pytrips/"
      ]
    },
    {
      "cell_type": "code",
      "metadata": {
        "id": "RXrx-hFVDDUK",
        "colab_type": "code",
        "outputId": "a7b919fc-f895-4e65-dd56-15f1b04d24a8",
        "colab": {
          "base_uri": "https://localhost:8080/",
          "height": 187
        }
      },
      "source": [
        "!pip install pytrips\n",
        "!pip install nltk\n",
        "import nltk\n",
        "nltk.download('wordnet')"
      ],
      "execution_count": 0,
      "outputs": [
        {
          "output_type": "stream",
          "text": [
            "Requirement already satisfied: pytrips in /usr/local/lib/python3.6/dist-packages (0.3.0)\n",
            "Requirement already satisfied: graphviz in /usr/local/lib/python3.6/dist-packages (from pytrips) (0.10.1)\n",
            "Requirement already satisfied: nltk in /usr/local/lib/python3.6/dist-packages (from pytrips) (3.2.5)\n",
            "Requirement already satisfied: jsontrips in /usr/local/lib/python3.6/dist-packages (from pytrips) (0.1.24)\n",
            "Requirement already satisfied: six in /usr/local/lib/python3.6/dist-packages (from nltk->pytrips) (1.12.0)\n",
            "Requirement already satisfied: nltk in /usr/local/lib/python3.6/dist-packages (3.2.5)\n",
            "Requirement already satisfied: six in /usr/local/lib/python3.6/dist-packages (from nltk) (1.12.0)\n",
            "[nltk_data] Downloading package wordnet to /root/nltk_data...\n",
            "[nltk_data]   Package wordnet is already up-to-date!\n"
          ],
          "name": "stdout"
        },
        {
          "output_type": "execute_result",
          "data": {
            "text/plain": [
              "True"
            ]
          },
          "metadata": {
            "tags": []
          },
          "execution_count": 152
        }
      ]
    },
    {
      "cell_type": "markdown",
      "metadata": {
        "id": "7tSAZLt7E3cY",
        "colab_type": "text"
      },
      "source": [
        "#### Loading TRIPS Ontology in python"
      ]
    },
    {
      "cell_type": "code",
      "metadata": {
        "id": "gfURoxrCDEV6",
        "colab_type": "code",
        "colab": {}
      },
      "source": [
        "from pytrips.ontology import load\n",
        "ont = load()"
      ],
      "execution_count": 0,
      "outputs": []
    },
    {
      "cell_type": "code",
      "metadata": {
        "id": "JXrbdRmxDdf5",
        "colab_type": "code",
        "outputId": "a8529c37-6261-458b-8fa5-de671fafc78b",
        "colab": {
          "base_uri": "https://localhost:8080/",
          "height": 34
        }
      },
      "source": [
        "## Ontology types for a lexicon item\n",
        "\n",
        "ont['w::bat']"
      ],
      "execution_count": 50,
      "outputs": [
        {
          "output_type": "execute_result",
          "data": {
            "text/plain": [
              "[ont::manufactured-object, ont::nonhuman-animal]"
            ]
          },
          "metadata": {
            "tags": []
          },
          "execution_count": 50
        }
      ]
    },
    {
      "cell_type": "code",
      "metadata": {
        "id": "iznU1BeCD7oa",
        "colab_type": "code",
        "outputId": "feaf6ab7-ea04-480b-a951-e6c409eef546",
        "colab": {
          "base_uri": "https://localhost:8080/",
          "height": 51
        }
      },
      "source": [
        "print(ont['nonhuman-animal'])\n",
        "type(ont['nonhuman-animal'])"
      ],
      "execution_count": 51,
      "outputs": [
        {
          "output_type": "stream",
          "text": [
            "ont::nonhuman-animal\n"
          ],
          "name": "stdout"
        },
        {
          "output_type": "execute_result",
          "data": {
            "text/plain": [
              "pytrips.structures.tripstype.TripsType"
            ]
          },
          "metadata": {
            "tags": []
          },
          "execution_count": 51
        }
      ]
    },
    {
      "cell_type": "code",
      "metadata": {
        "id": "djCpqGnKEF9A",
        "colab_type": "code",
        "outputId": "59bc8ea2-0292-4de4-d82c-abe2bb30be9c",
        "colab": {
          "base_uri": "https://localhost:8080/",
          "height": 187
        }
      },
      "source": [
        "ont['nonhuman-animal'].path_to_root()"
      ],
      "execution_count": 53,
      "outputs": [
        {
          "output_type": "execute_result",
          "data": {
            "text/plain": [
              "[ont::nonhuman-animal,\n",
              " ont::mammal,\n",
              " ont::vertebrate,\n",
              " ont::animal,\n",
              " ont::organism,\n",
              " ont::natural-object,\n",
              " ont::phys-object,\n",
              " ont::referential-sem,\n",
              " ont::any-sem,\n",
              " ont::root]"
            ]
          },
          "metadata": {
            "tags": []
          },
          "execution_count": 53
        }
      ]
    },
    {
      "cell_type": "code",
      "metadata": {
        "id": "1rBDpQHtEQRl",
        "colab_type": "code",
        "outputId": "035544fb-c95a-495e-9349-cc2eef730fdf",
        "colab": {
          "base_uri": "https://localhost:8080/",
          "height": 34
        }
      },
      "source": [
        "## Lowest Common Ancestor\n",
        "ont['nonhuman-animal'] ^ ont['manufactured-object']"
      ],
      "execution_count": 0,
      "outputs": [
        {
          "output_type": "execute_result",
          "data": {
            "text/plain": [
              "ont::phys-object"
            ]
          },
          "metadata": {
            "tags": []
          },
          "execution_count": 157
        }
      ]
    },
    {
      "cell_type": "markdown",
      "metadata": {
        "id": "5fbDyi7eF2R3",
        "colab_type": "text"
      },
      "source": [
        "#### Going up and down in the heirarchy"
      ]
    },
    {
      "cell_type": "code",
      "metadata": {
        "id": "AfeS86pnEtP6",
        "colab_type": "code",
        "outputId": "600cabbd-789d-49e6-e291-bc4776c7b1ca",
        "colab": {
          "base_uri": "https://localhost:8080/",
          "height": 71
        }
      },
      "source": [
        "print(ont['nonhuman-animal'].parent)\n",
        "print(ont['phys-object'].children)"
      ],
      "execution_count": 0,
      "outputs": [
        {
          "output_type": "stream",
          "text": [
            "ont::mammal\n",
            "[ont::agent, ont::group-object, ont::shape, ont::functional-phys-object, ont::phys-representation, ont::manufactured-object, ont::material, ont::geo-object, ont::natural-object, ont::object-defined-by-relationship]\n"
          ],
          "name": "stdout"
        }
      ]
    },
    {
      "cell_type": "markdown",
      "metadata": {
        "id": "cZubTLPiFk_u",
        "colab_type": "text"
      },
      "source": [
        "#### Trips-web"
      ]
    },
    {
      "cell_type": "code",
      "metadata": {
        "id": "wBqkm0CvG0i3",
        "colab_type": "code",
        "outputId": "6e84ea7b-1f33-44ec-8c47-adf997804d64",
        "colab": {
          "base_uri": "https://localhost:8080/",
          "height": 224
        }
      },
      "source": [
        "!pip install git+https://github.com/mrmechko/trips-web.git"
      ],
      "execution_count": 54,
      "outputs": [
        {
          "output_type": "stream",
          "text": [
            "Collecting git+https://github.com/mrmechko/trips-web.git\n",
            "  Cloning https://github.com/mrmechko/trips-web.git to /tmp/pip-req-build-tw0vy2zw\n",
            "  Running command git clone -q https://github.com/mrmechko/trips-web.git /tmp/pip-req-build-tw0vy2zw\n",
            "Requirement already satisfied (use --upgrade to upgrade): trips-web==1.0.14 from git+https://github.com/mrmechko/trips-web.git in /usr/local/lib/python3.6/dist-packages\n",
            "Requirement already satisfied: argparse in /usr/local/lib/python3.6/dist-packages (from trips-web==1.0.14) (1.4.0)\n",
            "Requirement already satisfied: xmltodict in /usr/local/lib/python3.6/dist-packages (from trips-web==1.0.14) (0.12.0)\n",
            "Building wheels for collected packages: trips-web\n",
            "  Building wheel for trips-web (setup.py) ... \u001b[?25l\u001b[?25hdone\n",
            "  Created wheel for trips-web: filename=trips_web-1.0.14-cp36-none-any.whl size=6149 sha256=e282e222c0822a56b6e03b2a6a40b0f76f05cee2acbc0605a09b05e42946b37f\n",
            "  Stored in directory: /tmp/pip-ephem-wheel-cache-ooubnjho/wheels/de/e9/d6/fcdf07d93bd216a5c8506a6decb04de216b4e99b72ec51d6cb\n",
            "Successfully built trips-web\n"
          ],
          "name": "stdout"
        }
      ]
    },
    {
      "cell_type": "code",
      "metadata": {
        "id": "LudjINsbV_cN",
        "colab_type": "code",
        "colab": {}
      },
      "source": [
        "!trips-web \"He ate the fish.\" > parse.json"
      ],
      "execution_count": 0,
      "outputs": []
    },
    {
      "cell_type": "code",
      "metadata": {
        "id": "_IkP5N0q2qwk",
        "colab_type": "code",
        "colab": {}
      },
      "source": [
        "import json\n",
        "\n",
        "with open('parse.json') as f:\n",
        "  trips_data = json.load(f)"
      ],
      "execution_count": 0,
      "outputs": []
    },
    {
      "cell_type": "code",
      "metadata": {
        "id": "i98VL9vy222E",
        "colab_type": "code",
        "outputId": "03730812-c916-4617-e8fb-8a54e199a88f",
        "colab": {
          "base_uri": "https://localhost:8080/",
          "height": 612
        }
      },
      "source": [
        "trips_data"
      ],
      "execution_count": 57,
      "outputs": [
        {
          "output_type": "execute_result",
          "data": {
            "text/plain": [
              "{'debug': ['*last-utt-id*=NIL  utt-id+7', '*last-utt-id*=7  utt-id+NIL'],\n",
              " 'inputtags': [],\n",
              " 'parse': [{'V41088': {'end': 3,\n",
              "    'id': 'V41088',\n",
              "    'indicator': 'PRO',\n",
              "    'roles': {'LEX': 'HE', 'PROFORM': 'HE', 'WNSENSE': 'man%1:18:00'},\n",
              "    'start': 0,\n",
              "    'type': 'MALE-PERSON',\n",
              "    'word': 'HE'},\n",
              "   'V41093': {'end': 15,\n",
              "    'id': 'V41093',\n",
              "    'indicator': 'F',\n",
              "    'roles': {'AFFECTED': '#V41108',\n",
              "     'AGENT': '#V41088',\n",
              "     'LEX': 'ATE',\n",
              "     'TENSE': 'PAST',\n",
              "     'WNSENSE': 'eat%2:34:00::'},\n",
              "    'start': 0,\n",
              "    'type': 'EAT',\n",
              "    'word': 'EAT'},\n",
              "   'V41108': {'end': 15,\n",
              "    'id': 'V41108',\n",
              "    'indicator': 'THE',\n",
              "    'roles': {'LEX': 'FISH', 'WNSENSE': 'fish%1:05:00::'},\n",
              "    'start': 7,\n",
              "    'type': 'FISH',\n",
              "    'word': 'FISH'},\n",
              "   'V41223': {'end': 15,\n",
              "    'id': 'V41223',\n",
              "    'indicator': 'SPEECHACT',\n",
              "    'roles': {'CONTENT': '#V41093', 'LEX': 'ATE', 'PUNCTYPE': 'DECL'},\n",
              "    'start': 0,\n",
              "    'type': 'SA_TELL',\n",
              "    'word': None},\n",
              "   'root': '#V41223'}]}"
            ]
          },
          "metadata": {
            "tags": []
          },
          "execution_count": 57
        }
      ]
    },
    {
      "cell_type": "code",
      "metadata": {
        "id": "ZrLudJw_4fLF",
        "colab_type": "code",
        "colab": {}
      },
      "source": [
        "trips_web_parse = trips_data['parse'][0]"
      ],
      "execution_count": 0,
      "outputs": []
    },
    {
      "cell_type": "code",
      "metadata": {
        "id": "YMG0YdQRmqqu",
        "colab_type": "code",
        "colab": {
          "base_uri": "https://localhost:8080/",
          "height": 34
        },
        "outputId": "ecb140de-4981-4ca5-c13b-f732df2c5d79"
      },
      "source": [
        "ont['want'].children"
      ],
      "execution_count": 67,
      "outputs": [
        {
          "output_type": "execute_result",
          "data": {
            "text/plain": [
              "[ont::misses]"
            ]
          },
          "metadata": {
            "tags": []
          },
          "execution_count": 67
        }
      ]
    },
    {
      "cell_type": "markdown",
      "metadata": {
        "id": "-0OFipMt3h2T",
        "colab_type": "text"
      },
      "source": [
        "#### Simplify trips-web format"
      ]
    },
    {
      "cell_type": "code",
      "metadata": {
        "id": "XeztfeVb3lcx",
        "colab_type": "code",
        "colab": {}
      },
      "source": [
        "def rkeys(d, keys=['root']):\n",
        "  return {x: d[x] for x in d if x not in keys}\n",
        "\n",
        "def remove_all_roots(dct):\n",
        "  '''\n",
        "  Collapse all 'root' keys in the dict\n",
        "  \n",
        "  '''\n",
        "  if list(dct.keys())==['root']:\n",
        "    return dct['root']\n",
        "  \n",
        "  else:\n",
        "    ans_dict = {}\n",
        "    \n",
        "    root = dct['root']\n",
        "    #print(root)\n",
        "  \n",
        "    dict_without_root = rkeys(dct)\n",
        "    #print(dict_without_root)\n",
        " \n",
        "   \n",
        "    ans_dict[root] = dict_without_root\n",
        "    for key in ans_dict[root]:\n",
        "      ans_dict[root][key] = remove_all_roots(ans_dict[root][key])\n",
        "   \n",
        "    return ans_dict\n",
        "   \n",
        "def simplify_format(t, root_id, explored=set()):\n",
        "    '''\n",
        "    Input: t, a target graph output from trips-web\n",
        "        root_id = root_id of t  = t['root'][1:]\n",
        "    \n",
        "    Output: a simplified dict which matches the format of \n",
        "            pattern_graphs as described in the project\n",
        "    '''\n",
        "    ans_dict = {}\n",
        "    ans_dict['root'] = t[root_id][\"type\"]\n",
        "    explored.add(root_id)\n",
        "    \n",
        "    for role in t[root_id]['roles']:\n",
        "        curr_dict = t[root_id]['roles']\n",
        "        if curr_dict[role][0] == \"#\":\n",
        "            ## To avoid running into cycles we keep a note of the explored nodes\n",
        "            if curr_dict[role][1:] not in explored:\n",
        "                explored.add(curr_dict[role][1:])\n",
        "                ## recursive call\n",
        "                ans_dict[role.lower()] = simplify_format(t, curr_dict[role][1:], explored)\n",
        "            else:\n",
        "                ## this id has already been explored\n",
        "                ans_dict[role.lower()] = {\"root\": t[curr_dict[role][1:]]['type']}\n",
        "                       \n",
        "    return ans_dict\n",
        "  \n",
        "def create_simplified_graph(trips_web_parse):\n",
        "  return remove_all_roots(simplify_format(trips_web_parse, \n",
        "                                          trips_web_parse['root'][1:]))\n",
        "  \n",
        "  "
      ],
      "execution_count": 0,
      "outputs": []
    },
    {
      "cell_type": "code",
      "metadata": {
        "id": "bBv5yQyKMzhd",
        "colab_type": "code",
        "outputId": "41e7a4f5-ceff-4cfb-96a7-63f234dd934c",
        "colab": {
          "base_uri": "https://localhost:8080/",
          "height": 34
        }
      },
      "source": [
        "dict_graph = create_simplified_graph(trips_web_parse)\n",
        "print(dict_graph)"
      ],
      "execution_count": 0,
      "outputs": [
        {
          "output_type": "stream",
          "text": [
            "{'SA_TELL': {'content': {'EAT': {'agent': 'MALE-PERSON', 'affected': 'FISH'}}}}\n"
          ],
          "name": "stdout"
        }
      ]
    },
    {
      "cell_type": "markdown",
      "metadata": {
        "id": "5PbUqM6QKhns",
        "colab_type": "text"
      },
      "source": [
        "#### Draw simplified TRIPS graph from the dictionary tree"
      ]
    },
    {
      "cell_type": "markdown",
      "metadata": {
        "id": "NRip1FZENtsN",
        "colab_type": "text"
      },
      "source": [
        "Source: https://stackoverflow.com/questions/13688410/dictionary-object-to-decision-tree-in-pydot"
      ]
    },
    {
      "cell_type": "code",
      "metadata": {
        "id": "js_QfrC15ZsR",
        "colab_type": "code",
        "outputId": "548db81a-d234-4bd6-a0c9-6bf5b97be57b",
        "colab": {
          "base_uri": "https://localhost:8080/",
          "height": 51
        }
      },
      "source": [
        "!pip install pydot"
      ],
      "execution_count": 60,
      "outputs": [
        {
          "output_type": "stream",
          "text": [
            "Requirement already satisfied: pydot in /usr/local/lib/python3.6/dist-packages (1.3.0)\n",
            "Requirement already satisfied: pyparsing>=2.1.4 in /usr/local/lib/python3.6/dist-packages (from pydot) (2.4.2)\n"
          ],
          "name": "stdout"
        }
      ]
    },
    {
      "cell_type": "code",
      "metadata": {
        "id": "vXS_aWWZ5Zye",
        "colab_type": "code",
        "colab": {}
      },
      "source": [
        "import pydot\n",
        "\n",
        "def draw(parent_name, child_name):\n",
        "    edge = pydot.Edge(parent_name, child_name)\n",
        "    graph.add_edge(edge)\n",
        "\n",
        "def visit(node, parent=None):\n",
        "    for k,v in node.items():\n",
        "        if isinstance(v, dict):\n",
        "            # We start with the root node whose parent is None\n",
        "            # we don't want to graph the None node\n",
        "            if parent:\n",
        "                draw(parent, k)\n",
        "            visit(v, k)\n",
        "        else:\n",
        "            draw(parent, k)\n",
        "            # drawing the label using a distinct name\n",
        "            draw(k, k+'_'+v)\n",
        "\n",
        "graph = pydot.Dot(graph_type='graph')"
      ],
      "execution_count": 0,
      "outputs": []
    },
    {
      "cell_type": "code",
      "metadata": {
        "id": "l5_Pao6e9kuk",
        "colab_type": "code",
        "colab": {}
      },
      "source": [
        "visit(dict_graph)"
      ],
      "execution_count": 0,
      "outputs": []
    },
    {
      "cell_type": "code",
      "metadata": {
        "id": "fmbqpNGD5Zvg",
        "colab_type": "code",
        "outputId": "7c43d738-79b6-4c02-c59e-2d8ef03cc95a",
        "colab": {
          "base_uri": "https://localhost:8080/",
          "height": 755
        }
      },
      "source": [
        "from IPython import display\n",
        "display.Image(graph.create_png(), width=800)"
      ],
      "execution_count": 63,
      "outputs": [
        {
          "output_type": "execute_result",
          "data": {
            "image/png": "[encoded data removed]",
            "text/plain": [
              "<IPython.core.display.Image object>"
            ]
          },
          "metadata": {
            "tags": [],
            "image/png": {
              "width": 800
            }
          },
          "execution_count": 63
        }
      ]
    },
    {
      "cell_type": "markdown",
      "metadata": {
        "id": "ldT_n6E8G_ZP",
        "colab_type": "text"
      },
      "source": [
        "## 3.2 A quick note on AMR Parser"
      ]
    },
    {
      "cell_type": "markdown",
      "metadata": {
        "id": "Om5vVSBCHqKn",
        "colab_type": "text"
      },
      "source": [
        "Abstract Meaning Representation. Another semantic parser which uses PropBank roles as its semantic roles."
      ]
    },
    {
      "cell_type": "markdown",
      "metadata": {
        "id": "9EnsIolBKydr",
        "colab_type": "text"
      },
      "source": [
        "https://amr.isi.edu/language.html"
      ]
    },
    {
      "cell_type": "markdown",
      "metadata": {
        "id": "Z3Xg1TEZJ2ku",
        "colab_type": "text"
      },
      "source": [
        "#### Differences between TRIPS and AMR: \n",
        "Taken from lecture notes CSC447 by James Allen"
      ]
    },
    {
      "cell_type": "markdown",
      "metadata": {
        "id": "0zzunsfFLL7G",
        "colab_type": "text"
      },
      "source": [
        " - AMR has semantic roles from PropBank, TRIPS uses its own semantic roles. \n",
        " - AMR doesn't have word-senses for each word in the sentence, TRIPS does.\n",
        " - AMR has co-reference resolution, TRIPS doesn't.\n",
        " - The Senses in AMR are not organized in an ontology like TRIPS."
      ]
    },
    {
      "cell_type": "markdown",
      "metadata": {
        "id": "ZswoX4Es9jDO",
        "colab_type": "text"
      },
      "source": [
        "Current State-of-the-Art on AMR Parsing: https://www.aclweb.org/anthology/P19-1009"
      ]
    },
    {
      "cell_type": "markdown",
      "metadata": {
        "id": "SA9wKvLUNB_J",
        "colab_type": "text"
      },
      "source": [
        "# 4. Some other NLP tasks"
      ]
    },
    {
      "cell_type": "markdown",
      "metadata": {
        "id": "PPfplyxGVAnH",
        "colab_type": "text"
      },
      "source": [
        "You can check various NLP tasks here: http://nlpprogress.com/"
      ]
    },
    {
      "cell_type": "markdown",
      "metadata": {
        "id": "8Nf1u8voNCEC",
        "colab_type": "text"
      },
      "source": [
        "## 4.1 Word-Sense Disambiguation (WSD)"
      ]
    },
    {
      "cell_type": "markdown",
      "metadata": {
        "id": "dr4hQ9pG9pkg",
        "colab_type": "text"
      },
      "source": [
        "WSD is the task of identifying the sense of a word in a given contenxt."
      ]
    },
    {
      "cell_type": "markdown",
      "metadata": {
        "id": "p_uwKUUx98df",
        "colab_type": "text"
      },
      "source": [
        ""
      ]
    },
    {
      "cell_type": "markdown",
      "metadata": {
        "id": "dvaMFflsOTJh",
        "colab_type": "text"
      },
      "source": [
        "#### SupWSD Python API"
      ]
    },
    {
      "cell_type": "code",
      "metadata": {
        "id": "KPYRgT8OO1Is",
        "colab_type": "code",
        "outputId": "03e2d587-7bbc-4d4b-90d0-00d7e6b2a738",
        "colab": {
          "base_uri": "https://localhost:8080/",
          "height": 34
        }
      },
      "source": [
        "!pip install supwsd"
      ],
      "execution_count": 68,
      "outputs": [
        {
          "output_type": "stream",
          "text": [
            "Requirement already satisfied: supwsd in /usr/local/lib/python3.6/dist-packages (1.2.2)\n"
          ],
          "name": "stdout"
        }
      ]
    },
    {
      "cell_type": "code",
      "metadata": {
        "id": "JYjov4P0PkrT",
        "colab_type": "code",
        "colab": {}
      },
      "source": [
        "from it.si3p.supwsd.api import SupWSD\n",
        "from it.si3p.supwsd.config import Model, Language\n",
        "import nltk"
      ],
      "execution_count": 0,
      "outputs": []
    },
    {
      "cell_type": "markdown",
      "metadata": {
        "id": "9_NKz3NoOko4",
        "colab_type": "text"
      },
      "source": [
        "Register for the api key here:  https://supwsd.net/supwsd/register.jsp"
      ]
    },
    {
      "cell_type": "code",
      "metadata": {
        "id": "j36u460AOXTW",
        "colab_type": "code",
        "colab": {}
      },
      "source": [
        "sup_key = ''  ## Use your API-key here"
      ],
      "execution_count": 0,
      "outputs": []
    },
    {
      "cell_type": "code",
      "metadata": {
        "id": "dZv-YwHbNCGT",
        "colab_type": "code",
        "colab": {}
      },
      "source": [
        "#### Sentence to wordnet senses ####\n",
        "def sent_to_wn_senses(sent, system=\"supwsd\", \n",
        "                      ims_object = None, \n",
        "                      word=None,\n",
        "                     supwsd_apikey=None):\n",
        "    '''\n",
        "    Input: sent: A string of words\n",
        "    Output: list containining wordnet-senses of each word in the sent\n",
        "            with respective probabilities of those senses\n",
        "    '''\n",
        "    if system == \"supwsd\":\n",
        "        ans = []\n",
        "        for result in SupWSD(supwsd_apikey).disambiguate(sent, Language.EN, Model.SEMCOR, True):\n",
        "            token=result.token\n",
        "            if not result.miss():\n",
        "                sense_lst = []\n",
        "                for sense in result.senses:\n",
        "                    sense_lst.append((sense.id, sense.probability))\n",
        "\n",
        "                ans.append([token.word, sense_lst])\n",
        "            else:\n",
        "                ans.append([token.word, [(str(result.sense()), 1.0)]])\n",
        "                 \n",
        "    return ans "
      ],
      "execution_count": 0,
      "outputs": []
    },
    {
      "cell_type": "code",
      "metadata": {
        "id": "O7haMieDPAes",
        "colab_type": "code",
        "outputId": "c520bc41-4863-4ebd-d475-3a4b222156e6",
        "colab": {
          "base_uri": "https://localhost:8080/",
          "height": 255
        }
      },
      "source": [
        "sent_to_wn_senses(r\"The bat ate the fruit.\", supwsd_apikey = sup_key)"
      ],
      "execution_count": 72,
      "outputs": [
        {
          "output_type": "execute_result",
          "data": {
            "text/plain": [
              "[['The', [('U', 1.0)]],\n",
              " ['bat',\n",
              "  [('bat%1:04:00::', 0.5006614034619067),\n",
              "   ('bat%1:05:00::', 0.49933859653809326)]],\n",
              " ['ate',\n",
              "  [('eat%2:34:00::', 0.39359274632325253),\n",
              "   ('eat%2:34:01::', 0.33490412169593947),\n",
              "   ('eat%2:34:02::', 0.27150313198080794)]],\n",
              " ['the', [('U', 1.0)]],\n",
              " ['fruit',\n",
              "  [('fruit%1:20:00::', 0.44013550222089576),\n",
              "   ('fruit%1:06:00::', 0.2865482137961993),\n",
              "   ('fruit%1:11:00::', 0.27331628398290503)]],\n",
              " ['.', [('U', 1.0)]]]"
            ]
          },
          "metadata": {
            "tags": []
          },
          "execution_count": 72
        }
      ]
    },
    {
      "cell_type": "markdown",
      "metadata": {
        "id": "CVRBsswnUrie",
        "colab_type": "text"
      },
      "source": [
        "The above word-senses are based on WordNet (https://wordnet.princeton.edu/)"
      ]
    },
    {
      "cell_type": "markdown",
      "metadata": {
        "id": "9yks7nRVPF1d",
        "colab_type": "text"
      },
      "source": [
        "## 4.2 Co-reference Resolution"
      ]
    },
    {
      "cell_type": "markdown",
      "metadata": {
        "id": "kq29p1m5R3jR",
        "colab_type": "text"
      },
      "source": [
        "#### Use Allennlp library"
      ]
    },
    {
      "cell_type": "code",
      "metadata": {
        "id": "z51kGGsWSGch",
        "colab_type": "code",
        "outputId": "6aa53121-0101-48d2-877a-d26e40592760",
        "colab": {
          "base_uri": "https://localhost:8080/",
          "height": 1000
        }
      },
      "source": [
        "!pip install allennlp"
      ],
      "execution_count": 73,
      "outputs": [
        {
          "output_type": "stream",
          "text": [
            "Requirement already satisfied: allennlp in /usr/local/lib/python3.6/dist-packages (0.8.5)\n",
            "Requirement already satisfied: editdistance in /usr/local/lib/python3.6/dist-packages (from allennlp) (0.5.3)\n",
            "Requirement already satisfied: word2number>=1.1 in /usr/local/lib/python3.6/dist-packages (from allennlp) (1.1)\n",
            "Requirement already satisfied: flaky in /usr/local/lib/python3.6/dist-packages (from allennlp) (3.6.1)\n",
            "Requirement already satisfied: overrides in /usr/local/lib/python3.6/dist-packages (from allennlp) (1.9)\n",
            "Requirement already satisfied: nltk in /usr/local/lib/python3.6/dist-packages (from allennlp) (3.2.5)\n",
            "Requirement already satisfied: flask-cors>=3.0.7 in /usr/local/lib/python3.6/dist-packages (from allennlp) (3.0.8)\n",
            "Requirement already satisfied: tqdm>=4.19 in /usr/local/lib/python3.6/dist-packages (from allennlp) (4.28.1)\n",
            "Requirement already satisfied: flask>=1.0.2 in /usr/local/lib/python3.6/dist-packages (from allennlp) (1.1.1)\n",
            "Requirement already satisfied: jsonpickle in /usr/local/lib/python3.6/dist-packages (from allennlp) (1.2)\n",
            "Requirement already satisfied: pytest in /usr/local/lib/python3.6/dist-packages (from allennlp) (3.6.4)\n",
            "Requirement already satisfied: parsimonious>=0.8.0 in /usr/local/lib/python3.6/dist-packages (from allennlp) (0.8.1)\n",
            "Requirement already satisfied: conllu==1.3.1 in /usr/local/lib/python3.6/dist-packages (from allennlp) (1.3.1)\n",
            "Requirement already satisfied: pytz>=2017.3 in /usr/local/lib/python3.6/dist-packages (from allennlp) (2018.9)\n",
            "Requirement already satisfied: jsonnet>=0.10.0; sys_platform != \"win32\" in /usr/local/lib/python3.6/dist-packages (from allennlp) (0.14.0)\n",
            "Requirement already satisfied: unidecode in /usr/local/lib/python3.6/dist-packages (from allennlp) (1.1.1)\n",
            "Requirement already satisfied: scikit-learn in /usr/local/lib/python3.6/dist-packages (from allennlp) (0.21.3)\n",
            "Requirement already satisfied: pytorch-transformers==1.1.0 in /usr/local/lib/python3.6/dist-packages (from allennlp) (1.1.0)\n",
            "Requirement already satisfied: torch<1.2,>=0.4.1 in /usr/local/lib/python3.6/dist-packages (from allennlp) (1.1.0)\n",
            "Requirement already satisfied: numpydoc>=0.8.0 in /usr/local/lib/python3.6/dist-packages (from allennlp) (0.9.1)\n",
            "Requirement already satisfied: spacy<2.2,>=2.1.0 in /usr/local/lib/python3.6/dist-packages (from allennlp) (2.1.8)\n",
            "Requirement already satisfied: boto3 in /usr/local/lib/python3.6/dist-packages (from allennlp) (1.9.224)\n",
            "Requirement already satisfied: h5py in /usr/local/lib/python3.6/dist-packages (from allennlp) (2.8.0)\n",
            "Requirement already satisfied: responses>=0.7 in /usr/local/lib/python3.6/dist-packages (from allennlp) (0.10.6)\n",
            "Requirement already satisfied: sqlparse>=0.2.4 in /usr/local/lib/python3.6/dist-packages (from allennlp) (0.3.0)\n",
            "Requirement already satisfied: pytorch-pretrained-bert>=0.6.0 in /usr/local/lib/python3.6/dist-packages (from allennlp) (0.6.2)\n",
            "Requirement already satisfied: scipy in /usr/local/lib/python3.6/dist-packages (from allennlp) (1.3.1)\n",
            "Requirement already satisfied: ftfy in /usr/local/lib/python3.6/dist-packages (from allennlp) (5.6)\n",
            "Requirement already satisfied: gevent>=1.3.6 in /usr/local/lib/python3.6/dist-packages (from allennlp) (1.4.0)\n",
            "Requirement already satisfied: matplotlib>=2.2.3 in /usr/local/lib/python3.6/dist-packages (from allennlp) (3.0.3)\n",
            "Requirement already satisfied: requests>=2.18 in /usr/local/lib/python3.6/dist-packages (from allennlp) (2.21.0)\n",
            "Requirement already satisfied: tensorboardX>=1.2 in /usr/local/lib/python3.6/dist-packages (from allennlp) (1.8)\n",
            "Requirement already satisfied: numpy in /usr/local/lib/python3.6/dist-packages (from allennlp) (1.16.5)\n",
            "Requirement already satisfied: six in /usr/local/lib/python3.6/dist-packages (from nltk->allennlp) (1.12.0)\n",
            "Requirement already satisfied: click>=5.1 in /usr/local/lib/python3.6/dist-packages (from flask>=1.0.2->allennlp) (7.0)\n",
            "Requirement already satisfied: Jinja2>=2.10.1 in /usr/local/lib/python3.6/dist-packages (from flask>=1.0.2->allennlp) (2.10.1)\n",
            "Requirement already satisfied: itsdangerous>=0.24 in /usr/local/lib/python3.6/dist-packages (from flask>=1.0.2->allennlp) (1.1.0)\n",
            "Requirement already satisfied: Werkzeug>=0.15 in /usr/local/lib/python3.6/dist-packages (from flask>=1.0.2->allennlp) (0.15.6)\n",
            "Requirement already satisfied: attrs>=17.4.0 in /usr/local/lib/python3.6/dist-packages (from pytest->allennlp) (19.1.0)\n",
            "Requirement already satisfied: atomicwrites>=1.0 in /usr/local/lib/python3.6/dist-packages (from pytest->allennlp) (1.3.0)\n",
            "Requirement already satisfied: setuptools in /usr/local/lib/python3.6/dist-packages (from pytest->allennlp) (41.2.0)\n",
            "Requirement already satisfied: more-itertools>=4.0.0 in /usr/local/lib/python3.6/dist-packages (from pytest->allennlp) (7.2.0)\n",
            "Requirement already satisfied: pluggy<0.8,>=0.5 in /usr/local/lib/python3.6/dist-packages (from pytest->allennlp) (0.7.1)\n",
            "Requirement already satisfied: py>=1.5.0 in /usr/local/lib/python3.6/dist-packages (from pytest->allennlp) (1.8.0)\n",
            "Requirement already satisfied: joblib>=0.11 in /usr/local/lib/python3.6/dist-packages (from scikit-learn->allennlp) (0.13.2)\n",
            "Requirement already satisfied: regex in /usr/local/lib/python3.6/dist-packages (from pytorch-transformers==1.1.0->allennlp) (2019.8.19)\n",
            "Requirement already satisfied: sentencepiece in /usr/local/lib/python3.6/dist-packages (from pytorch-transformers==1.1.0->allennlp) (0.1.83)\n",
            "Requirement already satisfied: sphinx>=1.6.5 in /usr/local/lib/python3.6/dist-packages (from numpydoc>=0.8.0->allennlp) (1.8.5)\n",
            "Requirement already satisfied: srsly<1.1.0,>=0.0.6 in /usr/local/lib/python3.6/dist-packages (from spacy<2.2,>=2.1.0->allennlp) (0.1.0)\n",
            "Requirement already satisfied: thinc<7.1.0,>=7.0.8 in /usr/local/lib/python3.6/dist-packages (from spacy<2.2,>=2.1.0->allennlp) (7.0.8)\n",
            "Requirement already satisfied: preshed<2.1.0,>=2.0.1 in /usr/local/lib/python3.6/dist-packages (from spacy<2.2,>=2.1.0->allennlp) (2.0.1)\n",
            "Requirement already satisfied: blis<0.3.0,>=0.2.2 in /usr/local/lib/python3.6/dist-packages (from spacy<2.2,>=2.1.0->allennlp) (0.2.4)\n",
            "Requirement already satisfied: murmurhash<1.1.0,>=0.28.0 in /usr/local/lib/python3.6/dist-packages (from spacy<2.2,>=2.1.0->allennlp) (1.0.2)\n",
            "Requirement already satisfied: plac<1.0.0,>=0.9.6 in /usr/local/lib/python3.6/dist-packages (from spacy<2.2,>=2.1.0->allennlp) (0.9.6)\n",
            "Requirement already satisfied: cymem<2.1.0,>=2.0.2 in /usr/local/lib/python3.6/dist-packages (from spacy<2.2,>=2.1.0->allennlp) (2.0.2)\n",
            "Requirement already satisfied: wasabi<1.1.0,>=0.2.0 in /usr/local/lib/python3.6/dist-packages (from spacy<2.2,>=2.1.0->allennlp) (0.2.2)\n",
            "Requirement already satisfied: s3transfer<0.3.0,>=0.2.0 in /usr/local/lib/python3.6/dist-packages (from boto3->allennlp) (0.2.1)\n",
            "Requirement already satisfied: jmespath<1.0.0,>=0.7.1 in /usr/local/lib/python3.6/dist-packages (from boto3->allennlp) (0.9.4)\n",
            "Requirement already satisfied: botocore<1.13.0,>=1.12.224 in /usr/local/lib/python3.6/dist-packages (from boto3->allennlp) (1.12.224)\n",
            "Requirement already satisfied: wcwidth in /usr/local/lib/python3.6/dist-packages (from ftfy->allennlp) (0.1.7)\n",
            "Requirement already satisfied: greenlet>=0.4.14; platform_python_implementation == \"CPython\" in /usr/local/lib/python3.6/dist-packages (from gevent>=1.3.6->allennlp) (0.4.15)\n",
            "Requirement already satisfied: pyparsing!=2.0.4,!=2.1.2,!=2.1.6,>=2.0.1 in /usr/local/lib/python3.6/dist-packages (from matplotlib>=2.2.3->allennlp) (2.4.2)\n",
            "Requirement already satisfied: cycler>=0.10 in /usr/local/lib/python3.6/dist-packages (from matplotlib>=2.2.3->allennlp) (0.10.0)\n",
            "Requirement already satisfied: python-dateutil>=2.1 in /usr/local/lib/python3.6/dist-packages (from matplotlib>=2.2.3->allennlp) (2.5.3)\n",
            "Requirement already satisfied: kiwisolver>=1.0.1 in /usr/local/lib/python3.6/dist-packages (from matplotlib>=2.2.3->allennlp) (1.1.0)\n",
            "Requirement already satisfied: idna<2.9,>=2.5 in /usr/local/lib/python3.6/dist-packages (from requests>=2.18->allennlp) (2.8)\n",
            "Requirement already satisfied: chardet<3.1.0,>=3.0.2 in /usr/local/lib/python3.6/dist-packages (from requests>=2.18->allennlp) (3.0.4)\n",
            "Requirement already satisfied: urllib3<1.25,>=1.21.1 in /usr/local/lib/python3.6/dist-packages (from requests>=2.18->allennlp) (1.24.3)\n",
            "Requirement already satisfied: certifi>=2017.4.17 in /usr/local/lib/python3.6/dist-packages (from requests>=2.18->allennlp) (2019.6.16)\n",
            "Requirement already satisfied: protobuf>=3.2.0 in /usr/local/lib/python3.6/dist-packages (from tensorboardX>=1.2->allennlp) (3.7.1)\n",
            "Requirement already satisfied: MarkupSafe>=0.23 in /usr/local/lib/python3.6/dist-packages (from Jinja2>=2.10.1->flask>=1.0.2->allennlp) (1.1.1)\n",
            "Requirement already satisfied: docutils>=0.11 in /usr/local/lib/python3.6/dist-packages (from sphinx>=1.6.5->numpydoc>=0.8.0->allennlp) (0.15.2)\n",
            "Requirement already satisfied: babel!=2.0,>=1.3 in /usr/local/lib/python3.6/dist-packages (from sphinx>=1.6.5->numpydoc>=0.8.0->allennlp) (2.7.0)\n",
            "Requirement already satisfied: Pygments>=2.0 in /usr/local/lib/python3.6/dist-packages (from sphinx>=1.6.5->numpydoc>=0.8.0->allennlp) (2.1.3)\n",
            "Requirement already satisfied: imagesize in /usr/local/lib/python3.6/dist-packages (from sphinx>=1.6.5->numpydoc>=0.8.0->allennlp) (1.1.0)\n",
            "Requirement already satisfied: snowballstemmer>=1.1 in /usr/local/lib/python3.6/dist-packages (from sphinx>=1.6.5->numpydoc>=0.8.0->allennlp) (1.9.1)\n",
            "Requirement already satisfied: sphinxcontrib-websupport in /usr/local/lib/python3.6/dist-packages (from sphinx>=1.6.5->numpydoc>=0.8.0->allennlp) (1.1.2)\n",
            "Requirement already satisfied: packaging in /usr/local/lib/python3.6/dist-packages (from sphinx>=1.6.5->numpydoc>=0.8.0->allennlp) (19.1)\n",
            "Requirement already satisfied: alabaster<0.8,>=0.7 in /usr/local/lib/python3.6/dist-packages (from sphinx>=1.6.5->numpydoc>=0.8.0->allennlp) (0.7.12)\n"
          ],
          "name": "stdout"
        }
      ]
    },
    {
      "cell_type": "code",
      "metadata": {
        "id": "GxVmFgY3SEN3",
        "colab_type": "code",
        "outputId": "ffbaa70f-49f6-47da-fb3e-34299440afef",
        "colab": {
          "base_uri": "https://localhost:8080/",
          "height": 105
        }
      },
      "source": [
        "from allennlp.predictors.predictor import Predictor\n",
        "predictor = Predictor.from_path(\"https://s3-us-west-2.amazonaws.com/allennlp/models/coref-model-2018.02.05.tar.gz\")"
      ],
      "execution_count": 74,
      "outputs": [
        {
          "output_type": "stream",
          "text": [
            "/usr/local/lib/python3.6/dist-packages/torch/nn/modules/rnn.py:54: UserWarning: dropout option adds dropout after all but last recurrent layer, so non-zero dropout expects num_layers greater than 1, but got dropout=0.2 and num_layers=1\n",
            "  \"num_layers={}\".format(dropout, num_layers))\n",
            "/usr/local/lib/python3.6/dist-packages/allennlp/data/token_indexers/token_characters_indexer.py:56: UserWarning: You are using the default value (0) of `min_padding_length`, which can cause some subtle bugs (more info see https://github.com/allenai/allennlp/issues/1954). Strongly recommend to set a value, usually the maximum size of the convolutional layer size when using CnnEncoder.\n",
            "  UserWarning)\n"
          ],
          "name": "stderr"
        }
      ]
    },
    {
      "cell_type": "code",
      "metadata": {
        "id": "4Ak09FsMSLF9",
        "colab_type": "code",
        "outputId": "5afc850b-0ff9-4ca4-9967-b0ecdc491506",
        "colab": {
          "base_uri": "https://localhost:8080/",
          "height": 289
        }
      },
      "source": [
        "predictor.predict(document=\"The woman reading a newspaper sat on the bench with her dog.\")"
      ],
      "execution_count": 75,
      "outputs": [
        {
          "output_type": "execute_result",
          "data": {
            "text/plain": [
              "{'clusters': [[[0, 4], [10, 10]]],\n",
              " 'document': ['The',\n",
              "  'woman',\n",
              "  'reading',\n",
              "  'a',\n",
              "  'newspaper',\n",
              "  'sat',\n",
              "  'on',\n",
              "  'the',\n",
              "  'bench',\n",
              "  'with',\n",
              "  'her',\n",
              "  'dog',\n",
              "  '.'],\n",
              " 'predicted_antecedents': [-1, -1, -1, 2, -1],\n",
              " 'top_spans': [[0, 4], [3, 4], [7, 11], [10, 10], [10, 11]]}"
            ]
          },
          "metadata": {
            "tags": []
          },
          "execution_count": 75
        }
      ]
    },
    {
      "cell_type": "markdown",
      "metadata": {
        "id": "Y3C7i8OFSMyv",
        "colab_type": "text"
      },
      "source": [
        "#### Visualize it here: https://demo.allennlp.org/coreference-resolution/"
      ]
    }
  ]
}